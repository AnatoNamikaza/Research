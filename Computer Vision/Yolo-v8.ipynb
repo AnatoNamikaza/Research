{
 "cells": [
  {
   "cell_type": "code",
   "execution_count": 1,
   "id": "be405fea",
   "metadata": {},
   "outputs": [
    {
     "name": "stdout",
     "output_type": "stream",
     "text": [
      "Collecting ultralytics\n",
      "  Downloading ultralytics-8.0.194-py3-none-any.whl (617 kB)\n",
      "\u001b[2K     \u001b[90m━━━━━━━━━━━━━━━━━━━━━━━━━━━━━━━━━━━━━\u001b[0m \u001b[32m617.4/617.4 kB\u001b[0m \u001b[31m231.6 kB/s\u001b[0m eta \u001b[36m0:00:00\u001b[0m00:01\u001b[0m00:01\u001b[0m\n",
      "\u001b[?25hRequirement already satisfied: matplotlib>=3.3.0 in /Users/anatonamikaza/opt/anaconda3/lib/python3.9/site-packages (from ultralytics) (3.5.2)\n",
      "Collecting opencv-python>=4.6.0\n",
      "  Downloading opencv_python-4.8.1.78-cp37-abi3-macosx_10_16_x86_64.whl (54.7 MB)\n",
      "\u001b[2K     \u001b[90m━━━━━━━━━━━━━━━━━━━━━━━━━━━━━━━━━━━━━━━\u001b[0m \u001b[32m54.7/54.7 MB\u001b[0m \u001b[31m184.7 kB/s\u001b[0m eta \u001b[36m0:00:00\u001b[0m00:01\u001b[0m00:08\u001b[0m\n",
      "\u001b[?25hCollecting numpy>=1.22.2\n",
      "  Downloading numpy-1.26.0-cp39-cp39-macosx_10_9_x86_64.whl (20.6 MB)\n",
      "\u001b[2K     \u001b[90m━━━━━━━━━━━━━━━━━━━━━━━━━━━━━━━━━━━━━━━\u001b[0m \u001b[32m20.6/20.6 MB\u001b[0m \u001b[31m246.9 kB/s\u001b[0m eta \u001b[36m0:00:00\u001b[0m00:01\u001b[0m00:03\u001b[0m\n",
      "\u001b[?25hCollecting torch>=1.8.0\n",
      "  Downloading torch-2.1.0-cp39-none-macosx_10_9_x86_64.whl (147.0 MB)\n",
      "\u001b[2K     \u001b[90m━━━━━━━━━━━━━━━━━━━━━━━━━━━━━━━━━━━━━\u001b[0m \u001b[32m147.0/147.0 MB\u001b[0m \u001b[31m294.0 kB/s\u001b[0m eta \u001b[36m0:00:00\u001b[0m00:01\u001b[0m00:17\u001b[0m\n",
      "\u001b[?25hCollecting torchvision>=0.9.0\n",
      "  Downloading torchvision-0.16.0-cp39-cp39-macosx_10_13_x86_64.whl (1.7 MB)\n",
      "\u001b[2K     \u001b[90m━━━━━━━━━━━━━━━━━━━━━━━━━━━━━━━━━━━━━━━━\u001b[0m \u001b[32m1.7/1.7 MB\u001b[0m \u001b[31m1.2 MB/s\u001b[0m eta \u001b[36m0:00:00\u001b[0ma \u001b[36m0:00:01\u001b[0m0m\n",
      "\u001b[?25hRequirement already satisfied: pillow>=7.1.2 in /Users/anatonamikaza/opt/anaconda3/lib/python3.9/site-packages (from ultralytics) (9.2.0)\n",
      "Requirement already satisfied: pandas>=1.1.4 in /Users/anatonamikaza/opt/anaconda3/lib/python3.9/site-packages (from ultralytics) (1.4.4)\n",
      "Requirement already satisfied: psutil in /Users/anatonamikaza/opt/anaconda3/lib/python3.9/site-packages (from ultralytics) (5.9.0)\n",
      "Requirement already satisfied: requests>=2.23.0 in /Users/anatonamikaza/opt/anaconda3/lib/python3.9/site-packages (from ultralytics) (2.31.0)\n",
      "Requirement already satisfied: seaborn>=0.11.0 in /Users/anatonamikaza/opt/anaconda3/lib/python3.9/site-packages (from ultralytics) (0.11.2)\n",
      "Collecting thop>=0.1.1\n",
      "  Downloading thop-0.1.1.post2209072238-py3-none-any.whl (15 kB)\n",
      "Collecting py-cpuinfo\n",
      "  Downloading py_cpuinfo-9.0.0-py3-none-any.whl (22 kB)\n",
      "Requirement already satisfied: scipy>=1.4.1 in /Users/anatonamikaza/opt/anaconda3/lib/python3.9/site-packages (from ultralytics) (1.9.1)\n",
      "Requirement already satisfied: tqdm>=4.64.0 in /Users/anatonamikaza/opt/anaconda3/lib/python3.9/site-packages (from ultralytics) (4.64.1)\n",
      "Requirement already satisfied: pyyaml>=5.3.1 in /Users/anatonamikaza/opt/anaconda3/lib/python3.9/site-packages (from ultralytics) (6.0)\n",
      "Requirement already satisfied: fonttools>=4.22.0 in /Users/anatonamikaza/opt/anaconda3/lib/python3.9/site-packages (from matplotlib>=3.3.0->ultralytics) (4.25.0)\n",
      "Requirement already satisfied: packaging>=20.0 in /Users/anatonamikaza/opt/anaconda3/lib/python3.9/site-packages (from matplotlib>=3.3.0->ultralytics) (21.3)\n",
      "Requirement already satisfied: cycler>=0.10 in /Users/anatonamikaza/opt/anaconda3/lib/python3.9/site-packages (from matplotlib>=3.3.0->ultralytics) (0.11.0)\n",
      "Requirement already satisfied: kiwisolver>=1.0.1 in /Users/anatonamikaza/opt/anaconda3/lib/python3.9/site-packages (from matplotlib>=3.3.0->ultralytics) (1.4.2)\n",
      "Requirement already satisfied: pyparsing>=2.2.1 in /Users/anatonamikaza/opt/anaconda3/lib/python3.9/site-packages (from matplotlib>=3.3.0->ultralytics) (3.0.9)\n",
      "Requirement already satisfied: python-dateutil>=2.7 in /Users/anatonamikaza/opt/anaconda3/lib/python3.9/site-packages (from matplotlib>=3.3.0->ultralytics) (2.8.2)\n",
      "Requirement already satisfied: pytz>=2020.1 in /Users/anatonamikaza/opt/anaconda3/lib/python3.9/site-packages (from pandas>=1.1.4->ultralytics) (2022.1)\n",
      "Requirement already satisfied: certifi>=2017.4.17 in /Users/anatonamikaza/opt/anaconda3/lib/python3.9/site-packages (from requests>=2.23.0->ultralytics) (2022.9.24)\n",
      "Requirement already satisfied: urllib3<3,>=1.21.1 in /Users/anatonamikaza/opt/anaconda3/lib/python3.9/site-packages (from requests>=2.23.0->ultralytics) (1.26.11)\n",
      "Requirement already satisfied: idna<4,>=2.5 in /Users/anatonamikaza/opt/anaconda3/lib/python3.9/site-packages (from requests>=2.23.0->ultralytics) (3.3)\n",
      "Requirement already satisfied: charset-normalizer<4,>=2 in /Users/anatonamikaza/opt/anaconda3/lib/python3.9/site-packages (from requests>=2.23.0->ultralytics) (2.0.4)\n",
      "Collecting numpy>=1.22.2\n",
      "  Downloading numpy-1.24.4-cp39-cp39-macosx_10_9_x86_64.whl (19.8 MB)\n",
      "\u001b[2K     \u001b[90m━━━━━━━━━━━━━━━━━━━━━━━━━━━━━━━━━━━━━━━\u001b[0m \u001b[32m19.8/19.8 MB\u001b[0m \u001b[31m341.5 kB/s\u001b[0m eta \u001b[36m0:00:00\u001b[0m00:01\u001b[0m00:02\u001b[0m\n",
      "\u001b[?25hRequirement already satisfied: sympy in /Users/anatonamikaza/opt/anaconda3/lib/python3.9/site-packages (from torch>=1.8.0->ultralytics) (1.10.1)\n",
      "Requirement already satisfied: networkx in /Users/anatonamikaza/opt/anaconda3/lib/python3.9/site-packages (from torch>=1.8.0->ultralytics) (2.8.4)\n",
      "Requirement already satisfied: filelock in /Users/anatonamikaza/opt/anaconda3/lib/python3.9/site-packages (from torch>=1.8.0->ultralytics) (3.6.0)\n",
      "Requirement already satisfied: typing-extensions in /Users/anatonamikaza/opt/anaconda3/lib/python3.9/site-packages (from torch>=1.8.0->ultralytics) (4.3.0)\n",
      "Requirement already satisfied: jinja2 in /Users/anatonamikaza/opt/anaconda3/lib/python3.9/site-packages (from torch>=1.8.0->ultralytics) (2.11.3)\n",
      "Requirement already satisfied: fsspec in /Users/anatonamikaza/opt/anaconda3/lib/python3.9/site-packages (from torch>=1.8.0->ultralytics) (2022.7.1)\n",
      "Requirement already satisfied: six>=1.5 in /Users/anatonamikaza/opt/anaconda3/lib/python3.9/site-packages (from python-dateutil>=2.7->matplotlib>=3.3.0->ultralytics) (1.16.0)\n",
      "Requirement already satisfied: MarkupSafe>=0.23 in /Users/anatonamikaza/opt/anaconda3/lib/python3.9/site-packages (from jinja2->torch>=1.8.0->ultralytics) (2.0.1)\n",
      "Requirement already satisfied: mpmath>=0.19 in /Users/anatonamikaza/opt/anaconda3/lib/python3.9/site-packages (from sympy->torch>=1.8.0->ultralytics) (1.2.1)\n",
      "Installing collected packages: py-cpuinfo, numpy, torch, opencv-python, torchvision, thop, ultralytics\n",
      "  Attempting uninstall: numpy\n",
      "    Found existing installation: numpy 1.21.5\n",
      "    Uninstalling numpy-1.21.5:\n",
      "      Successfully uninstalled numpy-1.21.5\n",
      "\u001b[31mERROR: pip's dependency resolver does not currently take into account all the packages that are installed. This behaviour is the source of the following dependency conflicts.\n",
      "daal4py 2021.6.0 requires daal==2021.4.0, which is not installed.\n",
      "numba 0.55.1 requires numpy<1.22,>=1.18, but you have numpy 1.24.4 which is incompatible.\u001b[0m\u001b[31m\n",
      "\u001b[0mSuccessfully installed numpy-1.24.4 opencv-python-4.8.1.78 py-cpuinfo-9.0.0 thop-0.1.1.post2209072238 torch-2.1.0 torchvision-0.16.0 ultralytics-8.0.194\n",
      "Note: you may need to restart the kernel to use updated packages.\n"
     ]
    }
   ],
   "source": [
    "pip install ultralytics"
   ]
  },
  {
   "cell_type": "code",
   "execution_count": 7,
   "id": "5dcacce6",
   "metadata": {},
   "outputs": [],
   "source": [
    "from IPython import display\n",
    "display.clear_output()"
   ]
  },
  {
   "cell_type": "code",
   "execution_count": 8,
   "id": "997636bb",
   "metadata": {},
   "outputs": [],
   "source": [
    "from ultralytics import YOLO\n",
    "from IPython.display import display, Image"
   ]
  },
  {
   "cell_type": "code",
   "execution_count": 9,
   "id": "32e311d0",
   "metadata": {},
   "outputs": [
    {
     "ename": "NameError",
     "evalue": "name 'HOME' is not defined",
     "output_type": "error",
     "traceback": [
      "\u001b[0;31m---------------------------------------------------------------------------\u001b[0m",
      "\u001b[0;31mNameError\u001b[0m                                 Traceback (most recent call last)",
      "\u001b[0;32m/var/folders/2s/34n_cfb17vv5mdms7gc0j7hh0000gn/T/ipykernel_4705/392492458.py\u001b[0m in \u001b[0;36m<module>\u001b[0;34m\u001b[0m\n\u001b[0;32m----> 1\u001b[0;31m \u001b[0mmodel\u001b[0m \u001b[0;34m=\u001b[0m \u001b[0mYOLO\u001b[0m\u001b[0;34m(\u001b[0m\u001b[0;34mf'{HOME}/yolov8n.pt'\u001b[0m\u001b[0;34m)\u001b[0m\u001b[0;34m\u001b[0m\u001b[0;34m\u001b[0m\u001b[0m\n\u001b[0m\u001b[1;32m      2\u001b[0m \u001b[0mresults\u001b[0m \u001b[0;34m=\u001b[0m \u001b[0mmodel\u001b[0m\u001b[0;34m.\u001b[0m\u001b[0mpredict\u001b[0m\u001b[0;34m(\u001b[0m\u001b[0msource\u001b[0m\u001b[0;34m=\u001b[0m\u001b[0;34m'https://media.roboflow.com/notebooks/examples/dog.jpeg'\u001b[0m\u001b[0;34m,\u001b[0m \u001b[0mconf\u001b[0m\u001b[0;34m=\u001b[0m\u001b[0;36m0.25\u001b[0m\u001b[0;34m)\u001b[0m\u001b[0;34m\u001b[0m\u001b[0;34m\u001b[0m\u001b[0m\n",
      "\u001b[0;31mNameError\u001b[0m: name 'HOME' is not defined"
     ]
    }
   ],
   "source": [
    "model = YOLO(f'{HOME}/yolov8n.pt')\n",
    "results = model.predict(source='https://media.roboflow.com/notebooks/examples/dog.jpeg', conf=0.25)"
   ]
  },
  {
   "cell_type": "code",
   "execution_count": null,
   "id": "daf9b0e5",
   "metadata": {},
   "outputs": [],
   "source": []
  }
 ],
 "metadata": {
  "kernelspec": {
   "display_name": "Python 3 (ipykernel)",
   "language": "python",
   "name": "python3"
  },
  "language_info": {
   "codemirror_mode": {
    "name": "ipython",
    "version": 3
   },
   "file_extension": ".py",
   "mimetype": "text/x-python",
   "name": "python",
   "nbconvert_exporter": "python",
   "pygments_lexer": "ipython3",
   "version": "3.9.13"
  }
 },
 "nbformat": 4,
 "nbformat_minor": 5
}
