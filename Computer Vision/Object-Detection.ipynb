{
 "cells": [
  {
   "cell_type": "code",
   "execution_count": 19,
   "id": "788f7c85",
   "metadata": {},
   "outputs": [],
   "source": [
    "# pip install torch torchvision"
   ]
  },
  {
   "cell_type": "code",
   "execution_count": 20,
   "id": "5eb424b8",
   "metadata": {},
   "outputs": [],
   "source": [
    "# pip install cython"
   ]
  },
  {
   "cell_type": "code",
   "execution_count": 7,
   "id": "6d3ebbf2",
   "metadata": {},
   "outputs": [
    {
     "name": "stdout",
     "output_type": "stream",
     "text": [
      "Looking in links: https://dl.fbaipublicfiles.com/detectron2/wheels/cu111/torch1.9/index.html\n",
      "Note: you may need to restart the kernel to use updated packages.\n"
     ]
    },
    {
     "name": "stderr",
     "output_type": "stream",
     "text": [
      "ERROR: Could not find a version that satisfies the requirement detectron2 (from versions: none)\n",
      "ERROR: No matching distribution found for detectron2\n"
     ]
    }
   ],
   "source": [
    "pip install detectron2 -f https://dl.fbaipublicfiles.com/detectron2/wheels/cu111/torch1.9/index.html"
   ]
  },
  {
   "cell_type": "code",
   "execution_count": 8,
   "id": "9c047972",
   "metadata": {},
   "outputs": [
    {
     "ename": "SyntaxError",
     "evalue": "invalid syntax (782462151.py, line 1)",
     "output_type": "error",
     "traceback": [
      "\u001b[1;36m  Cell \u001b[1;32mIn[8], line 1\u001b[1;36m\u001b[0m\n\u001b[1;33m    git clone https://github.com/facebookresearch/detectron2.git\u001b[0m\n\u001b[1;37m        ^\u001b[0m\n\u001b[1;31mSyntaxError\u001b[0m\u001b[1;31m:\u001b[0m invalid syntax\n"
     ]
    }
   ],
   "source": [
    "git clone https://github.com/facebookresearch/detectron2.git"
   ]
  },
  {
   "cell_type": "code",
   "execution_count": 2,
   "id": "d2b4a7bb",
   "metadata": {},
   "outputs": [],
   "source": [
    "import torch\n",
    "from transformers import CLIPProcessor, CLIPModel\n",
    "from PIL import Image\n",
    "import requests"
   ]
  },
  {
   "cell_type": "code",
   "execution_count": 3,
   "id": "02bba416",
   "metadata": {},
   "outputs": [],
   "source": [
    "import matplotlib.pyplot as plt\n",
    "import numpy as np\n",
    "import cv2"
   ]
  },
  {
   "cell_type": "code",
   "execution_count": 3,
   "id": "ad07f527",
   "metadata": {},
   "outputs": [
    {
     "ename": "ModuleNotFoundError",
     "evalue": "No module named 'detectron2'",
     "output_type": "error",
     "traceback": [
      "\u001b[1;31m---------------------------------------------------------------------------\u001b[0m",
      "\u001b[1;31mModuleNotFoundError\u001b[0m                       Traceback (most recent call last)",
      "Cell \u001b[1;32mIn[3], line 7\u001b[0m\n\u001b[0;32m      5\u001b[0m \u001b[38;5;28;01mimport\u001b[39;00m \u001b[38;5;21;01mmatplotlib\u001b[39;00m\u001b[38;5;21;01m.\u001b[39;00m\u001b[38;5;21;01mpyplot\u001b[39;00m \u001b[38;5;28;01mas\u001b[39;00m \u001b[38;5;21;01mplt\u001b[39;00m\n\u001b[0;32m      6\u001b[0m \u001b[38;5;28;01mimport\u001b[39;00m \u001b[38;5;21;01mnumpy\u001b[39;00m \u001b[38;5;28;01mas\u001b[39;00m \u001b[38;5;21;01mnp\u001b[39;00m\n\u001b[1;32m----> 7\u001b[0m \u001b[38;5;28;01mfrom\u001b[39;00m \u001b[38;5;21;01mdetectron2\u001b[39;00m \u001b[38;5;28;01mimport\u001b[39;00m model_zoo\n\u001b[0;32m      8\u001b[0m \u001b[38;5;28;01mfrom\u001b[39;00m \u001b[38;5;21;01mdetectron2\u001b[39;00m\u001b[38;5;21;01m.\u001b[39;00m\u001b[38;5;21;01mconfig\u001b[39;00m \u001b[38;5;28;01mimport\u001b[39;00m get_cfg\n\u001b[0;32m      9\u001b[0m \u001b[38;5;28;01mfrom\u001b[39;00m \u001b[38;5;21;01mdetectron2\u001b[39;00m\u001b[38;5;21;01m.\u001b[39;00m\u001b[38;5;21;01mengine\u001b[39;00m \u001b[38;5;28;01mimport\u001b[39;00m DefaultPredictor\n",
      "\u001b[1;31mModuleNotFoundError\u001b[0m: No module named 'detectron2'"
     ]
    }
   ],
   "source": [
    "from detectron2 import model_zoo\n",
    "from detectron2.config import get_cfg\n",
    "from detectron2.engine import DefaultPredictor"
   ]
  },
  {
   "cell_type": "code",
   "execution_count": 4,
   "id": "e8d39183",
   "metadata": {},
   "outputs": [],
   "source": [
    "# Load the CLIP model and processor\n",
    "device = \"cuda\" if torch.cuda.is_available() else \"cpu\"\n",
    "model_name = \"openai/clip-vit-base-patch16\"\n",
    "processor = CLIPProcessor.from_pretrained(model_name)\n",
    "model = CLIPModel.from_pretrained(model_name).to(device)"
   ]
  },
  {
   "cell_type": "code",
   "execution_count": 10,
   "id": "c933fbfc",
   "metadata": {},
   "outputs": [
    {
     "ename": "NameError",
     "evalue": "name 'get_cfg' is not defined",
     "output_type": "error",
     "traceback": [
      "\u001b[1;31m---------------------------------------------------------------------------\u001b[0m",
      "\u001b[1;31mNameError\u001b[0m                                 Traceback (most recent call last)",
      "Cell \u001b[1;32mIn[10], line 2\u001b[0m\n\u001b[0;32m      1\u001b[0m \u001b[38;5;66;03m# Load the Detectron2 object detection model\u001b[39;00m\n\u001b[1;32m----> 2\u001b[0m cfg \u001b[38;5;241m=\u001b[39m get_cfg()\n\u001b[0;32m      3\u001b[0m cfg\u001b[38;5;241m.\u001b[39mmerge_from_file(model_zoo\u001b[38;5;241m.\u001b[39mget_config_file(\u001b[38;5;124m\"\u001b[39m\u001b[38;5;124mCOCO-Detection/faster_rcnn_R_101_FPN_3x.yaml\u001b[39m\u001b[38;5;124m\"\u001b[39m))\n\u001b[0;32m      4\u001b[0m cfg\u001b[38;5;241m.\u001b[39mMODEL\u001b[38;5;241m.\u001b[39mROI_HEADS\u001b[38;5;241m.\u001b[39mSCORE_THRESH_TEST \u001b[38;5;241m=\u001b[39m \u001b[38;5;241m0.5\u001b[39m  \u001b[38;5;66;03m# Adjust this threshold as needed\u001b[39;00m\n",
      "\u001b[1;31mNameError\u001b[0m: name 'get_cfg' is not defined"
     ]
    }
   ],
   "source": [
    "# Load the Detectron2 object detection model\n",
    "cfg = get_cfg()\n",
    "cfg.merge_from_file(model_zoo.get_config_file(\"COCO-Detection/faster_rcnn_R_101_FPN_3x.yaml\"))\n",
    "cfg.MODEL.ROI_HEADS.SCORE_THRESH_TEST = 0.5  # Adjust this threshold as needed\n",
    "cfg.MODEL.WEIGHTS = model_zoo.get_checkpoint_url(\"COCO-Detection/faster_rcnn_R_101_FPN_3x.yaml\")\n",
    "predictor = DefaultPredictor(cfg)"
   ]
  },
  {
   "cell_type": "code",
   "execution_count": 5,
   "id": "be1a7583",
   "metadata": {},
   "outputs": [],
   "source": [
    "# Function to find the object in an image\n",
    "def find_object_in_image(object_name, image_path):\n",
    "    # Encode the object name and image\n",
    "    text = object_name\n",
    "    image = Image.open(requests.get(image_path, stream=True).raw)\n",
    "    inputs = processor(text, images=image, return_tensors=\"pt\").to(device)\n",
    "\n",
    "    # Get the image and text embeddings\n",
    "    with torch.no_grad():\n",
    "        image_features = model.get_image_features(inputs.pixel_values).to(device)\n",
    "        text_features = model.get_text_features(inputs.input_ids).to(device)\n",
    "\n",
    "    # Compute the similarity score between image and text features\n",
    "    similarity = (image_features @ text_features.T).squeeze(0)\n",
    "\n",
    "#     # Use object detection to find the object's location\n",
    "#     image_array = np.array(image)\n",
    "#     outputs = predictor(image_array)\n",
    "\n",
    "#     instances = outputs[\"instances\"]\n",
    "#     object_boxes = instances.pred_boxes.tensor.cpu().numpy()\n",
    "#     object_scores = instances.scores.cpu().numpy()\n",
    "    \n",
    "#     # Find the index with the highest score\n",
    "#     best_index = np.argmax(object_scores)\n",
    "\n",
    "#     # Display the location of the object\n",
    "#     x1, y1, x2, y2 = object_boxes[best_index]\n",
    "#     image_with_box = cv2.rectangle(image_array, (int(x1), int(y1)), (int(x2), int(y2), (0, 0, 255), 2))\n",
    "\n",
    "#     # Show the image with the bounding box\n",
    "#     plt.imshow(cv2.cvtColor(image_with_box, cv2.COLOR_BGR2RGB))\n",
    "#     plt.title(f\"Object Location: {object_name}\")\n",
    "#     plt.show()\n",
    "    \n",
    "    return similarity.item()"
   ]
  },
  {
   "cell_type": "code",
   "execution_count": 6,
   "id": "d4d5b701",
   "metadata": {},
   "outputs": [
    {
     "name": "stdout",
     "output_type": "stream",
     "text": [
      "Similarity score for 'chair' in the image: 23.61\n"
     ]
    }
   ],
   "source": [
    "# Example usage\n",
    "object_name = \"chair\"\n",
    "image_url = \"https://img.homejournal.com/202005/5eb28b30b7c7c.jpg\"\n",
    "similarity_score = find_object_in_image(object_name, image_url)\n",
    "print(f\"Similarity score for '{object_name}' in the image: {similarity_score:.2f}\")"
   ]
  },
  {
   "cell_type": "code",
   "execution_count": null,
   "id": "a793965d",
   "metadata": {},
   "outputs": [],
   "source": []
  }
 ],
 "metadata": {
  "kernelspec": {
   "display_name": "Python 3 (ipykernel)",
   "language": "python",
   "name": "python3"
  },
  "language_info": {
   "codemirror_mode": {
    "name": "ipython",
    "version": 3
   },
   "file_extension": ".py",
   "mimetype": "text/x-python",
   "name": "python",
   "nbconvert_exporter": "python",
   "pygments_lexer": "ipython3",
   "version": "3.11.5"
  }
 },
 "nbformat": 4,
 "nbformat_minor": 5
}
