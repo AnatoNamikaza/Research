{
 "cells": [
  {
   "cell_type": "code",
   "execution_count": 1,
   "metadata": {},
   "outputs": [],
   "source": [
    "import requests"
   ]
  },
  {
   "cell_type": "code",
   "execution_count": 2,
   "metadata": {},
   "outputs": [],
   "source": [
    "# Define the URLs to download YOLOv3 configuration and weights\n",
    "config_url = \"https://github.com/pjreddie/darknet/blob/master/cfg/yolov3.cfg?raw=true\"\n",
    "weights_url = \"https://pjreddie.com/media/files/yolov3.weights\"\n",
    "\n",
    "# Define the URL to download the \"coco.names\" file\n",
    "coco_names_url = \"https://raw.githubusercontent.com/pjreddie/darknet/master/data/coco.names\""
   ]
  },
  {
   "cell_type": "code",
   "execution_count": 3,
   "metadata": {},
   "outputs": [],
   "source": [
    "# Define the local file names for saving\n",
    "config_file = \"yolov3.cfg\"\n",
    "weights_file = \"yolov3.weights\"\n",
    "\n",
    "# Define the local file name for saving\n",
    "coco_names_file = \"coco.names\""
   ]
  },
  {
   "cell_type": "code",
   "execution_count": 4,
   "metadata": {},
   "outputs": [
    {
     "name": "stdout",
     "output_type": "stream",
     "text": [
      "Downloaded yolov3.cfg\n"
     ]
    }
   ],
   "source": [
    "# Download YOLOv3 configuration file\n",
    "response = requests.get(config_url)\n",
    "if response.status_code == 200:\n",
    "    with open(config_file, 'wb') as file:\n",
    "        file.write(response.content)\n",
    "    print(f\"Downloaded {config_file}\")\n",
    "else:\n",
    "    print(\"Failed to download YOLOv3 configuration file\")"
   ]
  },
  {
   "cell_type": "code",
   "execution_count": null,
   "metadata": {},
   "outputs": [],
   "source": [
    "# Download YOLOv3 pre-trained weights\n",
    "response = requests.get(weights_url)\n",
    "if response.status_code == 200:\n",
    "    with open(weights_file, 'wb') as file:\n",
    "        file.write(response.content)\n",
    "    print(f\"Downloaded {weights_file}\")\n",
    "else:\n",
    "    print(\"Failed to download YOLOv3 pre-trained weights\")"
   ]
  },
  {
   "cell_type": "code",
   "execution_count": 4,
   "metadata": {},
   "outputs": [
    {
     "name": "stdout",
     "output_type": "stream",
     "text": [
      "Downloaded coco.names\n"
     ]
    }
   ],
   "source": [
    "# Download the \"coco.names\" file\n",
    "response = requests.get(coco_names_url)\n",
    "if response.status_code == 200:\n",
    "    with open(coco_names_file, 'wb') as file:\n",
    "        file.write(response.content)\n",
    "    print(f\"Downloaded {coco_names_file}\")\n",
    "else:\n",
    "    print(\"Failed to download the 'coco.names' file\")"
   ]
  },
  {
   "cell_type": "code",
   "execution_count": null,
   "metadata": {},
   "outputs": [],
   "source": [
    "pip install opencv-python-headless"
   ]
  },
  {
   "cell_type": "code",
   "execution_count": null,
   "metadata": {},
   "outputs": [],
   "source": [
    "pip install --upgrade numpy"
   ]
  },
  {
   "cell_type": "code",
   "execution_count": null,
   "metadata": {},
   "outputs": [],
   "source": [
    "pip install keyboard"
   ]
  }
 ],
 "metadata": {
  "kernelspec": {
   "display_name": "Python 3",
   "language": "python",
   "name": "python3"
  },
  "language_info": {
   "codemirror_mode": {
    "name": "ipython",
    "version": 3
   },
   "file_extension": ".py",
   "mimetype": "text/x-python",
   "name": "python",
   "nbconvert_exporter": "python",
   "pygments_lexer": "ipython3",
   "version": "3.9.6"
  }
 },
 "nbformat": 4,
 "nbformat_minor": 2
}
