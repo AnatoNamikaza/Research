{
 "cells": [
  {
   "cell_type": "code",
   "execution_count": 1,
   "id": "0363c29e",
   "metadata": {
    "scrolled": true
   },
   "outputs": [],
   "source": [
    "#pip install timm"
   ]
  },
  {
   "cell_type": "code",
   "execution_count": null,
   "id": "bb2b299b",
   "metadata": {},
   "outputs": [],
   "source": [
    "import torch\n",
    "from torchvision import transforms\n",
    "from PIL import Image\n",
    "import matplotlib.pyplot as plt\n",
    "from transformers import DetrImageProcessor, DetrForObjectDetection"
   ]
  },
  {
   "cell_type": "code",
   "execution_count": null,
   "id": "8391031c",
   "metadata": {},
   "outputs": [],
   "source": [
    "# Load the pre-trained DETR model and processor\n",
    "model_name = \"facebook/detr-resnet-50\"\n",
    "processor = DetrImageProcessor.from_pretrained(model_name)\n",
    "model = DetrForObjectDetection.from_pretrained(model_name)"
   ]
  },
  {
   "cell_type": "code",
   "execution_count": null,
   "id": "2a812804",
   "metadata": {},
   "outputs": [],
   "source": [
    "# Load and preprocess the image\n",
    "image_path = \"Restaurant.jpg\"\n",
    "image = Image.open(image_path)\n",
    "inputs = processor(images=image, return_tensors=\"pt\", size=(800, 800), size_format=\"longest_edge\")"
   ]
  },
  {
   "cell_type": "code",
   "execution_count": null,
   "id": "217f5a2d",
   "metadata": {},
   "outputs": [],
   "source": [
    "# Make predictions\n",
    "outputs = model(**inputs)\n",
    "detections = processor.post_process_object_detection(outputs)"
   ]
  },
  {
   "cell_type": "code",
   "execution_count": null,
   "id": "e5a1001a",
   "metadata": {},
   "outputs": [],
   "source": [
    "# Filter detections based on the threshold\n",
    "threshold = 0.5\n",
    "for detection in detections:\n",
    "    selected_indices = detection[\"scores\"] > threshold\n",
    "\n",
    "    # Display the filtered predictions\n",
    "    labels = detection[\"labels\"][selected_indices].cpu().numpy()\n",
    "    scores = detection[\"scores\"][selected_indices].detach().cpu().numpy()\n",
    "    boxes = detection[\"boxes\"][selected_indices].detach().cpu().numpy()\n",
    "\n",
    "    # Visualize the bounding boxes on the image\n",
    "    img_with_boxes = image.copy()\n",
    "    draw = ImageDraw.Draw(img_with_boxes)\n",
    "    for box, label in zip(boxes, labels):\n",
    "        box = [round(coord, 2) for coord in box]\n",
    "        draw.rectangle(box, outline=\"red\", width=3)\n",
    "        draw.text((box[0], box[1]), f\"{model.config.id2label[label.item()]}: {scores[label]:.2f}\", fill=\"red\")\n",
    "\n",
    "    plt.imshow(img_with_boxes)\n",
    "    plt.axis(\"off\")\n",
    "    plt.show()\n",
    "\n",
    "    # Get the count of each type of object\n",
    "    label_counts = {}\n",
    "    for label in labels:\n",
    "        if label not in label_counts:\n",
    "            label_counts[label] = 1\n",
    "        else:\n",
    "            label_counts[label] += 1\n",
    "\n",
    "    # Display the count of each type of object\n",
    "    summary = \"\"\n",
    "    for label, count in label_counts.items():\n",
    "        summary += f\"{count} {model.config.id2label[label]}{'s' if count > 1 else ''}, \"\n",
    "    summary = summary.rstrip(\", \")\n",
    "    print(\"Summary:\", summary)"
   ]
  }
 ],
 "metadata": {
  "kernelspec": {
   "display_name": "Python 3 (ipykernel)",
   "language": "python",
   "name": "python3"
  },
  "language_info": {
   "codemirror_mode": {
    "name": "ipython",
    "version": 3
   },
   "file_extension": ".py",
   "mimetype": "text/x-python",
   "name": "python",
   "nbconvert_exporter": "python",
   "pygments_lexer": "ipython3",
   "version": "3.11.5"
  }
 },
 "nbformat": 4,
 "nbformat_minor": 5
}
