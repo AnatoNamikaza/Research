{
 "cells": [
  {
   "cell_type": "code",
   "execution_count": 1,
   "id": "37c689e2",
   "metadata": {
    "scrolled": true
   },
   "outputs": [],
   "source": [
    "#pip install timm"
   ]
  },
  {
   "cell_type": "code",
   "execution_count": 28,
   "id": "cbeea90b",
   "metadata": {},
   "outputs": [],
   "source": [
    "import torch\n",
    "from torchvision import transforms\n",
    "from PIL import Image, ImageDraw\n",
    "import matplotlib.pyplot as plt\n",
    "from transformers import DetrImageProcessor, DetrForObjectDetection"
   ]
  },
  {
   "cell_type": "code",
   "execution_count": 29,
   "id": "00d9d303",
   "metadata": {},
   "outputs": [
    {
     "name": "stderr",
     "output_type": "stream",
     "text": [
      "Some weights of the model checkpoint at facebook/detr-resnet-50 were not used when initializing DetrForObjectDetection: ['model.backbone.conv_encoder.model.layer1.0.downsample.1.num_batches_tracked', 'model.backbone.conv_encoder.model.layer3.0.downsample.1.num_batches_tracked', 'model.backbone.conv_encoder.model.layer2.0.downsample.1.num_batches_tracked', 'model.backbone.conv_encoder.model.layer4.0.downsample.1.num_batches_tracked']\n",
      "- This IS expected if you are initializing DetrForObjectDetection from the checkpoint of a model trained on another task or with another architecture (e.g. initializing a BertForSequenceClassification model from a BertForPreTraining model).\n",
      "- This IS NOT expected if you are initializing DetrForObjectDetection from the checkpoint of a model that you expect to be exactly identical (initializing a BertForSequenceClassification model from a BertForSequenceClassification model).\n"
     ]
    }
   ],
   "source": [
    "# Load the pre-trained DETR model and processor\n",
    "model_name = \"facebook/detr-resnet-50\"\n",
    "processor = DetrImageProcessor.from_pretrained(model_name)\n",
    "model = DetrForObjectDetection.from_pretrained(model_name)"
   ]
  },
  {
   "cell_type": "code",
   "execution_count": 30,
   "id": "88a6b840",
   "metadata": {},
   "outputs": [],
   "source": [
    "# Load and preprocess the image\n",
    "image_path = \"Restaurant.jpg\"\n",
    "image = Image.open(image_path)\n",
    "inputs = processor(images=image, return_tensors=\"pt\", size=(800, 800), size_format=\"longest_edge\")"
   ]
  },
  {
   "cell_type": "code",
   "execution_count": 31,
   "id": "8fd115ce",
   "metadata": {},
   "outputs": [],
   "source": [
    "# Make predictions\n",
    "outputs = model(**inputs)\n",
    "detections = processor.post_process_object_detection(outputs)"
   ]
  },
  {
   "cell_type": "code",
   "execution_count": 32,
   "id": "36c58857",
   "metadata": {},
   "outputs": [
    {
     "ename": "NameError",
     "evalue": "name 'ImageDraw' is not defined",
     "output_type": "error",
     "traceback": [
      "\u001b[1;31m---------------------------------------------------------------------------\u001b[0m",
      "\u001b[1;31mNameError\u001b[0m                                 Traceback (most recent call last)",
      "Cell \u001b[1;32mIn[32], line 13\u001b[0m\n\u001b[0;32m     11\u001b[0m \u001b[38;5;66;03m# Visualize the bounding boxes on the image\u001b[39;00m\n\u001b[0;32m     12\u001b[0m img_with_boxes \u001b[38;5;241m=\u001b[39m image\u001b[38;5;241m.\u001b[39mcopy()\n\u001b[1;32m---> 13\u001b[0m draw \u001b[38;5;241m=\u001b[39m ImageDraw\u001b[38;5;241m.\u001b[39mDraw(img_with_boxes)\n\u001b[0;32m     14\u001b[0m \u001b[38;5;28;01mfor\u001b[39;00m box, label \u001b[38;5;129;01min\u001b[39;00m \u001b[38;5;28mzip\u001b[39m(boxes, labels):\n\u001b[0;32m     15\u001b[0m     box \u001b[38;5;241m=\u001b[39m [\u001b[38;5;28mround\u001b[39m(coord, \u001b[38;5;241m2\u001b[39m) \u001b[38;5;28;01mfor\u001b[39;00m coord \u001b[38;5;129;01min\u001b[39;00m box]\n",
      "\u001b[1;31mNameError\u001b[0m: name 'ImageDraw' is not defined"
     ]
    }
   ],
   "source": [
    "# Filter detections based on the threshold\n",
    "threshold = 0.5\n",
    "for detection in detections:\n",
    "    selected_indices = detection[\"scores\"] > threshold\n",
    "\n",
    "    # Display the filtered predictions\n",
    "    labels = detection[\"labels\"][selected_indices].cpu().numpy()\n",
    "    scores = detection[\"scores\"][selected_indices].detach().cpu().numpy()\n",
    "    boxes = detection[\"boxes\"][selected_indices].detach().cpu().numpy()\n",
    "\n",
    "    # Visualize the bounding boxes on the image\n",
    "    img_with_boxes = image.copy()\n",
    "    draw = ImageDraw.Draw(img_with_boxes)\n",
    "    for box, label in zip(boxes, labels):\n",
    "        box = [round(coord, 2) for coord in box]\n",
    "        draw.rectangle(box, outline=\"red\", width=3)\n",
    "        draw.text((box[0], box[1]), f\"{model.config.id2label[label.item()]}: {scores[label]:.2f}\", fill=\"red\")\n",
    "\n",
    "    plt.imshow(img_with_boxes)\n",
    "    plt.axis(\"off\")\n",
    "    plt.show()\n",
    "\n",
    "    # Get the count of each type of object\n",
    "    label_counts = {}\n",
    "    for label in labels:\n",
    "        if label not in label_counts:\n",
    "            label_counts[label] = 1\n",
    "        else:\n",
    "            label_counts[label] += 1\n",
    "\n",
    "    # Display the count of each type of object\n",
    "    summary = \"\"\n",
    "    for label, count in label_counts.items():\n",
    "        summary += f\"{count} {model.config.id2label[label]}{'s' if count > 1 else ''}, \"\n",
    "    summary = summary.rstrip(\", \")\n",
    "    print(\"Summary:\", summary)"
   ]
  },
  {
   "cell_type": "code",
   "execution_count": null,
   "id": "4a7ef298",
   "metadata": {},
   "outputs": [],
   "source": []
  }
 ],
 "metadata": {
  "kernelspec": {
   "display_name": "Python 3 (ipykernel)",
   "language": "python",
   "name": "python3"
  },
  "language_info": {
   "codemirror_mode": {
    "name": "ipython",
    "version": 3
   },
   "file_extension": ".py",
   "mimetype": "text/x-python",
   "name": "python",
   "nbconvert_exporter": "python",
   "pygments_lexer": "ipython3",
   "version": "3.11.5"
  }
 },
 "nbformat": 4,
 "nbformat_minor": 5
}
