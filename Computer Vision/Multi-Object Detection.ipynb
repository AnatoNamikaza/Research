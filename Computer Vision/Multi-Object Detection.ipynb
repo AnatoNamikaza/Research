{
 "cells": [
  {
   "cell_type": "code",
   "execution_count": 1,
   "id": "f4a30def",
   "metadata": {},
   "outputs": [],
   "source": [
    "import torch\n",
    "from torchvision import transforms\n",
    "from PIL import Image\n",
    "from transformers import DetrImageProcessor, DetrForObjectDetection"
   ]
  },
  {
   "cell_type": "code",
   "execution_count": 2,
   "id": "5e04e08a",
   "metadata": {},
   "outputs": [
    {
     "data": {
      "application/vnd.jupyter.widget-view+json": {
       "model_id": "c002fca59ef24c559d6f9b34e9c51f79",
       "version_major": 2,
       "version_minor": 0
      },
      "text/plain": [
       "Downloading (…)rocessor_config.json:   0%|          | 0.00/274 [00:00<?, ?B/s]"
      ]
     },
     "metadata": {},
     "output_type": "display_data"
    },
    {
     "name": "stderr",
     "output_type": "stream",
     "text": [
      "E:\\anaconda3\\Lib\\site-packages\\huggingface_hub\\file_download.py:133: UserWarning: `huggingface_hub` cache-system uses symlinks by default to efficiently store duplicated files but your machine does not support them in C:\\Users\\darkn\\.cache\\huggingface\\hub. Caching files will still work but in a degraded version that might require more space on your disk. This warning can be disabled by setting the `HF_HUB_DISABLE_SYMLINKS_WARNING` environment variable. For more details, see https://huggingface.co/docs/huggingface_hub/how-to-cache#limitations.\n",
      "To support symlinks on Windows, you either need to activate Developer Mode or to run Python as an administrator. In order to see activate developer mode, see this article: https://docs.microsoft.com/en-us/windows/apps/get-started/enable-your-device-for-development\n",
      "  warnings.warn(message)\n",
      "The `max_size` parameter is deprecated and will be removed in v4.26. Please specify in `size['longest_edge'] instead`.\n"
     ]
    },
    {
     "data": {
      "application/vnd.jupyter.widget-view+json": {
       "model_id": "e82381ca171147e0af6c3f295e740ea0",
       "version_major": 2,
       "version_minor": 0
      },
      "text/plain": [
       "Downloading (…)lve/main/config.json:   0%|          | 0.00/4.59k [00:00<?, ?B/s]"
      ]
     },
     "metadata": {},
     "output_type": "display_data"
    },
    {
     "data": {
      "application/vnd.jupyter.widget-view+json": {
       "model_id": "6ccce36e93ae4291acb6f8f38d8cc62d",
       "version_major": 2,
       "version_minor": 0
      },
      "text/plain": [
       "Downloading pytorch_model.bin:   0%|          | 0.00/167M [00:00<?, ?B/s]"
      ]
     },
     "metadata": {},
     "output_type": "display_data"
    },
    {
     "ename": "ImportError",
     "evalue": "\nDetrConvEncoder requires the timm library but it was not found in your environment. You can install it with pip:\n`pip install timm`. Please note that you may need to restart your runtime after installation.\n",
     "output_type": "error",
     "traceback": [
      "\u001b[1;31m---------------------------------------------------------------------------\u001b[0m",
      "\u001b[1;31mImportError\u001b[0m                               Traceback (most recent call last)",
      "Cell \u001b[1;32mIn[2], line 4\u001b[0m\n\u001b[0;32m      2\u001b[0m model_name \u001b[38;5;241m=\u001b[39m \u001b[38;5;124m\"\u001b[39m\u001b[38;5;124mfacebook/detr-resnet-50\u001b[39m\u001b[38;5;124m\"\u001b[39m\n\u001b[0;32m      3\u001b[0m processor \u001b[38;5;241m=\u001b[39m DetrImageProcessor\u001b[38;5;241m.\u001b[39mfrom_pretrained(model_name)\n\u001b[1;32m----> 4\u001b[0m model \u001b[38;5;241m=\u001b[39m DetrForObjectDetection\u001b[38;5;241m.\u001b[39mfrom_pretrained(model_name)\n",
      "File \u001b[1;32mE:\\anaconda3\\Lib\\site-packages\\transformers\\modeling_utils.py:2876\u001b[0m, in \u001b[0;36mPreTrainedModel.from_pretrained\u001b[1;34m(cls, pretrained_model_name_or_path, config, cache_dir, ignore_mismatched_sizes, force_download, local_files_only, token, revision, use_safetensors, *model_args, **kwargs)\u001b[0m\n\u001b[0;32m   2873\u001b[0m     init_contexts\u001b[38;5;241m.\u001b[39mappend(init_empty_weights())\n\u001b[0;32m   2875\u001b[0m \u001b[38;5;28;01mwith\u001b[39;00m ContextManagers(init_contexts):\n\u001b[1;32m-> 2876\u001b[0m     model \u001b[38;5;241m=\u001b[39m \u001b[38;5;28mcls\u001b[39m(config, \u001b[38;5;241m*\u001b[39mmodel_args, \u001b[38;5;241m*\u001b[39m\u001b[38;5;241m*\u001b[39mmodel_kwargs)\n\u001b[0;32m   2878\u001b[0m \u001b[38;5;66;03m# Check first if we are `from_pt`\u001b[39;00m\n\u001b[0;32m   2879\u001b[0m \u001b[38;5;28;01mif\u001b[39;00m use_keep_in_fp32_modules:\n",
      "File \u001b[1;32mE:\\anaconda3\\Lib\\site-packages\\transformers\\models\\detr\\modeling_detr.py:1383\u001b[0m, in \u001b[0;36mDetrForObjectDetection.__init__\u001b[1;34m(self, config)\u001b[0m\n\u001b[0;32m   1380\u001b[0m \u001b[38;5;28msuper\u001b[39m()\u001b[38;5;241m.\u001b[39m\u001b[38;5;21m__init__\u001b[39m(config)\n\u001b[0;32m   1382\u001b[0m \u001b[38;5;66;03m# DETR encoder-decoder model\u001b[39;00m\n\u001b[1;32m-> 1383\u001b[0m \u001b[38;5;28mself\u001b[39m\u001b[38;5;241m.\u001b[39mmodel \u001b[38;5;241m=\u001b[39m DetrModel(config)\n\u001b[0;32m   1385\u001b[0m \u001b[38;5;66;03m# Object detection heads\u001b[39;00m\n\u001b[0;32m   1386\u001b[0m \u001b[38;5;28mself\u001b[39m\u001b[38;5;241m.\u001b[39mclass_labels_classifier \u001b[38;5;241m=\u001b[39m nn\u001b[38;5;241m.\u001b[39mLinear(\n\u001b[0;32m   1387\u001b[0m     config\u001b[38;5;241m.\u001b[39md_model, config\u001b[38;5;241m.\u001b[39mnum_labels \u001b[38;5;241m+\u001b[39m \u001b[38;5;241m1\u001b[39m\n\u001b[0;32m   1388\u001b[0m )  \u001b[38;5;66;03m# We add one for the \"no object\" class\u001b[39;00m\n",
      "File \u001b[1;32mE:\\anaconda3\\Lib\\site-packages\\transformers\\models\\detr\\modeling_detr.py:1215\u001b[0m, in \u001b[0;36mDetrModel.__init__\u001b[1;34m(self, config)\u001b[0m\n\u001b[0;32m   1212\u001b[0m \u001b[38;5;28msuper\u001b[39m()\u001b[38;5;241m.\u001b[39m\u001b[38;5;21m__init__\u001b[39m(config)\n\u001b[0;32m   1214\u001b[0m \u001b[38;5;66;03m# Create backbone + positional encoding\u001b[39;00m\n\u001b[1;32m-> 1215\u001b[0m backbone \u001b[38;5;241m=\u001b[39m DetrConvEncoder(config)\n\u001b[0;32m   1216\u001b[0m position_embeddings \u001b[38;5;241m=\u001b[39m build_position_encoding(config)\n\u001b[0;32m   1217\u001b[0m \u001b[38;5;28mself\u001b[39m\u001b[38;5;241m.\u001b[39mbackbone \u001b[38;5;241m=\u001b[39m DetrConvModel(backbone, position_embeddings)\n",
      "File \u001b[1;32mE:\\anaconda3\\Lib\\site-packages\\transformers\\models\\detr\\modeling_detr.py:344\u001b[0m, in \u001b[0;36mDetrConvEncoder.__init__\u001b[1;34m(self, config)\u001b[0m\n\u001b[0;32m    341\u001b[0m \u001b[38;5;28mself\u001b[39m\u001b[38;5;241m.\u001b[39mconfig \u001b[38;5;241m=\u001b[39m config\n\u001b[0;32m    343\u001b[0m \u001b[38;5;28;01mif\u001b[39;00m config\u001b[38;5;241m.\u001b[39muse_timm_backbone:\n\u001b[1;32m--> 344\u001b[0m     requires_backends(\u001b[38;5;28mself\u001b[39m, [\u001b[38;5;124m\"\u001b[39m\u001b[38;5;124mtimm\u001b[39m\u001b[38;5;124m\"\u001b[39m])\n\u001b[0;32m    345\u001b[0m     kwargs \u001b[38;5;241m=\u001b[39m {}\n\u001b[0;32m    346\u001b[0m     \u001b[38;5;28;01mif\u001b[39;00m config\u001b[38;5;241m.\u001b[39mdilation:\n",
      "File \u001b[1;32mE:\\anaconda3\\Lib\\site-packages\\transformers\\utils\\import_utils.py:1058\u001b[0m, in \u001b[0;36mrequires_backends\u001b[1;34m(obj, backends)\u001b[0m\n\u001b[0;32m   1056\u001b[0m failed \u001b[38;5;241m=\u001b[39m [msg\u001b[38;5;241m.\u001b[39mformat(name) \u001b[38;5;28;01mfor\u001b[39;00m available, msg \u001b[38;5;129;01min\u001b[39;00m checks \u001b[38;5;28;01mif\u001b[39;00m \u001b[38;5;129;01mnot\u001b[39;00m available()]\n\u001b[0;32m   1057\u001b[0m \u001b[38;5;28;01mif\u001b[39;00m failed:\n\u001b[1;32m-> 1058\u001b[0m     \u001b[38;5;28;01mraise\u001b[39;00m \u001b[38;5;167;01mImportError\u001b[39;00m(\u001b[38;5;124m\"\u001b[39m\u001b[38;5;124m\"\u001b[39m\u001b[38;5;241m.\u001b[39mjoin(failed))\n",
      "\u001b[1;31mImportError\u001b[0m: \nDetrConvEncoder requires the timm library but it was not found in your environment. You can install it with pip:\n`pip install timm`. Please note that you may need to restart your runtime after installation.\n"
     ]
    }
   ],
   "source": [
    "# Load the pre-trained DETR model and processor\n",
    "model_name = \"facebook/detr-resnet-50\"\n",
    "processor = DetrImageProcessor.from_pretrained(model_name)\n",
    "model = DetrForObjectDetection.from_pretrained(model_name)"
   ]
  },
  {
   "cell_type": "code",
   "execution_count": null,
   "id": "717a02ff",
   "metadata": {},
   "outputs": [],
   "source": [
    "# Load and preprocess the image\n",
    "image_path = \"Restaurant.jpg\"\n",
    "image = Image.open(image_path)\n",
    "inputs = processor(images=image, return_tensors=\"pt\")"
   ]
  },
  {
   "cell_type": "code",
   "execution_count": null,
   "id": "ae1fe561",
   "metadata": {},
   "outputs": [],
   "source": [
    "# Make predictions\n",
    "outputs = model(**inputs)\n",
    "detections = processor.post_process_object_detection(outputs, inputs)"
   ]
  },
  {
   "cell_type": "code",
   "execution_count": null,
   "id": "3710efab",
   "metadata": {},
   "outputs": [],
   "source": [
    "# Display the predictions\n",
    "for i, det in enumerate(detections):\n",
    "    labels = det[\"labels\"]\n",
    "    scores = det[\"scores\"]\n",
    "    boxes = det[\"boxes\"]\n",
    "\n",
    "    for label, score, box in zip(labels, scores, boxes):\n",
    "        print(f\"Label: {label}, Score: {score:.2f}, Box: {box}\")"
   ]
  },
  {
   "cell_type": "code",
   "execution_count": null,
   "id": "d9c3d5ac",
   "metadata": {},
   "outputs": [],
   "source": [
    "# Get the count of each type of object\n",
    "label_counts = {}\n",
    "for det in detections:\n",
    "    labels = det[\"labels\"]\n",
    "    for label in labels:\n",
    "        if label.item() not in label_counts:\n",
    "            label_counts[label.item()] = 1\n",
    "        else:\n",
    "            label_counts[label.item()] += 1"
   ]
  },
  {
   "cell_type": "code",
   "execution_count": null,
   "id": "c1f7318c",
   "metadata": {},
   "outputs": [],
   "source": [
    "# Display the count of each type of object\n",
    "for label, count in label_counts.items():\n",
    "    print(f\"{count} {label}{'s' if count > 1 else ''}\")"
   ]
  },
  {
   "cell_type": "code",
   "execution_count": null,
   "id": "bd752451",
   "metadata": {},
   "outputs": [],
   "source": []
  }
 ],
 "metadata": {
  "kernelspec": {
   "display_name": "Python 3 (ipykernel)",
   "language": "python",
   "name": "python3"
  },
  "language_info": {
   "codemirror_mode": {
    "name": "ipython",
    "version": 3
   },
   "file_extension": ".py",
   "mimetype": "text/x-python",
   "name": "python",
   "nbconvert_exporter": "python",
   "pygments_lexer": "ipython3",
   "version": "3.11.5"
  }
 },
 "nbformat": 4,
 "nbformat_minor": 5
}
