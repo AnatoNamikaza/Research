{
 "cells": [
  {
   "cell_type": "code",
   "execution_count": null,
   "id": "e1f8ab22",
   "metadata": {},
   "outputs": [],
   "source": [
    "import torch\n",
    "from torchvision import transforms\n",
    "from PIL import Image\n",
    "from transformers import DetrImageProcessor, DetrForObjectDetection"
   ]
  },
  {
   "cell_type": "code",
   "execution_count": null,
   "id": "97920465",
   "metadata": {},
   "outputs": [],
   "source": [
    "# Load the pre-trained DETR model and processor\n",
    "model_name = \"facebook/detr-resnet-50\"\n",
    "processor = DetrImageProcessor.from_pretrained(model_name)\n",
    "model = DetrForObjectDetection.from_pretrained(model_name)"
   ]
  },
  {
   "cell_type": "code",
   "execution_count": null,
   "id": "328dd291",
   "metadata": {},
   "outputs": [],
   "source": [
    "# Load and preprocess the image\n",
    "image_path = \"Restaurant.jpg\"\n",
    "image = Image.open(image_path)\n",
    "inputs = processor(images=image, return_tensors=\"pt\")"
   ]
  },
  {
   "cell_type": "code",
   "execution_count": null,
   "id": "e1a1cc58",
   "metadata": {},
   "outputs": [],
   "source": [
    "# Make predictions\n",
    "outputs = model(**inputs)\n",
    "detections = processor.post_process_object_detection(outputs, inputs)"
   ]
  },
  {
   "cell_type": "code",
   "execution_count": null,
   "id": "ccbcfad5",
   "metadata": {},
   "outputs": [],
   "source": [
    "# Display the predictions\n",
    "for i, det in enumerate(detections):\n",
    "    labels = det[\"labels\"]\n",
    "    scores = det[\"scores\"]\n",
    "    boxes = det[\"boxes\"]\n",
    "\n",
    "    for label, score, box in zip(labels, scores, boxes):\n",
    "        print(f\"Label: {label}, Score: {score:.2f}, Box: {box}\")"
   ]
  },
  {
   "cell_type": "code",
   "execution_count": null,
   "id": "ff656d44",
   "metadata": {},
   "outputs": [],
   "source": [
    "# Get the count of each type of object\n",
    "label_counts = {}\n",
    "for det in detections:\n",
    "    labels = det[\"labels\"]\n",
    "    for label in labels:\n",
    "        if label.item() not in label_counts:\n",
    "            label_counts[label.item()] = 1\n",
    "        else:\n",
    "            label_counts[label.item()] += 1"
   ]
  },
  {
   "cell_type": "code",
   "execution_count": null,
   "id": "3d9d93f3",
   "metadata": {},
   "outputs": [],
   "source": [
    "# Display the count of each type of object\n",
    "for label, count in label_counts.items():\n",
    "    print(f\"{count} {label}{'s' if count > 1 else ''}\")"
   ]
  }
 ],
 "metadata": {
  "kernelspec": {
   "display_name": "Python 3 (ipykernel)",
   "language": "python",
   "name": "python3"
  },
  "language_info": {
   "codemirror_mode": {
    "name": "ipython",
    "version": 3
   },
   "file_extension": ".py",
   "mimetype": "text/x-python",
   "name": "python",
   "nbconvert_exporter": "python",
   "pygments_lexer": "ipython3",
   "version": "3.11.5"
  }
 },
 "nbformat": 4,
 "nbformat_minor": 5
}
