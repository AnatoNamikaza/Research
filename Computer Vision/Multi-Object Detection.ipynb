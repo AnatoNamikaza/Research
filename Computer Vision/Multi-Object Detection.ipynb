{
 "cells": [
  {
   "cell_type": "code",
   "execution_count": 1,
   "id": "90a0321a",
   "metadata": {
    "scrolled": true
   },
   "outputs": [],
   "source": [
    "#pip install timm"
   ]
  },
  {
   "cell_type": "code",
   "execution_count": 39,
   "id": "f733011b",
   "metadata": {},
   "outputs": [],
   "source": [
    "import torch\n",
    "from torchvision import transforms\n",
    "from PIL import Image, ImageDraw\n",
    "import matplotlib.pyplot as plt\n",
    "from transformers import DetrImageProcessor, DetrForObjectDetection"
   ]
  },
  {
   "cell_type": "code",
   "execution_count": 40,
   "id": "9e5a8257",
   "metadata": {},
   "outputs": [
    {
     "name": "stderr",
     "output_type": "stream",
     "text": [
      "Some weights of the model checkpoint at facebook/detr-resnet-50 were not used when initializing DetrForObjectDetection: ['model.backbone.conv_encoder.model.layer1.0.downsample.1.num_batches_tracked', 'model.backbone.conv_encoder.model.layer3.0.downsample.1.num_batches_tracked', 'model.backbone.conv_encoder.model.layer2.0.downsample.1.num_batches_tracked', 'model.backbone.conv_encoder.model.layer4.0.downsample.1.num_batches_tracked']\n",
      "- This IS expected if you are initializing DetrForObjectDetection from the checkpoint of a model trained on another task or with another architecture (e.g. initializing a BertForSequenceClassification model from a BertForPreTraining model).\n",
      "- This IS NOT expected if you are initializing DetrForObjectDetection from the checkpoint of a model that you expect to be exactly identical (initializing a BertForSequenceClassification model from a BertForSequenceClassification model).\n"
     ]
    }
   ],
   "source": [
    "# Load the pre-trained DETR model and processor\n",
    "model_name = \"facebook/detr-resnet-50\"\n",
    "processor = DetrImageProcessor.from_pretrained(model_name)\n",
    "model = DetrForObjectDetection.from_pretrained(model_name)"
   ]
  },
  {
   "cell_type": "code",
   "execution_count": 41,
   "id": "c716f30e",
   "metadata": {},
   "outputs": [],
   "source": [
    "# Load and preprocess the image\n",
    "image_path = \"Restaurant.jpg\"\n",
    "image = Image.open(image_path)\n",
    "inputs = processor(images=image, return_tensors=\"pt\", size=(800, 800), size_format=\"longest_edge\")"
   ]
  },
  {
   "cell_type": "code",
   "execution_count": 42,
   "id": "fc27b93f",
   "metadata": {},
   "outputs": [],
   "source": [
    "# Make predictions\n",
    "outputs = model(**inputs)\n",
    "detections = processor.post_process_object_detection(outputs)"
   ]
  },
  {
   "cell_type": "code",
   "execution_count": 43,
   "id": "b827398a",
   "metadata": {},
   "outputs": [
    {
     "ename": "IndexError",
     "evalue": "index 62 is out of bounds for axis 0 with size 48",
     "output_type": "error",
     "traceback": [
      "\u001b[1;31m---------------------------------------------------------------------------\u001b[0m",
      "\u001b[1;31mIndexError\u001b[0m                                Traceback (most recent call last)",
      "Cell \u001b[1;32mIn[43], line 18\u001b[0m\n\u001b[0;32m     16\u001b[0m     draw\u001b[38;5;241m.\u001b[39mrectangle(box, outline\u001b[38;5;241m=\u001b[39m\u001b[38;5;124m\"\u001b[39m\u001b[38;5;124mred\u001b[39m\u001b[38;5;124m\"\u001b[39m, width\u001b[38;5;241m=\u001b[39m\u001b[38;5;241m3\u001b[39m)\n\u001b[0;32m     17\u001b[0m     label_name \u001b[38;5;241m=\u001b[39m model\u001b[38;5;241m.\u001b[39mconfig\u001b[38;5;241m.\u001b[39mid2label\u001b[38;5;241m.\u001b[39mget(label\u001b[38;5;241m.\u001b[39mitem(), \u001b[38;5;124m\"\u001b[39m\u001b[38;5;124mUnknown\u001b[39m\u001b[38;5;124m\"\u001b[39m)\n\u001b[1;32m---> 18\u001b[0m     draw\u001b[38;5;241m.\u001b[39mtext((box[\u001b[38;5;241m0\u001b[39m], box[\u001b[38;5;241m1\u001b[39m]), \u001b[38;5;124mf\u001b[39m\u001b[38;5;124m\"\u001b[39m\u001b[38;5;132;01m{\u001b[39;00mlabel_name\u001b[38;5;132;01m}\u001b[39;00m\u001b[38;5;124m: \u001b[39m\u001b[38;5;132;01m{\u001b[39;00mscores[label]\u001b[38;5;132;01m:\u001b[39;00m\u001b[38;5;124m.2f\u001b[39m\u001b[38;5;132;01m}\u001b[39;00m\u001b[38;5;124m\"\u001b[39m, fill\u001b[38;5;241m=\u001b[39m\u001b[38;5;124m\"\u001b[39m\u001b[38;5;124mred\u001b[39m\u001b[38;5;124m\"\u001b[39m)\n\u001b[0;32m     20\u001b[0m plt\u001b[38;5;241m.\u001b[39mimshow(img_with_boxes)\n\u001b[0;32m     21\u001b[0m plt\u001b[38;5;241m.\u001b[39maxis(\u001b[38;5;124m\"\u001b[39m\u001b[38;5;124moff\u001b[39m\u001b[38;5;124m\"\u001b[39m)\n",
      "\u001b[1;31mIndexError\u001b[0m: index 62 is out of bounds for axis 0 with size 48"
     ]
    }
   ],
   "source": [
    "# Filter detections based on the threshold\n",
    "threshold = 0.5\n",
    "for detection in detections:\n",
    "    selected_indices = detection[\"scores\"] > threshold\n",
    "\n",
    "    # Display the filtered predictions\n",
    "    labels = detection[\"labels\"][selected_indices].cpu().numpy()\n",
    "    scores = detection[\"scores\"][selected_indices].detach().cpu().numpy()\n",
    "    boxes = detection[\"boxes\"][selected_indices].detach().cpu().numpy()\n",
    "\n",
    "    # Visualize the bounding boxes on the image\n",
    "    img_with_boxes = image.copy()\n",
    "    draw = ImageDraw.Draw(img_with_boxes)\n",
    "    for box, label in zip(boxes, labels):\n",
    "        box = [round(coord, 2) for coord in box]\n",
    "        draw.rectangle(box, outline=\"red\", width=3)\n",
    "        label_name = model.config.id2label.get(label.item(), \"Unknown\")\n",
    "        draw.text((box[0], box[1]), f\"{label_name}: {scores[label]:.2f}\", fill=\"red\")\n",
    "\n",
    "    plt.imshow(img_with_boxes)\n",
    "    plt.axis(\"off\")\n",
    "    plt.show()\n",
    "\n",
    "    # Get the count of each type of object\n",
    "    label_counts = {}\n",
    "    for label in labels:\n",
    "        label_name = model.config.id2label.get(label.item(), \"Unknown\")\n",
    "        if label_name not in label_counts:\n",
    "            label_counts[label_name] = 1\n",
    "        else:\n",
    "            label_counts[label_name] += 1\n",
    "\n",
    "    # Display the count of each type of object\n",
    "    summary = \"\"\n",
    "    for label, count in label_counts.items():\n",
    "        summary += f\"{count} {label}{'s' if count > 1 else ''}, \"\n",
    "    summary = summary.rstrip(\", \")\n",
    "    print(\"Summary:\", summary)"
   ]
  },
  {
   "cell_type": "code",
   "execution_count": null,
   "id": "c7742757",
   "metadata": {},
   "outputs": [],
   "source": []
  }
 ],
 "metadata": {
  "kernelspec": {
   "display_name": "Python 3 (ipykernel)",
   "language": "python",
   "name": "python3"
  },
  "language_info": {
   "codemirror_mode": {
    "name": "ipython",
    "version": 3
   },
   "file_extension": ".py",
   "mimetype": "text/x-python",
   "name": "python",
   "nbconvert_exporter": "python",
   "pygments_lexer": "ipython3",
   "version": "3.11.5"
  }
 },
 "nbformat": 4,
 "nbformat_minor": 5
}
