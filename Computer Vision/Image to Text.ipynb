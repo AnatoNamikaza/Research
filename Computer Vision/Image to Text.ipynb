{
 "cells": [
  {
   "cell_type": "code",
   "execution_count": 2,
   "id": "a525cbbe",
   "metadata": {},
   "outputs": [
    {
     "name": "stdout",
     "output_type": "stream",
     "text": [
      "Collecting pytesseract\n",
      "  Downloading pytesseract-0.3.10-py3-none-any.whl (14 kB)\n",
      "Requirement already satisfied: packaging>=21.3 in e:\\anaconda3\\lib\\site-packages (from pytesseract) (23.1)\n",
      "Requirement already satisfied: Pillow>=8.0.0 in e:\\anaconda3\\lib\\site-packages (from pytesseract) (9.4.0)\n",
      "Installing collected packages: pytesseract\n",
      "Successfully installed pytesseract-0.3.10\n",
      "Note: you may need to restart the kernel to use updated packages.\n"
     ]
    }
   ],
   "source": [
    "pip install pytesseract"
   ]
  },
  {
   "cell_type": "code",
   "execution_count": 3,
   "id": "d8fc2125",
   "metadata": {},
   "outputs": [],
   "source": [
    "import pytesseract\n",
    "from PIL import Image\n",
    "import pytesseract\n",
    "import cv2"
   ]
  },
  {
   "cell_type": "code",
   "execution_count": null,
   "id": "8f424f13",
   "metadata": {},
   "outputs": [],
   "source": [
    "# Load the image\n",
    "image_path = \"image_to_text_e1.jpg\"\n",
    "image = Image.open(image_path)"
   ]
  },
  {
   "cell_type": "code",
   "execution_count": null,
   "id": "ca2b039d",
   "metadata": {},
   "outputs": [],
   "source": [
    "# Perform OCR on the image to extract text\n",
    "text = pytesseract.image_to_string(image)"
   ]
  },
  {
   "cell_type": "code",
   "execution_count": null,
   "id": "9b75762b",
   "metadata": {},
   "outputs": [],
   "source": [
    "# Display the extracted text\n",
    "print(\"Extracted Text:\")\n",
    "print(text)"
   ]
  },
  {
   "cell_type": "code",
   "execution_count": null,
   "id": "28d4be87",
   "metadata": {},
   "outputs": [],
   "source": [
    "# If you want to display the image with bounding boxes around the detected text\n",
    "# You can use OpenCV for that\n",
    "image_cv = cv2.imread(image_path)\n",
    "detections = pytesseract.image_to_boxes(image)\n",
    "for detection in detections.splitlines():\n",
    "    detection = detection.split()\n",
    "    x, y, w, h = int(detection[1]), int(detection[2]), int(detection[3]), int(detection[4])\n",
    "    cv2.rectangle(image_cv, (x, image_cv.shape[0] - y), (w, image_cv.shape[0] - h), (0, 0, 255), 1)"
   ]
  },
  {
   "cell_type": "code",
   "execution_count": null,
   "id": "d9847ea5",
   "metadata": {},
   "outputs": [],
   "source": [
    "cv2.imshow(\"Image with Detected Text\", image_cv)\n",
    "cv2.waitKey(0)\n",
    "cv2.destroyAllWindows()"
   ]
  }
 ],
 "metadata": {
  "kernelspec": {
   "display_name": "Python 3 (ipykernel)",
   "language": "python",
   "name": "python3"
  },
  "language_info": {
   "codemirror_mode": {
    "name": "ipython",
    "version": 3
   },
   "file_extension": ".py",
   "mimetype": "text/x-python",
   "name": "python",
   "nbconvert_exporter": "python",
   "pygments_lexer": "ipython3",
   "version": "3.11.5"
  }
 },
 "nbformat": 4,
 "nbformat_minor": 5
}
