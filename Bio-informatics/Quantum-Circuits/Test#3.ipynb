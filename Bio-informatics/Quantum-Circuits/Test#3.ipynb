{
 "cells": [
  {
   "cell_type": "markdown",
   "metadata": {},
   "source": [
    "# Quantum Variational Eigensolver (VQE): \n",
    "\n",
    "VQE is a quantum algorithm used for solving problems in quantum chemistry, including drug discovery. It's used to find the ground state energy of a molecule, which is crucial for understanding its properties"
   ]
  },
  {
   "cell_type": "code",
   "execution_count": 2,
   "metadata": {},
   "outputs": [
    {
     "name": "stdout",
     "output_type": "stream",
     "text": [
      "Note: you may need to restart the kernel to use updated packages.\n"
     ]
    },
    {
     "name": "stderr",
     "output_type": "stream",
     "text": [
      "ERROR: Could not find a version that satisfies the requirement qiskit-chemistry (from versions: none)\n",
      "ERROR: No matching distribution found for qiskit-chemistry\n"
     ]
    }
   ],
   "source": [
    "pip install qiskit-chemistry"
   ]
  },
  {
   "cell_type": "code",
   "execution_count": 2,
   "metadata": {},
   "outputs": [
    {
     "name": "stdout",
     "output_type": "stream",
     "text": [
      "Requirement already satisfied: qiskit in e:\\anaconda3\\lib\\site-packages (0.44.3)\n",
      "Collecting qiskit\n",
      "  Downloading qiskit-0.45.0-py3-none-any.whl.metadata (12 kB)\n",
      "Collecting qiskit-terra==0.45.0 (from qiskit)\n",
      "  Downloading qiskit_terra-0.45.0-cp38-abi3-win_amd64.whl.metadata (12 kB)\n",
      "Requirement already satisfied: rustworkx>=0.13.0 in e:\\anaconda3\\lib\\site-packages (from qiskit-terra==0.45.0->qiskit) (0.13.2)\n",
      "Requirement already satisfied: numpy<2,>=1.17 in e:\\anaconda3\\lib\\site-packages (from qiskit-terra==0.45.0->qiskit) (1.23.5)\n",
      "Requirement already satisfied: ply>=3.10 in e:\\anaconda3\\lib\\site-packages (from qiskit-terra==0.45.0->qiskit) (3.11)\n",
      "Requirement already satisfied: psutil>=5 in e:\\anaconda3\\lib\\site-packages (from qiskit-terra==0.45.0->qiskit) (5.9.0)\n",
      "Requirement already satisfied: scipy>=1.5 in e:\\anaconda3\\lib\\site-packages (from qiskit-terra==0.45.0->qiskit) (1.11.1)\n",
      "Requirement already satisfied: sympy>=1.3 in e:\\anaconda3\\lib\\site-packages (from qiskit-terra==0.45.0->qiskit) (1.11.1)\n",
      "Requirement already satisfied: dill>=0.3 in e:\\anaconda3\\lib\\site-packages (from qiskit-terra==0.45.0->qiskit) (0.3.6)\n",
      "Requirement already satisfied: python-dateutil>=2.8.0 in e:\\anaconda3\\lib\\site-packages (from qiskit-terra==0.45.0->qiskit) (2.8.2)\n",
      "Requirement already satisfied: stevedore>=3.0.0 in e:\\anaconda3\\lib\\site-packages (from qiskit-terra==0.45.0->qiskit) (5.1.0)\n",
      "Requirement already satisfied: six>=1.5 in e:\\anaconda3\\lib\\site-packages (from python-dateutil>=2.8.0->qiskit-terra==0.45.0->qiskit) (1.16.0)\n",
      "Requirement already satisfied: pbr!=2.1.0,>=2.0.0 in e:\\anaconda3\\lib\\site-packages (from stevedore>=3.0.0->qiskit-terra==0.45.0->qiskit) (5.11.1)\n",
      "Requirement already satisfied: mpmath>=0.19 in e:\\anaconda3\\lib\\site-packages (from sympy>=1.3->qiskit-terra==0.45.0->qiskit) (1.3.0)\n",
      "Downloading qiskit-0.45.0-py3-none-any.whl (9.6 kB)\n",
      "Downloading qiskit_terra-0.45.0-cp38-abi3-win_amd64.whl (5.1 MB)\n",
      "   ---------------------------------------- 0.0/5.1 MB ? eta -:--:--\n",
      "   ---------------------------------------- 0.0/5.1 MB 1.4 MB/s eta 0:00:04\n",
      "    --------------------------------------- 0.1/5.1 MB 1.3 MB/s eta 0:00:04\n",
      "   - -------------------------------------- 0.2/5.1 MB 2.3 MB/s eta 0:00:03\n",
      "   -- ------------------------------------- 0.4/5.1 MB 2.5 MB/s eta 0:00:02\n",
      "   --- ------------------------------------ 0.5/5.1 MB 2.9 MB/s eta 0:00:02\n",
      "   ------ --------------------------------- 0.8/5.1 MB 3.7 MB/s eta 0:00:02\n",
      "   --------- ------------------------------ 1.2/5.1 MB 5.0 MB/s eta 0:00:01\n",
      "   ------------ --------------------------- 1.6/5.1 MB 5.7 MB/s eta 0:00:01\n",
      "   ------------ --------------------------- 1.6/5.1 MB 5.5 MB/s eta 0:00:01\n",
      "   ------------- -------------------------- 1.7/5.1 MB 5.2 MB/s eta 0:00:01\n",
      "   ------------- -------------------------- 1.7/5.1 MB 5.2 MB/s eta 0:00:01\n",
      "   ---------------- ----------------------- 2.1/5.1 MB 4.9 MB/s eta 0:00:01\n",
      "   ---------------- ----------------------- 2.1/5.1 MB 4.6 MB/s eta 0:00:01\n",
      "   ----------------- ---------------------- 2.3/5.1 MB 4.5 MB/s eta 0:00:01\n",
      "   ------------------ --------------------- 2.4/5.1 MB 4.4 MB/s eta 0:00:01\n",
      "   ------------------- -------------------- 2.5/5.1 MB 4.6 MB/s eta 0:00:01\n",
      "   -------------------- ------------------- 2.6/5.1 MB 4.3 MB/s eta 0:00:01\n",
      "   -------------------- ------------------- 2.7/5.1 MB 4.2 MB/s eta 0:00:01\n",
      "   -------------------- ------------------- 2.7/5.1 MB 4.2 MB/s eta 0:00:01\n",
      "   ----------------------- ---------------- 3.1/5.1 MB 4.1 MB/s eta 0:00:01\n",
      "   ------------------------ --------------- 3.1/5.1 MB 4.2 MB/s eta 0:00:01\n",
      "   ------------------------- -------------- 3.2/5.1 MB 4.0 MB/s eta 0:00:01\n",
      "   ------------------------- -------------- 3.3/5.1 MB 3.9 MB/s eta 0:00:01\n",
      "   ------------------------- -------------- 3.3/5.1 MB 3.9 MB/s eta 0:00:01\n",
      "   ------------------------- -------------- 3.3/5.1 MB 3.9 MB/s eta 0:00:01\n",
      "   --------------------------- ------------ 3.5/5.1 MB 3.7 MB/s eta 0:00:01\n",
      "   ---------------------------- ----------- 3.6/5.1 MB 3.6 MB/s eta 0:00:01\n",
      "   ---------------------------- ----------- 3.7/5.1 MB 3.6 MB/s eta 0:00:01\n",
      "   ---------------------------- ----------- 3.7/5.1 MB 3.6 MB/s eta 0:00:01\n",
      "   ------------------------------ --------- 4.0/5.1 MB 3.6 MB/s eta 0:00:01\n",
      "   ------------------------------ --------- 4.0/5.1 MB 3.5 MB/s eta 0:00:01\n",
      "   ------------------------------ --------- 4.0/5.1 MB 3.5 MB/s eta 0:00:01\n",
      "   ------------------------------- -------- 4.0/5.1 MB 3.3 MB/s eta 0:00:01\n",
      "   --------------------------------- ------ 4.3/5.1 MB 3.4 MB/s eta 0:00:01\n",
      "   --------------------------------- ------ 4.4/5.1 MB 3.3 MB/s eta 0:00:01\n",
      "   ---------------------------------- ----- 4.4/5.1 MB 3.3 MB/s eta 0:00:01\n",
      "   ----------------------------------- ---- 4.6/5.1 MB 3.3 MB/s eta 0:00:01\n",
      "   ------------------------------------ --- 4.7/5.1 MB 3.3 MB/s eta 0:00:01\n",
      "   ------------------------------------ --- 4.8/5.1 MB 3.3 MB/s eta 0:00:01\n",
      "   ------------------------------------- -- 4.9/5.1 MB 3.2 MB/s eta 0:00:01\n",
      "   ------------------------------------- -- 4.9/5.1 MB 3.2 MB/s eta 0:00:01\n",
      "   -------------------------------------- - 5.0/5.1 MB 3.2 MB/s eta 0:00:01\n",
      "   ---------------------------------------  5.1/5.1 MB 3.2 MB/s eta 0:00:01\n",
      "   ---------------------------------------  5.1/5.1 MB 3.2 MB/s eta 0:00:01\n",
      "   ---------------------------------------  5.1/5.1 MB 3.1 MB/s eta 0:00:01\n",
      "   ---------------------------------------- 5.1/5.1 MB 3.0 MB/s eta 0:00:00\n",
      "Installing collected packages: qiskit-terra, qiskit\n",
      "  Attempting uninstall: qiskit-terra\n",
      "    Found existing installation: qiskit-terra 0.25.3\n",
      "    Uninstalling qiskit-terra-0.25.3:\n",
      "Note: you may need to restart the kernel to use updated packages.\n"
     ]
    },
    {
     "name": "stderr",
     "output_type": "stream",
     "text": [
      "ERROR: Could not install packages due to an OSError: [WinError 5] Access is denied: 'e:\\\\anaconda3\\\\lib\\\\site-packages\\\\qiskit\\\\_accelerate.pyd'\n",
      "Consider using the `--user` option or check the permissions.\n",
      "\n"
     ]
    }
   ],
   "source": [
    "pip install --upgrade qiskit"
   ]
  },
  {
   "cell_type": "code",
   "execution_count": 3,
   "metadata": {},
   "outputs": [
    {
     "ename": "ModuleNotFoundError",
     "evalue": "No module named 'qiskit.chemistry'",
     "output_type": "error",
     "traceback": [
      "\u001b[1;31m---------------------------------------------------------------------------\u001b[0m",
      "\u001b[1;31mModuleNotFoundError\u001b[0m                       Traceback (most recent call last)",
      "Cell \u001b[1;32mIn[3], line 2\u001b[0m\n\u001b[0;32m      1\u001b[0m \u001b[38;5;28;01mfrom\u001b[39;00m \u001b[38;5;21;01mqiskit\u001b[39;00m \u001b[38;5;28;01mimport\u001b[39;00m QuantumCircuit, Aer, execute\n\u001b[1;32m----> 2\u001b[0m \u001b[38;5;28;01mfrom\u001b[39;00m \u001b[38;5;21;01mqiskit\u001b[39;00m\u001b[38;5;21;01m.\u001b[39;00m\u001b[38;5;21;01mchemistry\u001b[39;00m \u001b[38;5;28;01mimport\u001b[39;00m FermionicOperator\n\u001b[0;32m      3\u001b[0m \u001b[38;5;28;01mfrom\u001b[39;00m \u001b[38;5;21;01mqiskit\u001b[39;00m\u001b[38;5;21;01m.\u001b[39;00m\u001b[38;5;21;01mchemistry\u001b[39;00m\u001b[38;5;21;01m.\u001b[39;00m\u001b[38;5;21;01mdrivers\u001b[39;00m \u001b[38;5;28;01mimport\u001b[39;00m PySCFDriver\n\u001b[0;32m      4\u001b[0m \u001b[38;5;28;01mfrom\u001b[39;00m \u001b[38;5;21;01mqiskit\u001b[39;00m\u001b[38;5;21;01m.\u001b[39;00m\u001b[38;5;21;01mchemistry\u001b[39;00m \u001b[38;5;28;01mimport\u001b[39;00m QiskitChemistry\n",
      "\u001b[1;31mModuleNotFoundError\u001b[0m: No module named 'qiskit.chemistry'"
     ]
    }
   ],
   "source": [
    "from qiskit import QuantumCircuit, Aer, execute\n",
    "from qiskit.chemistry import FermionicOperator\n",
    "from qiskit.chemistry.drivers import PySCFDriver\n",
    "from qiskit.chemistry import QiskitChemistry"
   ]
  },
  {
   "cell_type": "code",
   "execution_count": null,
   "metadata": {},
   "outputs": [],
   "source": [
    "# Define the molecule and driver\n",
    "molecule = 'H .0 .0 .0; H .0 .0 0.7'\n",
    "driver = PySCFDriver(molecule)"
   ]
  },
  {
   "cell_type": "code",
   "execution_count": null,
   "metadata": {},
   "outputs": [],
   "source": [
    "# Create a FermionicOperator to map the molecule to qubits\n",
    "ferm_op = FermionicOperator(h1=driver.one_body_integrals, h2=driver.two_body_integrals)"
   ]
  },
  {
   "cell_type": "code",
   "execution_count": null,
   "metadata": {},
   "outputs": [],
   "source": [
    "# Create a quantum circuit for VQE\n",
    "backend = Aer.get_backend('statevector_simulator')\n",
    "quantum_instance = QuantumInstance(backend, shots=1000)\n",
    "vqe = VQE(quantum_instance)"
   ]
  },
  {
   "cell_type": "code",
   "execution_count": null,
   "metadata": {},
   "outputs": [],
   "source": [
    "# Calculate the ground state energy\n",
    "solver = NumPyMinimumEigensolver(ferm_op)\n",
    "result = solver.run()\n",
    "vqe_result = vqe.compute_minimum_eigenvalue(ferm_op)\n",
    "print(f'Ground state energy (VQE): {vqe_result.eigenvalue.real}')"
   ]
  },
  {
   "cell_type": "code",
   "execution_count": null,
   "metadata": {},
   "outputs": [],
   "source": []
  }
 ],
 "metadata": {
  "kernelspec": {
   "display_name": "Python 3 (ipykernel)",
   "language": "python",
   "name": "python3"
  },
  "language_info": {
   "codemirror_mode": {
    "name": "ipython",
    "version": 3
   },
   "file_extension": ".py",
   "mimetype": "text/x-python",
   "name": "python",
   "nbconvert_exporter": "python",
   "pygments_lexer": "ipython3",
   "version": "3.11.5"
  }
 },
 "nbformat": 4,
 "nbformat_minor": 2
}
