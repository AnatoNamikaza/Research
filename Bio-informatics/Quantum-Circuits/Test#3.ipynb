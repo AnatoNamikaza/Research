{
 "cells": [
  {
   "cell_type": "markdown",
   "metadata": {},
   "source": [
    "# Quantum Variational Eigensolver (VQE): \n",
    "\n",
    "VQE is a quantum algorithm used for solving problems in quantum chemistry, including drug discovery. It's used to find the ground state energy of a molecule, which is crucial for understanding its properties"
   ]
  },
  {
   "cell_type": "code",
   "execution_count": 1,
   "metadata": {},
   "outputs": [
    {
     "ename": "ModuleNotFoundError",
     "evalue": "No module named 'qiskit.util'",
     "output_type": "error",
     "traceback": [
      "\u001b[1;31m---------------------------------------------------------------------------\u001b[0m",
      "\u001b[1;31mModuleNotFoundError\u001b[0m                       Traceback (most recent call last)",
      "\u001b[1;32md:\\GitHub\\github\\Research\\Bio-informatics\\Quantum-Circuits\\Test#3.ipynb Cell 2\u001b[0m line \u001b[0;36m2\n\u001b[0;32m      <a href='vscode-notebook-cell:/d%3A/GitHub/github/Research/Bio-informatics/Quantum-Circuits/Test%233.ipynb#W0sZmlsZQ%3D%3D?line=0'>1</a>\u001b[0m \u001b[39mfrom\u001b[39;00m \u001b[39mqiskit\u001b[39;00m \u001b[39mimport\u001b[39;00m QuantumCircuit, Aer, execute\n\u001b[1;32m----> <a href='vscode-notebook-cell:/d%3A/GitHub/github/Research/Bio-informatics/Quantum-Circuits/Test%233.ipynb#W0sZmlsZQ%3D%3D?line=1'>2</a>\u001b[0m \u001b[39mfrom\u001b[39;00m \u001b[39mqiskit\u001b[39;00m\u001b[39m.\u001b[39;00m\u001b[39mchemistry\u001b[39;00m \u001b[39mimport\u001b[39;00m FermionicOperator\n\u001b[0;32m      <a href='vscode-notebook-cell:/d%3A/GitHub/github/Research/Bio-informatics/Quantum-Circuits/Test%233.ipynb#W0sZmlsZQ%3D%3D?line=2'>3</a>\u001b[0m \u001b[39mfrom\u001b[39;00m \u001b[39mqiskit\u001b[39;00m\u001b[39m.\u001b[39;00m\u001b[39mchemistry\u001b[39;00m\u001b[39m.\u001b[39;00m\u001b[39mdrivers\u001b[39;00m \u001b[39mimport\u001b[39;00m PySCFDriver\n\u001b[0;32m      <a href='vscode-notebook-cell:/d%3A/GitHub/github/Research/Bio-informatics/Quantum-Circuits/Test%233.ipynb#W0sZmlsZQ%3D%3D?line=3'>4</a>\u001b[0m \u001b[39mfrom\u001b[39;00m \u001b[39mqiskit\u001b[39;00m\u001b[39m.\u001b[39;00m\u001b[39mchemistry\u001b[39;00m \u001b[39mimport\u001b[39;00m QiskitChemistry\n",
      "File \u001b[1;32mc:\\Python39\\lib\\site-packages\\qiskit\\chemistry\\__init__.py:160\u001b[0m\n\u001b[0;32m      1\u001b[0m \u001b[39m# This code is part of Qiskit.\u001b[39;00m\n\u001b[0;32m      2\u001b[0m \u001b[39m#\u001b[39;00m\n\u001b[0;32m      3\u001b[0m \u001b[39m# (C) Copyright IBM 2018, 2021.\u001b[39;00m\n\u001b[1;32m   (...)\u001b[0m\n\u001b[0;32m     10\u001b[0m \u001b[39m# copyright notice, and modified files need to carry a notice indicating\u001b[39;00m\n\u001b[0;32m     11\u001b[0m \u001b[39m# that they have been altered from the originals.\u001b[39;00m\n\u001b[0;32m     12\u001b[0m \u001b[39mr\u001b[39m\u001b[39m\"\"\"\u001b[39;00m\n\u001b[0;32m     13\u001b[0m \u001b[39m===================================================\u001b[39;00m\n\u001b[0;32m     14\u001b[0m \u001b[39mQiskit's chemistry module (:mod:`qiskit.chemistry`)\u001b[39;00m\n\u001b[1;32m   (...)\u001b[0m\n\u001b[0;32m    157\u001b[0m \n\u001b[0;32m    158\u001b[0m \u001b[39m\"\"\"\u001b[39;00m\n\u001b[1;32m--> 160\u001b[0m \u001b[39mfrom\u001b[39;00m \u001b[39mqiskit\u001b[39;00m\u001b[39m.\u001b[39;00m\u001b[39maqua\u001b[39;00m\u001b[39m.\u001b[39;00m\u001b[39mdeprecation\u001b[39;00m \u001b[39mimport\u001b[39;00m warn_package\n\u001b[0;32m    161\u001b[0m \u001b[39mfrom\u001b[39;00m \u001b[39m.\u001b[39;00m\u001b[39mqiskit_chemistry_error\u001b[39;00m \u001b[39mimport\u001b[39;00m QiskitChemistryError\n\u001b[0;32m    162\u001b[0m \u001b[39mfrom\u001b[39;00m \u001b[39m.\u001b[39;00m\u001b[39mqmolecule\u001b[39;00m \u001b[39mimport\u001b[39;00m QMolecule\n",
      "File \u001b[1;32mc:\\Python39\\lib\\site-packages\\qiskit\\aqua\\__init__.py:75\u001b[0m\n\u001b[0;32m     73\u001b[0m \u001b[39mfrom\u001b[39;00m \u001b[39m.\u001b[39;00m\u001b[39maqua_error\u001b[39;00m \u001b[39mimport\u001b[39;00m AquaError\n\u001b[0;32m     74\u001b[0m \u001b[39mfrom\u001b[39;00m \u001b[39m.\u001b[39;00m\u001b[39mmissing_optional_library_error\u001b[39;00m \u001b[39mimport\u001b[39;00m MissingOptionalLibraryError\n\u001b[1;32m---> 75\u001b[0m \u001b[39mfrom\u001b[39;00m \u001b[39m.\u001b[39;00m\u001b[39maqua_globals\u001b[39;00m \u001b[39mimport\u001b[39;00m aqua_globals\n\u001b[0;32m     76\u001b[0m \u001b[39mfrom\u001b[39;00m \u001b[39m.\u001b[39;00m\u001b[39mquantum_instance\u001b[39;00m \u001b[39mimport\u001b[39;00m QuantumInstance\n\u001b[0;32m     77\u001b[0m \u001b[39mfrom\u001b[39;00m \u001b[39m.\u001b[39;00m\u001b[39malgorithms\u001b[39;00m \u001b[39mimport\u001b[39;00m QuantumAlgorithm\n",
      "File \u001b[1;32mc:\\Python39\\lib\\site-packages\\qiskit\\aqua\\aqua_globals.py:19\u001b[0m\n\u001b[0;32m     16\u001b[0m \u001b[39mimport\u001b[39;00m \u001b[39mlogging\u001b[39;00m\n\u001b[0;32m     18\u001b[0m \u001b[39mimport\u001b[39;00m \u001b[39mnumpy\u001b[39;00m \u001b[39mas\u001b[39;00m \u001b[39mnp\u001b[39;00m\n\u001b[1;32m---> 19\u001b[0m \u001b[39mfrom\u001b[39;00m \u001b[39mqiskit\u001b[39;00m\u001b[39m.\u001b[39;00m\u001b[39mutil\u001b[39;00m \u001b[39mimport\u001b[39;00m local_hardware_info\n\u001b[0;32m     20\u001b[0m \u001b[39mimport\u001b[39;00m \u001b[39mqiskit\u001b[39;00m\n\u001b[0;32m     22\u001b[0m \u001b[39mfrom\u001b[39;00m \u001b[39m.\u001b[39;00m\u001b[39maqua_error\u001b[39;00m \u001b[39mimport\u001b[39;00m AquaError\n",
      "\u001b[1;31mModuleNotFoundError\u001b[0m: No module named 'qiskit.util'"
     ]
    }
   ],
   "source": [
    "from qiskit import QuantumCircuit, Aer, execute\n",
    "from qiskit.chemistry import FermionicOperator\n",
    "from qiskit.chemistry.drivers import PySCFDriver\n",
    "from qiskit.chemistry import QiskitChemistry"
   ]
  }
 ],
 "metadata": {
  "kernelspec": {
   "display_name": "Python 3",
   "language": "python",
   "name": "python3"
  },
  "language_info": {
   "codemirror_mode": {
    "name": "ipython",
    "version": 3
   },
   "file_extension": ".py",
   "mimetype": "text/x-python",
   "name": "python",
   "nbconvert_exporter": "python",
   "pygments_lexer": "ipython3",
   "version": "3.9.6"
  }
 },
 "nbformat": 4,
 "nbformat_minor": 2
}
