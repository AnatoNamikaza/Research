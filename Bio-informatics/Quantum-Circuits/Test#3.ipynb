{
 "cells": [
  {
   "cell_type": "markdown",
   "metadata": {},
   "source": [
    "# Quantum Variational Eigensolver (VQE): \n",
    "\n",
    "VQE is a quantum algorithm used for solving problems in quantum chemistry, including drug discovery. It's used to find the ground state energy of a molecule, which is crucial for understanding its properties"
   ]
  },
  {
   "cell_type": "code",
   "execution_count": 2,
   "metadata": {},
   "outputs": [
    {
     "ename": "ModuleNotFoundError",
     "evalue": "No module named 'qiskit.util'",
     "output_type": "error",
     "traceback": [
      "\u001b[1;31m---------------------------------------------------------------------------\u001b[0m",
      "\u001b[1;31mModuleNotFoundError\u001b[0m                       Traceback (most recent call last)",
      "\u001b[1;32md:\\GitHub\\github\\Research\\Bio-informatics\\Quantum-Circuits\\Test#3.ipynb Cell 2\u001b[0m line \u001b[0;36m2\n\u001b[0;32m      <a href='vscode-notebook-cell:/d%3A/GitHub/github/Research/Bio-informatics/Quantum-Circuits/Test%233.ipynb#W0sZmlsZQ%3D%3D?line=0'>1</a>\u001b[0m \u001b[39mfrom\u001b[39;00m \u001b[39mqiskit\u001b[39;00m \u001b[39mimport\u001b[39;00m QuantumCircuit, Aer, execute\n\u001b[1;32m----> <a href='vscode-notebook-cell:/d%3A/GitHub/github/Research/Bio-informatics/Quantum-Circuits/Test%233.ipynb#W0sZmlsZQ%3D%3D?line=1'>2</a>\u001b[0m \u001b[39mfrom\u001b[39;00m \u001b[39mqiskit\u001b[39;00m\u001b[39m.\u001b[39;00m\u001b[39mchemistry\u001b[39;00m \u001b[39mimport\u001b[39;00m FermionicOperator\n\u001b[0;32m      <a href='vscode-notebook-cell:/d%3A/GitHub/github/Research/Bio-informatics/Quantum-Circuits/Test%233.ipynb#W0sZmlsZQ%3D%3D?line=2'>3</a>\u001b[0m \u001b[39mfrom\u001b[39;00m \u001b[39mqiskit\u001b[39;00m\u001b[39m.\u001b[39;00m\u001b[39mchemistry\u001b[39;00m\u001b[39m.\u001b[39;00m\u001b[39mdrivers\u001b[39;00m \u001b[39mimport\u001b[39;00m PySCFDriver\n\u001b[0;32m      <a href='vscode-notebook-cell:/d%3A/GitHub/github/Research/Bio-informatics/Quantum-Circuits/Test%233.ipynb#W0sZmlsZQ%3D%3D?line=3'>4</a>\u001b[0m \u001b[39mfrom\u001b[39;00m \u001b[39mqiskit\u001b[39;00m\u001b[39m.\u001b[39;00m\u001b[39mchemistry\u001b[39;00m \u001b[39mimport\u001b[39;00m QiskitChemistry\n",
      "File \u001b[1;32mc:\\Python39\\lib\\site-packages\\qiskit\\chemistry\\__init__.py:164\u001b[0m\n\u001b[0;32m    162\u001b[0m \u001b[39mfrom\u001b[39;00m \u001b[39m.\u001b[39;00m\u001b[39mqmolecule\u001b[39;00m \u001b[39mimport\u001b[39;00m QMolecule\n\u001b[0;32m    163\u001b[0m \u001b[39mfrom\u001b[39;00m \u001b[39m.\u001b[39;00m\u001b[39mwatson_hamiltonian\u001b[39;00m \u001b[39mimport\u001b[39;00m WatsonHamiltonian\n\u001b[1;32m--> 164\u001b[0m \u001b[39mfrom\u001b[39;00m \u001b[39m.\u001b[39;00m\u001b[39mbosonic_operator\u001b[39;00m \u001b[39mimport\u001b[39;00m BosonicOperator\n\u001b[0;32m    165\u001b[0m \u001b[39mfrom\u001b[39;00m \u001b[39m.\u001b[39;00m\u001b[39mfermionic_operator\u001b[39;00m \u001b[39mimport\u001b[39;00m FermionicOperator\n\u001b[0;32m    166\u001b[0m \u001b[39mfrom\u001b[39;00m \u001b[39m.\u001b[39;00m\u001b[39mmp2info\u001b[39;00m \u001b[39mimport\u001b[39;00m MP2Info\n",
      "File \u001b[1;32mc:\\Python39\\lib\\site-packages\\qiskit\\chemistry\\bosonic_operator.py:22\u001b[0m\n\u001b[0;32m     19\u001b[0m \u001b[39mimport\u001b[39;00m \u001b[39mnumpy\u001b[39;00m \u001b[39mas\u001b[39;00m \u001b[39mnp\u001b[39;00m\n\u001b[0;32m     21\u001b[0m \u001b[39mfrom\u001b[39;00m \u001b[39mqiskit\u001b[39;00m\u001b[39m.\u001b[39;00m\u001b[39mquantum_info\u001b[39;00m \u001b[39mimport\u001b[39;00m Pauli\n\u001b[1;32m---> 22\u001b[0m \u001b[39mfrom\u001b[39;00m \u001b[39mqiskit\u001b[39;00m\u001b[39m.\u001b[39;00m\u001b[39maqua\u001b[39;00m\u001b[39m.\u001b[39;00m\u001b[39moperators\u001b[39;00m \u001b[39mimport\u001b[39;00m WeightedPauliOperator\n\u001b[0;32m     24\u001b[0m logger \u001b[39m=\u001b[39m logging\u001b[39m.\u001b[39mgetLogger(\u001b[39m__name__\u001b[39m)\n\u001b[0;32m     27\u001b[0m \u001b[39mclass\u001b[39;00m \u001b[39mBosonicOperator\u001b[39;00m:\n",
      "File \u001b[1;32mc:\\Python39\\lib\\site-packages\\qiskit\\aqua\\__init__.py:75\u001b[0m\n\u001b[0;32m     73\u001b[0m \u001b[39mfrom\u001b[39;00m \u001b[39m.\u001b[39;00m\u001b[39maqua_error\u001b[39;00m \u001b[39mimport\u001b[39;00m AquaError\n\u001b[0;32m     74\u001b[0m \u001b[39mfrom\u001b[39;00m \u001b[39m.\u001b[39;00m\u001b[39mmissing_optional_library_error\u001b[39;00m \u001b[39mimport\u001b[39;00m MissingOptionalLibraryError\n\u001b[1;32m---> 75\u001b[0m \u001b[39mfrom\u001b[39;00m \u001b[39m.\u001b[39;00m\u001b[39maqua_globals\u001b[39;00m \u001b[39mimport\u001b[39;00m aqua_globals\n\u001b[0;32m     76\u001b[0m \u001b[39mfrom\u001b[39;00m \u001b[39m.\u001b[39;00m\u001b[39mquantum_instance\u001b[39;00m \u001b[39mimport\u001b[39;00m QuantumInstance\n\u001b[0;32m     77\u001b[0m \u001b[39mfrom\u001b[39;00m \u001b[39m.\u001b[39;00m\u001b[39malgorithms\u001b[39;00m \u001b[39mimport\u001b[39;00m QuantumAlgorithm\n",
      "File \u001b[1;32mc:\\Python39\\lib\\site-packages\\qiskit\\aqua\\aqua_globals.py:19\u001b[0m\n\u001b[0;32m     16\u001b[0m \u001b[39mimport\u001b[39;00m \u001b[39mlogging\u001b[39;00m\n\u001b[0;32m     18\u001b[0m \u001b[39mimport\u001b[39;00m \u001b[39mnumpy\u001b[39;00m \u001b[39mas\u001b[39;00m \u001b[39mnp\u001b[39;00m\n\u001b[1;32m---> 19\u001b[0m \u001b[39mfrom\u001b[39;00m \u001b[39mqiskit\u001b[39;00m\u001b[39m.\u001b[39;00m\u001b[39mutil\u001b[39;00m \u001b[39mimport\u001b[39;00m local_hardware_info\n\u001b[0;32m     20\u001b[0m \u001b[39mimport\u001b[39;00m \u001b[39mqiskit\u001b[39;00m\n\u001b[0;32m     22\u001b[0m \u001b[39mfrom\u001b[39;00m \u001b[39m.\u001b[39;00m\u001b[39maqua_error\u001b[39;00m \u001b[39mimport\u001b[39;00m AquaError\n",
      "\u001b[1;31mModuleNotFoundError\u001b[0m: No module named 'qiskit.util'"
     ]
    }
   ],
   "source": [
    "from qiskit import QuantumCircuit, Aer, execute\n",
    "from qiskit.chemistry import FermionicOperator\n",
    "from qiskit.chemistry.drivers import PySCFDriver\n",
    "from qiskit.chemistry import QiskitChemistry"
   ]
  },
  {
   "cell_type": "code",
   "execution_count": 3,
   "metadata": {},
   "outputs": [
    {
     "ename": "NameError",
     "evalue": "name 'PySCFDriver' is not defined",
     "output_type": "error",
     "traceback": [
      "\u001b[1;31m---------------------------------------------------------------------------\u001b[0m",
      "\u001b[1;31mNameError\u001b[0m                                 Traceback (most recent call last)",
      "\u001b[1;32md:\\GitHub\\github\\Research\\Bio-informatics\\Quantum-Circuits\\Test#3.ipynb Cell 3\u001b[0m line \u001b[0;36m3\n\u001b[0;32m      <a href='vscode-notebook-cell:/d%3A/GitHub/github/Research/Bio-informatics/Quantum-Circuits/Test%233.ipynb#W3sZmlsZQ%3D%3D?line=0'>1</a>\u001b[0m \u001b[39m# Define the molecule and driver\u001b[39;00m\n\u001b[0;32m      <a href='vscode-notebook-cell:/d%3A/GitHub/github/Research/Bio-informatics/Quantum-Circuits/Test%233.ipynb#W3sZmlsZQ%3D%3D?line=1'>2</a>\u001b[0m molecule \u001b[39m=\u001b[39m \u001b[39m'\u001b[39m\u001b[39mH .0 .0 .0; H .0 .0 0.7\u001b[39m\u001b[39m'\u001b[39m\n\u001b[1;32m----> <a href='vscode-notebook-cell:/d%3A/GitHub/github/Research/Bio-informatics/Quantum-Circuits/Test%233.ipynb#W3sZmlsZQ%3D%3D?line=2'>3</a>\u001b[0m driver \u001b[39m=\u001b[39m PySCFDriver(molecule)\n",
      "\u001b[1;31mNameError\u001b[0m: name 'PySCFDriver' is not defined"
     ]
    }
   ],
   "source": [
    "# Define the molecule and driver\n",
    "molecule = 'H .0 .0 .0; H .0 .0 0.7'\n",
    "driver = PySCFDriver(molecule)"
   ]
  },
  {
   "cell_type": "code",
   "execution_count": 4,
   "metadata": {},
   "outputs": [
    {
     "ename": "NameError",
     "evalue": "name 'FermionicOperator' is not defined",
     "output_type": "error",
     "traceback": [
      "\u001b[1;31m---------------------------------------------------------------------------\u001b[0m",
      "\u001b[1;31mNameError\u001b[0m                                 Traceback (most recent call last)",
      "\u001b[1;32md:\\GitHub\\github\\Research\\Bio-informatics\\Quantum-Circuits\\Test#3.ipynb Cell 4\u001b[0m line \u001b[0;36m2\n\u001b[0;32m      <a href='vscode-notebook-cell:/d%3A/GitHub/github/Research/Bio-informatics/Quantum-Circuits/Test%233.ipynb#W4sZmlsZQ%3D%3D?line=0'>1</a>\u001b[0m \u001b[39m# Create a FermionicOperator to map the molecule to qubits\u001b[39;00m\n\u001b[1;32m----> <a href='vscode-notebook-cell:/d%3A/GitHub/github/Research/Bio-informatics/Quantum-Circuits/Test%233.ipynb#W4sZmlsZQ%3D%3D?line=1'>2</a>\u001b[0m ferm_op \u001b[39m=\u001b[39m FermionicOperator(h1\u001b[39m=\u001b[39mdriver\u001b[39m.\u001b[39mone_body_integrals, h2\u001b[39m=\u001b[39mdriver\u001b[39m.\u001b[39mtwo_body_integrals)\n",
      "\u001b[1;31mNameError\u001b[0m: name 'FermionicOperator' is not defined"
     ]
    }
   ],
   "source": [
    "# Create a FermionicOperator to map the molecule to qubits\n",
    "ferm_op = FermionicOperator(h1=driver.one_body_integrals, h2=driver.two_body_integrals)"
   ]
  },
  {
   "cell_type": "code",
   "execution_count": 5,
   "metadata": {},
   "outputs": [
    {
     "ename": "MissingOptionalLibraryError",
     "evalue": "\"The 'qiskit-aer' library is required to use 'Aer provider'. You can install it with 'pip install qiskit-aer'.\"",
     "output_type": "error",
     "traceback": [
      "\u001b[1;31m---------------------------------------------------------------------------\u001b[0m",
      "\u001b[1;31mImportError\u001b[0m                               Traceback (most recent call last)",
      "File \u001b[1;32mc:\\Python39\\lib\\site-packages\\qiskit\\__init__.py:123\u001b[0m, in \u001b[0;36mAerWrapper.__getattr__\u001b[1;34m(self, attr)\u001b[0m\n\u001b[0;32m    122\u001b[0m \u001b[39mtry\u001b[39;00m:\n\u001b[1;32m--> 123\u001b[0m     \u001b[39mfrom\u001b[39;00m \u001b[39mqiskit\u001b[39;00m\u001b[39m.\u001b[39;00m\u001b[39mproviders\u001b[39;00m \u001b[39mimport\u001b[39;00m aer\n\u001b[0;32m    125\u001b[0m     \u001b[39mself\u001b[39m\u001b[39m.\u001b[39maer \u001b[39m=\u001b[39m aer\u001b[39m.\u001b[39mAer\n",
      "\u001b[1;31mImportError\u001b[0m: cannot import name 'aer' from 'qiskit.providers' (c:\\Python39\\lib\\site-packages\\qiskit\\providers\\__init__.py)",
      "\nThe above exception was the direct cause of the following exception:\n",
      "\u001b[1;31mMissingOptionalLibraryError\u001b[0m               Traceback (most recent call last)",
      "\u001b[1;32md:\\GitHub\\github\\Research\\Bio-informatics\\Quantum-Circuits\\Test#3.ipynb Cell 5\u001b[0m line \u001b[0;36m2\n\u001b[0;32m      <a href='vscode-notebook-cell:/d%3A/GitHub/github/Research/Bio-informatics/Quantum-Circuits/Test%233.ipynb#W5sZmlsZQ%3D%3D?line=0'>1</a>\u001b[0m \u001b[39m# Create a quantum circuit for VQE\u001b[39;00m\n\u001b[1;32m----> <a href='vscode-notebook-cell:/d%3A/GitHub/github/Research/Bio-informatics/Quantum-Circuits/Test%233.ipynb#W5sZmlsZQ%3D%3D?line=1'>2</a>\u001b[0m backend \u001b[39m=\u001b[39m Aer\u001b[39m.\u001b[39;49mget_backend(\u001b[39m'\u001b[39m\u001b[39mstatevector_simulator\u001b[39m\u001b[39m'\u001b[39m)\n\u001b[0;32m      <a href='vscode-notebook-cell:/d%3A/GitHub/github/Research/Bio-informatics/Quantum-Circuits/Test%233.ipynb#W5sZmlsZQ%3D%3D?line=2'>3</a>\u001b[0m quantum_instance \u001b[39m=\u001b[39m QuantumInstance(backend, shots\u001b[39m=\u001b[39m\u001b[39m1000\u001b[39m)\n\u001b[0;32m      <a href='vscode-notebook-cell:/d%3A/GitHub/github/Research/Bio-informatics/Quantum-Circuits/Test%233.ipynb#W5sZmlsZQ%3D%3D?line=3'>4</a>\u001b[0m vqe \u001b[39m=\u001b[39m VQE(quantum_instance)\n",
      "File \u001b[1;32mc:\\Python39\\lib\\site-packages\\qiskit\\__init__.py:134\u001b[0m, in \u001b[0;36mAerWrapper.__getattr__\u001b[1;34m(self, attr)\u001b[0m\n\u001b[0;32m    126\u001b[0m         warnings\u001b[39m.\u001b[39mwarn(\n\u001b[0;32m    127\u001b[0m             \u001b[39m\"\u001b[39m\u001b[39mThe qiskit.Aer entry point will be deprecated in a future release and \u001b[39m\u001b[39m\"\u001b[39m\n\u001b[0;32m    128\u001b[0m             \u001b[39m\"\u001b[39m\u001b[39msubsequently removed. Instead you should use this \u001b[39m\u001b[39m\"\u001b[39m\n\u001b[1;32m   (...)\u001b[0m\n\u001b[0;32m    131\u001b[0m             stacklevel\u001b[39m=\u001b[39m\u001b[39m2\u001b[39m,\n\u001b[0;32m    132\u001b[0m         )\n\u001b[0;32m    133\u001b[0m     \u001b[39mexcept\u001b[39;00m \u001b[39mImportError\u001b[39;00m \u001b[39mas\u001b[39;00m ex:\n\u001b[1;32m--> 134\u001b[0m         \u001b[39mraise\u001b[39;00m MissingOptionalLibraryError(\n\u001b[0;32m    135\u001b[0m             \u001b[39m\"\u001b[39m\u001b[39mqiskit-aer\u001b[39m\u001b[39m\"\u001b[39m, \u001b[39m\"\u001b[39m\u001b[39mAer provider\u001b[39m\u001b[39m\"\u001b[39m, \u001b[39m\"\u001b[39m\u001b[39mpip install qiskit-aer\u001b[39m\u001b[39m\"\u001b[39m\n\u001b[0;32m    136\u001b[0m         ) \u001b[39mfrom\u001b[39;00m \u001b[39mex\u001b[39;00m\n\u001b[0;32m    137\u001b[0m \u001b[39mreturn\u001b[39;00m \u001b[39mgetattr\u001b[39m(\u001b[39mself\u001b[39m\u001b[39m.\u001b[39maer, attr)\n",
      "\u001b[1;31mMissingOptionalLibraryError\u001b[0m: \"The 'qiskit-aer' library is required to use 'Aer provider'. You can install it with 'pip install qiskit-aer'.\""
     ]
    }
   ],
   "source": [
    "# Create a quantum circuit for VQE\n",
    "backend = Aer.get_backend('statevector_simulator')\n",
    "quantum_instance = QuantumInstance(backend, shots=1000)\n",
    "vqe = VQE(quantum_instance)"
   ]
  },
  {
   "cell_type": "code",
   "execution_count": null,
   "metadata": {},
   "outputs": [],
   "source": []
  }
 ],
 "metadata": {
  "kernelspec": {
   "display_name": "Python 3",
   "language": "python",
   "name": "python3"
  },
  "language_info": {
   "codemirror_mode": {
    "name": "ipython",
    "version": 3
   },
   "file_extension": ".py",
   "mimetype": "text/x-python",
   "name": "python",
   "nbconvert_exporter": "python",
   "pygments_lexer": "ipython3",
   "version": "3.9.6"
  }
 },
 "nbformat": 4,
 "nbformat_minor": 2
}
