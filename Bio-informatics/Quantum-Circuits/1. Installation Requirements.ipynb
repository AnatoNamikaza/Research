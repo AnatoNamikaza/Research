{
 "cells": [
  {
   "cell_type": "code",
   "execution_count": 1,
   "metadata": {},
   "outputs": [
    {
     "name": "stdout",
     "output_type": "stream",
     "text": [
      "Requirement already satisfied: pip in e:\\anaconda3\\lib\\site-packages (23.3.1)Note: you may need to restart the kernel to use updated packages.\n",
      "\n"
     ]
    }
   ],
   "source": [
    "pip install pip --upgrade"
   ]
  },
  {
   "cell_type": "code",
   "execution_count": 2,
   "metadata": {
    "colab": {
     "base_uri": "https://localhost:8080/"
    },
    "id": "69be351f",
    "outputId": "38624ca0-879e-4fae-820a-52e0b0201c46"
   },
   "outputs": [
    {
     "name": "stdout",
     "output_type": "stream",
     "text": [
      "Requirement already satisfied: qiskit in e:\\anaconda3\\lib\\site-packages (0.45.0)Note: you may need to restart the kernel to use updated packages.\n",
      "\n",
      "Requirement already satisfied: qiskit-terra==0.45.0 in e:\\anaconda3\\lib\\site-packages (from qiskit) (0.45.0)\n",
      "Requirement already satisfied: rustworkx>=0.13.0 in e:\\anaconda3\\lib\\site-packages (from qiskit-terra==0.45.0->qiskit) (0.13.2)\n",
      "Requirement already satisfied: numpy<2,>=1.17 in e:\\anaconda3\\lib\\site-packages (from qiskit-terra==0.45.0->qiskit) (1.23.5)\n",
      "Requirement already satisfied: ply>=3.10 in e:\\anaconda3\\lib\\site-packages (from qiskit-terra==0.45.0->qiskit) (3.11)\n",
      "Requirement already satisfied: psutil>=5 in e:\\anaconda3\\lib\\site-packages (from qiskit-terra==0.45.0->qiskit) (5.9.0)\n",
      "Requirement already satisfied: scipy>=1.5 in e:\\anaconda3\\lib\\site-packages (from qiskit-terra==0.45.0->qiskit) (1.11.1)\n",
      "Requirement already satisfied: sympy>=1.3 in e:\\anaconda3\\lib\\site-packages (from qiskit-terra==0.45.0->qiskit) (1.11.1)\n",
      "Requirement already satisfied: dill>=0.3 in e:\\anaconda3\\lib\\site-packages (from qiskit-terra==0.45.0->qiskit) (0.3.6)\n",
      "Requirement already satisfied: python-dateutil>=2.8.0 in e:\\anaconda3\\lib\\site-packages (from qiskit-terra==0.45.0->qiskit) (2.8.2)\n",
      "Requirement already satisfied: stevedore>=3.0.0 in e:\\anaconda3\\lib\\site-packages (from qiskit-terra==0.45.0->qiskit) (5.1.0)\n",
      "Requirement already satisfied: six>=1.5 in e:\\anaconda3\\lib\\site-packages (from python-dateutil>=2.8.0->qiskit-terra==0.45.0->qiskit) (1.16.0)\n",
      "Requirement already satisfied: pbr!=2.1.0,>=2.0.0 in e:\\anaconda3\\lib\\site-packages (from stevedore>=3.0.0->qiskit-terra==0.45.0->qiskit) (5.11.1)\n",
      "Requirement already satisfied: mpmath>=0.19 in e:\\anaconda3\\lib\\site-packages (from sympy>=1.3->qiskit-terra==0.45.0->qiskit) (1.3.0)\n"
     ]
    }
   ],
   "source": [
    "pip install qiskit"
   ]
  },
  {
   "cell_type": "code",
   "execution_count": 3,
   "metadata": {
    "colab": {
     "base_uri": "https://localhost:8080/"
    },
    "id": "8affe7b0",
    "outputId": "b04ddef3-dae9-4452-d7d2-fbbd44cf1372"
   },
   "outputs": [
    {
     "name": "stdout",
     "output_type": "stream",
     "text": [
      "Requirement already satisfied: qiskit-ibm-runtime in e:\\anaconda3\\lib\\site-packages (0.13.0)\n",
      "Requirement already satisfied: qiskit>=0.44.1 in e:\\anaconda3\\lib\\site-packages (from qiskit-ibm-runtime) (0.45.0)\n",
      "Requirement already satisfied: requests>=2.19 in e:\\anaconda3\\lib\\site-packages (from qiskit-ibm-runtime) (2.31.0)\n",
      "Requirement already satisfied: requests-ntlm>=1.1.0 in e:\\anaconda3\\lib\\site-packages (from qiskit-ibm-runtime) (1.1.0)\n",
      "Requirement already satisfied: numpy>=1.13 in e:\\anaconda3\\lib\\site-packages (from qiskit-ibm-runtime) (1.23.5)\n",
      "Requirement already satisfied: urllib3>=1.21.1 in e:\\anaconda3\\lib\\site-packages (from qiskit-ibm-runtime) (1.26.16)\n",
      "Requirement already satisfied: python-dateutil>=2.8.0 in e:\\anaconda3\\lib\\site-packages (from qiskit-ibm-runtime) (2.8.2)\n",
      "Requirement already satisfied: websocket-client>=1.5.1 in e:\\anaconda3\\lib\\site-packages (from qiskit-ibm-runtime) (1.6.4)\n",
      "Requirement already satisfied: ibm-platform-services>=0.22.6 in e:\\anaconda3\\lib\\site-packages (from qiskit-ibm-runtime) (0.45.0)\n",
      "Requirement already satisfied: qiskit-ibm-provider>=0.7.0 in e:\\anaconda3\\lib\\site-packages (from qiskit-ibm-runtime) (0.7.2)\n",
      "Requirement already satisfied: ibm-cloud-sdk-core<4.0.0,>=3.17.0 in e:\\anaconda3\\lib\\site-packages (from ibm-platform-services>=0.22.6->qiskit-ibm-runtime) (3.17.2)\n",
      "Requirement already satisfied: six>=1.5 in e:\\anaconda3\\lib\\site-packages (from python-dateutil>=2.8.0->qiskit-ibm-runtime) (1.16.0)\n",
      "Requirement already satisfied: qiskit-terra==0.45.0 in e:\\anaconda3\\lib\\site-packages (from qiskit>=0.44.1->qiskit-ibm-runtime) (0.45.0)\n",
      "Requirement already satisfied: rustworkx>=0.13.0 in e:\\anaconda3\\lib\\site-packages (from qiskit-terra==0.45.0->qiskit>=0.44.1->qiskit-ibm-runtime) (0.13.2)\n",
      "Requirement already satisfied: ply>=3.10 in e:\\anaconda3\\lib\\site-packages (from qiskit-terra==0.45.0->qiskit>=0.44.1->qiskit-ibm-runtime) (3.11)\n",
      "Requirement already satisfied: psutil>=5 in e:\\anaconda3\\lib\\site-packages (from qiskit-terra==0.45.0->qiskit>=0.44.1->qiskit-ibm-runtime) (5.9.0)\n",
      "Requirement already satisfied: scipy>=1.5 in e:\\anaconda3\\lib\\site-packages (from qiskit-terra==0.45.0->qiskit>=0.44.1->qiskit-ibm-runtime) (1.11.1)\n",
      "Requirement already satisfied: sympy>=1.3 in e:\\anaconda3\\lib\\site-packages (from qiskit-terra==0.45.0->qiskit>=0.44.1->qiskit-ibm-runtime) (1.11.1)\n",
      "Requirement already satisfied: dill>=0.3 in e:\\anaconda3\\lib\\site-packages (from qiskit-terra==0.45.0->qiskit>=0.44.1->qiskit-ibm-runtime) (0.3.6)\n",
      "Requirement already satisfied: stevedore>=3.0.0 in e:\\anaconda3\\lib\\site-packages (from qiskit-terra==0.45.0->qiskit>=0.44.1->qiskit-ibm-runtime) (5.1.0)\n",
      "Requirement already satisfied: websockets>=10.0 in e:\\anaconda3\\lib\\site-packages (from qiskit-ibm-provider>=0.7.0->qiskit-ibm-runtime) (12.0)\n",
      "Requirement already satisfied: typing-extensions>=4.3 in e:\\anaconda3\\lib\\site-packages (from qiskit-ibm-provider>=0.7.0->qiskit-ibm-runtime) (4.7.1)\n",
      "Requirement already satisfied: charset-normalizer<4,>=2 in e:\\anaconda3\\lib\\site-packages (from requests>=2.19->qiskit-ibm-runtime) (2.0.4)\n",
      "Requirement already satisfied: idna<4,>=2.5 in e:\\anaconda3\\lib\\site-packages (from requests>=2.19->qiskit-ibm-runtime) (3.4)\n",
      "Requirement already satisfied: certifi>=2017.4.17 in e:\\anaconda3\\lib\\site-packages (from requests>=2.19->qiskit-ibm-runtime) (2023.7.22)\n",
      "Requirement already satisfied: ntlm-auth>=1.0.2 in e:\\anaconda3\\lib\\site-packages (from requests-ntlm>=1.1.0->qiskit-ibm-runtime) (1.5.0)\n",
      "Requirement already satisfied: cryptography>=1.3 in e:\\anaconda3\\lib\\site-packages (from requests-ntlm>=1.1.0->qiskit-ibm-runtime) (41.0.3)\n",
      "Requirement already satisfied: cffi>=1.12 in e:\\anaconda3\\lib\\site-packages (from cryptography>=1.3->requests-ntlm>=1.1.0->qiskit-ibm-runtime) (1.15.1)\n",
      "Requirement already satisfied: PyJWT<3.0.0,>=2.8.0 in e:\\anaconda3\\lib\\site-packages (from ibm-cloud-sdk-core<4.0.0,>=3.17.0->ibm-platform-services>=0.22.6->qiskit-ibm-runtime) (2.8.0)\n",
      "Requirement already satisfied: pycparser in e:\\anaconda3\\lib\\site-packages (from cffi>=1.12->cryptography>=1.3->requests-ntlm>=1.1.0->qiskit-ibm-runtime) (2.21)\n",
      "Requirement already satisfied: pbr!=2.1.0,>=2.0.0 in e:\\anaconda3\\lib\\site-packages (from stevedore>=3.0.0->qiskit-terra==0.45.0->qiskit>=0.44.1->qiskit-ibm-runtime) (5.11.1)\n",
      "Requirement already satisfied: mpmath>=0.19 in e:\\anaconda3\\lib\\site-packages (from sympy>=1.3->qiskit-terra==0.45.0->qiskit>=0.44.1->qiskit-ibm-runtime) (1.3.0)\n",
      "Note: you may need to restart the kernel to use updated packages.\n"
     ]
    }
   ],
   "source": [
    "pip install qiskit-ibm-runtime"
   ]
  },
  {
   "cell_type": "code",
   "execution_count": 4,
   "metadata": {
    "colab": {
     "base_uri": "https://localhost:8080/"
    },
    "id": "63a4755c",
    "outputId": "b4d8e835-6c60-45bc-849d-b1d6cfeaafc4"
   },
   "outputs": [
    {
     "name": "stdout",
     "output_type": "stream",
     "text": [
      "Note: you may need to restart the kernel to use updated packages.\n"
     ]
    },
    {
     "name": "stderr",
     "output_type": "stream",
     "text": [
      "ERROR: Invalid requirement: \"'qiskit[visualization]'\"\n"
     ]
    }
   ],
   "source": [
    "pip install 'qiskit[visualization]'"
   ]
  },
  {
   "cell_type": "code",
   "execution_count": 5,
   "metadata": {
    "colab": {
     "base_uri": "https://localhost:8080/"
    },
    "id": "47c31145",
    "outputId": "2b39d89b-cb94-480a-b6e9-fc9bd7fc79e3"
   },
   "outputs": [
    {
     "name": "stdout",
     "output_type": "stream",
     "text": [
      "Requirement already satisfied: qiskit in e:\\anaconda3\\lib\\site-packages (0.45.0)\n",
      "Requirement already satisfied: qiskit-terra==0.45.0 in e:\\anaconda3\\lib\\site-packages (from qiskit) (0.45.0)\n",
      "Requirement already satisfied: rustworkx>=0.13.0 in e:\\anaconda3\\lib\\site-packages (from qiskit-terra==0.45.0->qiskit) (0.13.2)\n",
      "Requirement already satisfied: numpy<2,>=1.17 in e:\\anaconda3\\lib\\site-packages (from qiskit-terra==0.45.0->qiskit) (1.23.5)\n",
      "Requirement already satisfied: ply>=3.10 in e:\\anaconda3\\lib\\site-packages (from qiskit-terra==0.45.0->qiskit) (3.11)\n",
      "Requirement already satisfied: psutil>=5 in e:\\anaconda3\\lib\\site-packages (from qiskit-terra==0.45.0->qiskit) (5.9.0)\n",
      "Requirement already satisfied: scipy>=1.5 in e:\\anaconda3\\lib\\site-packages (from qiskit-terra==0.45.0->qiskit) (1.11.1)\n",
      "Requirement already satisfied: sympy>=1.3 in e:\\anaconda3\\lib\\site-packages (from qiskit-terra==0.45.0->qiskit) (1.11.1)\n",
      "Requirement already satisfied: dill>=0.3 in e:\\anaconda3\\lib\\site-packages (from qiskit-terra==0.45.0->qiskit) (0.3.6)\n",
      "Requirement already satisfied: python-dateutil>=2.8.0 in e:\\anaconda3\\lib\\site-packages (from qiskit-terra==0.45.0->qiskit) (2.8.2)\n",
      "Requirement already satisfied: stevedore>=3.0.0 in e:\\anaconda3\\lib\\site-packages (from qiskit-terra==0.45.0->qiskit) (5.1.0)\n",
      "Requirement already satisfied: six>=1.5 in e:\\anaconda3\\lib\\site-packages (from python-dateutil>=2.8.0->qiskit-terra==0.45.0->qiskit) (1.16.0)\n",
      "Requirement already satisfied: pbr!=2.1.0,>=2.0.0 in e:\\anaconda3\\lib\\site-packages (from stevedore>=3.0.0->qiskit-terra==0.45.0->qiskit) (5.11.1)\n",
      "Requirement already satisfied: mpmath>=0.19 in e:\\anaconda3\\lib\\site-packages (from sympy>=1.3->qiskit-terra==0.45.0->qiskit) (1.3.0)\n",
      "Note: you may need to restart the kernel to use updated packages.\n"
     ]
    }
   ],
   "source": [
    "pip install --upgrade qiskit"
   ]
  },
  {
   "cell_type": "code",
   "execution_count": 6,
   "metadata": {
    "colab": {
     "base_uri": "https://localhost:8080/"
    },
    "id": "Wb18A79CSkdg",
    "outputId": "c960265a-c771-41a4-8886-02a91873afed"
   },
   "outputs": [
    {
     "name": "stdout",
     "output_type": "stream",
     "text": [
      "Requirement already satisfied: numpy in e:\\anaconda3\\lib\\site-packages (1.23.5)\n",
      "Requirement already satisfied: scipy in e:\\anaconda3\\lib\\site-packages (1.11.1)\n",
      "Requirement already satisfied: qiskit in e:\\anaconda3\\lib\\site-packages (0.45.0)\n",
      "Requirement already satisfied: qiskit-terra==0.45.0 in e:\\anaconda3\\lib\\site-packages (from qiskit) (0.45.0)\n",
      "Requirement already satisfied: rustworkx>=0.13.0 in e:\\anaconda3\\lib\\site-packages (from qiskit-terra==0.45.0->qiskit) (0.13.2)\n",
      "Requirement already satisfied: ply>=3.10 in e:\\anaconda3\\lib\\site-packages (from qiskit-terra==0.45.0->qiskit) (3.11)\n",
      "Requirement already satisfied: psutil>=5 in e:\\anaconda3\\lib\\site-packages (from qiskit-terra==0.45.0->qiskit) (5.9.0)\n",
      "Requirement already satisfied: sympy>=1.3 in e:\\anaconda3\\lib\\site-packages (from qiskit-terra==0.45.0->qiskit) (1.11.1)\n",
      "Requirement already satisfied: dill>=0.3 in e:\\anaconda3\\lib\\site-packages (from qiskit-terra==0.45.0->qiskit) (0.3.6)\n",
      "Requirement already satisfied: python-dateutil>=2.8.0 in e:\\anaconda3\\lib\\site-packages (from qiskit-terra==0.45.0->qiskit) (2.8.2)\n",
      "Requirement already satisfied: stevedore>=3.0.0 in e:\\anaconda3\\lib\\site-packages (from qiskit-terra==0.45.0->qiskit) (5.1.0)\n",
      "Requirement already satisfied: six>=1.5 in e:\\anaconda3\\lib\\site-packages (from python-dateutil>=2.8.0->qiskit-terra==0.45.0->qiskit) (1.16.0)\n",
      "Requirement already satisfied: pbr!=2.1.0,>=2.0.0 in e:\\anaconda3\\lib\\site-packages (from stevedore>=3.0.0->qiskit-terra==0.45.0->qiskit) (5.11.1)\n",
      "Requirement already satisfied: mpmath>=0.19 in e:\\anaconda3\\lib\\site-packages (from sympy>=1.3->qiskit-terra==0.45.0->qiskit) (1.3.0)\n",
      "Note: you may need to restart the kernel to use updated packages.\n"
     ]
    }
   ],
   "source": [
    "pip install numpy scipy qiskit"
   ]
  },
  {
   "cell_type": "code",
   "execution_count": 7,
   "metadata": {
    "colab": {
     "base_uri": "https://localhost:8080/"
    },
    "id": "wmRsQJ1KTPNf",
    "outputId": "b30453ab-f22a-4bd1-8b11-5d22372ad586"
   },
   "outputs": [
    {
     "name": "stdout",
     "output_type": "stream",
     "text": [
      "Requirement already satisfied: qiskit-ibmq-provider in e:\\anaconda3\\lib\\site-packages (0.20.2)\n",
      "Requirement already satisfied: qiskit-terra>=0.18.0 in e:\\anaconda3\\lib\\site-packages (from qiskit-ibmq-provider) (0.45.0)\n",
      "Requirement already satisfied: requests>=2.19 in e:\\anaconda3\\lib\\site-packages (from qiskit-ibmq-provider) (2.31.0)\n",
      "Requirement already satisfied: requests-ntlm<=1.1.0 in e:\\anaconda3\\lib\\site-packages (from qiskit-ibmq-provider) (1.1.0)\n",
      "Requirement already satisfied: numpy<1.24 in e:\\anaconda3\\lib\\site-packages (from qiskit-ibmq-provider) (1.23.5)\n",
      "Requirement already satisfied: urllib3>=1.21.1 in e:\\anaconda3\\lib\\site-packages (from qiskit-ibmq-provider) (1.26.16)\n",
      "Requirement already satisfied: python-dateutil>=2.8.0 in e:\\anaconda3\\lib\\site-packages (from qiskit-ibmq-provider) (2.8.2)\n",
      "Requirement already satisfied: websocket-client>=1.5.1 in e:\\anaconda3\\lib\\site-packages (from qiskit-ibmq-provider) (1.6.4)\n",
      "Requirement already satisfied: websockets>=10.0 in e:\\anaconda3\\lib\\site-packages (from qiskit-ibmq-provider) (12.0)\n",
      "Requirement already satisfied: six>=1.5 in e:\\anaconda3\\lib\\site-packages (from python-dateutil>=2.8.0->qiskit-ibmq-provider) (1.16.0)\n",
      "Requirement already satisfied: rustworkx>=0.13.0 in e:\\anaconda3\\lib\\site-packages (from qiskit-terra>=0.18.0->qiskit-ibmq-provider) (0.13.2)\n",
      "Requirement already satisfied: ply>=3.10 in e:\\anaconda3\\lib\\site-packages (from qiskit-terra>=0.18.0->qiskit-ibmq-provider) (3.11)\n",
      "Requirement already satisfied: psutil>=5 in e:\\anaconda3\\lib\\site-packages (from qiskit-terra>=0.18.0->qiskit-ibmq-provider) (5.9.0)\n",
      "Requirement already satisfied: scipy>=1.5 in e:\\anaconda3\\lib\\site-packages (from qiskit-terra>=0.18.0->qiskit-ibmq-provider) (1.11.1)\n",
      "Requirement already satisfied: sympy>=1.3 in e:\\anaconda3\\lib\\site-packages (from qiskit-terra>=0.18.0->qiskit-ibmq-provider) (1.11.1)\n",
      "Requirement already satisfied: dill>=0.3 in e:\\anaconda3\\lib\\site-packages (from qiskit-terra>=0.18.0->qiskit-ibmq-provider) (0.3.6)\n",
      "Requirement already satisfied: stevedore>=3.0.0 in e:\\anaconda3\\lib\\site-packages (from qiskit-terra>=0.18.0->qiskit-ibmq-provider) (5.1.0)\n",
      "Requirement already satisfied: charset-normalizer<4,>=2 in e:\\anaconda3\\lib\\site-packages (from requests>=2.19->qiskit-ibmq-provider) (2.0.4)\n",
      "Requirement already satisfied: idna<4,>=2.5 in e:\\anaconda3\\lib\\site-packages (from requests>=2.19->qiskit-ibmq-provider) (3.4)\n",
      "Requirement already satisfied: certifi>=2017.4.17 in e:\\anaconda3\\lib\\site-packages (from requests>=2.19->qiskit-ibmq-provider) (2023.7.22)\n",
      "Requirement already satisfied: ntlm-auth>=1.0.2 in e:\\anaconda3\\lib\\site-packages (from requests-ntlm<=1.1.0->qiskit-ibmq-provider) (1.5.0)\n",
      "Requirement already satisfied: cryptography>=1.3 in e:\\anaconda3\\lib\\site-packages (from requests-ntlm<=1.1.0->qiskit-ibmq-provider) (41.0.3)\n",
      "Requirement already satisfied: cffi>=1.12 in e:\\anaconda3\\lib\\site-packages (from cryptography>=1.3->requests-ntlm<=1.1.0->qiskit-ibmq-provider) (1.15.1)\n",
      "Requirement already satisfied: pbr!=2.1.0,>=2.0.0 in e:\\anaconda3\\lib\\site-packages (from stevedore>=3.0.0->qiskit-terra>=0.18.0->qiskit-ibmq-provider) (5.11.1)\n",
      "Requirement already satisfied: mpmath>=0.19 in e:\\anaconda3\\lib\\site-packages (from sympy>=1.3->qiskit-terra>=0.18.0->qiskit-ibmq-provider) (1.3.0)\n",
      "Requirement already satisfied: pycparser in e:\\anaconda3\\lib\\site-packages (from cffi>=1.12->cryptography>=1.3->requests-ntlm<=1.1.0->qiskit-ibmq-provider) (2.21)\n",
      "Note: you may need to restart the kernel to use updated packages.\n"
     ]
    }
   ],
   "source": [
    "pip install qiskit-ibmq-provider"
   ]
  },
  {
   "cell_type": "code",
   "execution_count": 8,
   "metadata": {
    "colab": {
     "background_save": true,
     "base_uri": "https://localhost:8080/"
    },
    "id": "npTejVAxNM8z",
    "outputId": "dde8c3bd-5d7f-475d-cec6-811b0c476290"
   },
   "outputs": [
    {
     "name": "stdout",
     "output_type": "stream",
     "text": [
      "Collecting qiskit-aqua\n",
      "  Using cached qiskit_aqua-0.9.5-py3-none-any.whl (2.1 MB)\n",
      "Requirement already satisfied: qiskit-terra>=0.18.0 in e:\\anaconda3\\lib\\site-packages (from qiskit-aqua) (0.45.0)\n",
      "Collecting qiskit-ignis>=0.6.0 (from qiskit-aqua)\n",
      "  Using cached qiskit_ignis-0.7.1-py3-none-any.whl (198 kB)\n",
      "Requirement already satisfied: scipy>=1.4 in e:\\anaconda3\\lib\\site-packages (from qiskit-aqua) (1.11.1)\n",
      "Requirement already satisfied: sympy>=1.3 in e:\\anaconda3\\lib\\site-packages (from qiskit-aqua) (1.11.1)\n",
      "Requirement already satisfied: numpy>=1.17 in e:\\anaconda3\\lib\\site-packages (from qiskit-aqua) (1.23.5)\n",
      "Requirement already satisfied: psutil>=5 in e:\\anaconda3\\lib\\site-packages (from qiskit-aqua) (5.9.0)\n",
      "Requirement already satisfied: scikit-learn>=0.20.0 in e:\\anaconda3\\lib\\site-packages (from qiskit-aqua) (1.3.0)\n",
      "Collecting dlx<=1.0.4 (from qiskit-aqua)\n",
      "  Using cached dlx-1.0.4.tar.gz (5.5 kB)\n",
      "  Preparing metadata (setup.py): started\n",
      "  Preparing metadata (setup.py): finished with status 'done'\n",
      "Collecting docplex>=2.21.207 (from qiskit-aqua)\n",
      "  Using cached docplex-2.25.236.tar.gz (633 kB)\n",
      "  Preparing metadata (setup.py): started\n",
      "  Preparing metadata (setup.py): finished with status 'done'\n",
      "Collecting fastdtw<=0.3.4 (from qiskit-aqua)\n",
      "  Using cached fastdtw-0.3.4.tar.gz (133 kB)\n",
      "  Preparing metadata (setup.py): started\n",
      "  Preparing metadata (setup.py): finished with status 'done'\n",
      "Requirement already satisfied: setuptools>=40.1.0 in e:\\anaconda3\\lib\\site-packages (from qiskit-aqua) (68.0.0)\n",
      "Collecting h5py<3.3.0 (from qiskit-aqua)\n",
      "  Using cached h5py-3.2.1.tar.gz (368 kB)\n",
      "  Installing build dependencies: started\n",
      "  Installing build dependencies: finished with status 'done'\n",
      "  Getting requirements to build wheel: started\n",
      "  Getting requirements to build wheel: finished with status 'done'\n",
      "  Installing backend dependencies: started\n",
      "  Installing backend dependencies: finished with status 'error'\n",
      "Note: you may need to restart the kernel to use updated packages.\n"
     ]
    },
    {
     "name": "stderr",
     "output_type": "stream",
     "text": [
      "  error: subprocess-exited-with-error\n",
      "  \n",
      "  pip subprocess to install backend dependencies did not run successfully.\n",
      "  exit code: 1\n",
      "  \n",
      "  [227 lines of output]\n",
      "  Collecting numpy==1.19.3\n",
      "    Using cached numpy-1.19.3.zip (7.3 MB)\n",
      "    Installing build dependencies: started\n",
      "    Installing build dependencies: finished with status 'done'\n",
      "    Getting requirements to build wheel: started\n",
      "    Getting requirements to build wheel: finished with status 'done'\n",
      "    Preparing metadata (pyproject.toml): started\n",
      "    Preparing metadata (pyproject.toml): finished with status 'error'\n",
      "    error: subprocess-exited-with-error\n",
      "  \n",
      "    Preparing metadata (pyproject.toml) did not run successfully.\n",
      "    exit code: 1\n",
      "  \n",
      "    [202 lines of output]\n",
      "    setup.py:67: RuntimeWarning: NumPy 1.19.3 may not yet support Python 3.11.\n",
      "      warnings.warn(\n",
      "    Running from numpy source directory.\n",
      "    setup.py:480: UserWarning: Unrecognized setuptools command, proceeding with generating Cython sources and expanding templates\n",
      "      run_build = parse_setuppy_commands()\n",
      "    Processing numpy/random\\_bounded_integers.pxd.in\n",
      "    Processing numpy/random\\bit_generator.pyx\n",
      "    Processing numpy/random\\mtrand.pyx\n",
      "    Processing numpy/random\\_bounded_integers.pyx.in\n",
      "    Processing numpy/random\\_common.pyx\n",
      "    Processing numpy/random\\_generator.pyx\n",
      "    Processing numpy/random\\_mt19937.pyx\n",
      "    Processing numpy/random\\_pcg64.pyx\n",
      "    Processing numpy/random\\_philox.pyx\n",
      "    Processing numpy/random\\_sfc64.pyx\n",
      "    Cythonizing sources\n",
      "    blas_opt_info:\n",
      "    blas_mkl_info:\n",
      "    No module named 'numpy.distutils._msvccompiler' in numpy.distutils; trying from distutils\n",
      "    customize MSVCCompiler\n",
      "      libraries mkl_rt not found in ['E:\\\\anaconda3\\\\lib', 'C:\\\\', 'E:\\\\anaconda3\\\\libs']\n",
      "      NOT AVAILABLE\n",
      "  \n",
      "    blis_info:\n",
      "      libraries blis not found in ['E:\\\\anaconda3\\\\lib', 'C:\\\\', 'E:\\\\anaconda3\\\\libs']\n",
      "      NOT AVAILABLE\n",
      "  \n",
      "    openblas_info:\n",
      "      libraries openblas not found in ['E:\\\\anaconda3\\\\lib', 'C:\\\\', 'E:\\\\anaconda3\\\\libs']\n",
      "    get_default_fcompiler: matching types: '['gnu', 'intelv', 'absoft', 'compaqv', 'intelev', 'gnu95', 'g95', 'intelvem', 'intelem', 'flang']'\n",
      "    customize GnuFCompiler\n",
      "    Could not locate executable g77\n",
      "    Could not locate executable f77\n",
      "    customize IntelVisualFCompiler\n",
      "    Could not locate executable ifort\n",
      "    Could not locate executable ifl\n",
      "    customize AbsoftFCompiler\n",
      "    Could not locate executable f90\n",
      "    customize CompaqVisualFCompiler\n",
      "    Could not locate executable DF\n",
      "    customize IntelItaniumVisualFCompiler\n",
      "    Could not locate executable efl\n",
      "    customize Gnu95FCompiler\n",
      "    Could not locate executable gfortran\n",
      "    Could not locate executable f95\n",
      "    customize G95FCompiler\n",
      "    Could not locate executable g95\n",
      "    customize IntelEM64VisualFCompiler\n",
      "    customize IntelEM64TFCompiler\n",
      "    Could not locate executable efort\n",
      "    Could not locate executable efc\n",
      "    customize PGroupFlangCompiler\n",
      "    Could not locate executable flang\n",
      "    don't know how to compile Fortran code on platform 'nt'\n",
      "      NOT AVAILABLE\n",
      "  \n",
      "    atlas_3_10_blas_threads_info:\n",
      "    Setting PTATLAS=ATLAS\n",
      "      libraries tatlas not found in ['E:\\\\anaconda3\\\\lib', 'C:\\\\', 'E:\\\\anaconda3\\\\libs']\n",
      "      NOT AVAILABLE\n",
      "  \n",
      "    atlas_3_10_blas_info:\n",
      "      libraries satlas not found in ['E:\\\\anaconda3\\\\lib', 'C:\\\\', 'E:\\\\anaconda3\\\\libs']\n",
      "      NOT AVAILABLE\n",
      "  \n",
      "    atlas_blas_threads_info:\n",
      "    Setting PTATLAS=ATLAS\n",
      "      libraries ptf77blas,ptcblas,atlas not found in ['E:\\\\anaconda3\\\\lib', 'C:\\\\', 'E:\\\\anaconda3\\\\libs']\n",
      "      NOT AVAILABLE\n",
      "  \n",
      "    atlas_blas_info:\n",
      "      libraries f77blas,cblas,atlas not found in ['E:\\\\anaconda3\\\\lib', 'C:\\\\', 'E:\\\\anaconda3\\\\libs']\n",
      "      NOT AVAILABLE\n",
      "  \n",
      "    accelerate_info:\n",
      "      NOT AVAILABLE\n",
      "  \n",
      "    C:\\Users\\darkn\\AppData\\Local\\Temp\\pip-install-udcwxbzj\\numpy_50a8d6158c164b15b7c338015e2d1c63\\numpy\\distutils\\system_info.py:1914: UserWarning:\n",
      "        Optimized (vendor) Blas libraries are not found.\n",
      "        Falls back to netlib Blas library which has worse performance.\n",
      "        A better performance should be easily gained by switching\n",
      "        Blas library.\n",
      "      if self._calc_info(blas):\n",
      "    blas_info:\n",
      "      libraries blas not found in ['E:\\\\anaconda3\\\\lib', 'C:\\\\', 'E:\\\\anaconda3\\\\libs']\n",
      "      NOT AVAILABLE\n",
      "  \n",
      "    C:\\Users\\darkn\\AppData\\Local\\Temp\\pip-install-udcwxbzj\\numpy_50a8d6158c164b15b7c338015e2d1c63\\numpy\\distutils\\system_info.py:1914: UserWarning:\n",
      "        Blas (http://www.netlib.org/blas/) libraries not found.\n",
      "        Directories to search for the libraries can be specified in the\n",
      "        numpy/distutils/site.cfg file (section [blas]) or by setting\n",
      "        the BLAS environment variable.\n",
      "      if self._calc_info(blas):\n",
      "    blas_src_info:\n",
      "      NOT AVAILABLE\n",
      "  \n",
      "    C:\\Users\\darkn\\AppData\\Local\\Temp\\pip-install-udcwxbzj\\numpy_50a8d6158c164b15b7c338015e2d1c63\\numpy\\distutils\\system_info.py:1914: UserWarning:\n",
      "        Blas (http://www.netlib.org/blas/) sources not found.\n",
      "        Directories to search for the sources can be specified in the\n",
      "        numpy/distutils/site.cfg file (section [blas_src]) or by setting\n",
      "        the BLAS_SRC environment variable.\n",
      "      if self._calc_info(blas):\n",
      "      NOT AVAILABLE\n",
      "  \n",
      "    non-existing path in 'numpy\\\\distutils': 'site.cfg'\n",
      "    lapack_opt_info:\n",
      "    lapack_mkl_info:\n",
      "      libraries mkl_rt not found in ['E:\\\\anaconda3\\\\lib', 'C:\\\\', 'E:\\\\anaconda3\\\\libs']\n",
      "      NOT AVAILABLE\n",
      "  \n",
      "    openblas_lapack_info:\n",
      "      libraries openblas not found in ['E:\\\\anaconda3\\\\lib', 'C:\\\\', 'E:\\\\anaconda3\\\\libs']\n",
      "      NOT AVAILABLE\n",
      "  \n",
      "    openblas_clapack_info:\n",
      "      libraries openblas,lapack not found in ['E:\\\\anaconda3\\\\lib', 'C:\\\\', 'E:\\\\anaconda3\\\\libs']\n",
      "      NOT AVAILABLE\n",
      "  \n",
      "    flame_info:\n",
      "      libraries flame not found in ['E:\\\\anaconda3\\\\lib', 'C:\\\\', 'E:\\\\anaconda3\\\\libs']\n",
      "      NOT AVAILABLE\n",
      "  \n",
      "    atlas_3_10_threads_info:\n",
      "    Setting PTATLAS=ATLAS\n",
      "      libraries lapack_atlas not found in E:\\anaconda3\\lib\n",
      "      libraries tatlas,tatlas not found in E:\\anaconda3\\lib\n",
      "      libraries lapack_atlas not found in C:\\\n",
      "      libraries tatlas,tatlas not found in C:\\\n",
      "      libraries lapack_atlas not found in E:\\anaconda3\\libs\n",
      "      libraries tatlas,tatlas not found in E:\\anaconda3\\libs\n",
      "    <class 'numpy.distutils.system_info.atlas_3_10_threads_info'>\n",
      "      NOT AVAILABLE\n",
      "  \n",
      "    atlas_3_10_info:\n",
      "      libraries lapack_atlas not found in E:\\anaconda3\\lib\n",
      "      libraries satlas,satlas not found in E:\\anaconda3\\lib\n",
      "      libraries lapack_atlas not found in C:\\\n",
      "      libraries satlas,satlas not found in C:\\\n",
      "      libraries lapack_atlas not found in E:\\anaconda3\\libs\n",
      "      libraries satlas,satlas not found in E:\\anaconda3\\libs\n",
      "    <class 'numpy.distutils.system_info.atlas_3_10_info'>\n",
      "      NOT AVAILABLE\n",
      "  \n",
      "    atlas_threads_info:\n",
      "    Setting PTATLAS=ATLAS\n",
      "      libraries lapack_atlas not found in E:\\anaconda3\\lib\n",
      "      libraries ptf77blas,ptcblas,atlas not found in E:\\anaconda3\\lib\n",
      "      libraries lapack_atlas not found in C:\\\n",
      "      libraries ptf77blas,ptcblas,atlas not found in C:\\\n",
      "      libraries lapack_atlas not found in E:\\anaconda3\\libs\n",
      "      libraries ptf77blas,ptcblas,atlas not found in E:\\anaconda3\\libs\n",
      "    <class 'numpy.distutils.system_info.atlas_threads_info'>\n",
      "      NOT AVAILABLE\n",
      "  \n",
      "    atlas_info:\n",
      "      libraries lapack_atlas not found in E:\\anaconda3\\lib\n",
      "      libraries f77blas,cblas,atlas not found in E:\\anaconda3\\lib\n",
      "      libraries lapack_atlas not found in C:\\\n",
      "      libraries f77blas,cblas,atlas not found in C:\\\n",
      "      libraries lapack_atlas not found in E:\\anaconda3\\libs\n",
      "      libraries f77blas,cblas,atlas not found in E:\\anaconda3\\libs\n",
      "    <class 'numpy.distutils.system_info.atlas_info'>\n",
      "      NOT AVAILABLE\n",
      "  \n",
      "    lapack_info:\n",
      "      libraries lapack not found in ['E:\\\\anaconda3\\\\lib', 'C:\\\\', 'E:\\\\anaconda3\\\\libs']\n",
      "      NOT AVAILABLE\n",
      "  \n",
      "    C:\\Users\\darkn\\AppData\\Local\\Temp\\pip-install-udcwxbzj\\numpy_50a8d6158c164b15b7c338015e2d1c63\\numpy\\distutils\\system_info.py:1748: UserWarning:\n",
      "        Lapack (http://www.netlib.org/lapack/) libraries not found.\n",
      "        Directories to search for the libraries can be specified in the\n",
      "        numpy/distutils/site.cfg file (section [lapack]) or by setting\n",
      "        the LAPACK environment variable.\n",
      "      return getattr(self, '_calc_info_{}'.format(name))()\n",
      "    lapack_src_info:\n",
      "      NOT AVAILABLE\n",
      "  \n",
      "    C:\\Users\\darkn\\AppData\\Local\\Temp\\pip-install-udcwxbzj\\numpy_50a8d6158c164b15b7c338015e2d1c63\\numpy\\distutils\\system_info.py:1748: UserWarning:\n",
      "        Lapack (http://www.netlib.org/lapack/) sources not found.\n",
      "        Directories to search for the sources can be specified in the\n",
      "        numpy/distutils/site.cfg file (section [lapack_src]) or by setting\n",
      "        the LAPACK_SRC environment variable.\n",
      "      return getattr(self, '_calc_info_{}'.format(name))()\n",
      "      NOT AVAILABLE\n",
      "  \n",
      "    numpy_linalg_lapack_lite:\n",
      "      FOUND:\n",
      "        language = c\n",
      "        define_macros = [('HAVE_BLAS_ILP64', None), ('BLAS_SYMBOL_SUFFIX', '64_')]\n",
      "  \n",
      "    C:\\Users\\darkn\\AppData\\Local\\Temp\\pip-build-env-26eyma6c\\overlay\\Lib\\site-packages\\setuptools\\_distutils\\dist.py:275: UserWarning: Unknown distribution option: 'define_macros'\n",
      "      warnings.warn(msg)\n",
      "    running dist_info\n",
      "    running build_src\n",
      "    build_src\n",
      "    building py_modules sources\n",
      "    creating build\n",
      "    creating build\\src.win-amd64-3.11\n",
      "    creating build\\src.win-amd64-3.11\\numpy\n",
      "    creating build\\src.win-amd64-3.11\\numpy\\distutils\n",
      "    building library \"npymath\" sources\n",
      "    error: Microsoft Visual C++ 14.0 is required. Get it with \"Build Tools for Visual Studio\": https://visualstudio.microsoft.com/downloads/\n",
      "    [end of output]\n",
      "  \n",
      "    note: This error originates from a subprocess, and is likely not a problem with pip.\n",
      "  error: metadata-generation-failed\n",
      "  \n",
      "  Encountered error while generating package metadata.\n",
      "  \n",
      "  See above for output.\n",
      "  \n",
      "  note: This is an issue with the package mentioned above, not pip.\n",
      "  hint: See above for details.\n",
      "  [end of output]\n",
      "  \n",
      "  note: This error originates from a subprocess, and is likely not a problem with pip.\n",
      "error: subprocess-exited-with-error\n",
      "\n",
      "pip subprocess to install backend dependencies did not run successfully.\n",
      "exit code: 1\n",
      "\n",
      "See above for output.\n",
      "\n",
      "note: This error originates from a subprocess, and is likely not a problem with pip.\n"
     ]
    }
   ],
   "source": [
    "pip install qiskit-aqua"
   ]
  },
  {
   "cell_type": "code",
   "execution_count": 9,
   "metadata": {},
   "outputs": [
    {
     "name": "stdout",
     "output_type": "stream",
     "text": [
      "Requirement already satisfied: pylatexenc in e:\\anaconda3\\lib\\site-packages (2.10)\n",
      "Note: you may need to restart the kernel to use updated packages.\n"
     ]
    }
   ],
   "source": [
    "pip install pylatexenc"
   ]
  },
  {
   "cell_type": "code",
   "execution_count": 10,
   "metadata": {
    "id": "e1060045"
   },
   "outputs": [],
   "source": [
    "import qiskit"
   ]
  },
  {
   "cell_type": "code",
   "execution_count": 11,
   "metadata": {
    "colab": {
     "base_uri": "https://localhost:8080/"
    },
    "id": "420801bf",
    "outputId": "5ddf8fc1-d1c4-41d0-f4c8-f6db35c897a8"
   },
   "outputs": [
    {
     "data": {
      "text/plain": [
       "{'qiskit': '0.45.0', 'qiskit-aer': '0.13.0', 'qiskit-ignis': None, 'qiskit-ibmq-provider': '0.20.2', 'qiskit-nature': None, 'qiskit-finance': None, 'qiskit-optimization': None, 'qiskit-machine-learning': None}"
      ]
     },
     "execution_count": 11,
     "metadata": {},
     "output_type": "execute_result"
    }
   ],
   "source": [
    "#check the qiskit version\n",
    "qiskit.__qiskit_version__"
   ]
  },
  {
   "cell_type": "code",
   "execution_count": 12,
   "metadata": {},
   "outputs": [
    {
     "name": "stdout",
     "output_type": "stream",
     "text": [
      "Requirement already satisfied: qiskit-aer in e:\\anaconda3\\lib\\site-packages (0.13.0)\n",
      "Requirement already satisfied: qiskit>=0.44.0 in e:\\anaconda3\\lib\\site-packages (from qiskit-aer) (0.45.0)\n",
      "Requirement already satisfied: numpy>=1.16.3 in e:\\anaconda3\\lib\\site-packages (from qiskit-aer) (1.23.5)\n",
      "Requirement already satisfied: scipy>=1.0 in e:\\anaconda3\\lib\\site-packages (from qiskit-aer) (1.11.1)\n",
      "Requirement already satisfied: qiskit-terra==0.45.0 in e:\\anaconda3\\lib\\site-packages (from qiskit>=0.44.0->qiskit-aer) (0.45.0)\n",
      "Requirement already satisfied: rustworkx>=0.13.0 in e:\\anaconda3\\lib\\site-packages (from qiskit-terra==0.45.0->qiskit>=0.44.0->qiskit-aer) (0.13.2)\n",
      "Requirement already satisfied: ply>=3.10 in e:\\anaconda3\\lib\\site-packages (from qiskit-terra==0.45.0->qiskit>=0.44.0->qiskit-aer) (3.11)\n",
      "Requirement already satisfied: psutil>=5 in e:\\anaconda3\\lib\\site-packages (from qiskit-terra==0.45.0->qiskit>=0.44.0->qiskit-aer) (5.9.0)\n",
      "Requirement already satisfied: sympy>=1.3 in e:\\anaconda3\\lib\\site-packages (from qiskit-terra==0.45.0->qiskit>=0.44.0->qiskit-aer) (1.11.1)\n",
      "Requirement already satisfied: dill>=0.3 in e:\\anaconda3\\lib\\site-packages (from qiskit-terra==0.45.0->qiskit>=0.44.0->qiskit-aer) (0.3.6)\n",
      "Requirement already satisfied: python-dateutil>=2.8.0 in e:\\anaconda3\\lib\\site-packages (from qiskit-terra==0.45.0->qiskit>=0.44.0->qiskit-aer) (2.8.2)\n",
      "Requirement already satisfied: stevedore>=3.0.0 in e:\\anaconda3\\lib\\site-packages (from qiskit-terra==0.45.0->qiskit>=0.44.0->qiskit-aer) (5.1.0)\n",
      "Requirement already satisfied: six>=1.5 in e:\\anaconda3\\lib\\site-packages (from python-dateutil>=2.8.0->qiskit-terra==0.45.0->qiskit>=0.44.0->qiskit-aer) (1.16.0)\n",
      "Requirement already satisfied: pbr!=2.1.0,>=2.0.0 in e:\\anaconda3\\lib\\site-packages (from stevedore>=3.0.0->qiskit-terra==0.45.0->qiskit>=0.44.0->qiskit-aer) (5.11.1)\n",
      "Requirement already satisfied: mpmath>=0.19 in e:\\anaconda3\\lib\\site-packages (from sympy>=1.3->qiskit-terra==0.45.0->qiskit>=0.44.0->qiskit-aer) (1.3.0)\n",
      "Note: you may need to restart the kernel to use updated packages.\n"
     ]
    }
   ],
   "source": [
    "pip install qiskit-aer"
   ]
  }
 ],
 "metadata": {
  "colab": {
   "provenance": []
  },
  "kernelspec": {
   "display_name": "Python 3 (ipykernel)",
   "language": "python",
   "name": "python3"
  },
  "language_info": {
   "codemirror_mode": {
    "name": "ipython",
    "version": 3
   },
   "file_extension": ".py",
   "mimetype": "text/x-python",
   "name": "python",
   "nbconvert_exporter": "python",
   "pygments_lexer": "ipython3",
   "version": "3.11.5"
  }
 },
 "nbformat": 4,
 "nbformat_minor": 1
}
