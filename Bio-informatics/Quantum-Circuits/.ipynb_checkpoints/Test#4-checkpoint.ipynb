{
 "cells": [
  {
   "cell_type": "markdown",
   "id": "d9957195",
   "metadata": {},
   "source": [
    "# Differential Equations  \n",
    "a simplified Quantum Phase Estimation (QPE) implementation using Qiskit, a quantum computing library.\n",
    "The goal is to solve a simple differential equation, dy/dx = x, as a basic illustration"
   ]
  },
  {
   "cell_type": "code",
   "execution_count": null,
   "id": "e07e9b76",
   "metadata": {},
   "outputs": [],
   "source": [
    "from qiskit import QuantumCircuit, Aer, execute\n",
    "import numpy as np"
   ]
  },
  {
   "cell_type": "code",
   "execution_count": null,
   "id": "7a313823",
   "metadata": {},
   "outputs": [],
   "source": [
    "# Define the parameters for the quantum circuit\n",
    "n_qubits = 4  # Number of qubits for QPE\n",
    "n_count = 3  # Number of counting qubits (controls precision)\n",
    "theta = np.pi / 4.0  # Parameter for the differential equation (dy/dx = theta * x)"
   ]
  },
  {
   "cell_type": "code",
   "execution_count": null,
   "id": "ba3a530d",
   "metadata": {},
   "outputs": [],
   "source": [
    "# Create the quantum circuit\n",
    "qc = QuantumCircuit(n_qubits + n_count, n_count)"
   ]
  },
  {
   "cell_type": "code",
   "execution_count": null,
   "id": "93df4ed1",
   "metadata": {},
   "outputs": [],
   "source": [
    "# Apply the unitary operator corresponding to the differential equation\n",
    "for qubit in range(n_qubits):\n",
    "    qc.h(qubit)  # Apply Hadamard gate to create superposition\n",
    "    for rep in range(2 ** qubit):  # Repeat the unitary operator (2^qubit times)\n",
    "        qc.u1(theta, qubit)  # Apply U1 gate corresponding to the differential equation"
   ]
  },
  {
   "cell_type": "code",
   "execution_count": null,
   "id": "66323433",
   "metadata": {},
   "outputs": [],
   "source": [
    "# Apply QPE\n",
    "for qubit in range(n_qubits):\n",
    "    qc.cu1(1.0, qubit, n_qubits)  # Controlled-U1 gate for QPE"
   ]
  },
  {
   "cell_type": "code",
   "execution_count": null,
   "id": "13a4e95b",
   "metadata": {},
   "outputs": [],
   "source": [
    "# Inverse QFT\n",
    "for j in range(n_count):\n",
    "    for qubit in range(j):\n",
    "        qc.cu1(-np.pi / float(2 ** (j - qubit)), qubit, j)"
   ]
  },
  {
   "cell_type": "code",
   "execution_count": null,
   "id": "05475092",
   "metadata": {},
   "outputs": [],
   "source": [
    "# Measure the counting qubits\n",
    "qc.measure(range(n_count), range(n_count))"
   ]
  },
  {
   "cell_type": "code",
   "execution_count": null,
   "id": "5e8af2c6",
   "metadata": {},
   "outputs": [],
   "source": [
    "# Simulate the quantum circuit\n",
    "backend = Aer.get_backend('qasm_simulator')\n",
    "job = execute(qc, backend, shots=1024)\n",
    "result = job.result()\n",
    "counts = result.get_counts()"
   ]
  },
  {
   "cell_type": "code",
   "execution_count": null,
   "id": "b2370067",
   "metadata": {},
   "outputs": [],
   "source": [
    "# Post-process the results to estimate the solution\n",
    "eigenvalues = [int(k, 2) / (2 ** n_count) for k in counts.keys()]\n",
    "solutions = [ev * 2 * np.pi / theta for ev in eigenvalues]"
   ]
  },
  {
   "cell_type": "code",
   "execution_count": null,
   "id": "8481ab38",
   "metadata": {},
   "outputs": [],
   "source": [
    "# Output the results\n",
    "print(\"Eigenvalues (binary):\", counts)\n",
    "print(\"Eigenvalues (decimal):\", eigenvalues)\n",
    "print(\"Solutions:\", solutions)"
   ]
  }
 ],
 "metadata": {
  "kernelspec": {
   "display_name": "Python 3 (ipykernel)",
   "language": "python",
   "name": "python3"
  },
  "language_info": {
   "codemirror_mode": {
    "name": "ipython",
    "version": 3
   },
   "file_extension": ".py",
   "mimetype": "text/x-python",
   "name": "python",
   "nbconvert_exporter": "python",
   "pygments_lexer": "ipython3",
   "version": "3.11.5"
  }
 },
 "nbformat": 4,
 "nbformat_minor": 5
}
