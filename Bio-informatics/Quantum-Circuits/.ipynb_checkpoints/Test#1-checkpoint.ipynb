{
 "cells": [
  {
   "cell_type": "code",
   "execution_count": 11,
   "id": "4f7bd40a",
   "metadata": {},
   "outputs": [],
   "source": [
    "from qiskit import QuantumCircuit, Aer, execute"
   ]
  },
  {
   "cell_type": "code",
   "execution_count": 12,
   "id": "fcfd1d22",
   "metadata": {},
   "outputs": [],
   "source": [
    "# Define the target pattern and the input string\n",
    "pattern = \"101\"\n",
    "input_string = \"11011010101101101\""
   ]
  },
  {
   "cell_type": "code",
   "execution_count": 13,
   "id": "79512049",
   "metadata": {},
   "outputs": [],
   "source": [
    "# Create a quantum circuit with n qubits, where n is the length of the pattern\n",
    "n = len(pattern)\n",
    "qc = QuantumCircuit(n, n)"
   ]
  },
  {
   "cell_type": "code",
   "execution_count": 14,
   "id": "e71dfba1",
   "metadata": {},
   "outputs": [],
   "source": [
    "# Apply quantum gates to implement the pattern detection\n",
    "for i, bit in enumerate(pattern):\n",
    "    if bit == \"1\":\n",
    "        qc.x(i)  # Apply a NOT gate for each '1' in the pattern"
   ]
  },
  {
   "cell_type": "code",
   "execution_count": 15,
   "id": "f69c33f9",
   "metadata": {},
   "outputs": [],
   "source": [
    "# Measure all qubits\n",
    "for i in range(n):\n",
    "    qc.measure(i, i)"
   ]
  },
  {
   "cell_type": "code",
   "execution_count": 16,
   "id": "edcf639a",
   "metadata": {},
   "outputs": [],
   "source": [
    "# Use the Aer simulator to run the quantum circuit\n",
    "simulator = Aer.get_backend('qasm_simulator')\n",
    "job = execute(qc, simulator, shots=1)"
   ]
  },
  {
   "cell_type": "code",
   "execution_count": 17,
   "id": "14aa390c",
   "metadata": {},
   "outputs": [],
   "source": [
    "# Get the result\n",
    "result = job.result()\n",
    "counts = result.get_counts()"
   ]
  },
  {
   "cell_type": "code",
   "execution_count": 18,
   "id": "00a4be6a",
   "metadata": {},
   "outputs": [],
   "source": [
    "# Initialize variables to count occurrences and store indexes\n",
    "occurrences = 0\n",
    "indexes = []"
   ]
  },
  {
   "cell_type": "code",
   "execution_count": 19,
   "id": "6021c67e",
   "metadata": {},
   "outputs": [],
   "source": [
    "# Iterate over the input string to find occurrences\n",
    "for i in range(len(input_string) - n + 1):\n",
    "    substring = input_string[i:i + n]\n",
    "    if substring == pattern:\n",
    "        occurrences += 1\n",
    "        indexes.append(i)"
   ]
  },
  {
   "cell_type": "code",
   "execution_count": 20,
   "id": "9477b091",
   "metadata": {},
   "outputs": [],
   "source": [
    "# Check if the pattern was detected by the quantum circuit\n",
    "pattern_detected = pattern in counts"
   ]
  },
  {
   "cell_type": "code",
   "execution_count": 21,
   "id": "f8df4281",
   "metadata": {
    "scrolled": true
   },
   "outputs": [
    {
     "name": "stdout",
     "output_type": "stream",
     "text": [
      "Pattern detected in the string.\n",
      "Count: 6\n",
      "Indexes: [1, 4, 6, 8, 11, 14]\n"
     ]
    }
   ],
   "source": [
    "if pattern_detected:\n",
    "    print(\"Pattern detected in the string.\")\n",
    "    print(f\"Count: {occurrences}\")\n",
    "    if occurrences > 0:\n",
    "        print(\"Indexes:\", indexes)\n",
    "else:\n",
    "    print(\"Pattern not detected in the string.\")"
   ]
  },
  {
   "cell_type": "code",
   "execution_count": null,
   "id": "b0f366a4",
   "metadata": {},
   "outputs": [],
   "source": []
  }
 ],
 "metadata": {
  "kernelspec": {
   "display_name": "Python 3 (ipykernel)",
   "language": "python",
   "name": "python3"
  },
  "language_info": {
   "codemirror_mode": {
    "name": "ipython",
    "version": 3
   },
   "file_extension": ".py",
   "mimetype": "text/x-python",
   "name": "python",
   "nbconvert_exporter": "python",
   "pygments_lexer": "ipython3",
   "version": "3.11.5"
  }
 },
 "nbformat": 4,
 "nbformat_minor": 5
}
