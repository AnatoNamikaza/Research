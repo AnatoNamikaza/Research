{
 "cells": [
  {
   "cell_type": "code",
   "execution_count": 13,
   "id": "e4fd4b89",
   "metadata": {},
   "outputs": [],
   "source": [
    "from qiskit import QuantumCircuit, Aer, execute\n",
    "import time"
   ]
  },
  {
   "cell_type": "code",
   "execution_count": 14,
   "id": "3bfa48ac",
   "metadata": {},
   "outputs": [],
   "source": [
    "def quantum_multiple_pattern_matching(targets, sequence):\n",
    "    target_lengths = [len(target) for target in targets]\n",
    "    sequence_length = len(sequence)\n",
    "\n",
    "    # Create a quantum circuit with n+1 qubits, where n is the length of the longest target sequence\n",
    "    max_target_length = max(target_lengths)\n",
    "    qc = QuantumCircuit(max_target_length + 1, max_target_length)\n",
    "\n",
    "    # Apply quantum gates to implement all target sequences\n",
    "    for target in targets:\n",
    "        for i, bit in enumerate(target):\n",
    "            if bit == \"1\":\n",
    "                qc.x(i)  # Apply a NOT gate for each '1' in the target sequence\n",
    "\n",
    "    # Apply an X gate to the last qubit to prepare it in the |1⟩ state\n",
    "    qc.x(max_target_length)\n",
    "\n",
    "    # Measure all qubits\n",
    "    for i in range(max_target_length):\n",
    "        qc.measure(i, i)\n",
    "\n",
    "    # Use the Aer simulator to run the quantum circuit\n",
    "    simulator = Aer.get_backend('qasm_simulator')\n",
    "    job = execute(qc, simulator, shots=1)\n",
    "    \n",
    "    start_time = time.time()\n",
    "    job = execute(qc, simulator, shots=1)\n",
    "    execution_time = time.time() - start_time\n",
    "    \n",
    "    # Get the result\n",
    "    result = job.result()\n",
    "    counts = result.get_counts()\n",
    "\n",
    "    # Initialize a dictionary to store the positions of target sequence matches\n",
    "    positions = {target: [] for target in targets}\n",
    "\n",
    "    # Search for the target sequences in the input sequence\n",
    "    for target in targets:\n",
    "        target_length = len(target)\n",
    "        for i in range(sequence_length - target_length + 1):\n",
    "            subsequence = sequence[i:i + target_length]\n",
    "            if subsequence == target:\n",
    "                positions[target].append(i)\n",
    "\n",
    "    return positions, execution_time"
   ]
  },
  {
   "cell_type": "code",
   "execution_count": 15,
   "id": "941924df",
   "metadata": {},
   "outputs": [],
   "source": [
    "# Define the target sequence and the input sequence\n",
    "target_sequences = [\"GCA\",\"NNN\",\"ATA\", \"IIL\"]\n",
    "input_sequence = \"MSTHDTSLKTTEEVAFQIILLCQFGVGTFANVFLFVYNFSPISTGSKQRPRQVILRHMAVANALTLFLTIFPNNMMTFAPIIPQTDLKCKLEFFTRLVARSTNLCSTCVLSIHQFVTLVPVNSGKGILRASVTNMASYSCYSCWFFSVLNNIYIPIKVTGPQLTDNNNNSKSKLFCSTSDFSVGIVFLRFAHDATFMSIMVWTSVSMVLLLHRHCQRMQYIFTLNQDPRGQAETTATHTILMLVVTFVGFYLLSLICIIFYTYFIYSHHSLRHCNDILVSGFPTISPLLLTFRDPKGPCSVFFNC\""
   ]
  },
  {
   "cell_type": "code",
   "execution_count": 16,
   "id": "821da993",
   "metadata": {},
   "outputs": [],
   "source": [
    "# Find positions of the target sequences in the input sequence using a quantum-inspired approach\n",
    "matched_positions, execution_time = quantum_multiple_pattern_matching(target_sequences, input_sequence)"
   ]
  },
  {
   "cell_type": "code",
   "execution_count": 17,
   "id": "42678c7a",
   "metadata": {},
   "outputs": [
    {
     "name": "stdout",
     "output_type": "stream",
     "text": [
      "Target sequence 'GCA' not found in the input sequence.\n",
      "Target sequence 'NNN' found at positions: [165, 166]\n",
      "Target sequence 'ATA' not found in the input sequence.\n",
      "Target sequence 'IIL' found at positions: [17]\n"
     ]
    }
   ],
   "source": [
    "for target, positions in matched_positions.items():\n",
    "    if positions:\n",
    "        print(f\"Target sequence '{target}' found at positions:\", positions)\n",
    "    else:\n",
    "        print(f\"Target sequence '{target}' not found in the input sequence.\")"
   ]
  },
  {
   "cell_type": "code",
   "execution_count": 18,
   "id": "fba9333f",
   "metadata": {},
   "outputs": [
    {
     "name": "stdout",
     "output_type": "stream",
     "text": [
      "Execution time: 0.017989 seconds\n"
     ]
    }
   ],
   "source": [
    "print(f\"Execution time: {execution_time:.6f} seconds\")"
   ]
  }
 ],
 "metadata": {
  "kernelspec": {
   "display_name": "Python 3 (ipykernel)",
   "language": "python",
   "name": "python3"
  },
  "language_info": {
   "codemirror_mode": {
    "name": "ipython",
    "version": 3
   },
   "file_extension": ".py",
   "mimetype": "text/x-python",
   "name": "python",
   "nbconvert_exporter": "python",
   "pygments_lexer": "ipython3",
   "version": "3.11.5"
  }
 },
 "nbformat": 4,
 "nbformat_minor": 5
}
