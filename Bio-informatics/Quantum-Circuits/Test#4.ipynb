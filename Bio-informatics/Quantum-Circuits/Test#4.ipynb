{
 "cells": [
  {
   "cell_type": "markdown",
   "id": "15b0f267",
   "metadata": {},
   "source": [
    "# Differential Equations  \n",
    "a simplified Quantum Phase Estimation (QPE) implementation using Qiskit, a quantum computing library.\n",
    "The goal is to solve a simple differential equation, dy/dx = x, as a basic illustration"
   ]
  },
  {
   "cell_type": "code",
   "execution_count": 24,
   "id": "cd56548b",
   "metadata": {},
   "outputs": [],
   "source": [
    "from qiskit import QuantumCircuit, Aer, execute\n",
    "import numpy as np"
   ]
  },
  {
   "cell_type": "code",
   "execution_count": 25,
   "id": "98d65a5d",
   "metadata": {},
   "outputs": [],
   "source": [
    "# Define the parameters for the quantum circuit\n",
    "n_qubits = 4  # Number of qubits for QPE\n",
    "n_count = 3  # Number of counting qubits (controls precision)\n",
    "theta = np.pi / 4.0  # Parameter for the differential equation (dy/dx = theta * x)"
   ]
  },
  {
   "cell_type": "code",
   "execution_count": 26,
   "id": "4de11be8",
   "metadata": {},
   "outputs": [],
   "source": [
    "# Create the quantum circuit\n",
    "qc = QuantumCircuit(n_qubits + n_count, n_count)"
   ]
  },
  {
   "cell_type": "code",
   "execution_count": 27,
   "id": "b41fcea2",
   "metadata": {},
   "outputs": [],
   "source": [
    "# Apply the unitary operator corresponding to the differential equation\n",
    "for qubit in range(n_qubits):\n",
    "    qc.h(qubit)  # Apply Hadamard gate to create superposition\n",
    "    for rep in range(2 ** qubit):  # Repeat the unitary operator (2^qubit times)\n",
    "        qc.u(theta, 0, 0, qubit)  # Apply U gate for phase rotation\n",
    "\n",
    "# Apply QPE\n",
    "for qubit in range(n_qubits):\n",
    "    qc.cp(2 * np.pi / 2**qubit, qubit, n_qubits)  # Controlled-phase gate for QPE\n",
    "\n",
    "# Inverse QFT\n",
    "for j in range(n_count):\n",
    "    for qubit in range(j):\n",
    "        qc.swap(qubit, j)\n",
    "        qc.cp(-np.pi / float(2 ** (j - qubit)), j, qubit)\n",
    "        qc.swap(qubit, j)"
   ]
  },
  {
   "cell_type": "code",
   "execution_count": 28,
   "id": "160cb8b3",
   "metadata": {},
   "outputs": [
    {
     "data": {
      "text/plain": [
       "<qiskit.circuit.instructionset.InstructionSet at 0x1927a39ece0>"
      ]
     },
     "execution_count": 28,
     "metadata": {},
     "output_type": "execute_result"
    }
   ],
   "source": [
    "# Measure the counting qubits\n",
    "qc.measure(range(n_count), range(n_count))"
   ]
  },
  {
   "cell_type": "code",
   "execution_count": 29,
   "id": "050b3788",
   "metadata": {},
   "outputs": [],
   "source": [
    "# Simulate the quantum circuit\n",
    "backend = Aer.get_backend('qasm_simulator')\n",
    "job = execute(qc, backend, shots=1024)\n",
    "result = job.result()\n",
    "counts = result.get_counts()"
   ]
  },
  {
   "cell_type": "code",
   "execution_count": 30,
   "id": "97fc70c3",
   "metadata": {},
   "outputs": [],
   "source": [
    "# Post-process the results to estimate the solution\n",
    "eigenvalues = [int(k, 2) / (2 ** n_count) for k in counts.keys()]\n",
    "solutions = [ev * 2 * np.pi / theta for ev in eigenvalues]"
   ]
  },
  {
   "cell_type": "code",
   "execution_count": 31,
   "id": "64426f03",
   "metadata": {
    "scrolled": true
   },
   "outputs": [
    {
     "name": "stdout",
     "output_type": "stream",
     "text": [
      "Eigenvalues (binary): {'111': 437, '011': 435, '010': 72, '110': 80}\n",
      "Eigenvalues (decimal): [0.875, 0.375, 0.25, 0.75]\n",
      "Solutions: [7.0, 3.0, 2.0, 6.0]\n"
     ]
    }
   ],
   "source": [
    "# Output the results\n",
    "print(\"Eigenvalues (binary):\", counts)\n",
    "print(\"Eigenvalues (decimal):\", eigenvalues)\n",
    "print(\"Solutions:\", solutions)"
   ]
  }
 ],
 "metadata": {
  "kernelspec": {
   "display_name": "Python 3 (ipykernel)",
   "language": "python",
   "name": "python3"
  },
  "language_info": {
   "codemirror_mode": {
    "name": "ipython",
    "version": 3
   },
   "file_extension": ".py",
   "mimetype": "text/x-python",
   "name": "python",
   "nbconvert_exporter": "python",
   "pygments_lexer": "ipython3",
   "version": "3.11.5"
  }
 },
 "nbformat": 4,
 "nbformat_minor": 5
}
