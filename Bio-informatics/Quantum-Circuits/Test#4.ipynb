{
 "cells": [
  {
   "cell_type": "markdown",
   "id": "e375d80a",
   "metadata": {},
   "source": [
    "# Differential Equations  \n",
    "a simplified Quantum Phase Estimation (QPE) implementation using Qiskit, a quantum computing library.\n",
    "The goal is to solve a simple differential equation, dy/dx = x, as a basic illustration"
   ]
  },
  {
   "cell_type": "code",
   "execution_count": 6,
   "id": "562cc1db",
   "metadata": {},
   "outputs": [],
   "source": [
    "from qiskit import QuantumCircuit, Aer, execute\n",
    "import numpy as np"
   ]
  },
  {
   "cell_type": "code",
   "execution_count": 7,
   "id": "2069dac2",
   "metadata": {},
   "outputs": [],
   "source": [
    "# Define the parameters for the quantum circuit\n",
    "n_qubits = 4  # Number of qubits for QPE\n",
    "n_count = 3  # Number of counting qubits (controls precision)\n",
    "theta = np.pi / 4.0  # Parameter for the differential equation (dy/dx = theta * x)"
   ]
  },
  {
   "cell_type": "code",
   "execution_count": 8,
   "id": "e141257d",
   "metadata": {},
   "outputs": [],
   "source": [
    "# Create the quantum circuit\n",
    "qc = QuantumCircuit(n_qubits + n_count, n_count)"
   ]
  },
  {
   "cell_type": "code",
   "execution_count": 9,
   "id": "b9eb180e",
   "metadata": {},
   "outputs": [
    {
     "ename": "AttributeError",
     "evalue": "'QuantumCircuit' object has no attribute 'u1'",
     "output_type": "error",
     "traceback": [
      "\u001b[1;31m---------------------------------------------------------------------------\u001b[0m",
      "\u001b[1;31mAttributeError\u001b[0m                            Traceback (most recent call last)",
      "Cell \u001b[1;32mIn[9], line 5\u001b[0m\n\u001b[0;32m      3\u001b[0m qc\u001b[38;5;241m.\u001b[39mh(qubit)  \u001b[38;5;66;03m# Apply Hadamard gate to create superposition\u001b[39;00m\n\u001b[0;32m      4\u001b[0m \u001b[38;5;28;01mfor\u001b[39;00m rep \u001b[38;5;129;01min\u001b[39;00m \u001b[38;5;28mrange\u001b[39m(\u001b[38;5;241m2\u001b[39m \u001b[38;5;241m*\u001b[39m\u001b[38;5;241m*\u001b[39m qubit):  \u001b[38;5;66;03m# Repeat the unitary operator (2^qubit times)\u001b[39;00m\n\u001b[1;32m----> 5\u001b[0m     qc\u001b[38;5;241m.\u001b[39mu1(theta, qubit)\n",
      "\u001b[1;31mAttributeError\u001b[0m: 'QuantumCircuit' object has no attribute 'u1'"
     ]
    }
   ],
   "source": [
    "# Apply the unitary operator corresponding to the differential equation\n",
    "for qubit in range(n_qubits):\n",
    "    qc.h(qubit)  # Apply Hadamard gate to create superposition\n",
    "    for rep in range(2 ** qubit):  # Repeat the unitary operator (2^qubit times)\n",
    "        qc.u1(theta, qubit)  # Apply U1 gate for phase rotation"
   ]
  },
  {
   "cell_type": "code",
   "execution_count": 10,
   "id": "4c3f217a",
   "metadata": {},
   "outputs": [
    {
     "ename": "AttributeError",
     "evalue": "'QuantumCircuit' object has no attribute 'cu1'",
     "output_type": "error",
     "traceback": [
      "\u001b[1;31m---------------------------------------------------------------------------\u001b[0m",
      "\u001b[1;31mAttributeError\u001b[0m                            Traceback (most recent call last)",
      "Cell \u001b[1;32mIn[10], line 3\u001b[0m\n\u001b[0;32m      1\u001b[0m \u001b[38;5;66;03m# Apply QPE\u001b[39;00m\n\u001b[0;32m      2\u001b[0m \u001b[38;5;28;01mfor\u001b[39;00m qubit \u001b[38;5;129;01min\u001b[39;00m \u001b[38;5;28mrange\u001b[39m(n_qubits):\n\u001b[1;32m----> 3\u001b[0m     qc\u001b[38;5;241m.\u001b[39mcu1(\u001b[38;5;241m1.0\u001b[39m, qubit, n_qubits)\n",
      "\u001b[1;31mAttributeError\u001b[0m: 'QuantumCircuit' object has no attribute 'cu1'"
     ]
    }
   ],
   "source": [
    "# Apply QPE\n",
    "for qubit in range(n_qubits):\n",
    "    qc.cu1(1.0, qubit, n_qubits)  # Controlled-U1 gate for QPE"
   ]
  },
  {
   "cell_type": "code",
   "execution_count": 11,
   "id": "efcbadff",
   "metadata": {},
   "outputs": [
    {
     "ename": "AttributeError",
     "evalue": "'QuantumCircuit' object has no attribute 'cu1'",
     "output_type": "error",
     "traceback": [
      "\u001b[1;31m---------------------------------------------------------------------------\u001b[0m",
      "\u001b[1;31mAttributeError\u001b[0m                            Traceback (most recent call last)",
      "Cell \u001b[1;32mIn[11], line 4\u001b[0m\n\u001b[0;32m      2\u001b[0m \u001b[38;5;28;01mfor\u001b[39;00m j \u001b[38;5;129;01min\u001b[39;00m \u001b[38;5;28mrange\u001b[39m(n_count):\n\u001b[0;32m      3\u001b[0m     \u001b[38;5;28;01mfor\u001b[39;00m qubit \u001b[38;5;129;01min\u001b[39;00m \u001b[38;5;28mrange\u001b[39m(j):\n\u001b[1;32m----> 4\u001b[0m         qc\u001b[38;5;241m.\u001b[39mcu1(\u001b[38;5;241m-\u001b[39mnp\u001b[38;5;241m.\u001b[39mpi \u001b[38;5;241m/\u001b[39m \u001b[38;5;28mfloat\u001b[39m(\u001b[38;5;241m2\u001b[39m \u001b[38;5;241m*\u001b[39m\u001b[38;5;241m*\u001b[39m (j \u001b[38;5;241m-\u001b[39m qubit)), qubit, j)\n",
      "\u001b[1;31mAttributeError\u001b[0m: 'QuantumCircuit' object has no attribute 'cu1'"
     ]
    }
   ],
   "source": [
    "# Inverse QFT\n",
    "for j in range(n_count):\n",
    "    for qubit in range(j):\n",
    "        qc.cu1(-np.pi / float(2 ** (j - qubit)), qubit, j)"
   ]
  },
  {
   "cell_type": "code",
   "execution_count": 12,
   "id": "844a6ef8",
   "metadata": {},
   "outputs": [
    {
     "data": {
      "text/plain": [
       "<qiskit.circuit.instructionset.InstructionSet at 0x1925fb6feb0>"
      ]
     },
     "execution_count": 12,
     "metadata": {},
     "output_type": "execute_result"
    }
   ],
   "source": [
    "# Measure the counting qubits\n",
    "qc.measure(range(n_count), range(n_count))"
   ]
  },
  {
   "cell_type": "code",
   "execution_count": 13,
   "id": "d235d1b6",
   "metadata": {},
   "outputs": [],
   "source": [
    "# Simulate the quantum circuit\n",
    "backend = Aer.get_backend('qasm_simulator')\n",
    "job = execute(qc, backend, shots=1024)\n",
    "result = job.result()\n",
    "counts = result.get_counts()"
   ]
  },
  {
   "cell_type": "code",
   "execution_count": 14,
   "id": "6534e530",
   "metadata": {},
   "outputs": [],
   "source": [
    "# Post-process the results to estimate the solution\n",
    "eigenvalues = [int(k, 2) / (2 ** n_count) for k in counts.keys()]\n",
    "solutions = [ev * 2 * np.pi / theta for ev in eigenvalues]"
   ]
  },
  {
   "cell_type": "code",
   "execution_count": 15,
   "id": "b6f90add",
   "metadata": {},
   "outputs": [
    {
     "name": "stdout",
     "output_type": "stream",
     "text": [
      "Eigenvalues (binary): {'001': 507, '000': 517}\n",
      "Eigenvalues (decimal): [0.125, 0.0]\n",
      "Solutions: [1.0, 0.0]\n"
     ]
    }
   ],
   "source": [
    "# Output the results\n",
    "print(\"Eigenvalues (binary):\", counts)\n",
    "print(\"Eigenvalues (decimal):\", eigenvalues)\n",
    "print(\"Solutions:\", solutions)"
   ]
  },
  {
   "cell_type": "code",
   "execution_count": null,
   "id": "17d66d37",
   "metadata": {},
   "outputs": [],
   "source": []
  }
 ],
 "metadata": {
  "kernelspec": {
   "display_name": "Python 3 (ipykernel)",
   "language": "python",
   "name": "python3"
  },
  "language_info": {
   "codemirror_mode": {
    "name": "ipython",
    "version": 3
   },
   "file_extension": ".py",
   "mimetype": "text/x-python",
   "name": "python",
   "nbconvert_exporter": "python",
   "pygments_lexer": "ipython3",
   "version": "3.11.5"
  }
 },
 "nbformat": 4,
 "nbformat_minor": 5
}
