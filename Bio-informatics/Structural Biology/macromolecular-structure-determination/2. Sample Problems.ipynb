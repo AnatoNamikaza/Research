{
 "cells": [
  {
   "cell_type": "markdown",
   "metadata": {},
   "source": [
    "# Protein Structure Analysis using Biopython\n",
    "\n",
    "In this Jupyter Notebook, we will demonstrate how to analyze the 3D structure of a protein specified by its PDB ID using Biopython library. Specifically, we will load and analyze the structure of a protein with a given PDB (Protein Data Bank) ID. We will focus on accessing and displaying properties of the atoms within the protein structure."
   ]
  },
  {
   "cell_type": "code",
   "execution_count": null,
   "metadata": {},
   "outputs": [
    {
     "ename": "",
     "evalue": "",
     "output_type": "error",
     "traceback": [
      "\u001b[1;31mRunning cells with 'c:\\Python312\\python.exe' requires the ipykernel package.\n",
      "\u001b[1;31mRun the following command to install 'ipykernel' into the Python environment. \n",
      "\u001b[1;31mCommand: 'c:/Python312/python.exe -m pip install ipykernel -U --user --force-reinstall'"
     ]
    }
   ],
   "source": [
    "# Import necessary libraries\n",
    "from Bio import PDB"
   ]
  },
  {
   "cell_type": "code",
   "execution_count": null,
   "metadata": {},
   "outputs": [],
   "source": [
    "\n",
    "# Define the PDB ID of the structure you want to analyze\n",
    "pdb_id = \"1xyz\"  # Replace with your PDB ID\n"
   ]
  },
  {
   "cell_type": "code",
   "execution_count": null,
   "metadata": {},
   "outputs": [],
   "source": [
    "\n",
    "# Download the PDB file from the RCSB PDB (if not already downloaded)\n",
    "pdbl = PDB.PDBList()\n",
    "pdbl.retrieve_pdb_file(pdb_id, pdir='.')\n"
   ]
  },
  {
   "cell_type": "code",
   "execution_count": null,
   "metadata": {},
   "outputs": [],
   "source": [
    "\n",
    "# Load the PDB file\n",
    "parser = PDB.PDBParser(QUIET=True)\n",
    "structure = parser.get_structure(pdb_id, f'{pdb_id}.pdb')\n"
   ]
  },
  {
   "cell_type": "code",
   "execution_count": null,
   "metadata": {},
   "outputs": [],
   "source": [
    "\n",
    "# Function to analyze the protein structure\n",
    "def analyze_protein_structure(structure):\n",
    "    # Iterate through the atoms in the structure\n",
    "    for model in structure:\n",
    "        for chain in model:\n",
    "            for residue in chain:\n",
    "                for atom in residue:\n",
    "                    # Access atom properties\n",
    "                    atom_name = atom.get_name()\n",
    "                    atom_coords = atom.get_coord()\n",
    "                    occupancy = atom.get_occupancy()\n",
    "                    bfactor = atom.get_bfactor()\n",
    "\n",
    "                    print(f\"Atom: {atom_name}, Coordinates: {atom_coords}, Occupancy: {occupancy}, B-factor: {bfactor}\")\n"
   ]
  },
  {
   "cell_type": "code",
   "execution_count": null,
   "metadata": {},
   "outputs": [],
   "source": [
    "\n",
    "# Call the analysis function\n",
    "analyze_protein_structure(structure)\n"
   ]
  }
 ],
 "metadata": {
  "kernelspec": {
   "display_name": "Python 3",
   "language": "python",
   "name": "python3"
  },
  "language_info": {
   "codemirror_mode": {
    "name": "ipython",
    "version": 3
   },
   "file_extension": ".py",
   "mimetype": "text/x-python",
   "name": "python",
   "nbconvert_exporter": "python",
   "pygments_lexer": "ipython3",
   "version": "3.12.0"
  }
 },
 "nbformat": 4,
 "nbformat_minor": 2
}
