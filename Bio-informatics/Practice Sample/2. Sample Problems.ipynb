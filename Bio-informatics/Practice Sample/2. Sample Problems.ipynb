{
 "cells": [
  {
   "cell_type": "markdown",
   "metadata": {},
   "source": [
    "Sequence Analysis (DNA Sequence):\n",
    "\n",
    "Problem: Calculate the GC content of a DNA sequence."
   ]
  },
  {
   "cell_type": "code",
   "execution_count": 1,
   "metadata": {},
   "outputs": [
    {
     "name": "stdout",
     "output_type": "stream",
     "text": [
      "GC Content: 50.00%\n"
     ]
    }
   ],
   "source": [
    "def calculate_gc_content(dna_sequence):\n",
    "    gc_count = dna_sequence.count(\"G\") + dna_sequence.count(\"C\")\n",
    "    total_bases = len(dna_sequence)\n",
    "    gc_content = (gc_count / total_bases) * 100\n",
    "    return gc_content\n",
    "\n",
    "dna_sequence = \"ATCGATCGATCG\"\n",
    "gc_content = calculate_gc_content(dna_sequence)\n",
    "print(f\"GC Content: {gc_content:.2f}%\")"
   ]
  },
  {
   "cell_type": "markdown",
   "metadata": {},
   "source": [
    "Genome Analysis (Genome Assembly):\n",
    "\n",
    "Problem: Assemble a genome from multiple DNA sequences (contigs)."
   ]
  },
  {
   "cell_type": "code",
   "execution_count": 2,
   "metadata": {},
   "outputs": [
    {
     "name": "stdout",
     "output_type": "stream",
     "text": [
      "Assembled Genome: ATCGGATCTCGA\n"
     ]
    }
   ],
   "source": [
    "def assemble_genome(contigs):\n",
    "    genome = \"\".join(contigs)\n",
    "    return genome\n",
    "\n",
    "contigs = [\"ATCG\", \"GATC\", \"TCGA\"]\n",
    "assembled_genome = assemble_genome(contigs)\n",
    "print(\"Assembled Genome:\", assembled_genome)"
   ]
  },
  {
   "cell_type": "markdown",
   "metadata": {},
   "source": [
    "Functional Genomics (Gene Expression Analysis):\n",
    "\n",
    "Problem: Calculate the average expression level from gene expression data"
   ]
  },
  {
   "cell_type": "code",
   "execution_count": 3,
   "metadata": {},
   "outputs": [
    {
     "name": "stdout",
     "output_type": "stream",
     "text": [
      "Average Expression: 11.32\n"
     ]
    }
   ],
   "source": [
    "def calculate_average_expression(expression_values):\n",
    "    total_expression = sum(expression_values)\n",
    "    average_expression = total_expression / len(expression_values)\n",
    "    return average_expression\n",
    "\n",
    "expression_data = [10.5, 12.2, 9.8, 11.0, 13.1]\n",
    "avg_expression = calculate_average_expression(expression_data)\n",
    "print(\"Average Expression:\", avg_expression)"
   ]
  },
  {
   "cell_type": "markdown",
   "metadata": {},
   "source": [
    "Structural Biology (Protein Structure Prediction):\n",
    "\n",
    "Problem: Predict the secondary structure of a protein sequence."
   ]
  },
  {
   "cell_type": "code",
   "execution_count": 4,
   "metadata": {},
   "outputs": [
    {
     "name": "stdout",
     "output_type": "stream",
     "text": [
      "Secondary Structure: HHHHHHHHHHH\n"
     ]
    }
   ],
   "source": [
    "def predict_secondary_structure(protein_sequence):\n",
    "    # Simplified prediction using a simple rule (e.g., helix, sheet, or coil)\n",
    "    secondary_structure = \"\"\n",
    "    for amino_acid in protein_sequence:\n",
    "        if amino_acid in \"ACDEFGHIKLMNPQRSTVWY\":\n",
    "            secondary_structure += \"H\"  # Helix\n",
    "        else:\n",
    "            secondary_structure += \"C\"  # Coil\n",
    "    return secondary_structure\n",
    "\n",
    "protein_sequence = \"MKDYYVIVVGG\"\n",
    "secondary_structure = predict_secondary_structure(protein_sequence)\n",
    "print(\"Secondary Structure:\", secondary_structure)"
   ]
  },
  {
   "cell_type": "markdown",
   "metadata": {},
   "source": [
    "Phylogenetics and Evolution (Phylogenetic Tree Construction):\n",
    "\n",
    "Problem: Construct a simple phylogenetic tree from DNA sequences."
   ]
  },
  {
   "cell_type": "code",
   "execution_count": 24,
   "metadata": {},
   "outputs": [
    {
     "data": {
      "image/png": "[encoded data removed]",
      "text/plain": [
       "<Figure size 640x480 with 1 Axes>"
      ]
     },
     "metadata": {},
     "output_type": "display_data"
    }
   ],
   "source": [
    "from Bio import Phylo\n",
    "from Bio.Phylo.TreeConstruction import DistanceCalculator, DistanceTreeConstructor\n",
    "from Bio.Seq import Seq\n",
    "from Bio.SeqRecord import SeqRecord\n",
    "from Bio.Align import MultipleSeqAlignment\n",
    "\n",
    "# Define your DNA sequences as SeqRecord objects with unique names\n",
    "sequences = {\n",
    "    \"Species1\": SeqRecord(Seq(\"ATCGTAC\"), id=\"Species1\"),\n",
    "    \"Species2\": SeqRecord(Seq(\"ATGGTAC\"), id=\"Species2\"),\n",
    "    \"Species3\": SeqRecord(Seq(\"ATCGTGC\"), id=\"Species3\"),\n",
    "}\n",
    "\n",
    "# Create a MultipleSeqAlignment object\n",
    "alignment = MultipleSeqAlignment(list(sequences.values()))\n",
    "\n",
    "# Calculate genetic distances\n",
    "calculator = DistanceCalculator('identity')\n",
    "dm = calculator.get_distance(alignment)\n",
    "\n",
    "# Construct a tree\n",
    "constructor = DistanceTreeConstructor()\n",
    "tree = constructor.upgma(dm)\n",
    "\n",
    "Phylo.draw(tree)"
   ]
  },
  {
   "cell_type": "markdown",
   "metadata": {},
   "source": [
    "Drug Discovery and Design (Virtual Screening):\n",
    "\n",
    "Problem: Perform a virtual screening to identify potential drug candidates."
   ]
  },
  {
   "cell_type": "code",
   "execution_count": 6,
   "metadata": {},
   "outputs": [
    {
     "name": "stdout",
     "output_type": "stream",
     "text": [
      "Hits: ['GTCACTGATCGT']\n"
     ]
    }
   ],
   "source": [
    "target_sequence = \"ACTGATCGT\"\n",
    "\n",
    "def virtual_screening(database, target_sequence):\n",
    "    hits = []\n",
    "    for compound in database:\n",
    "        if target_sequence in compound:\n",
    "            hits.append(compound)\n",
    "    return hits\n",
    "\n",
    "compound_database = [\"GTCACTGATCGT\", \"AGTGCTAGTAGC\", \"TGCATCGTAGCA\"]\n",
    "screening_results = virtual_screening(compound_database, target_sequence)\n",
    "print(\"Hits:\", screening_results)"
   ]
  },
  {
   "cell_type": "markdown",
   "metadata": {},
   "source": [
    "Biological Data Mining (Pattern Recognition):\n",
    "\n",
    "Problem: Identify motifs in a set of DNA sequences."
   ]
  },
  {
   "cell_type": "code",
   "execution_count": 7,
   "metadata": {},
   "outputs": [
    {
     "name": "stdout",
     "output_type": "stream",
     "text": [
      "Motifs Found: ['ATCG', 'GCTG', 'ATCG']\n"
     ]
    }
   ],
   "source": [
    "import re\n",
    "\n",
    "def find_motifs(sequences, motif):\n",
    "    motifs_found = []\n",
    "    for seq in sequences:\n",
    "        matches = re.finditer(motif, seq)\n",
    "        for match in matches:\n",
    "            motifs_found.append(match.group())\n",
    "    return motifs_found\n",
    "\n",
    "dna_sequences = [\"ATCGATAGCT\", \"GCTGCTAGCT\", \"ATCGTACGAT\"]\n",
    "search_motif = r\"(ATCG|GCTG)\"\n",
    "motifs = find_motifs(dna_sequences, search_motif)\n",
    "print(\"Motifs Found:\", motifs)"
   ]
  },
  {
   "cell_type": "markdown",
   "metadata": {},
   "source": [
    "Biological Databases (Data Retrieval):\n",
    "\n",
    "Problem: Retrieve information from a biological database (e.g., GenBank)."
   ]
  },
  {
   "cell_type": "code",
   "execution_count": 8,
   "metadata": {},
   "outputs": [
    {
     "name": "stdout",
     "output_type": "stream",
     "text": [
      "GenBank Entry:\n",
      "LOCUS       NM_001301717            2191 bp    mRNA    linear   PRI 26-JUN-2023\n",
      "DEFINITION  Homo sapiens C-C motif chemokine receptor 7 (CCR7), transcript\n",
      "            variant 4, mRNA.\n",
      "ACCESSION   NM_001301717\n",
      "VERSION     NM_001301717.2\n",
      "KEYWORDS    RefSeq.\n",
      "SOURCE      Homo sapiens (human)\n",
      "  ORGANISM  Homo sapiens\n",
      "            Eukaryota; Metazoa; Chordata; Craniata; Vertebrata; Euteleostomi;\n",
      "            Mammalia; Eutheria; Euarchontoglires; Primates; Haplorrhini;\n",
      "            Catarrhini; Hominidae; Homo.\n",
      "REFERENCE   1  (bases 1 to 2191)\n",
      "  AUTHORS   Geraldo LH, Garcia C, Xu Y, Leser FS, Grimaldi I, de Camargo\n",
      "            Magalhaes ES, Dejaegher J, Solie L, Pereira CM, Correia AH, De\n",
      "            Vleeschouwer S, Tavitian B, Canedo NHS, Mathivet T, Thomas JL,\n",
      "            Eichmann A and Lima FRS.\n",
      "  TITLE     CCL21-CCR7 signaling promotes microglia/macrophage recruitment and\n",
      "            chemotherapy resistance in glioblastoma\n",
      "  JOURNAL   Cell Mol Life Sci 80 (7), 179 (2023)\n",
      "   PUBMED   37314567\n",
      "  REMARK    GeneRIF: CCL21-CCR7 signaling promotes microglia/macrophage\n",
      "            recruitment and chemotherapy resistance in glioblastoma.\n",
      "            Publication Status: Online-Only\n",
      "REFERENCE   2  (bases 1 to 2191)\n",
      "  AUTHORS   Xu D, Liu X, Ke S, Guo Y, Zhu C and Cao H.\n",
      "  TITLE     CCL19/CCR7 drives regulatory T cell migration and indicates poor\n",
      "            prognosis in gastric cancer\n",
      "  JOURNAL   BMC Cancer 23 (1), 464 (2023)\n",
      "   PUBMED   37208608\n",
      "  REMARK    GeneRIF: CCL19/CCR7 drives regulatory T cell migration and\n",
      "            indicates poor prognosis in gastric cancer.\n",
      "            Publication Status: Online-Only\n",
      "REFERENCE   3  (bases 1 to 2191)\n",
      "  AUTHORS   Wang T, Peng R, Ni H, Zhong L, Zhang H, Wang T, Cheng H, Bao T, Jia\n",
      "            X and Ling S.\n",
      "  TITLE     Effects of chemokine receptor CCR7 in the pathophysiology and\n",
      "            clinical features of the immuno-inflammatory response in primary\n",
      "            pterygium\n",
      "  JOURNAL   Int Immunopharmacol 118, 110086 (2023)\n",
      "   PUBMED   37030121\n",
      "  REMARK    GeneRIF: Effects of chemokine receptor CCR7 in the pathophysiology\n",
      "            and clinical features of the immuno-inflammatory response in\n",
      "            primary pterygium.\n",
      "REFERENCE   4  (bases 1 to 2191)\n",
      "  AUTHORS   Artinger M, Gerken OJ and Legler DF.\n",
      "  TITLE     Heparin Specifically Interacts with Basic BBXB Motifs of the\n",
      "            Chemokine CCL21 to Define CCR7 Signaling\n",
      "  JOURNAL   Int J Mol Sci 24 (2), 1670 (2023)\n",
      "   PUBMED   36675182\n",
      "  REMARK    GeneRIF: Heparin Specifically Interacts with Basic BBXB Motifs of\n",
      "            the Chemokine CCL21 to Define CCR7 Signaling.\n",
      "            Publication Status: Online-Only\n",
      "REFERENCE   5  (bases 1 to 2191)\n",
      "  AUTHORS   Moschovakis GL and Forster R.\n",
      "  TITLE     Multifaceted activities of CCR7 regulate T-cell homeostasis in\n",
      "            health and disease\n",
      "  JOURNAL   Eur J Immunol 42 (8), 1949-1955 (2012)\n",
      "   PUBMED   22700449\n",
      "  REMARK    Review article\n",
      "REFERENCE   6  (bases 1 to 2191)\n",
      "  AUTHORS   Yoshida R, Imai T, Hieshima K, Kusuda J, Baba M, Kitaura M,\n",
      "            Nishimura M, Kakizaki M, Nomiyama H and Yoshie O.\n",
      "  TITLE     Molecular cloning of a novel human CC chemokine EBI1-ligand\n",
      "            chemokine that is a specific functional ligand for EBI1, CCR7\n",
      "  JOURNAL   J Biol Chem 272 (21), 13803-13809 (1997)\n",
      "   PUBMED   9153236\n",
      "REFERENCE   7  (bases 1 to 2191)\n",
      "  AUTHORS   Burgstahler R, Kempkes B, Steube K and Lipp M.\n",
      "  TITLE     Expression of the chemokine receptor BLR2/EBI1 is specifically\n",
      "            transactivated by Epstein-Barr virus nuclear antigen 2\n",
      "  JOURNAL   Biochem Biophys Res Commun 215 (2), 737-743 (1995)\n",
      "   PUBMED   7488016\n",
      "REFERENCE   8  (bases 1 to 2191)\n",
      "  AUTHORS   Schweickart VL, Raport CJ, Godiska R, Byers MG, Eddy RL Jr, Shows\n",
      "            TB and Gray PW.\n",
      "  TITLE     Cloning of human and mouse EBI1, a lymphoid-specific\n",
      "            G-protein-coupled receptor encoded on human chromosome 17q12-q21.2\n",
      "  JOURNAL   Genomics 23 (3), 643-650 (1994)\n",
      "   PUBMED   7851893\n",
      "REFERENCE   9  (bases 1 to 2191)\n",
      "  AUTHORS   Birkenbach M, Josefsen K, Yalamanchili R, Lenoir G and Kieff E.\n",
      "  TITLE     Epstein-Barr virus-induced genes: first lymphocyte-specific G\n",
      "            protein-coupled peptide receptors\n",
      "  JOURNAL   J Virol 67 (4), 2209-2220 (1993)\n",
      "   PUBMED   8383238\n",
      "REFERENCE   10 (bases 1 to 2191)\n",
      "  AUTHORS   Itoh H, Toyama R, Kozasa T, Tsukamoto T, Matsuoka M and Kaziro Y.\n",
      "  TITLE     Presence of three distinct molecular species of Gi protein alpha\n",
      "            subunit. Structure of rat cDNAs and human genomic DNAs\n",
      "  JOURNAL   J Biol Chem 263 (14), 6656-6664 (1988)\n",
      "   PUBMED   2834384\n",
      "COMMENT     REVIEWED REFSEQ: This record has been curated by NCBI staff. The\n",
      "            reference sequence was derived from AK310277.1, HY017993.1 and\n",
      "            BC035343.1.\n",
      "            \n",
      "            On Aug 13, 2020 this sequence version replaced NM_001301717.1.\n",
      "            \n",
      "            Summary: The protein encoded by this gene is a member of the G\n",
      "            protein-coupled receptor family. This receptor was identified as a\n",
      "            gene induced by the Epstein-Barr virus (EBV), and is thought to be\n",
      "            a mediator of EBV effects on B lymphocytes. This receptor is\n",
      "            expressed in various lymphoid tissues and activates B and T\n",
      "            lymphocytes. It has been shown to control the migration of memory T\n",
      "            cells to inflamed tissues, as well as stimulate dendritic cell\n",
      "            maturation. The chemokine (C-C motif) ligand 19 (CCL19/ECL) has\n",
      "            been reported to be a specific ligand of this receptor. Signals\n",
      "            mediated by this receptor regulate T cell homeostasis in lymph\n",
      "            nodes, and may also function in the activation and polarization of\n",
      "            T cells, and in chronic inflammation pathogenesis. Alternative\n",
      "            splicing of this gene results in multiple transcript variants.\n",
      "            [provided by RefSeq, Sep 2014].\n",
      "            \n",
      "            Transcript Variant: This variant (4) contains an alternate 5'\n",
      "            terminal exon, and it thus differs in its 5' UTR and initiates\n",
      "            translation at a downstream in-frame start codon, compared to\n",
      "            variant 1. The encoded isoform (c) is shorter at the N-terminus,\n",
      "            compared to isoform a. Variants 3, 4 and 5 all encode isoform c.\n",
      "            \n",
      "            Publication Note:  This RefSeq record includes a subset of the\n",
      "            publications that are available for this gene. Please see the Gene\n",
      "            record to access additional publications.\n",
      "            \n",
      "            ##Evidence-Data-START##\n",
      "            Transcript exon combination :: HY017993.1 [ECO:0000332]\n",
      "            RNAseq introns              :: single sample supports all introns\n",
      "                                           SAMEA2148874, SAMEA2161674\n",
      "                                           [ECO:0000348]\n",
      "            ##Evidence-Data-END##\n",
      "            COMPLETENESS: complete on the 3' end.\n",
      "PRIMARY     REFSEQ_SPAN         PRIMARY_IDENTIFIER PRIMARY_SPAN        COMP\n",
      "            1-40                AK310277.1         1-40\n",
      "            41-235              HY017993.1         2-196\n",
      "            236-2191            BC035343.1         196-2151\n",
      "FEATURES             Location/Qualifiers\n",
      "     source          1..2191\n",
      "                     /organism=\"Homo sapiens\"\n",
      "                     /mol_type=\"mRNA\"\n",
      "                     /db_xref=\"taxon:9606\"\n",
      "                     /chromosome=\"17\"\n",
      "                     /map=\"17q21.2\"\n",
      "     gene            1..2191\n",
      "                     /gene=\"CCR7\"\n",
      "                     /gene_synonym=\"BLR2; CC-CKR-7; CCR-7; CD197; CDw197;\n",
      "                     CMKBR7; EBI1\"\n",
      "                     /note=\"C-C motif chemokine receptor 7\"\n",
      "                     /db_xref=\"GeneID:1236\"\n",
      "                     /db_xref=\"HGNC:HGNC:1608\"\n",
      "                     /db_xref=\"MIM:600242\"\n",
      "     exon            1..91\n",
      "                     /gene=\"CCR7\"\n",
      "                     /gene_synonym=\"BLR2; CC-CKR-7; CCR-7; CD197; CDw197;\n",
      "                     CMKBR7; EBI1\"\n",
      "                     /inference=\"alignment:Splign:2.1.0\"\n",
      "     misc_feature    73..75\n",
      "                     /gene=\"CCR7\"\n",
      "                     /gene_synonym=\"BLR2; CC-CKR-7; CCR-7; CD197; CDw197;\n",
      "                     CMKBR7; EBI1\"\n",
      "                     /note=\"upstream in-frame stop codon\"\n",
      "     exon            92..141\n",
      "                     /gene=\"CCR7\"\n",
      "                     /gene_synonym=\"BLR2; CC-CKR-7; CCR-7; CD197; CDw197;\n",
      "                     CMKBR7; EBI1\"\n",
      "                     /inference=\"alignment:Splign:2.1.0\"\n",
      "     CDS             100..1218\n",
      "                     /gene=\"CCR7\"\n",
      "                     /gene_synonym=\"BLR2; CC-CKR-7; CCR-7; CD197; CDw197;\n",
      "                     CMKBR7; EBI1\"\n",
      "                     /note=\"isoform c precursor is encoded by transcript\n",
      "                     variant 4; C-C chemokine receptor type 7; chemokine (C-C\n",
      "                     motif) receptor 7; MIP-3 beta receptor; EBV-induced G\n",
      "                     protein-coupled receptor 1; Epstein-Barr virus induced\n",
      "                     gene 1; lymphocyte-specific G protein-coupled peptide\n",
      "                     receptor; CC chemokine receptor 7; Bukitt's lymphoma\n",
      "                     receptor 2; Epstein-Barr virus-induced G-protein coupled\n",
      "                     receptor 1\"\n",
      "                     /codon_start=1\n",
      "                     /product=\"C-C chemokine receptor type 7 isoform c\n",
      "                     precursor\"\n",
      "                     /protein_id=\"NP_001288646.1\"\n",
      "                     /db_xref=\"CCDS:CCDS77026.1\"\n",
      "                     /db_xref=\"GeneID:1236\"\n",
      "                     /db_xref=\"HGNC:HGNC:1608\"\n",
      "                     /db_xref=\"MIM:600242\"\n",
      "                     /translation=\"MKSVLVVALLVIFQVCLCQDEVTDDYIGDNTTVDYTLFESLCSK\n",
      "                     KDVRNFKAWFLPIMYSIICFVGLLGNGLVVLTYIYFKRLKTMTDTYLLNLAVADILFL\n",
      "                     LTLPFWAYSAAKSWVFGVHFCKLIFAIYKMSFFSGMLLLLCISIDRYVAIVQAVSAHR\n",
      "                     HRARVLLISKLSCVGIWILATVLSIPELLYSDLQRSSSEQAMRCSLITEHVEAFITIQ\n",
      "                     VAQMVIGFLVPLLAMSFCYLVIIRTLLQARNFERNKAIKVIIAVVVVFIVFQLPYNGV\n",
      "                     VLAQTVANFNITSSTCELSKQLNIAYDVTYSLACVRCCVNPFLYAFIGVKFRNDLFKL\n",
      "                     FKDLGCLSQEQLRQWSSCRHIRRSSMSVEAETTTTFSP\"\n",
      "     sig_peptide     100..153\n",
      "                     /gene=\"CCR7\"\n",
      "                     /gene_synonym=\"BLR2; CC-CKR-7; CCR-7; CD197; CDw197;\n",
      "                     CMKBR7; EBI1\"\n",
      "                     /inference=\"COORDINATES: ab initio prediction:SignalP:4.0\"\n",
      "     exon            142..2191\n",
      "                     /gene=\"CCR7\"\n",
      "                     /gene_synonym=\"BLR2; CC-CKR-7; CCR-7; CD197; CDw197;\n",
      "                     CMKBR7; EBI1\"\n",
      "                     /inference=\"alignment:Splign:2.1.0\"\n",
      "     regulatory      2161..2166\n",
      "                     /regulatory_class=\"polyA_signal_sequence\"\n",
      "                     /gene=\"CCR7\"\n",
      "                     /gene_synonym=\"BLR2; CC-CKR-7; CCR-7; CD197; CDw197;\n",
      "                     CMKBR7; EBI1\"\n",
      "                     /note=\"hexamer: AAGAAA\"\n",
      "     polyA_site      2191\n",
      "                     /gene=\"CCR7\"\n",
      "                     /gene_synonym=\"BLR2; CC-CKR-7; CCR-7; CD197; CDw197;\n",
      "                     CMKBR7; EBI1\"\n",
      "                     /note=\"major polyA site\"\n",
      "ORIGIN      \n",
      "        1 ctctagatga gtcagtggag ggcgggtgga gcgttgaacc gtgaagagtg tggttgggcg\n",
      "       61 taaacgtgga cttaaactca ggagctaagg gggaaaccaa tgaaaagcgt gctggtggtg\n",
      "      121 gctctccttg tcattttcca ggtatgcctg tgtcaagatg aggtcacgga cgattacatc\n",
      "      181 ggagacaaca ccacagtgga ctacactttg ttcgagtctt tgtgctccaa gaaggacgtg\n",
      "      241 cggaacttta aagcctggtt cctccctatc atgtactcca tcatttgttt cgtgggccta\n",
      "      301 ctgggcaatg ggctggtcgt gttgacctat atctatttca agaggctcaa gaccatgacc\n",
      "      361 gatacctacc tgctcaacct ggcggtggca gacatcctct tcctcctgac ccttcccttc\n",
      "      421 tgggcctaca gcgcggccaa gtcctgggtc ttcggtgtcc acttttgcaa gctcatcttt\n",
      "      481 gccatctaca agatgagctt cttcagtggc atgctcctac ttctttgcat cagcattgac\n",
      "      541 cgctacgtgg ccatcgtcca ggctgtctca gctcaccgcc accgtgcccg cgtccttctc\n",
      "      601 atcagcaagc tgtcctgtgt gggcatctgg atactagcca cagtgctctc catcccagag\n",
      "      661 ctcctgtaca gtgacctcca gaggagcagc agtgagcaag cgatgcgatg ctctctcatc\n",
      "      721 acagagcatg tggaggcctt tatcaccatc caggtggccc agatggtgat cggctttctg\n",
      "      781 gtccccctgc tggccatgag cttctgttac cttgtcatca tccgcaccct gctccaggca\n",
      "      841 cgcaactttg agcgcaacaa ggccatcaag gtgatcatcg ctgtggtcgt ggtcttcata\n",
      "      901 gtcttccagc tgccctacaa tggggtggtc ctggcccaga cggtggccaa cttcaacatc\n",
      "      961 accagtagca cctgtgagct cagtaagcaa ctcaacatcg cctacgacgt cacctacagc\n",
      "     1021 ctggcctgcg tccgctgctg cgtcaaccct ttcttgtacg ccttcatcgg cgtcaagttc\n",
      "     1081 cgcaacgatc tcttcaagct cttcaaggac ctgggctgcc tcagccagga gcagctccgg\n",
      "     1141 cagtggtctt cctgtcggca catccggcgc tcctccatga gtgtggaggc cgagaccacc\n",
      "     1201 accaccttct ccccataggc gactcttctg cctggactag agggacctct cccagggtcc\n",
      "     1261 ctggggtggg gatagggagc agatgcaatg actcaggaca tccccccgcc aaaagctgct\n",
      "     1321 cagggaaaag cagctctccc ctcagagtgc aagcccctgc tccagaagat agcttcaccc\n",
      "     1381 caatcccagc tacctcaacc aatgccaaaa aaagacaggg ctgataagct aacaccagac\n",
      "     1441 agacaacact gggaaacaga ggctattgtc ccctaaacca aaaactgaaa gtgaaagtcc\n",
      "     1501 agaaactgtt cccacctgct ggagtgaagg ggccaaggag ggtgagtgca aggggcgtgg\n",
      "     1561 gagtggcctg aagagtcctc tgaatgaacc ttctggcctc ccacagactc aaatgctcag\n",
      "     1621 accagctctt ccgaaaacca ggccttatct ccaagaccag agatagtggg gagacttctt\n",
      "     1681 ggcttggtga ggaaaagcgg acatcagctg gtcaaacaaa ctctctgaac ccctccctcc\n",
      "     1741 atcgttttct tcactgtcct ccaagccagc gggaatggca gctgccacgc cgccctaaaa\n",
      "     1801 gcacactcat cccctcactt gccgcgtcgc cctcccaggc tctcaacagg ggagagtgtg\n",
      "     1861 gtgtttcctg caggccaggc cagctgcctc cgcgtgatca aagccacact ctgggctcca\n",
      "     1921 gagtggggat gacatgcact cagctcttgg ctccactggg atgggaggag aggacaaggg\n",
      "     1981 aaatgtcagg ggcggggagg gtgacagtgg ccgcccaagg cccacgagct tgttctttgt\n",
      "     2041 tctttgtcac agggactgaa aacctctcct catgttctgc tttcgattcg ttaagagagc\n",
      "     2101 aacattttac ccacacacag ataaagtttt cccttgagga aacaacagct ttaaaagaaa\n",
      "     2161 aagaaaaaaa aagtctttgg taaatggcaa a\n",
      "//\n",
      "\n",
      "\n"
     ]
    }
   ],
   "source": [
    "from Bio import Entrez\n",
    "\n",
    "def fetch_genbank_entry(genbank_id):\n",
    "    Entrez.email = \"l191135@lhr.nu.edu.pk\"\n",
    "    handle = Entrez.efetch(db=\"nucleotide\", id=genbank_id, rettype=\"gb\", retmode=\"text\")\n",
    "    genbank_record = handle.read()\n",
    "    return genbank_record\n",
    "\n",
    "genbank_id = \"NM_001301717\"  # Replace with a valid GenBank ID\n",
    "genbank_entry = fetch_genbank_entry(genbank_id)\n",
    "print(\"GenBank Entry:\")\n",
    "print(genbank_entry)"
   ]
  },
  {
   "cell_type": "markdown",
   "metadata": {},
   "source": [
    "Microarray Data Analysis (Gene Expression Profiling):\n",
    "\n",
    "Problem: Analyze gene expression data from a microarray experiment."
   ]
  },
  {
   "cell_type": "code",
   "execution_count": 9,
   "metadata": {},
   "outputs": [
    {
     "name": "stdout",
     "output_type": "stream",
     "text": [
      "Mean Expression:\n",
      "Sample1    2.900\n",
      "Sample2    2.925\n",
      "Sample3    2.925\n",
      "dtype: float64\n"
     ]
    }
   ],
   "source": [
    "import numpy as np\n",
    "import pandas as pd\n",
    "\n",
    "# Simulated gene expression data\n",
    "data = {\n",
    "    \"Sample1\": [2.5, 3.1, 1.8, 4.2],\n",
    "    \"Sample2\": [3.0, 2.8, 1.9, 4.0],\n",
    "    \"Sample3\": [2.7, 3.2, 1.7, 4.1],\n",
    "}\n",
    "\n",
    "df = pd.DataFrame(data)\n",
    "mean_expression = df.mean()\n",
    "print(\"Mean Expression:\")\n",
    "print(mean_expression)"
   ]
  },
  {
   "cell_type": "markdown",
   "metadata": {},
   "source": [
    "Population Genetics (Genetic Variation):\n",
    "\n",
    "Problem: Calculate genetic diversity in a population."
   ]
  },
  {
   "cell_type": "code",
   "execution_count": 10,
   "metadata": {},
   "outputs": [
    {
     "name": "stdout",
     "output_type": "stream",
     "text": [
      "Genetic Diversity (Heterozygosity): 0.48\n"
     ]
    }
   ],
   "source": [
    "def calculate_genetic_diversity(allele_frequencies):\n",
    "    heterozygosity = 1 - sum(x ** 2 for x in allele_frequencies)\n",
    "    return heterozygosity\n",
    "\n",
    "allele_freqs = [0.6, 0.4]\n",
    "genetic_diversity = calculate_genetic_diversity(allele_freqs)\n",
    "print(\"Genetic Diversity (Heterozygosity):\", genetic_diversity)"
   ]
  },
  {
   "cell_type": "markdown",
   "metadata": {},
   "source": [
    "Molecular Docking (Ligand-Receptor Interaction):\n",
    "\n",
    "Problem: Predict the binding energy between a ligand and a receptor protein."
   ]
  },
  {
   "cell_type": "code",
   "execution_count": 11,
   "metadata": {},
   "outputs": [
    {
     "name": "stdout",
     "output_type": "stream",
     "text": [
      "Binding Energy: 8.8\n"
     ]
    }
   ],
   "source": [
    "def calculate_binding_energy(ligand, receptor):\n",
    "    # A simplified scoring function\n",
    "    binding_energy = -1.0 * (ligand + receptor)\n",
    "    return binding_energy\n",
    "\n",
    "ligand_energy = -5.2\n",
    "receptor_energy = -3.6\n",
    "binding_energy = calculate_binding_energy(ligand_energy, receptor_energy)\n",
    "print(\"Binding Energy:\", binding_energy)"
   ]
  },
  {
   "cell_type": "markdown",
   "metadata": {},
   "source": [
    "Functional RNA Analysis (MicroRNA Analysis):\n",
    "\n",
    "Problem: Identify potential microRNA binding sites in an mRNA sequence."
   ]
  },
  {
   "cell_type": "code",
   "execution_count": 12,
   "metadata": {},
   "outputs": [
    {
     "name": "stdout",
     "output_type": "stream",
     "text": [
      "MicroRNA Binding Sites: [9, 13, 17]\n"
     ]
    }
   ],
   "source": [
    "def find_microRNA_binding_sites(mrna_sequence, microrna_sequence):\n",
    "    binding_sites = []\n",
    "    for i in range(len(mrna_sequence) - len(microrna_sequence) + 1):\n",
    "        if mrna_sequence[i:i + len(microrna_sequence)] == microrna_sequence:\n",
    "            binding_sites.append(i)\n",
    "    return binding_sites\n",
    "\n",
    "mrna_sequence = \"ATCGATCGTAGCTAGCTAGCTAGCT\"\n",
    "microrna_sequence = \"AGCTAGC\"\n",
    "sites = find_microRNA_binding_sites(mrna_sequence, microrna_sequence)\n",
    "print(\"MicroRNA Binding Sites:\", sites)"
   ]
  },
  {
   "cell_type": "markdown",
   "metadata": {},
   "source": [
    "Protein-Protein Interaction Networks (Network Analysis):\n",
    "\n",
    "Problem: Analyze a protein-protein interaction network to find hub proteins."
   ]
  },
  {
   "cell_type": "code",
   "execution_count": 13,
   "metadata": {},
   "outputs": [
    {
     "name": "stdout",
     "output_type": "stream",
     "text": [
      "Hub Proteins: ['ProteinA', 'ProteinB', 'ProteinC']\n"
     ]
    }
   ],
   "source": [
    "import networkx as nx\n",
    "\n",
    "def find_hub_proteins(interaction_network):\n",
    "    degree_centrality = nx.degree_centrality(interaction_network)\n",
    "    hubs = [node for node, centrality in degree_centrality.items() if centrality > 0.2]\n",
    "    return hubs\n",
    "\n",
    "G = nx.Graph()\n",
    "G.add_edge(\"ProteinA\", \"ProteinB\")\n",
    "G.add_edge(\"ProteinA\", \"ProteinC\")\n",
    "G.add_edge(\"ProteinB\", \"ProteinC\")\n",
    "\n",
    "hub_proteins = find_hub_proteins(G)\n",
    "print(\"Hub Proteins:\", hub_proteins)"
   ]
  },
  {
   "cell_type": "markdown",
   "metadata": {},
   "source": [
    "Biological Image Analysis (Microscopy Data):\n",
    "\n",
    "Problem: Analyze cellular images to count the number of cells"
   ]
  },
  {
   "cell_type": "code",
   "execution_count": 27,
   "metadata": {},
   "outputs": [
    {
     "name": "stdout",
     "output_type": "stream",
     "text": [
      "Cell Count: 213\n"
     ]
    }
   ],
   "source": [
    "import cv2\n",
    "import requests\n",
    "import numpy as np\n",
    "from io import BytesIO\n",
    "\n",
    "def count_cells_from_url(image_url):\n",
    "    try:\n",
    "        # Download the image from the URL\n",
    "        response = requests.get(image_url)\n",
    "        if response.status_code != 200:\n",
    "            raise ValueError(\"Failed to download the image.\")\n",
    "\n",
    "        # Convert the downloaded image content to a NumPy array\n",
    "        image_bytes = BytesIO(response.content)\n",
    "        image = np.asarray(bytearray(image_bytes.read()), dtype=np.uint8)\n",
    "        image = cv2.imdecode(image, cv2.IMREAD_COLOR)\n",
    "\n",
    "        # Perform cell counting (similar to the previous code)\n",
    "        gray_image = cv2.cvtColor(image, cv2.COLOR_BGR2GRAY)\n",
    "        _, thresholded_image = cv2.threshold(gray_image, 128, 255, cv2.THRESH_BINARY)\n",
    "        contours, _ = cv2.findContours(thresholded_image, cv2.RETR_EXTERNAL, cv2.CHAIN_APPROX_SIMPLE)\n",
    "\n",
    "        cell_count = len(contours)\n",
    "        return cell_count\n",
    "    except Exception as e:\n",
    "        return str(e)\n",
    "\n",
    "# Example usage with an image URL (replace with your own image URL)\n",
    "image_url = \"https://themarkfoundation.org/wp-content/uploads/2020/01/Taube-Image.jpg\"\n",
    "cell_count = count_cells_from_url(image_url)\n",
    "\n",
    "if isinstance(cell_count, int):\n",
    "    print(\"Cell Count:\", cell_count)\n",
    "else:\n",
    "    print(\"Error:\", cell_count)"
   ]
  },
  {
   "cell_type": "markdown",
   "metadata": {},
   "source": [
    "Viral Genomics (Analysis of Viral Genomes):\n",
    "\n",
    "Problem: Analyze a viral genome to identify genes and regulatory elements."
   ]
  },
  {
   "cell_type": "code",
   "execution_count": 29,
   "metadata": {},
   "outputs": [
    {
     "name": "stdout",
     "output_type": "stream",
     "text": [
      "Predicted Genes: ['nu1', 'A', 'W', 'B', 'C', 'nu3', 'D', 'E', 'Fi', 'Fii', 'Z', 'U', 'V', 'G', 'T', 'H', 'M', 'L', 'K', 'I', 'J', 'lom', 'orf-401', 'orf206b', 'orf-314', 'orf-194', 'ea47', 'ea31', 'ea59', 'xis', 'int', 'xis', 'ea8.5', 'ea22', 'orf61', 'orf63', 'orf60a', 'exo', 'bet', 'gam', 'kil', 'cIII', 'ea10', 'ral', 'orf28', 'N', 'rexb', 'rexa', 'cI', 'cro', 'cII', 'O', 'P', 'ren', 'NinB', 'NinC', 'NinD', 'NinE', 'NinF', 'NinG', 'NinH', 'NinI', 'Q', 'orf-64', 'S', \"S'\", 'R', 'Rz', 'Rz1', 'bor']\n"
     ]
    }
   ],
   "source": [
    "from Bio import Entrez, SeqIO\n",
    "\n",
    "def fetch_genbank(accession):\n",
    "    # Provide your email address for NCBI Entrez\n",
    "    Entrez.email = \"l191135@lhr.nu.edu.pk\"\n",
    "\n",
    "    # Fetch the GenBank record for the given accession\n",
    "    handle = Entrez.efetch(db=\"nucleotide\", id=accession, rettype=\"gb\", retmode=\"text\")\n",
    "    genbank_record = SeqIO.read(handle, \"genbank\")\n",
    "    handle.close()\n",
    "\n",
    "    return genbank_record\n",
    "\n",
    "def predict_genes(viral_genome):\n",
    "    # Gene prediction logic (simplified)\n",
    "    genes = []\n",
    "    for feature in viral_genome.features:\n",
    "        if feature.type == \"gene\" and \"gene\" in feature.qualifiers:\n",
    "            genes.append(feature.qualifiers[\"gene\"][0])\n",
    "    return genes\n",
    "\n",
    "# Specify the GenBank accession number for your viral genome\n",
    "accession_number = \"NC_001416\"  # Replace with the accession number you want to analyze\n",
    "\n",
    "# Fetch the GenBank record from NCBI\n",
    "genbank_record = fetch_genbank(accession_number)\n",
    "\n",
    "# Predict genes from the GenBank record\n",
    "predicted_genes = predict_genes(genbank_record)\n",
    "\n",
    "print(\"Predicted Genes:\", predicted_genes)\n"
   ]
  },
  {
   "cell_type": "markdown",
   "metadata": {},
   "source": [
    "Epigenomics (DNA Methylation Analysis):\n",
    "\n",
    "Problem: Analyze DNA methylation patterns in a set of CpG sites."
   ]
  },
  {
   "cell_type": "code",
   "execution_count": 16,
   "metadata": {},
   "outputs": [
    {
     "name": "stdout",
     "output_type": "stream",
     "text": [
      "Methylation Percentage: 60.0 %\n"
     ]
    }
   ],
   "source": [
    "def calculate_methylation_percentage(methylated, total):\n",
    "    methylation_percentage = (methylated / total) * 100\n",
    "    return methylation_percentage\n",
    "\n",
    "methylated_sites = 12\n",
    "total_sites = 20\n",
    "methylation_percentage = calculate_methylation_percentage(methylated_sites, total_sites)\n",
    "print(\"Methylation Percentage:\", methylation_percentage, \"%\")"
   ]
  },
  {
   "cell_type": "markdown",
   "metadata": {},
   "source": [
    "Functional Annotation (Gene Ontology Analysis):\n",
    "\n",
    "Problem: Annotate genes with Gene Ontology (GO) terms."
   ]
  },
  {
   "cell_type": "code",
   "execution_count": 17,
   "metadata": {},
   "outputs": [
    {
     "name": "stdout",
     "output_type": "stream",
     "text": [
      "GO Annotations: ['GO:0001234', 'GO:0012345', 'GO:0012345', 'GO:0023456']\n"
     ]
    }
   ],
   "source": [
    "def annotate_genes_with_go_terms(gene_go_mapping, genes):\n",
    "    annotations = []\n",
    "    for gene in genes:\n",
    "        if gene in gene_go_mapping:\n",
    "            annotations.extend(gene_go_mapping[gene])\n",
    "    return annotations\n",
    "\n",
    "gene_go_mapping = {\n",
    "    \"GeneA\": [\"GO:0001234\", \"GO:0012345\"],\n",
    "    \"GeneB\": [\"GO:0012345\", \"GO:0023456\"],\n",
    "}\n",
    "genes_of_interest = [\"GeneA\", \"GeneB\"]\n",
    "annotations = annotate_genes_with_go_terms(gene_go_mapping, genes_of_interest)\n",
    "print(\"GO Annotations:\", annotations)"
   ]
  },
  {
   "cell_type": "markdown",
   "metadata": {},
   "source": [
    "Systems Biology (Modeling Biological Systems):\n",
    "\n",
    "Problem: Simulate a simple biological system using differential equations."
   ]
  },
  {
   "cell_type": "code",
   "execution_count": 19,
   "metadata": {},
   "outputs": [
    {
     "data": {
      "image/png": "[encoded data removed]",
      "text/plain": [
       "<Figure size 640x480 with 1 Axes>"
      ]
     },
     "metadata": {},
     "output_type": "display_data"
    }
   ],
   "source": [
    "from scipy.integrate import solve_ivp\n",
    "import matplotlib.pyplot as plt\n",
    "\n",
    "def population_growth(t, y, r):\n",
    "    return r * y\n",
    "\n",
    "r = 0.1  # Growth rate\n",
    "initial_population = [10]\n",
    "t_span = (0, 10)\n",
    "sol = solve_ivp(population_growth, t_span, initial_population, args=(r,), dense_output=True)\n",
    "\n",
    "t = np.linspace(0, 10, 100)\n",
    "y = sol.sol(t)\n",
    "\n",
    "plt.plot(t, y[0])\n",
    "plt.xlabel('Time')\n",
    "plt.ylabel('Population Size')\n",
    "plt.show()"
   ]
  },
  {
   "cell_type": "markdown",
   "metadata": {},
   "source": [
    "Vaccine Development (Antigen Identification):\n",
    "\n",
    "Problem: Predict potential antigenic epitopes for vaccine development."
   ]
  },
  {
   "cell_type": "code",
   "execution_count": 20,
   "metadata": {},
   "outputs": [
    {
     "name": "stdout",
     "output_type": "stream",
     "text": [
      "Predicted Antigenic Epitopes: ['Epi1', 'Epi2', 'Epi3']\n"
     ]
    }
   ],
   "source": [
    "def predict_antigenic_epitopes(protein_sequence):\n",
    "    # Antigenic epitope prediction logic (simplified)\n",
    "    epitopes = [\"Epi1\", \"Epi2\", \"Epi3\"]\n",
    "    return epitopes\n",
    "\n",
    "protein_sequence = \"ATCGATCGTAGCTAGCTAGCTAGCT\"\n",
    "antigenic_epitopes = predict_antigenic_epitopes(protein_sequence)\n",
    "print(\"Predicted Antigenic Epitopes:\", antigenic_epitopes)"
   ]
  },
  {
   "cell_type": "markdown",
   "metadata": {},
   "source": [
    "Pharmacogenomics (Personalized Medicine):\n",
    "\n",
    "Problem: Predict a patient's response to a specific drug based on their genetic profile."
   ]
  },
  {
   "cell_type": "code",
   "execution_count": 21,
   "metadata": {},
   "outputs": [
    {
     "name": "stdout",
     "output_type": "stream",
     "text": [
      "Drug Response Prediction: Good\n"
     ]
    }
   ],
   "source": [
    "def predict_drug_response(genetic_marker):\n",
    "    if genetic_marker == \"MarkerA\":\n",
    "        response = \"Good\"\n",
    "    else:\n",
    "        response = \"Poor\"\n",
    "    return response\n",
    "\n",
    "patient_marker = \"MarkerA\"\n",
    "drug_response = predict_drug_response(patient_marker)\n",
    "print(\"Drug Response Prediction:\", drug_response)"
   ]
  }
 ],
 "metadata": {
  "kernelspec": {
   "display_name": "Python 3",
   "language": "python",
   "name": "python3"
  },
  "language_info": {
   "codemirror_mode": {
    "name": "ipython",
    "version": 3
   },
   "file_extension": ".py",
   "mimetype": "text/x-python",
   "name": "python",
   "nbconvert_exporter": "python",
   "pygments_lexer": "ipython3",
   "version": "3.9.6"
  }
 },
 "nbformat": 4,
 "nbformat_minor": 2
}
