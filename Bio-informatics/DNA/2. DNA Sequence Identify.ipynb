{
 "cells": [
  {
   "cell_type": "markdown",
   "metadata": {},
   "source": [
    "a simple Python code that uses the Biopython library to search for a specific pattern in a DNA sequence"
   ]
  },
  {
   "cell_type": "code",
   "execution_count": 6,
   "metadata": {},
   "outputs": [],
   "source": [
    "import re\n",
    "from Bio.Seq import Seq"
   ]
  },
  {
   "cell_type": "code",
   "execution_count": 7,
   "metadata": {},
   "outputs": [],
   "source": [
    "# Define the DNA sequence\n",
    "sequence = \"ATGCTAGCTAGCTAGCTAGCTAGCTA\""
   ]
  },
  {
   "cell_type": "code",
   "execution_count": 8,
   "metadata": {},
   "outputs": [],
   "source": [
    "# Create a Seq object from the sequence\n",
    "dna_seq = Seq(sequence)"
   ]
  },
  {
   "cell_type": "code",
   "execution_count": 9,
   "metadata": {},
   "outputs": [],
   "source": [
    "# Define the pattern you want to search for\n",
    "pattern = \"CTAG\""
   ]
  },
  {
   "cell_type": "code",
   "execution_count": 10,
   "metadata": {},
   "outputs": [],
   "source": [
    "# Find all occurrences of the pattern in the DNA sequence\n",
    "matches = [match.start() for match in re.finditer(pattern, str(dna_seq))]"
   ]
  },
  {
   "cell_type": "code",
   "execution_count": 11,
   "metadata": {},
   "outputs": [
    {
     "name": "stdout",
     "output_type": "stream",
     "text": [
      "Pattern 'CTAG' found at positions: 3, 7, 11, 15, 19\n"
     ]
    }
   ],
   "source": [
    "# Print the positions of the pattern matches\n",
    "if matches:\n",
    "    print(f\"Pattern '{pattern}' found at positions: {', '.join(map(str, matches))}\")\n",
    "else:\n",
    "    print(f\"Pattern '{pattern}' not found in the sequence.\")"
   ]
  }
 ],
 "metadata": {
  "kernelspec": {
   "display_name": "Python 3",
   "language": "python",
   "name": "python3"
  },
  "language_info": {
   "codemirror_mode": {
    "name": "ipython",
    "version": 3
   },
   "file_extension": ".py",
   "mimetype": "text/x-python",
   "name": "python",
   "nbconvert_exporter": "python",
   "pygments_lexer": "ipython3",
   "version": "3.9.6"
  }
 },
 "nbformat": 4,
 "nbformat_minor": 2
}
