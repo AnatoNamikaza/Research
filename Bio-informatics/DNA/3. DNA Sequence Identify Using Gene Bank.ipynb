{
 "cells": [
  {
   "cell_type": "markdown",
   "metadata": {},
   "source": [
    "a Python program that can identify patterns in DNA or RNA sequences from the GenBank database"
   ]
  },
  {
   "cell_type": "code",
   "execution_count": 12,
   "metadata": {},
   "outputs": [],
   "source": [
    "from Bio import Entrez\n",
    "from Bio import SeqIO"
   ]
  },
  {
   "cell_type": "code",
   "execution_count": 13,
   "metadata": {},
   "outputs": [],
   "source": [
    "# Set your email address for NCBI Entrez\n",
    "Entrez.email = \"l191135@lhr.nu.edu.pk\""
   ]
  },
  {
   "cell_type": "code",
   "execution_count": 16,
   "metadata": {},
   "outputs": [],
   "source": [
    "def search_and_identify_pattern(query, pattern):\n",
    "    try:\n",
    "        # Search GenBank for your query\n",
    "        handle = Entrez.esearch(db=\"nucleotide\", term=query, retmax=10)\n",
    "        record = Entrez.read(handle)\n",
    "        if len(record[\"IdList\"]) == 0:\n",
    "            print(\"No matching sequences found.\")\n",
    "            return\n",
    "\n",
    "        # Fetch and process sequences\n",
    "        for seq_id in record[\"IdList\"]:\n",
    "            handle = Entrez.efetch(db=\"nucleotide\", id=seq_id, rettype=\"gb\", retmode=\"text\")\n",
    "            genbank_record = SeqIO.read(handle, \"genbank\")\n",
    "\n",
    "            # Check if the GenBank entry contains a sequence\n",
    "            if \"sequence\" in genbank_record.annotations:\n",
    "                sequence = str(genbank_record.seq)\n",
    "\n",
    "                # Search for the pattern in the sequence\n",
    "                if pattern in sequence:\n",
    "                    print(f\"Pattern '{pattern}' found in GenBank entry {seq_id}\")\n",
    "                else:\n",
    "                    print(f\"Pattern '{pattern}' not found in GenBank entry {seq_id}\")\n",
    "            else:\n",
    "                print(f\"No sequence found in GenBank entry {seq_id}\")\n",
    "\n",
    "    except Exception as e:\n",
    "        print(\"An error occurred:\", e)"
   ]
  },
  {
   "cell_type": "code",
   "execution_count": 17,
   "metadata": {},
   "outputs": [
    {
     "name": "stdout",
     "output_type": "stream",
     "text": [
      "No sequence found in GenBank entry 2413633964\n",
      "No sequence found in GenBank entry 1511109186\n",
      "No sequence found in GenBank entry 411115947\n",
      "No sequence found in GenBank entry 411115910\n",
      "No sequence found in GenBank entry 411115778\n",
      "No sequence found in GenBank entry 408541616\n",
      "No sequence found in GenBank entry 406021469\n",
      "No sequence found in GenBank entry 402475107\n",
      "No sequence found in GenBank entry 398373017\n",
      "No sequence found in GenBank entry 385726818\n"
     ]
    }
   ],
   "source": [
    "if __name__ == \"__main__\":\n",
    "    # Define your search query (e.g., sequences containing the pattern \"AGGTGTT\")\n",
    "    search_query = \"AGGTGTT[All Fields]\"\n",
    "    \n",
    "    # Define the pattern you want to search for (e.g., \"AGGTGTT\")\n",
    "    pattern = \"AGGTGTT\"\n",
    "\n",
    "    # Call the function to search and identify the pattern\n",
    "    search_and_identify_pattern(search_query, pattern)"
   ]
  }
 ],
 "metadata": {
  "kernelspec": {
   "display_name": "Python 3",
   "language": "python",
   "name": "python3"
  },
  "language_info": {
   "codemirror_mode": {
    "name": "ipython",
    "version": 3
   },
   "file_extension": ".py",
   "mimetype": "text/x-python",
   "name": "python",
   "nbconvert_exporter": "python",
   "pygments_lexer": "ipython3",
   "version": "3.9.6"
  }
 },
 "nbformat": 4,
 "nbformat_minor": 2
}
