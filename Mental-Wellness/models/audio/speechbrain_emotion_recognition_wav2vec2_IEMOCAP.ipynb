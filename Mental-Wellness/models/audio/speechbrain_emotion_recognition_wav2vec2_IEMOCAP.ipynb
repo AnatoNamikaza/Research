{
  "nbformat": 4,
  "nbformat_minor": 0,
  "metadata": {
    "colab": {
      "provenance": []
    },
    "kernelspec": {
      "name": "python3",
      "display_name": "Python 3"
    },
    "language_info": {
      "name": "python"
    }
  },
  "cells": [
    {
      "cell_type": "markdown",
      "source": [
        "**For installing the model**"
      ],
      "metadata": {
        "id": "XPXv4-So-4Y5"
      }
    },
    {
      "cell_type": "code",
      "execution_count": null,
      "metadata": {
        "id": "8_NQiRZvsidT",
        "colab": {
          "base_uri": "https://localhost:8080/"
        },
        "outputId": "093e3132-d249-430e-f7d0-85d2b32422a8"
      },
      "outputs": [
        {
          "output_type": "stream",
          "name": "stdout",
          "text": [
            "Requirement already satisfied: speechbrain in /usr/local/lib/python3.10/dist-packages (1.0.1)\n",
            "Requirement already satisfied: hyperpyyaml in /usr/local/lib/python3.10/dist-packages (from speechbrain) (1.2.2)\n",
            "Requirement already satisfied: joblib in /usr/local/lib/python3.10/dist-packages (from speechbrain) (1.4.2)\n",
            "Requirement already satisfied: numpy in /usr/local/lib/python3.10/dist-packages (from speechbrain) (1.26.4)\n",
            "Requirement already satisfied: packaging in /usr/local/lib/python3.10/dist-packages (from speechbrain) (24.1)\n",
            "Requirement already satisfied: scipy in /usr/local/lib/python3.10/dist-packages (from speechbrain) (1.13.1)\n",
            "Requirement already satisfied: sentencepiece in /usr/local/lib/python3.10/dist-packages (from speechbrain) (0.2.0)\n",
            "Requirement already satisfied: torch>=1.9 in /usr/local/lib/python3.10/dist-packages (from speechbrain) (2.5.0+cu121)\n",
            "Requirement already satisfied: torchaudio in /usr/local/lib/python3.10/dist-packages (from speechbrain) (2.5.0+cu121)\n",
            "Requirement already satisfied: tqdm in /usr/local/lib/python3.10/dist-packages (from speechbrain) (4.66.5)\n",
            "Requirement already satisfied: huggingface-hub in /usr/local/lib/python3.10/dist-packages (from speechbrain) (0.24.7)\n",
            "Requirement already satisfied: filelock in /usr/local/lib/python3.10/dist-packages (from torch>=1.9->speechbrain) (3.16.1)\n",
            "Requirement already satisfied: typing-extensions>=4.8.0 in /usr/local/lib/python3.10/dist-packages (from torch>=1.9->speechbrain) (4.12.2)\n",
            "Requirement already satisfied: networkx in /usr/local/lib/python3.10/dist-packages (from torch>=1.9->speechbrain) (3.4.2)\n",
            "Requirement already satisfied: jinja2 in /usr/local/lib/python3.10/dist-packages (from torch>=1.9->speechbrain) (3.1.4)\n",
            "Requirement already satisfied: fsspec in /usr/local/lib/python3.10/dist-packages (from torch>=1.9->speechbrain) (2024.6.1)\n",
            "Requirement already satisfied: sympy==1.13.1 in /usr/local/lib/python3.10/dist-packages (from torch>=1.9->speechbrain) (1.13.1)\n",
            "Requirement already satisfied: mpmath<1.4,>=1.1.0 in /usr/local/lib/python3.10/dist-packages (from sympy==1.13.1->torch>=1.9->speechbrain) (1.3.0)\n",
            "Requirement already satisfied: pyyaml>=5.1 in /usr/local/lib/python3.10/dist-packages (from huggingface-hub->speechbrain) (6.0.2)\n",
            "Requirement already satisfied: requests in /usr/local/lib/python3.10/dist-packages (from huggingface-hub->speechbrain) (2.32.3)\n",
            "Requirement already satisfied: ruamel.yaml>=0.17.28 in /usr/local/lib/python3.10/dist-packages (from hyperpyyaml->speechbrain) (0.18.6)\n",
            "Requirement already satisfied: ruamel.yaml.clib>=0.2.7 in /usr/local/lib/python3.10/dist-packages (from ruamel.yaml>=0.17.28->hyperpyyaml->speechbrain) (0.2.12)\n",
            "Requirement already satisfied: MarkupSafe>=2.0 in /usr/local/lib/python3.10/dist-packages (from jinja2->torch>=1.9->speechbrain) (3.0.2)\n",
            "Requirement already satisfied: charset-normalizer<4,>=2 in /usr/local/lib/python3.10/dist-packages (from requests->huggingface-hub->speechbrain) (3.4.0)\n",
            "Requirement already satisfied: idna<4,>=2.5 in /usr/local/lib/python3.10/dist-packages (from requests->huggingface-hub->speechbrain) (3.10)\n",
            "Requirement already satisfied: urllib3<3,>=1.21.1 in /usr/local/lib/python3.10/dist-packages (from requests->huggingface-hub->speechbrain) (2.2.3)\n",
            "Requirement already satisfied: certifi>=2017.4.17 in /usr/local/lib/python3.10/dist-packages (from requests->huggingface-hub->speechbrain) (2024.8.30)\n",
            "Requirement already satisfied: torchaudio in /usr/local/lib/python3.10/dist-packages (2.5.0+cu121)\n",
            "Requirement already satisfied: torch==2.5.0 in /usr/local/lib/python3.10/dist-packages (from torchaudio) (2.5.0+cu121)\n",
            "Requirement already satisfied: filelock in /usr/local/lib/python3.10/dist-packages (from torch==2.5.0->torchaudio) (3.16.1)\n",
            "Requirement already satisfied: typing-extensions>=4.8.0 in /usr/local/lib/python3.10/dist-packages (from torch==2.5.0->torchaudio) (4.12.2)\n",
            "Requirement already satisfied: networkx in /usr/local/lib/python3.10/dist-packages (from torch==2.5.0->torchaudio) (3.4.2)\n",
            "Requirement already satisfied: jinja2 in /usr/local/lib/python3.10/dist-packages (from torch==2.5.0->torchaudio) (3.1.4)\n",
            "Requirement already satisfied: fsspec in /usr/local/lib/python3.10/dist-packages (from torch==2.5.0->torchaudio) (2024.6.1)\n",
            "Requirement already satisfied: sympy==1.13.1 in /usr/local/lib/python3.10/dist-packages (from torch==2.5.0->torchaudio) (1.13.1)\n",
            "Requirement already satisfied: mpmath<1.4,>=1.1.0 in /usr/local/lib/python3.10/dist-packages (from sympy==1.13.1->torch==2.5.0->torchaudio) (1.3.0)\n",
            "Requirement already satisfied: MarkupSafe>=2.0 in /usr/local/lib/python3.10/dist-packages (from jinja2->torch==2.5.0->torchaudio) (3.0.2)\n"
          ]
        }
      ],
      "source": [
        "!pip install speechbrain\n",
        "!pip install torchaudio\n"
      ]
    },
    {
      "cell_type": "code",
      "source": [
        "from speechbrain.pretrained import EncoderClassifier\n",
        "from speechbrain.inference.interfaces import foreign_class\n",
        "from speechbrain.pretrained import EncoderClassifier\n",
        "import torch\n",
        "import torchaudio\n",
        "import numpy as np"
      ],
      "metadata": {
        "id": "GLEyJq5R_GSL"
      },
      "execution_count": 30,
      "outputs": []
    },
    {
      "cell_type": "code",
      "source": [
        "class CustomEncoderWav2vec2Classifier:\n",
        "    def __init__(self, source, savedir):\n",
        "        self.model = EncoderClassifier.from_hparams(source=source, savedir=savedir)\n",
        "\n",
        "    def classify_file(self, audio_file):\n",
        "        # Uses the classifier to predict the emotion\n",
        "        prediction = self.model.classify_file(audio_file)\n",
        "        out_prob, score, index = prediction[1], prediction[2], prediction[3]\n",
        "        text_lab = prediction[0]\n",
        "        return out_prob, score, index, text_lab\n"
      ],
      "metadata": {
        "id": "SLp7ggLvxj9z"
      },
      "execution_count": 31,
      "outputs": []
    },
    {
      "cell_type": "markdown",
      "source": [
        "Initializing model (speechbrain/emotion-recognition-wav2vec2-IEMOCAP)"
      ],
      "metadata": {
        "id": "cn5u3W4LCR_v"
      }
    },
    {
      "cell_type": "code",
      "source": [
        "# Initialize the custom classifier using foreign_class\n",
        "classifier = foreign_class(\n",
        "    source=\"speechbrain/emotion-recognition-wav2vec2-IEMOCAP\",\n",
        "    pymodule_file=\"custom_interface.py\",\n",
        "    classname=\"CustomEncoderWav2vec2Classifier\"\n",
        ")"
      ],
      "metadata": {
        "id": "gohAv-9R_hI4",
        "colab": {
          "base_uri": "https://localhost:8080/"
        },
        "outputId": "28e7bd67-477f-49ca-bed9-c949fca72100"
      },
      "execution_count": 32,
      "outputs": [
        {
          "output_type": "stream",
          "name": "stderr",
          "text": [
            "Some weights of Wav2Vec2Model were not initialized from the model checkpoint at facebook/wav2vec2-base and are newly initialized: ['wav2vec2.encoder.pos_conv_embed.conv.parametrizations.weight.original0', 'wav2vec2.encoder.pos_conv_embed.conv.parametrizations.weight.original1']\n",
            "You should probably TRAIN this model on a down-stream task to be able to use it for predictions and inference.\n",
            "WARNING:speechbrain.lobes.models.huggingface_transformers.huggingface:speechbrain.lobes.models.huggingface_transformers.huggingface - Wav2Vec2Model is frozen.\n"
          ]
        }
      ]
    },
    {
      "cell_type": "markdown",
      "source": [
        "Import your speech file (.wav)"
      ],
      "metadata": {
        "id": "w6IDrK6gCKlN"
      }
    },
    {
      "cell_type": "code",
      "source": [
        "# Path to your audio file (make sure to upload or access a valid path)\n",
        "audio_file_path = \"/content/That-s a really good idea 1.wav\"  # Replace with your actual file path\n",
        "\n",
        "# Run the classifier on the audio file\n",
        "out_prob, score, index, text_lab = classifier.classify_file(audio_file_path)\n",
        "print(f\"Predicted Emotion: {text_lab}\")\n"
      ],
      "metadata": {
        "colab": {
          "base_uri": "https://localhost:8080/"
        },
        "id": "mEvcbCpU9lHK",
        "outputId": "12e3cd8c-966e-464b-8e51-5e6fcd9a2613"
      },
      "execution_count": 44,
      "outputs": [
        {
          "output_type": "stream",
          "name": "stdout",
          "text": [
            "Predicted Emotion: ['ang']\n"
          ]
        }
      ]
    },
    {
      "cell_type": "markdown",
      "source": [
        "Available Output labels"
      ],
      "metadata": {
        "id": "RpvSldbFB_kP"
      }
    },
    {
      "cell_type": "code",
      "source": [
        "# Retrieve all emotion labels by reversing the label-to-index dictionary\n",
        "emotion_labels = list(model.hparams.label_encoder.lab2ind.keys())\n",
        "print(\"Emotion Labels:\", emotion_labels)\n"
      ],
      "metadata": {
        "colab": {
          "base_uri": "https://localhost:8080/"
        },
        "id": "M9PlnFgsBg-0",
        "outputId": "1fccc7e4-a8be-4ffe-c20a-50846a1eb807"
      },
      "execution_count": null,
      "outputs": [
        {
          "output_type": "stream",
          "name": "stdout",
          "text": [
            "Emotion Labels: ['neu', 'ang', 'hap', 'sad']\n"
          ]
        }
      ]
    }
  ]
}