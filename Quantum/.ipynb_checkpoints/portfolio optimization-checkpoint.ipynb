{
 "cells": [
  {
   "cell_type": "code",
   "execution_count": 1,
   "id": "d4a43360",
   "metadata": {},
   "outputs": [],
   "source": [
    "from qiskit import Aer, QuantumCircuit, transpile, assemble\n",
    "from qiskit.visualization import plot_histogram\n",
    "import numpy as np"
   ]
  },
  {
   "cell_type": "code",
   "execution_count": 2,
   "id": "96035286",
   "metadata": {},
   "outputs": [],
   "source": [
    "# Generate random expected returns for assets\n",
    "np.random.seed(42)\n",
    "num_assets = 3\n",
    "expected_returns = np.random.rand(num_assets)"
   ]
  },
  {
   "cell_type": "code",
   "execution_count": 3,
   "id": "9a9eb1ae",
   "metadata": {},
   "outputs": [],
   "source": [
    "# Generate a random covariance matrix for the assets\n",
    "covariance_matrix = np.random.rand(num_assets, num_assets)\n",
    "covariance_matrix = (covariance_matrix + covariance_matrix.T) / 2  # Ensure symmetry\n",
    "covariance_matrix[np.arange(num_assets), np.arange(num_assets)] = 1  # Set diagonal to 1 for simplicity"
   ]
  },
  {
   "cell_type": "code",
   "execution_count": 4,
   "id": "5b80bba6",
   "metadata": {},
   "outputs": [],
   "source": [
    "# Define the Quantum Circuit for Portfolio Optimization\n",
    "def portfolio_optimization_circuit(expected_returns, covariance_matrix):\n",
    "    num_assets = len(expected_returns)\n",
    "    num_qubits = 2 * num_assets\n",
    "\n",
    "    # Create a quantum circuit with the necessary number of qubits\n",
    "    qc = QuantumCircuit(num_qubits)\n",
    "\n",
    "    # Apply Hadamard gates to the first set of qubits\n",
    "    qc.h(range(num_assets))\n",
    "\n",
    "    # Apply a controlled rotation based on the covariance matrix\n",
    "    for i in range(num_assets):\n",
    "        for j in range(i + 1, num_assets):\n",
    "            qc.cp(2 * np.arcsin(covariance_matrix[i, j]), i, j + num_assets)\n",
    "            qc.cp(2 * np.arcsin(covariance_matrix[i, j]), j, i + num_assets)\n",
    "\n",
    "    # Apply a rotation based on the expected returns\n",
    "    qc.ry(2 * expected_returns[0], 0)\n",
    "    qc.ry(2 * expected_returns[1], 1)\n",
    "    qc.ry(2 * expected_returns[2], 2)\n",
    "\n",
    "    # Measure the qubits\n",
    "    qc.measure_all()\n",
    "\n",
    "    return qc\n"
   ]
  },
  {
   "cell_type": "code",
   "execution_count": 5,
   "id": "1077646c",
   "metadata": {},
   "outputs": [],
   "source": [
    "# Create the quantum circuit\n",
    "qc = portfolio_optimization_circuit(expected_returns, covariance_matrix)"
   ]
  },
  {
   "cell_type": "code",
   "execution_count": 2,
   "id": "8063a2db",
   "metadata": {},
   "outputs": [
    {
     "ename": "NameError",
     "evalue": "name 'Aer' is not defined",
     "output_type": "error",
     "traceback": [
      "\u001b[1;31m---------------------------------------------------------------------------\u001b[0m",
      "\u001b[1;31mNameError\u001b[0m                                 Traceback (most recent call last)",
      "Cell \u001b[1;32mIn[2], line 2\u001b[0m\n\u001b[0;32m      1\u001b[0m \u001b[38;5;66;03m# Simulate the quantum circuit\u001b[39;00m\n\u001b[1;32m----> 2\u001b[0m simulator \u001b[38;5;241m=\u001b[39m Aer\u001b[38;5;241m.\u001b[39mget_backend(\u001b[38;5;124m'\u001b[39m\u001b[38;5;124mqasm_simulator\u001b[39m\u001b[38;5;124m'\u001b[39m)\n\u001b[0;32m      3\u001b[0m compiled_circuit \u001b[38;5;241m=\u001b[39m transpile(qc, simulator)\n\u001b[0;32m      4\u001b[0m qobj \u001b[38;5;241m=\u001b[39m assemble(compiled_circuit)\n",
      "\u001b[1;31mNameError\u001b[0m: name 'Aer' is not defined"
     ]
    }
   ],
   "source": [
    "# Simulate the quantum circuit\n",
    "simulator = Aer.get_backend('qasm_simulator')\n",
    "compiled_circuit = transpile(qc, simulator)\n",
    "qobj = assemble(compiled_circuit)\n",
    "result = simulator.run(qobj).result()"
   ]
  },
  {
   "cell_type": "code",
   "execution_count": 1,
   "id": "ea70a384",
   "metadata": {},
   "outputs": [
    {
     "ename": "NameError",
     "evalue": "name 'result' is not defined",
     "output_type": "error",
     "traceback": [
      "\u001b[1;31m---------------------------------------------------------------------------\u001b[0m",
      "\u001b[1;31mNameError\u001b[0m                                 Traceback (most recent call last)",
      "Cell \u001b[1;32mIn[1], line 2\u001b[0m\n\u001b[0;32m      1\u001b[0m \u001b[38;5;66;03m# Display the results\u001b[39;00m\n\u001b[1;32m----> 2\u001b[0m counts \u001b[38;5;241m=\u001b[39m result\u001b[38;5;241m.\u001b[39mget_counts()\n\u001b[0;32m      3\u001b[0m plot_histogram(counts)\n",
      "\u001b[1;31mNameError\u001b[0m: name 'result' is not defined"
     ]
    }
   ],
   "source": [
    "# Display the results\n",
    "counts = result.get_counts()\n",
    "plot_histogram(counts)"
   ]
  },
  {
   "cell_type": "code",
   "execution_count": null,
   "id": "31e8c070",
   "metadata": {},
   "outputs": [],
   "source": []
  }
 ],
 "metadata": {
  "kernelspec": {
   "display_name": "Python 3 (ipykernel)",
   "language": "python",
   "name": "python3"
  },
  "language_info": {
   "codemirror_mode": {
    "name": "ipython",
    "version": 3
   },
   "file_extension": ".py",
   "mimetype": "text/x-python",
   "name": "python",
   "nbconvert_exporter": "python",
   "pygments_lexer": "ipython3",
   "version": "3.11.5"
  }
 },
 "nbformat": 4,
 "nbformat_minor": 5
}
