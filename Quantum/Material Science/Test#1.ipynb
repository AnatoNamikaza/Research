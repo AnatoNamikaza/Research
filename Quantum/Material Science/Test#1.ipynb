{
 "cells": [
  {
   "cell_type": "code",
   "execution_count": null,
   "id": "375266b4",
   "metadata": {},
   "outputs": [],
   "source": [
    "!pip install qiskit-chemistry"
   ]
  },
  {
   "cell_type": "code",
   "execution_count": null,
   "id": "278c6b21",
   "metadata": {},
   "outputs": [],
   "source": [
    "!pip uninstall qiskit_nature\n",
    "!pip install qiskit_nature"
   ]
  },
  {
   "cell_type": "code",
   "execution_count": 2,
   "id": "5afc0afb",
   "metadata": {},
   "outputs": [
    {
     "name": "stdout",
     "output_type": "stream",
     "text": [
      "Note: you may need to restart the kernel to use updated packages.\n"
     ]
    },
    {
     "name": "stderr",
     "output_type": "stream",
     "text": [
      "ERROR: Could not find a version that satisfies the requirement qiskit_nature.algorithms (from versions: none)\n",
      "ERROR: No matching distribution found for qiskit_nature.algorithms\n"
     ]
    }
   ],
   "source": [
    "pip install qiskit_nature.algorithms"
   ]
  },
  {
   "cell_type": "code",
   "execution_count": 3,
   "id": "6e671a36",
   "metadata": {},
   "outputs": [
    {
     "ename": "ImportError",
     "evalue": "cannot import name 'QiskitAlgorithms' from 'qiskit.algorithms' (E:\\anaconda3\\Lib\\site-packages\\qiskit\\algorithms\\__init__.py)",
     "output_type": "error",
     "traceback": [
      "\u001b[1;31m---------------------------------------------------------------------------\u001b[0m",
      "\u001b[1;31mImportError\u001b[0m                               Traceback (most recent call last)",
      "Cell \u001b[1;32mIn[3], line 3\u001b[0m\n\u001b[0;32m      1\u001b[0m \u001b[38;5;28;01mimport\u001b[39;00m \u001b[38;5;21;01mmatplotlib\u001b[39;00m\u001b[38;5;21;01m.\u001b[39;00m\u001b[38;5;21;01mpyplot\u001b[39;00m \u001b[38;5;28;01mas\u001b[39;00m \u001b[38;5;21;01mplt\u001b[39;00m\n\u001b[0;32m      2\u001b[0m \u001b[38;5;28;01mfrom\u001b[39;00m \u001b[38;5;21;01mqiskit\u001b[39;00m \u001b[38;5;28;01mimport\u001b[39;00m QuantumCircuit, Aer, transpile\n\u001b[1;32m----> 3\u001b[0m \u001b[38;5;28;01mfrom\u001b[39;00m \u001b[38;5;21;01mqiskit\u001b[39;00m\u001b[38;5;21;01m.\u001b[39;00m\u001b[38;5;21;01malgorithms\u001b[39;00m \u001b[38;5;28;01mimport\u001b[39;00m QiskitAlgorithms\n\u001b[0;32m      4\u001b[0m \u001b[38;5;28;01mfrom\u001b[39;00m \u001b[38;5;21;01mqiskit\u001b[39;00m\u001b[38;5;21;01m.\u001b[39;00m\u001b[38;5;21;01malgorithms\u001b[39;00m\u001b[38;5;21;01m.\u001b[39;00m\u001b[38;5;21;01moptimizers\u001b[39;00m \u001b[38;5;28;01mimport\u001b[39;00m SLSQP\n\u001b[0;32m      5\u001b[0m \u001b[38;5;28;01mfrom\u001b[39;00m \u001b[38;5;21;01mqiskit_nature\u001b[39;00m\u001b[38;5;21;01m.\u001b[39;00m\u001b[38;5;21;01malgorithms\u001b[39;00m \u001b[38;5;28;01mimport\u001b[39;00m GroundStateEigensolver\n",
      "\u001b[1;31mImportError\u001b[0m: cannot import name 'QiskitAlgorithms' from 'qiskit.algorithms' (E:\\anaconda3\\Lib\\site-packages\\qiskit\\algorithms\\__init__.py)"
     ]
    }
   ],
   "source": [
    "import matplotlib.pyplot as plt\n",
    "from qiskit import QuantumCircuit, Aer, transpile\n",
    "from qiskit.algorithms import QiskitAlgorithms\n",
    "from qiskit.algorithms.optimizers import SLSQP\n",
    "from qiskit_nature.algorithms.ground_state_solvers import GroundStateEigensolver\n",
    "from qiskit_nature.mappers.second_quantization import ParityMapper\n",
    "from qiskit_nature.converters.second_quantization import QubitConverter\n",
    "from qiskit_nature.drivers import PySCFDriver\n",
    "from qiskit_nature.problems.second_quantization.electronic import ElectronicStructureProblem\n",
    "from qiskit_nature.results import EigenstateResult\n",
    "from qiskit.visualization import circuit_drawer"
   ]
  },
  {
   "cell_type": "code",
   "execution_count": null,
   "id": "05401f6d",
   "metadata": {},
   "outputs": [],
   "source": [
    "# Define the molecule\n",
    "molecule = 'H .0 .0 .0; H .0 .0 0.74'\n",
    "basis_set = 'sto3g'"
   ]
  },
  {
   "cell_type": "code",
   "execution_count": null,
   "id": "e2008117",
   "metadata": {},
   "outputs": [],
   "source": [
    "# Use PySCFDriver to get the molecular integrals\n",
    "driver = PySCFDriver(molecule)\n",
    "qmolecule = driver.run()"
   ]
  },
  {
   "cell_type": "code",
   "execution_count": null,
   "id": "3289e918",
   "metadata": {},
   "outputs": [],
   "source": [
    "# Create an ElectronicStructureProblem\n",
    "problem = ElectronicStructureProblem(driver)"
   ]
  },
  {
   "cell_type": "code",
   "execution_count": null,
   "id": "f265b178",
   "metadata": {},
   "outputs": [],
   "source": [
    "# Create the second-quantized operators\n",
    "second_q_ops = problem.second_q_ops()"
   ]
  },
  {
   "cell_type": "code",
   "execution_count": null,
   "id": "a882481b",
   "metadata": {},
   "outputs": [],
   "source": [
    "# Map to qubits\n",
    "mapper = ParityMapper()\n",
    "converter = QubitConverter(mapper=mapper, two_qubit_reduction=True, z2symmetry_reduction='auto')\n",
    "num_particles = (problem.molecule_data_transformed.num_alpha, problem.molecule_data_transformed.num_beta)\n",
    "qubit_op = converter.convert(second_q_ops[0], num_particles=num_particles)"
   ]
  },
  {
   "cell_type": "code",
   "execution_count": null,
   "id": "c9b701df",
   "metadata": {},
   "outputs": [],
   "source": [
    "# Create a quantum circuit\n",
    "num_qubits = qubit_op.num_qubits\n",
    "qc = QuantumCircuit(num_qubits)"
   ]
  },
  {
   "cell_type": "code",
   "execution_count": null,
   "id": "73b185af",
   "metadata": {},
   "outputs": [],
   "source": [
    "# Use VQE to find the ground state energy\n",
    "optimizer = SLSQP(maxiter=1000)\n",
    "algorithm = VQE(ansatz=None, optimizer=optimizer, quantum_instance=Aer.get_backend('statevector_simulator'))\n",
    "gsc = GroundStateEigensolver(converter, algorithm)\n",
    "result = gsc.solve(problem)"
   ]
  },
  {
   "cell_type": "code",
   "execution_count": null,
   "id": "7977278c",
   "metadata": {},
   "outputs": [],
   "source": [
    "# Additional analysis and visualization\n",
    "# 1. Energy Convergence Plot\n",
    "optimization_result = result.optimizer_result\n",
    "iterations = range(len(optimization_result.history))\n",
    "energies = optimization_result.history\n",
    "plt.plot(iterations, energies, marker='o')\n",
    "plt.xlabel('Iterations')\n",
    "plt.ylabel('Energy')\n",
    "plt.title('Energy Convergence')\n",
    "plt.show()"
   ]
  },
  {
   "cell_type": "code",
   "execution_count": null,
   "id": "b514ce01",
   "metadata": {},
   "outputs": [],
   "source": [
    "# 2. Quantum Circuit Visualization\n",
    "quantum_circuit = result.optimal_circuit\n",
    "circuit_drawer(quantum_circuit, output='mpl')"
   ]
  },
  {
   "cell_type": "code",
   "execution_count": null,
   "id": "7cfa659e",
   "metadata": {},
   "outputs": [],
   "source": [
    "# 3. Molecular Orbital Analysis\n",
    "molecular_orbitals = result.get_wavefunction().remove_occupied().remove_unoccupied()\n",
    "molecular_orbitals.visualize()"
   ]
  },
  {
   "cell_type": "code",
   "execution_count": null,
   "id": "478e0de3",
   "metadata": {},
   "outputs": [],
   "source": [
    "# 4. Electronic Structure Analysis\n",
    "electronic_structure_info = result.electronic_structure\n",
    "print(\"Electronic Structure Information:\")\n",
    "print(electronic_structure_info)"
   ]
  }
 ],
 "metadata": {
  "kernelspec": {
   "display_name": "Python 3 (ipykernel)",
   "language": "python",
   "name": "python3"
  },
  "language_info": {
   "codemirror_mode": {
    "name": "ipython",
    "version": 3
   },
   "file_extension": ".py",
   "mimetype": "text/x-python",
   "name": "python",
   "nbconvert_exporter": "python",
   "pygments_lexer": "ipython3",
   "version": "3.11.5"
  }
 },
 "nbformat": 4,
 "nbformat_minor": 5
}
