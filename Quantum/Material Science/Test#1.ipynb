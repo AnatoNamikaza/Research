{
 "cells": [
  {
   "cell_type": "code",
   "execution_count": 1,
   "id": "704a4785",
   "metadata": {},
   "outputs": [
    {
     "name": "stderr",
     "output_type": "stream",
     "text": [
      "ERROR: Could not find a version that satisfies the requirement qiskit-chemistry (from versions: none)\n",
      "ERROR: No matching distribution found for qiskit-chemistry\n"
     ]
    }
   ],
   "source": [
    "!pip install qiskit-chemistry"
   ]
  },
  {
   "cell_type": "code",
   "execution_count": null,
   "id": "0d3d89b5",
   "metadata": {},
   "outputs": [],
   "source": [
    "!pip uninstall qiskit_nature"
   ]
  },
  {
   "cell_type": "code",
   "execution_count": 1,
   "id": "6766aa7c",
   "metadata": {},
   "outputs": [
    {
     "name": "stdout",
     "output_type": "stream",
     "text": [
      "Requirement already satisfied: qiskit_nature in e:\\anaconda3\\lib\\site-packages (0.7.0)\n",
      "Requirement already satisfied: qiskit>=0.44 in e:\\anaconda3\\lib\\site-packages (from qiskit_nature) (0.45.0)\n",
      "Requirement already satisfied: qiskit-algorithms>=0.2.1 in e:\\anaconda3\\lib\\site-packages (from qiskit_nature) (0.2.1)\n",
      "Requirement already satisfied: scipy>=1.4 in e:\\anaconda3\\lib\\site-packages (from qiskit_nature) (1.11.1)\n",
      "Requirement already satisfied: numpy>=1.17 in e:\\anaconda3\\lib\\site-packages (from qiskit_nature) (1.26.1)\n",
      "Requirement already satisfied: psutil>=5 in e:\\anaconda3\\lib\\site-packages (from qiskit_nature) (5.9.0)\n",
      "Requirement already satisfied: setuptools>=40.1.0 in e:\\anaconda3\\lib\\site-packages (from qiskit_nature) (68.0.0)\n",
      "Requirement already satisfied: typing-extensions in e:\\anaconda3\\lib\\site-packages (from qiskit_nature) (4.7.1)\n",
      "Requirement already satisfied: h5py in e:\\anaconda3\\lib\\site-packages (from qiskit_nature) (3.9.0)\n",
      "Requirement already satisfied: rustworkx>=0.12 in e:\\anaconda3\\lib\\site-packages (from qiskit_nature) (0.13.2)\n",
      "Requirement already satisfied: qiskit-terra==0.45.0 in e:\\anaconda3\\lib\\site-packages (from qiskit>=0.44->qiskit_nature) (0.45.0)\n",
      "Requirement already satisfied: ply>=3.10 in e:\\anaconda3\\lib\\site-packages (from qiskit-terra==0.45.0->qiskit>=0.44->qiskit_nature) (3.11)\n",
      "Requirement already satisfied: sympy>=1.3 in e:\\anaconda3\\lib\\site-packages (from qiskit-terra==0.45.0->qiskit>=0.44->qiskit_nature) (1.11.1)\n",
      "Requirement already satisfied: dill>=0.3 in e:\\anaconda3\\lib\\site-packages (from qiskit-terra==0.45.0->qiskit>=0.44->qiskit_nature) (0.3.6)\n",
      "Requirement already satisfied: python-dateutil>=2.8.0 in e:\\anaconda3\\lib\\site-packages (from qiskit-terra==0.45.0->qiskit>=0.44->qiskit_nature) (2.8.2)\n",
      "Requirement already satisfied: stevedore>=3.0.0 in e:\\anaconda3\\lib\\site-packages (from qiskit-terra==0.45.0->qiskit>=0.44->qiskit_nature) (5.1.0)\n",
      "Requirement already satisfied: six>=1.5 in e:\\anaconda3\\lib\\site-packages (from python-dateutil>=2.8.0->qiskit-terra==0.45.0->qiskit>=0.44->qiskit_nature) (1.16.0)\n",
      "Requirement already satisfied: pbr!=2.1.0,>=2.0.0 in e:\\anaconda3\\lib\\site-packages (from stevedore>=3.0.0->qiskit-terra==0.45.0->qiskit>=0.44->qiskit_nature) (5.11.1)\n",
      "Requirement already satisfied: mpmath>=0.19 in e:\\anaconda3\\lib\\site-packages (from sympy>=1.3->qiskit-terra==0.45.0->qiskit>=0.44->qiskit_nature) (1.3.0)\n"
     ]
    }
   ],
   "source": [
    "!pip install qiskit_nature"
   ]
  },
  {
   "cell_type": "code",
   "execution_count": null,
   "id": "f1d2536d",
   "metadata": {},
   "outputs": [],
   "source": [
    "!pip install qiskit_nature.algorithms"
   ]
  },
  {
   "cell_type": "code",
   "execution_count": 7,
   "id": "9f1edb43",
   "metadata": {},
   "outputs": [
    {
     "ename": "ModuleNotFoundError",
     "evalue": "No module named 'qiskit_nature.algorithms'",
     "output_type": "error",
     "traceback": [
      "\u001b[1;31m---------------------------------------------------------------------------\u001b[0m",
      "\u001b[1;31mModuleNotFoundError\u001b[0m                       Traceback (most recent call last)",
      "Cell \u001b[1;32mIn[7], line 5\u001b[0m\n\u001b[0;32m      3\u001b[0m \u001b[38;5;28;01mfrom\u001b[39;00m \u001b[38;5;21;01mqiskit\u001b[39;00m\u001b[38;5;21;01m.\u001b[39;00m\u001b[38;5;21;01malgorithms\u001b[39;00m \u001b[38;5;28;01mimport\u001b[39;00m VQE\n\u001b[0;32m      4\u001b[0m \u001b[38;5;28;01mfrom\u001b[39;00m \u001b[38;5;21;01mqiskit\u001b[39;00m\u001b[38;5;21;01m.\u001b[39;00m\u001b[38;5;21;01malgorithms\u001b[39;00m\u001b[38;5;21;01m.\u001b[39;00m\u001b[38;5;21;01moptimizers\u001b[39;00m \u001b[38;5;28;01mimport\u001b[39;00m SLSQP\n\u001b[1;32m----> 5\u001b[0m \u001b[38;5;28;01mfrom\u001b[39;00m \u001b[38;5;21;01mqiskit_nature\u001b[39;00m\u001b[38;5;21;01m.\u001b[39;00m\u001b[38;5;21;01malgorithms\u001b[39;00m \u001b[38;5;28;01mimport\u001b[39;00m NumPyMinimumEigensolver\n\u001b[0;32m      6\u001b[0m \u001b[38;5;28;01mfrom\u001b[39;00m \u001b[38;5;21;01mqiskit_nature\u001b[39;00m\u001b[38;5;21;01m.\u001b[39;00m\u001b[38;5;21;01mmappers\u001b[39;00m\u001b[38;5;21;01m.\u001b[39;00m\u001b[38;5;21;01msecond_quantization\u001b[39;00m \u001b[38;5;28;01mimport\u001b[39;00m ParityMapper\n\u001b[0;32m      7\u001b[0m \u001b[38;5;28;01mfrom\u001b[39;00m \u001b[38;5;21;01mqiskit_nature\u001b[39;00m\u001b[38;5;21;01m.\u001b[39;00m\u001b[38;5;21;01mconverters\u001b[39;00m\u001b[38;5;21;01m.\u001b[39;00m\u001b[38;5;21;01msecond_quantization\u001b[39;00m \u001b[38;5;28;01mimport\u001b[39;00m QubitConverter\n",
      "\u001b[1;31mModuleNotFoundError\u001b[0m: No module named 'qiskit_nature.algorithms'"
     ]
    }
   ],
   "source": [
    "import matplotlib.pyplot as plt\n",
    "from qiskit import QuantumCircuit, Aer, transpile\n",
    "from qiskit.algorithms import VQE\n",
    "from qiskit.algorithms.optimizers import SLSQP\n",
    "from qiskit_nature.algorithms import NumPyMinimumEigensolver\n",
    "from qiskit_nature.mappers.second_quantization import ParityMapper\n",
    "from qiskit_nature.converters.second_quantization import QubitConverter\n",
    "from qiskit_nature.drivers import PySCFDriver\n",
    "from qiskit_nature.problems.second_quantization.electronic import ElectronicStructureProblem\n",
    "from qiskit_nature.results import EigenstateResult\n",
    "from qiskit.visualization import circuit_drawer"
   ]
  },
  {
   "cell_type": "code",
   "execution_count": null,
   "id": "ab94013b",
   "metadata": {},
   "outputs": [],
   "source": [
    "# Define the molecule\n",
    "molecule = 'H .0 .0 .0; H .0 .0 0.74'\n",
    "basis_set = 'sto3g'"
   ]
  },
  {
   "cell_type": "code",
   "execution_count": null,
   "id": "5478ba57",
   "metadata": {},
   "outputs": [],
   "source": [
    "# Use PySCFDriver to get the molecular integrals\n",
    "driver = PySCFDriver(molecule)\n",
    "qmolecule = driver.run()"
   ]
  },
  {
   "cell_type": "code",
   "execution_count": null,
   "id": "0a628d46",
   "metadata": {},
   "outputs": [],
   "source": [
    "# Create an ElectronicStructureProblem\n",
    "problem = ElectronicStructureProblem(driver)"
   ]
  },
  {
   "cell_type": "code",
   "execution_count": null,
   "id": "1cf4ebf4",
   "metadata": {},
   "outputs": [],
   "source": [
    "# Create the second-quantized operators\n",
    "second_q_ops = problem.second_q_ops()"
   ]
  },
  {
   "cell_type": "code",
   "execution_count": null,
   "id": "4b17d783",
   "metadata": {},
   "outputs": [],
   "source": [
    "# Map to qubits\n",
    "mapper = ParityMapper()\n",
    "converter = QubitConverter(mapper=mapper, two_qubit_reduction=True, z2symmetry_reduction='auto')\n",
    "num_particles = (problem.molecule_data_transformed.num_alpha, problem.molecule_data_transformed.num_beta)\n",
    "qubit_op = converter.convert(second_q_ops[0], num_particles=num_particles)"
   ]
  },
  {
   "cell_type": "code",
   "execution_count": null,
   "id": "c68fdc63",
   "metadata": {},
   "outputs": [],
   "source": [
    "# Create a quantum circuit\n",
    "num_qubits = qubit_op.num_qubits\n",
    "qc = QuantumCircuit(num_qubits)"
   ]
  },
  {
   "cell_type": "code",
   "execution_count": null,
   "id": "7a16b85b",
   "metadata": {},
   "outputs": [],
   "source": [
    "# Use VQE to find the ground state energy\n",
    "optimizer = SLSQP(maxiter=1000)\n",
    "algorithm = VQE(ansatz=None, optimizer=optimizer, quantum_instance=Aer.get_backend('statevector_simulator'))\n",
    "gsc = GroundStateEigensolver(converter, algorithm)\n",
    "result = gsc.solve(problem)"
   ]
  },
  {
   "cell_type": "code",
   "execution_count": null,
   "id": "757b0e71",
   "metadata": {},
   "outputs": [],
   "source": [
    "# Additional analysis and visualization\n",
    "# 1. Energy Convergence Plot\n",
    "optimization_result = result.optimizer_result\n",
    "iterations = range(len(optimization_result.history))\n",
    "energies = optimization_result.history\n",
    "plt.plot(iterations, energies, marker='o')\n",
    "plt.xlabel('Iterations')\n",
    "plt.ylabel('Energy')\n",
    "plt.title('Energy Convergence')\n",
    "plt.show()"
   ]
  },
  {
   "cell_type": "code",
   "execution_count": null,
   "id": "d236148e",
   "metadata": {},
   "outputs": [],
   "source": [
    "# 2. Quantum Circuit Visualization\n",
    "quantum_circuit = result.optimal_circuit\n",
    "circuit_drawer(quantum_circuit, output='mpl')"
   ]
  },
  {
   "cell_type": "code",
   "execution_count": null,
   "id": "39b0b235",
   "metadata": {},
   "outputs": [],
   "source": [
    "# 3. Molecular Orbital Analysis\n",
    "molecular_orbitals = result.get_wavefunction().remove_occupied().remove_unoccupied()\n",
    "molecular_orbitals.visualize()"
   ]
  },
  {
   "cell_type": "code",
   "execution_count": null,
   "id": "8d0131b7",
   "metadata": {},
   "outputs": [],
   "source": [
    "# 4. Electronic Structure Analysis\n",
    "electronic_structure_info = result.electronic_structure\n",
    "print(\"Electronic Structure Information:\")\n",
    "print(electronic_structure_info)"
   ]
  },
  {
   "cell_type": "code",
   "execution_count": null,
   "id": "9ffc9f39",
   "metadata": {},
   "outputs": [],
   "source": [
    "#package error, missing packages, unable to install"
   ]
  }
 ],
 "metadata": {
  "kernelspec": {
   "display_name": "Python 3 (ipykernel)",
   "language": "python",
   "name": "python3"
  },
  "language_info": {
   "codemirror_mode": {
    "name": "ipython",
    "version": 3
   },
   "file_extension": ".py",
   "mimetype": "text/x-python",
   "name": "python",
   "nbconvert_exporter": "python",
   "pygments_lexer": "ipython3",
   "version": "3.11.5"
  }
 },
 "nbformat": 4,
 "nbformat_minor": 5
}
