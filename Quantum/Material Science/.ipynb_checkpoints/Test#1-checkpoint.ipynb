{
 "cells": [
  {
   "cell_type": "code",
   "execution_count": 1,
   "id": "fd2b7b83",
   "metadata": {},
   "outputs": [
    {
     "ename": "ModuleNotFoundError",
     "evalue": "No module named 'qiskit.chemistry'",
     "output_type": "error",
     "traceback": [
      "\u001b[1;31m---------------------------------------------------------------------------\u001b[0m",
      "\u001b[1;31mModuleNotFoundError\u001b[0m                       Traceback (most recent call last)",
      "Cell \u001b[1;32mIn[1], line 3\u001b[0m\n\u001b[0;32m      1\u001b[0m \u001b[38;5;28;01mfrom\u001b[39;00m \u001b[38;5;21;01mqiskit\u001b[39;00m \u001b[38;5;28;01mimport\u001b[39;00m QuantumCircuit, transpile, Aer, assemble\n\u001b[0;32m      2\u001b[0m \u001b[38;5;28;01mfrom\u001b[39;00m \u001b[38;5;21;01mqiskit\u001b[39;00m\u001b[38;5;21;01m.\u001b[39;00m\u001b[38;5;21;01mvisualization\u001b[39;00m \u001b[38;5;28;01mimport\u001b[39;00m plot_histogram\n\u001b[1;32m----> 3\u001b[0m \u001b[38;5;28;01mfrom\u001b[39;00m \u001b[38;5;21;01mqiskit\u001b[39;00m\u001b[38;5;21;01m.\u001b[39;00m\u001b[38;5;21;01mchemistry\u001b[39;00m \u001b[38;5;28;01mimport\u001b[39;00m FermionicOperator\n\u001b[0;32m      4\u001b[0m \u001b[38;5;28;01mfrom\u001b[39;00m \u001b[38;5;21;01mqiskit\u001b[39;00m\u001b[38;5;21;01m.\u001b[39;00m\u001b[38;5;21;01maqua\u001b[39;00m\u001b[38;5;21;01m.\u001b[39;00m\u001b[38;5;21;01moperators\u001b[39;00m \u001b[38;5;28;01mimport\u001b[39;00m Z2Symmetries\n",
      "\u001b[1;31mModuleNotFoundError\u001b[0m: No module named 'qiskit.chemistry'"
     ]
    }
   ],
   "source": [
    "from qiskit import QuantumCircuit, transpile, Aer, assemble\n",
    "from qiskit.visualization import plot_histogram\n",
    "from qiskit.chemistry import FermionicOperator\n",
    "from qiskit.aqua.operators import Z2Symmetries"
   ]
  },
  {
   "cell_type": "code",
   "execution_count": 2,
   "id": "3ecb3426",
   "metadata": {},
   "outputs": [],
   "source": [
    "# Define the molecule\n",
    "molecule = 'H .0 .0 .0; H .0 .0 0.74'\n",
    "basis_set = 'sto3g'"
   ]
  },
  {
   "cell_type": "code",
   "execution_count": 3,
   "id": "1b534f60",
   "metadata": {},
   "outputs": [
    {
     "ename": "NameError",
     "evalue": "name 'FermionicOperator' is not defined",
     "output_type": "error",
     "traceback": [
      "\u001b[1;31m---------------------------------------------------------------------------\u001b[0m",
      "\u001b[1;31mNameError\u001b[0m                                 Traceback (most recent call last)",
      "Cell \u001b[1;32mIn[3], line 2\u001b[0m\n\u001b[0;32m      1\u001b[0m \u001b[38;5;66;03m# Create a FermionicOperator representing the electronic structure of the molecule\u001b[39;00m\n\u001b[1;32m----> 2\u001b[0m fermionic_op \u001b[38;5;241m=\u001b[39m FermionicOperator(h1_file\u001b[38;5;241m=\u001b[39m\u001b[38;5;28;01mNone\u001b[39;00m, h2_file\u001b[38;5;241m=\u001b[39m\u001b[38;5;28;01mNone\u001b[39;00m, qubit_mapping\u001b[38;5;241m=\u001b[39m\u001b[38;5;124m'\u001b[39m\u001b[38;5;124mparity\u001b[39m\u001b[38;5;124m'\u001b[39m, two_qubit_reduction\u001b[38;5;241m=\u001b[39m\u001b[38;5;28;01mTrue\u001b[39;00m)\n\u001b[0;32m      3\u001b[0m fermionic_op\u001b[38;5;241m.\u001b[39mfrom_two_body_tensor(FermionicOperator\u001b[38;5;241m.\u001b[39mtwo_body_tensor(\u001b[38;5;124m'\u001b[39m\u001b[38;5;124mH .0 .0 .0; H .0 .0 0.74\u001b[39m\u001b[38;5;124m'\u001b[39m, \u001b[38;5;124m'\u001b[39m\u001b[38;5;124msto3g\u001b[39m\u001b[38;5;124m'\u001b[39m))\n",
      "\u001b[1;31mNameError\u001b[0m: name 'FermionicOperator' is not defined"
     ]
    }
   ],
   "source": [
    "# Create a FermionicOperator representing the electronic structure of the molecule\n",
    "fermionic_op = FermionicOperator(h1_file=None, h2_file=None, qubit_mapping='parity', two_qubit_reduction=True)\n",
    "fermionic_op.from_two_body_tensor(FermionicOperator.two_body_tensor('H .0 .0 .0; H .0 .0 0.74', 'sto3g'))"
   ]
  },
  {
   "cell_type": "code",
   "execution_count": null,
   "id": "780b0ad6",
   "metadata": {},
   "outputs": [],
   "source": []
  }
 ],
 "metadata": {
  "kernelspec": {
   "display_name": "Python 3 (ipykernel)",
   "language": "python",
   "name": "python3"
  },
  "language_info": {
   "codemirror_mode": {
    "name": "ipython",
    "version": 3
   },
   "file_extension": ".py",
   "mimetype": "text/x-python",
   "name": "python",
   "nbconvert_exporter": "python",
   "pygments_lexer": "ipython3",
   "version": "3.11.5"
  }
 },
 "nbformat": 4,
 "nbformat_minor": 5
}
