{
  "cells": [
    {
      "cell_type": "markdown",
      "metadata": {
        "id": "w7-crWucKgvL"
      },
      "source": [
        "Version 1: Deutsch-Jozsa algorithm\n",
        "\n",
        "- Def:\n",
        "    The Jozsa algorithm is a quantum algorithm used to solve a specific problem related to oracle functions. In the case of Jozsa's problem, it determines whether an unknown binary function (oracle) is constant or balanced.\n",
        "\n",
        "- Implementation: \n",
        "    Using Qiskit library of Python.\n"
      ]
    },
    {
      "cell_type": "code",
      "execution_count": 1,
      "metadata": {
        "id": "lbGj2R9wKeP1"
      },
      "outputs": [],
      "source": [
        "from qiskit import QuantumCircuit, transpile, execute, BasicAer\n",
        "from qiskit.visualization import plot_histogram"
      ]
    },
    {
      "cell_type": "code",
      "execution_count": 2,
      "metadata": {},
      "outputs": [],
      "source": [
        "from qiskit.visualization import plot_bloch_multivector, circuit_drawer"
      ]
    },
    {
      "cell_type": "code",
      "execution_count": 3,
      "metadata": {},
      "outputs": [],
      "source": [
        "# Define the oracle for a constant function (0) or a balanced function (1)\n",
        "def deutsch_jozsa_oracle(qc, f):\n",
        "    if f == 1:\n",
        "        qc.cx(0, 1)"
      ]
    },
    {
      "cell_type": "code",
      "execution_count": 4,
      "metadata": {},
      "outputs": [],
      "source": [
        "# Create a quantum circuit with 2 qubits and 1 classical bit\n",
        "n = 2\n",
        "qc = QuantumCircuit(n, 1)"
      ]
    },
    {
      "cell_type": "code",
      "execution_count": 5,
      "metadata": {},
      "outputs": [
        {
          "data": {
            "text/plain": [
              "<qiskit.circuit.instructionset.InstructionSet at 0x2a4aef586d0>"
            ]
          },
          "execution_count": 5,
          "metadata": {},
          "output_type": "execute_result"
        }
      ],
      "source": [
        "# Apply Hadamard gate to the first qubit\n",
        "qc.h(0)"
      ]
    },
    {
      "cell_type": "code",
      "execution_count": 6,
      "metadata": {},
      "outputs": [],
      "source": [
        "# Apply the Deutsch-Jozsa oracle for a balanced function\n",
        "deutsch_jozsa_oracle(qc, 1)  # Change to 0 for a constant function"
      ]
    },
    {
      "cell_type": "code",
      "execution_count": 7,
      "metadata": {},
      "outputs": [
        {
          "data": {
            "text/plain": [
              "<qiskit.circuit.instructionset.InstructionSet at 0x2a4c24bbdf0>"
            ]
          },
          "execution_count": 7,
          "metadata": {},
          "output_type": "execute_result"
        }
      ],
      "source": [
        "# Apply Hadamard gates to both qubits\n",
        "qc.h(0)\n",
        "qc.h(1)"
      ]
    },
    {
      "cell_type": "code",
      "execution_count": 8,
      "metadata": {},
      "outputs": [
        {
          "data": {
            "text/plain": [
              "<qiskit.circuit.instructionset.InstructionSet at 0x2a4c2496a60>"
            ]
          },
          "execution_count": 8,
          "metadata": {},
          "output_type": "execute_result"
        }
      ],
      "source": [
        "# Measure the first qubit and store the result in the classical bit\n",
        "qc.measure(0, 0)"
      ]
    },
    {
      "cell_type": "code",
      "execution_count": 9,
      "metadata": {},
      "outputs": [
        {
          "data": {
            "image/png": "[encoded data removed]",
            "text/plain": [
              "<Figure size 454.517x284.278 with 1 Axes>"
            ]
          },
          "execution_count": 9,
          "metadata": {},
          "output_type": "execute_result"
        }
      ],
      "source": [
        "# Visualize the quantum circuit\n",
        "circuit_drawer(qc, output='mpl')"
      ]
    },
    {
      "cell_type": "code",
      "execution_count": 10,
      "metadata": {},
      "outputs": [],
      "source": [
        "# Simulate the circuit using the BasicAer simulator\n",
        "simulator = BasicAer.get_backend('qasm_simulator')\n",
        "compiled_circuit = transpile(qc, simulator)\n",
        "job = execute(compiled_circuit, simulator, shots=1024)\n",
        "result = job.result()"
      ]
    },
    {
      "cell_type": "code",
      "execution_count": 11,
      "metadata": {},
      "outputs": [
        {
          "data": {
            "image/png": "[encoded data removed]",
            "text/plain": [
              "<Figure size 700x500 with 1 Axes>"
            ]
          },
          "execution_count": 11,
          "metadata": {},
          "output_type": "execute_result"
        }
      ],
      "source": [
        "# Get and plot the measurement results\n",
        "counts = result.get_counts()\n",
        "plot_histogram(counts)"
      ]
    },
    {
      "cell_type": "code",
      "execution_count": null,
      "metadata": {},
      "outputs": [],
      "source": []
    }
  ],
  "metadata": {
    "colab": {
      "provenance": []
    },
    "kernelspec": {
      "display_name": "Python 3",
      "name": "python3"
    },
    "language_info": {
      "codemirror_mode": {
        "name": "ipython",
        "version": 3
      },
      "file_extension": ".py",
      "mimetype": "text/x-python",
      "name": "python",
      "nbconvert_exporter": "python",
      "pygments_lexer": "ipython3",
      "version": "3.9.6"
    }
  },
  "nbformat": 4,
  "nbformat_minor": 0
}
