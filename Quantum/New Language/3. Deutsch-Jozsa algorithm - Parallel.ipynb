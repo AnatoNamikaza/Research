{
  "cells": [
    {
      "cell_type": "markdown",
      "metadata": {
        "id": "w7-crWucKgvL"
      },
      "source": [
        "Version 2: Deutsch-Jozsa algorithm (Parallelized)\n",
        "\n",
        "The provided code demonstrates the Deutsch-Jozsa algorithm for multiple input states and parallelizes its execution using Python's multiprocessing library.\n",
        "The key points:\n",
        "\n",
        "1. **Quantum Circuit**: The code defines a quantum circuit to implement the Deutsch-Jozsa algorithm. It includes an oracle, Hadamard gates, and measurements.\n",
        "\n",
        "2. **Parallelization**: The code parallelizes the execution of the Deutsch-Jozsa circuit for multiple input states using the multiprocessing library. It runs each instance of the circuit in parallel processes.\n",
        "\n",
        "3. **Input States**: The code specifies a list of input states (0, 1, 2, 3) for which the algorithm is executed. You can modify this list to include different input states.\n",
        "\n",
        "4. **Simulation**: The code simulates the quantum circuit using the BasicAer simulator and collects measurement results for each input state.\n",
        "\n",
        "5. **Execution Time**: It measures the total execution time of all parallelized instances. The execution time may vary depending on your hardware and the number of input states.\n",
        "\n",
        "6. **Results**: For each input state, it prints the measurement results (counts), showing the probabilities of measuring each possible outcome.\n",
        "\n",
        "7. **Total Execution Time**: The code prints the total execution time, indicating the time it took to run all instances in parallel."
      ]
    },
    {
      "cell_type": "code",
      "execution_count": 2,
      "metadata": {
        "id": "lbGj2R9wKeP1"
      },
      "outputs": [],
      "source": [
        "from qiskit import QuantumCircuit, transpile, execute, BasicAer\n",
        "from qiskit.visualization import plot_histogram"
      ]
    },
    {
      "cell_type": "code",
      "execution_count": 3,
      "metadata": {},
      "outputs": [],
      "source": [
        "from qiskit.visualization import plot_bloch_multivector, circuit_drawer"
      ]
    },
    {
      "cell_type": "code",
      "execution_count": 4,
      "metadata": {},
      "outputs": [],
      "source": [
        "import time\n",
        "import multiprocessing"
      ]
    },
    {
      "cell_type": "code",
      "execution_count": 5,
      "metadata": {},
      "outputs": [],
      "source": [
        "# Define the oracle for a constant function (0) or a balanced function (1)\n",
        "def deutsch_jozsa_oracle(qc, f):\n",
        "    if f == 1:\n",
        "        qc.cx(0, 1)"
      ]
    },
    {
      "cell_type": "code",
      "execution_count": 6,
      "metadata": {},
      "outputs": [],
      "source": [
        "# Create a function to run the Deutsch-Jozsa circuit for a given input state\n",
        "def run_deutsch_jozsa(input_state):\n",
        "    # Create a quantum circuit with 2 qubits and 1 classical bit\n",
        "    n = 2\n",
        "    qc = QuantumCircuit(n, 1)\n",
        "\n",
        "    # Apply Hadamard gate to the first qubit\n",
        "    qc.h(0)\n",
        "\n",
        "    # Apply the Deutsch-Jozsa oracle for a balanced function\n",
        "    deutsch_jozsa_oracle(qc, 1)  # Change to 0 for a constant function\n",
        "\n",
        "    # Apply Hadamard gates to both qubits\n",
        "    qc.h(0)\n",
        "    qc.h(1)\n",
        "\n",
        "    # Measure the first qubit and store the result in the classical bit\n",
        "    qc.measure(0, 0)\n",
        "\n",
        "    # Visualize the quantum circuit\n",
        "    # circuit_drawer(qc, output='mpl')\n",
        "    \n",
        "    # Simulate the circuit using the BasicAer simulator\n",
        "    simulator = BasicAer.get_backend('qasm_simulator')\n",
        "    compiled_circuit = transpile(qc, simulator)\n",
        "    job = execute(compiled_circuit, simulator, shots=1024)\n",
        "    result = job.result()\n",
        "\n",
        "    # Get and return the measurement results\n",
        "    counts = result.get_counts()\n",
        "    return counts"
      ]
    },
    {
      "cell_type": "code",
      "execution_count": 7,
      "metadata": {},
      "outputs": [],
      "source": [
        "input_states = [0, 1, 2, 3]  # List of input states to parallelize\n",
        "num_processes = len(input_states)"
      ]
    },
    {
      "cell_type": "code",
      "execution_count": 8,
      "metadata": {},
      "outputs": [],
      "source": [
        "start_time = time.time()"
      ]
    },
    {
      "cell_type": "code",
      "execution_count": 9,
      "metadata": {},
      "outputs": [],
      "source": [
        "with multiprocessing.Pool(processes=num_processes) as pool:\n",
        "    results = pool.map(run_deutsch_jozsa, input_states)"
      ]
    },
    {
      "cell_type": "code",
      "execution_count": null,
      "metadata": {},
      "outputs": [],
      "source": [
        "end_time = time.time()\n",
        "total_execution_time = end_time - start_time"
      ]
    },
    {
      "cell_type": "code",
      "execution_count": null,
      "metadata": {},
      "outputs": [],
      "source": [
        "for input_state, counts in zip(input_states, results):\n",
        "    print(f\"Input State {input_state}: {counts}\")"
      ]
    },
    {
      "cell_type": "code",
      "execution_count": null,
      "metadata": {},
      "outputs": [],
      "source": [
        "print(f\"Total Execution Time: {total_execution_time} seconds\")"
      ]
    }
  ],
  "metadata": {
    "colab": {
      "provenance": []
    },
    "kernelspec": {
      "display_name": "Python 3",
      "name": "python3"
    },
    "language_info": {
      "codemirror_mode": {
        "name": "ipython",
        "version": 3
      },
      "file_extension": ".py",
      "mimetype": "text/x-python",
      "name": "python",
      "nbconvert_exporter": "python",
      "pygments_lexer": "ipython3",
      "version": "3.9.6"
    }
  },
  "nbformat": 4,
  "nbformat_minor": 0
}
