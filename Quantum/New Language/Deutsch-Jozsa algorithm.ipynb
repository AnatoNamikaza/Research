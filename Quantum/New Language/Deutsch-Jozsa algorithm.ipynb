{
  "cells": [
    {
      "cell_type": "code",
      "execution_count": 10,
      "metadata": {},
      "outputs": [
        {
          "name": "stdout",
          "output_type": "stream",
          "text": [
            "Requirement already satisfied: pip in c:\\python39\\lib\\site-packages (23.3)\n",
            "Note: you may need to restart the kernel to use updated packages.\n"
          ]
        },
        {
          "name": "stderr",
          "output_type": "stream",
          "text": [
            "WARNING: There was an error checking the latest version of pip.\n"
          ]
        }
      ],
      "source": [
        "pip install pip --upgrade"
      ]
    },
    {
      "cell_type": "code",
      "execution_count": 1,
      "metadata": {
        "colab": {
          "base_uri": "https://localhost:8080/"
        },
        "id": "69be351f",
        "outputId": "38624ca0-879e-4fae-820a-52e0b0201c46"
      },
      "outputs": [
        {
          "name": "stdout",
          "output_type": "stream",
          "text": [
            "Requirement already satisfied: qiskit in c:\\python39\\lib\\site-packages (0.44.2)\n",
            "Requirement already satisfied: qiskit-terra==0.25.2.1 in c:\\python39\\lib\\site-packages (from qiskit) (0.25.2.1)\n",
            "Requirement already satisfied: rustworkx>=0.13.0 in c:\\python39\\lib\\site-packages (from qiskit-terra==0.25.2.1->qiskit) (0.13.2)\n",
            "Requirement already satisfied: numpy>=1.17 in c:\\python39\\lib\\site-packages (from qiskit-terra==0.25.2.1->qiskit) (1.21.4)\n",
            "Requirement already satisfied: ply>=3.10 in c:\\python39\\lib\\site-packages (from qiskit-terra==0.25.2.1->qiskit) (3.11)\n",
            "Requirement already satisfied: psutil>=5 in c:\\users\\darkn\\appdata\\roaming\\python\\python39\\site-packages (from qiskit-terra==0.25.2.1->qiskit) (5.9.6)\n",
            "Requirement already satisfied: scipy>=1.5 in c:\\python39\\lib\\site-packages (from qiskit-terra==0.25.2.1->qiskit) (1.7.3)\n",
            "Requirement already satisfied: sympy>=1.3 in c:\\python39\\lib\\site-packages (from qiskit-terra==0.25.2.1->qiskit) (1.12)\n",
            "Requirement already satisfied: dill>=0.3 in c:\\python39\\lib\\site-packages (from qiskit-terra==0.25.2.1->qiskit) (0.3.7)\n",
            "Requirement already satisfied: python-dateutil>=2.8.0 in c:\\python39\\lib\\site-packages (from qiskit-terra==0.25.2.1->qiskit) (2.8.2)\n",
            "Requirement already satisfied: stevedore>=3.0.0 in c:\\python39\\lib\\site-packages (from qiskit-terra==0.25.2.1->qiskit) (5.1.0)\n",
            "Requirement already satisfied: typing-extensions in c:\\users\\darkn\\appdata\\roaming\\python\\python39\\site-packages (from qiskit-terra==0.25.2.1->qiskit) (4.8.0)\n",
            "Requirement already satisfied: six>=1.5 in c:\\python39\\lib\\site-packages (from python-dateutil>=2.8.0->qiskit-terra==0.25.2.1->qiskit) (1.16.0)\n",
            "Requirement already satisfied: pbr!=2.1.0,>=2.0.0 in c:\\python39\\lib\\site-packages (from stevedore>=3.0.0->qiskit-terra==0.25.2.1->qiskit) (5.11.1)\n",
            "Requirement already satisfied: mpmath>=0.19 in c:\\python39\\lib\\site-packages (from sympy>=1.3->qiskit-terra==0.25.2.1->qiskit) (1.3.0)\n",
            "Note: you may need to restart the kernel to use updated packages.\n"
          ]
        },
        {
          "name": "stderr",
          "output_type": "stream",
          "text": [
            "WARNING: There was an error checking the latest version of pip.\n"
          ]
        }
      ],
      "source": [
        "pip install qiskit"
      ]
    },
    {
      "cell_type": "code",
      "execution_count": 2,
      "metadata": {
        "colab": {
          "base_uri": "https://localhost:8080/"
        },
        "id": "8affe7b0",
        "outputId": "b04ddef3-dae9-4452-d7d2-fbbd44cf1372"
      },
      "outputs": [
        {
          "name": "stdout",
          "output_type": "stream",
          "text": [
            "Requirement already satisfied: qiskit-ibm-runtime in c:\\python39\\lib\\site-packages (0.13.0)\n",
            "Requirement already satisfied: qiskit>=0.44.1 in c:\\python39\\lib\\site-packages (from qiskit-ibm-runtime) (0.44.2)\n",
            "Requirement already satisfied: requests>=2.19 in c:\\python39\\lib\\site-packages (from qiskit-ibm-runtime) (2.31.0)\n",
            "Requirement already satisfied: requests-ntlm>=1.1.0 in c:\\python39\\lib\\site-packages (from qiskit-ibm-runtime) (1.1.0)\n",
            "Requirement already satisfied: numpy>=1.13 in c:\\python39\\lib\\site-packages (from qiskit-ibm-runtime) (1.21.4)\n",
            "Requirement already satisfied: urllib3>=1.21.1 in c:\\python39\\lib\\site-packages (from qiskit-ibm-runtime) (1.26.14)\n",
            "Requirement already satisfied: python-dateutil>=2.8.0 in c:\\python39\\lib\\site-packages (from qiskit-ibm-runtime) (2.8.2)\n",
            "Requirement already satisfied: websocket-client>=1.5.1 in c:\\python39\\lib\\site-packages (from qiskit-ibm-runtime) (1.6.4)\n",
            "Requirement already satisfied: ibm-platform-services>=0.22.6 in c:\\python39\\lib\\site-packages (from qiskit-ibm-runtime) (0.45.0)\n",
            "Requirement already satisfied: qiskit-ibm-provider>=0.7.0 in c:\\python39\\lib\\site-packages (from qiskit-ibm-runtime) (0.7.1)\n",
            "Requirement already satisfied: ibm-cloud-sdk-core<4.0.0,>=3.17.0 in c:\\python39\\lib\\site-packages (from ibm-platform-services>=0.22.6->qiskit-ibm-runtime) (3.17.2)\n",
            "Requirement already satisfied: six>=1.5 in c:\\python39\\lib\\site-packages (from python-dateutil>=2.8.0->qiskit-ibm-runtime) (1.16.0)\n",
            "Requirement already satisfied: qiskit-terra==0.25.2.1 in c:\\python39\\lib\\site-packages (from qiskit>=0.44.1->qiskit-ibm-runtime) (0.25.2.1)\n",
            "Requirement already satisfied: rustworkx>=0.13.0 in c:\\python39\\lib\\site-packages (from qiskit-terra==0.25.2.1->qiskit>=0.44.1->qiskit-ibm-runtime) (0.13.2)\n",
            "Requirement already satisfied: ply>=3.10 in c:\\python39\\lib\\site-packages (from qiskit-terra==0.25.2.1->qiskit>=0.44.1->qiskit-ibm-runtime) (3.11)\n",
            "Requirement already satisfied: psutil>=5 in c:\\users\\darkn\\appdata\\roaming\\python\\python39\\site-packages (from qiskit-terra==0.25.2.1->qiskit>=0.44.1->qiskit-ibm-runtime) (5.9.6)\n",
            "Requirement already satisfied: scipy>=1.5 in c:\\python39\\lib\\site-packages (from qiskit-terra==0.25.2.1->qiskit>=0.44.1->qiskit-ibm-runtime) (1.7.3)\n",
            "Requirement already satisfied: sympy>=1.3 in c:\\python39\\lib\\site-packages (from qiskit-terra==0.25.2.1->qiskit>=0.44.1->qiskit-ibm-runtime) (1.12)\n",
            "Requirement already satisfied: dill>=0.3 in c:\\python39\\lib\\site-packages (from qiskit-terra==0.25.2.1->qiskit>=0.44.1->qiskit-ibm-runtime) (0.3.7)\n",
            "Requirement already satisfied: stevedore>=3.0.0 in c:\\python39\\lib\\site-packages (from qiskit-terra==0.25.2.1->qiskit>=0.44.1->qiskit-ibm-runtime) (5.1.0)\n",
            "Requirement already satisfied: typing-extensions in c:\\users\\darkn\\appdata\\roaming\\python\\python39\\site-packages (from qiskit-terra==0.25.2.1->qiskit>=0.44.1->qiskit-ibm-runtime) (4.8.0)\n",
            "Requirement already satisfied: websockets>=10.0 in c:\\python39\\lib\\site-packages (from qiskit-ibm-provider>=0.7.0->qiskit-ibm-runtime) (11.0.3)\n",
            "Requirement already satisfied: charset-normalizer<4,>=2 in c:\\python39\\lib\\site-packages (from requests>=2.19->qiskit-ibm-runtime) (3.0.1)\n",
            "Requirement already satisfied: idna<4,>=2.5 in c:\\python39\\lib\\site-packages (from requests>=2.19->qiskit-ibm-runtime) (3.4)\n",
            "Requirement already satisfied: certifi>=2017.4.17 in c:\\python39\\lib\\site-packages (from requests>=2.19->qiskit-ibm-runtime) (2022.12.7)\n",
            "Requirement already satisfied: ntlm-auth>=1.0.2 in c:\\python39\\lib\\site-packages (from requests-ntlm>=1.1.0->qiskit-ibm-runtime) (1.5.0)\n",
            "Requirement already satisfied: cryptography>=1.3 in c:\\python39\\lib\\site-packages (from requests-ntlm>=1.1.0->qiskit-ibm-runtime) (41.0.4)\n",
            "Requirement already satisfied: cffi>=1.12 in c:\\python39\\lib\\site-packages (from cryptography>=1.3->requests-ntlm>=1.1.0->qiskit-ibm-runtime) (1.16.0)\n",
            "Requirement already satisfied: PyJWT<3.0.0,>=2.8.0 in c:\\python39\\lib\\site-packages (from ibm-cloud-sdk-core<4.0.0,>=3.17.0->ibm-platform-services>=0.22.6->qiskit-ibm-runtime) (2.8.0)\n",
            "Requirement already satisfied: pycparser in c:\\python39\\lib\\site-packages (from cffi>=1.12->cryptography>=1.3->requests-ntlm>=1.1.0->qiskit-ibm-runtime) (2.21)\n",
            "Requirement already satisfied: pbr!=2.1.0,>=2.0.0 in c:\\python39\\lib\\site-packages (from stevedore>=3.0.0->qiskit-terra==0.25.2.1->qiskit>=0.44.1->qiskit-ibm-runtime) (5.11.1)\n",
            "Requirement already satisfied: mpmath>=0.19 in c:\\python39\\lib\\site-packages (from sympy>=1.3->qiskit-terra==0.25.2.1->qiskit>=0.44.1->qiskit-ibm-runtime) (1.3.0)\n",
            "Note: you may need to restart the kernel to use updated packages.\n"
          ]
        },
        {
          "name": "stderr",
          "output_type": "stream",
          "text": [
            "WARNING: There was an error checking the latest version of pip.\n"
          ]
        }
      ],
      "source": [
        "pip install qiskit-ibm-runtime"
      ]
    },
    {
      "cell_type": "code",
      "execution_count": 3,
      "metadata": {
        "colab": {
          "base_uri": "https://localhost:8080/"
        },
        "id": "63a4755c",
        "outputId": "b4d8e835-6c60-45bc-849d-b1d6cfeaafc4"
      },
      "outputs": [
        {
          "name": "stdout",
          "output_type": "stream",
          "text": [
            "Note: you may need to restart the kernel to use updated packages.\n"
          ]
        },
        {
          "name": "stderr",
          "output_type": "stream",
          "text": [
            "ERROR: Invalid requirement: \"'qiskit[visualization]'\"\n",
            "WARNING: There was an error checking the latest version of pip.\n"
          ]
        }
      ],
      "source": [
        "pip install 'qiskit[visualization]'"
      ]
    },
    {
      "cell_type": "code",
      "execution_count": 6,
      "metadata": {
        "colab": {
          "base_uri": "https://localhost:8080/"
        },
        "id": "47c31145",
        "outputId": "2b39d89b-cb94-480a-b6e9-fc9bd7fc79e3"
      },
      "outputs": [
        {
          "name": "stdout",
          "output_type": "stream",
          "text": [
            "Requirement already satisfied: qiskit in c:\\python39\\lib\\site-packages (0.44.2)\n",
            "Requirement already satisfied: qiskit-terra==0.25.2.1 in c:\\python39\\lib\\site-packages (from qiskit) (0.25.2.1)\n",
            "Requirement already satisfied: rustworkx>=0.13.0 in c:\\python39\\lib\\site-packages (from qiskit-terra==0.25.2.1->qiskit) (0.13.2)\n",
            "Requirement already satisfied: numpy>=1.17 in c:\\python39\\lib\\site-packages (from qiskit-terra==0.25.2.1->qiskit) (1.21.4)\n",
            "Requirement already satisfied: ply>=3.10 in c:\\python39\\lib\\site-packages (from qiskit-terra==0.25.2.1->qiskit) (3.11)\n",
            "Requirement already satisfied: psutil>=5 in c:\\users\\darkn\\appdata\\roaming\\python\\python39\\site-packages (from qiskit-terra==0.25.2.1->qiskit) (5.9.6)\n",
            "Requirement already satisfied: scipy>=1.5 in c:\\python39\\lib\\site-packages (from qiskit-terra==0.25.2.1->qiskit) (1.7.3)\n",
            "Requirement already satisfied: sympy>=1.3 in c:\\python39\\lib\\site-packages (from qiskit-terra==0.25.2.1->qiskit) (1.12)\n",
            "Requirement already satisfied: dill>=0.3 in c:\\python39\\lib\\site-packages (from qiskit-terra==0.25.2.1->qiskit) (0.3.7)\n",
            "Requirement already satisfied: python-dateutil>=2.8.0 in c:\\python39\\lib\\site-packages (from qiskit-terra==0.25.2.1->qiskit) (2.8.2)\n",
            "Requirement already satisfied: stevedore>=3.0.0 in c:\\python39\\lib\\site-packages (from qiskit-terra==0.25.2.1->qiskit) (5.1.0)\n",
            "Requirement already satisfied: typing-extensions in c:\\users\\darkn\\appdata\\roaming\\python\\python39\\site-packages (from qiskit-terra==0.25.2.1->qiskit) (4.8.0)\n",
            "Requirement already satisfied: six>=1.5 in c:\\python39\\lib\\site-packages (from python-dateutil>=2.8.0->qiskit-terra==0.25.2.1->qiskit) (1.16.0)\n",
            "Requirement already satisfied: pbr!=2.1.0,>=2.0.0 in c:\\python39\\lib\\site-packages (from stevedore>=3.0.0->qiskit-terra==0.25.2.1->qiskit) (5.11.1)\n",
            "Requirement already satisfied: mpmath>=0.19 in c:\\python39\\lib\\site-packages (from sympy>=1.3->qiskit-terra==0.25.2.1->qiskit) (1.3.0)\n",
            "Note: you may need to restart the kernel to use updated packages.\n"
          ]
        },
        {
          "name": "stderr",
          "output_type": "stream",
          "text": [
            "WARNING: There was an error checking the latest version of pip.\n"
          ]
        }
      ],
      "source": [
        "pip install --upgrade qiskit"
      ]
    },
    {
      "cell_type": "code",
      "execution_count": 7,
      "metadata": {
        "colab": {
          "base_uri": "https://localhost:8080/"
        },
        "id": "Wb18A79CSkdg",
        "outputId": "c960265a-c771-41a4-8886-02a91873afed"
      },
      "outputs": [
        {
          "name": "stdout",
          "output_type": "stream",
          "text": [
            "Requirement already satisfied: numpy in c:\\python39\\lib\\site-packages (1.21.4)Note: you may need to restart the kernel to use updated packages.\n"
          ]
        },
        {
          "name": "stderr",
          "output_type": "stream",
          "text": [
            "WARNING: There was an error checking the latest version of pip.\n"
          ]
        },
        {
          "name": "stdout",
          "output_type": "stream",
          "text": [
            "\n",
            "Requirement already satisfied: scipy in c:\\python39\\lib\\site-packages (1.7.3)\n",
            "Requirement already satisfied: qiskit in c:\\python39\\lib\\site-packages (0.44.2)\n",
            "Requirement already satisfied: qiskit-terra==0.25.2.1 in c:\\python39\\lib\\site-packages (from qiskit) (0.25.2.1)\n",
            "Requirement already satisfied: rustworkx>=0.13.0 in c:\\python39\\lib\\site-packages (from qiskit-terra==0.25.2.1->qiskit) (0.13.2)\n",
            "Requirement already satisfied: ply>=3.10 in c:\\python39\\lib\\site-packages (from qiskit-terra==0.25.2.1->qiskit) (3.11)\n",
            "Requirement already satisfied: psutil>=5 in c:\\users\\darkn\\appdata\\roaming\\python\\python39\\site-packages (from qiskit-terra==0.25.2.1->qiskit) (5.9.6)\n",
            "Requirement already satisfied: sympy>=1.3 in c:\\python39\\lib\\site-packages (from qiskit-terra==0.25.2.1->qiskit) (1.12)\n",
            "Requirement already satisfied: dill>=0.3 in c:\\python39\\lib\\site-packages (from qiskit-terra==0.25.2.1->qiskit) (0.3.7)\n",
            "Requirement already satisfied: python-dateutil>=2.8.0 in c:\\python39\\lib\\site-packages (from qiskit-terra==0.25.2.1->qiskit) (2.8.2)\n",
            "Requirement already satisfied: stevedore>=3.0.0 in c:\\python39\\lib\\site-packages (from qiskit-terra==0.25.2.1->qiskit) (5.1.0)\n",
            "Requirement already satisfied: typing-extensions in c:\\users\\darkn\\appdata\\roaming\\python\\python39\\site-packages (from qiskit-terra==0.25.2.1->qiskit) (4.8.0)\n",
            "Requirement already satisfied: six>=1.5 in c:\\python39\\lib\\site-packages (from python-dateutil>=2.8.0->qiskit-terra==0.25.2.1->qiskit) (1.16.0)\n",
            "Requirement already satisfied: pbr!=2.1.0,>=2.0.0 in c:\\python39\\lib\\site-packages (from stevedore>=3.0.0->qiskit-terra==0.25.2.1->qiskit) (5.11.1)\n",
            "Requirement already satisfied: mpmath>=0.19 in c:\\python39\\lib\\site-packages (from sympy>=1.3->qiskit-terra==0.25.2.1->qiskit) (1.3.0)\n"
          ]
        }
      ],
      "source": [
        "pip install numpy scipy qiskit"
      ]
    },
    {
      "cell_type": "code",
      "execution_count": 8,
      "metadata": {
        "colab": {
          "base_uri": "https://localhost:8080/"
        },
        "id": "wmRsQJ1KTPNf",
        "outputId": "b30453ab-f22a-4bd1-8b11-5d22372ad586"
      },
      "outputs": [
        {
          "name": "stdout",
          "output_type": "stream",
          "text": [
            "Requirement already satisfied: qiskit-ibmq-provider in c:\\python39\\lib\\site-packages (0.20.2)\n",
            "Requirement already satisfied: qiskit-terra>=0.18.0 in c:\\python39\\lib\\site-packages (from qiskit-ibmq-provider) (0.25.2.1)\n",
            "Requirement already satisfied: requests>=2.19 in c:\\python39\\lib\\site-packages (from qiskit-ibmq-provider) (2.31.0)\n",
            "Requirement already satisfied: requests-ntlm<=1.1.0 in c:\\python39\\lib\\site-packages (from qiskit-ibmq-provider) (1.1.0)\n",
            "Requirement already satisfied: numpy<1.24 in c:\\python39\\lib\\site-packages (from qiskit-ibmq-provider) (1.21.4)\n",
            "Requirement already satisfied: urllib3>=1.21.1 in c:\\python39\\lib\\site-packages (from qiskit-ibmq-provider) (1.26.14)\n",
            "Requirement already satisfied: python-dateutil>=2.8.0 in c:\\python39\\lib\\site-packages (from qiskit-ibmq-provider) (2.8.2)\n",
            "Requirement already satisfied: websocket-client>=1.5.1 in c:\\python39\\lib\\site-packages (from qiskit-ibmq-provider) (1.6.4)\n",
            "Requirement already satisfied: websockets>=10.0 in c:\\python39\\lib\\site-packages (from qiskit-ibmq-provider) (11.0.3)\n",
            "Requirement already satisfied: six>=1.5 in c:\\python39\\lib\\site-packages (from python-dateutil>=2.8.0->qiskit-ibmq-provider) (1.16.0)\n",
            "Requirement already satisfied: rustworkx>=0.13.0 in c:\\python39\\lib\\site-packages (from qiskit-terra>=0.18.0->qiskit-ibmq-provider) (0.13.2)\n",
            "Requirement already satisfied: ply>=3.10 in c:\\python39\\lib\\site-packages (from qiskit-terra>=0.18.0->qiskit-ibmq-provider) (3.11)\n",
            "Requirement already satisfied: psutil>=5 in c:\\users\\darkn\\appdata\\roaming\\python\\python39\\site-packages (from qiskit-terra>=0.18.0->qiskit-ibmq-provider) (5.9.6)\n",
            "Requirement already satisfied: scipy>=1.5 in c:\\python39\\lib\\site-packages (from qiskit-terra>=0.18.0->qiskit-ibmq-provider) (1.7.3)\n",
            "Requirement already satisfied: sympy>=1.3 in c:\\python39\\lib\\site-packages (from qiskit-terra>=0.18.0->qiskit-ibmq-provider) (1.12)\n",
            "Requirement already satisfied: dill>=0.3 in c:\\python39\\lib\\site-packages (from qiskit-terra>=0.18.0->qiskit-ibmq-provider) (0.3.7)\n",
            "Requirement already satisfied: stevedore>=3.0.0 in c:\\python39\\lib\\site-packages (from qiskit-terra>=0.18.0->qiskit-ibmq-provider) (5.1.0)\n",
            "Requirement already satisfied: typing-extensions in c:\\users\\darkn\\appdata\\roaming\\python\\python39\\site-packages (from qiskit-terra>=0.18.0->qiskit-ibmq-provider) (4.8.0)\n",
            "Requirement already satisfied: charset-normalizer<4,>=2 in c:\\python39\\lib\\site-packages (from requests>=2.19->qiskit-ibmq-provider) (3.0.1)\n",
            "Requirement already satisfied: idna<4,>=2.5 in c:\\python39\\lib\\site-packages (from requests>=2.19->qiskit-ibmq-provider) (3.4)\n",
            "Requirement already satisfied: certifi>=2017.4.17 in c:\\python39\\lib\\site-packages (from requests>=2.19->qiskit-ibmq-provider) (2022.12.7)\n",
            "Requirement already satisfied: ntlm-auth>=1.0.2 in c:\\python39\\lib\\site-packages (from requests-ntlm<=1.1.0->qiskit-ibmq-provider) (1.5.0)\n",
            "Requirement already satisfied: cryptography>=1.3 in c:\\python39\\lib\\site-packages (from requests-ntlm<=1.1.0->qiskit-ibmq-provider) (41.0.4)\n",
            "Requirement already satisfied: cffi>=1.12 in c:\\python39\\lib\\site-packages (from cryptography>=1.3->requests-ntlm<=1.1.0->qiskit-ibmq-provider) (1.16.0)\n",
            "Requirement already satisfied: pbr!=2.1.0,>=2.0.0 in c:\\python39\\lib\\site-packages (from stevedore>=3.0.0->qiskit-terra>=0.18.0->qiskit-ibmq-provider) (5.11.1)\n",
            "Requirement already satisfied: mpmath>=0.19 in c:\\python39\\lib\\site-packages (from sympy>=1.3->qiskit-terra>=0.18.0->qiskit-ibmq-provider) (1.3.0)\n",
            "Requirement already satisfied: pycparser in c:\\python39\\lib\\site-packages (from cffi>=1.12->cryptography>=1.3->requests-ntlm<=1.1.0->qiskit-ibmq-provider) (2.21)\n",
            "Note: you may need to restart the kernel to use updated packages.\n"
          ]
        },
        {
          "name": "stderr",
          "output_type": "stream",
          "text": [
            "WARNING: There was an error checking the latest version of pip.\n"
          ]
        }
      ],
      "source": [
        "pip install qiskit-ibmq-provider"
      ]
    },
    {
      "cell_type": "code",
      "execution_count": 9,
      "metadata": {
        "colab": {
          "background_save": true,
          "base_uri": "https://localhost:8080/"
        },
        "id": "npTejVAxNM8z",
        "outputId": "dde8c3bd-5d7f-475d-cec6-811b0c476290"
      },
      "outputs": [
        {
          "name": "stdout",
          "output_type": "stream",
          "text": [
            "Collecting qiskit-aquaNote: you may need to restart the kernel to use updated packages.\n",
            "\n",
            "  Downloading qiskit_aqua-0.9.5-py3-none-any.whl (2.1 MB)\n",
            "     ---------------------------------------- 0.0/2.1 MB ? eta -:--:--\n",
            "      --------------------------------------- 0.0/2.1 MB 1.4 MB/s eta 0:00:02\n",
            "     - -------------------------------------- 0.1/2.1 MB 919.0 kB/s eta 0:00:03\n",
            "     -- ------------------------------------- 0.1/2.1 MB 1.2 MB/s eta 0:00:02\n",
            "     ---- ----------------------------------- 0.2/2.1 MB 1.6 MB/s eta 0:00:02\n",
            "     ----- ---------------------------------- 0.3/2.1 MB 1.6 MB/s eta 0:00:02\n",
            "     ------- -------------------------------- 0.4/2.1 MB 1.7 MB/s eta 0:00:01\n",
            "     ----------- ---------------------------- 0.6/2.1 MB 2.2 MB/s eta 0:00:01\n",
            "     -------------- ------------------------- 0.8/2.1 MB 2.6 MB/s eta 0:00:01\n",
            "     ------------------ --------------------- 1.0/2.1 MB 2.8 MB/s eta 0:00:01\n",
            "     ------------------- -------------------- 1.0/2.1 MB 3.0 MB/s eta 0:00:01\n",
            "     -------------------- ------------------- 1.1/2.1 MB 2.5 MB/s eta 0:00:01\n",
            "     ------------------------- -------------- 1.3/2.1 MB 2.9 MB/s eta 0:00:01\n",
            "     ----------------------------- ---------- 1.6/2.1 MB 3.2 MB/s eta 0:00:01\n",
            "     ---------------------------------- ----- 1.8/2.1 MB 3.4 MB/s eta 0:00:01\n",
            "     ----------------------------------- ---- 1.9/2.1 MB 3.5 MB/s eta 0:00:01\n",
            "     ------------------------------------- -- 2.0/2.1 MB 3.4 MB/s eta 0:00:01\n",
            "     ---------------------------------------  2.1/2.1 MB 3.4 MB/s eta 0:00:01\n",
            "     ---------------------------------------- 2.1/2.1 MB 3.1 MB/s eta 0:00:00\n",
            "Requirement already satisfied: qiskit-terra>=0.18.0 in c:\\python39\\lib\\site-packages (from qiskit-aqua) (0.25.2.1)\n",
            "Collecting qiskit-ignis>=0.6.0 (from qiskit-aqua)\n",
            "  Downloading qiskit_ignis-0.7.1-py3-none-any.whl (198 kB)\n",
            "     ---------------------------------------- 0.0/198.7 kB ? eta -:--:--\n",
            "     -------------------------------------  194.6/198.7 kB 5.9 MB/s eta 0:00:01\n",
            "     -------------------------------------- 198.7/198.7 kB 4.0 MB/s eta 0:00:00\n",
            "Requirement already satisfied: scipy>=1.4 in c:\\python39\\lib\\site-packages (from qiskit-aqua) (1.7.3)\n",
            "Requirement already satisfied: sympy>=1.3 in c:\\python39\\lib\\site-packages (from qiskit-aqua) (1.12)\n",
            "Requirement already satisfied: numpy>=1.17 in c:\\python39\\lib\\site-packages (from qiskit-aqua) (1.21.4)\n",
            "Requirement already satisfied: psutil>=5 in c:\\users\\darkn\\appdata\\roaming\\python\\python39\\site-packages (from qiskit-aqua) (5.9.6)\n",
            "Requirement already satisfied: scikit-learn>=0.20.0 in c:\\python39\\lib\\site-packages (from qiskit-aqua) (1.1.1)\n",
            "Collecting dlx<=1.0.4 (from qiskit-aqua)\n",
            "  Downloading dlx-1.0.4.tar.gz (5.5 kB)\n",
            "  Installing build dependencies: started\n",
            "  Installing build dependencies: finished with status 'done'\n",
            "  Getting requirements to build wheel: started\n",
            "  Getting requirements to build wheel: finished with status 'done'\n",
            "  Preparing metadata (pyproject.toml): started\n",
            "  Preparing metadata (pyproject.toml): finished with status 'done'\n",
            "Collecting docplex>=2.21.207 (from qiskit-aqua)\n",
            "  Downloading docplex-2.25.236.tar.gz (633 kB)\n",
            "     ---------------------------------------- 0.0/633.5 kB ? eta -:--:--\n",
            "     ------------ ------------------------- 204.8/633.5 kB 6.3 MB/s eta 0:00:01\n",
            "     ----------------------------------- -- 593.9/633.5 kB 7.5 MB/s eta 0:00:01\n",
            "     -------------------------------------- 633.5/633.5 kB 5.0 MB/s eta 0:00:00\n",
            "  Installing build dependencies: started\n",
            "  Installing build dependencies: finished with status 'done'\n",
            "  Getting requirements to build wheel: started\n",
            "  Getting requirements to build wheel: finished with status 'done'\n",
            "  Preparing metadata (pyproject.toml): started\n",
            "  Preparing metadata (pyproject.toml): finished with status 'done'\n",
            "Collecting fastdtw<=0.3.4 (from qiskit-aqua)\n",
            "  Downloading fastdtw-0.3.4.tar.gz (133 kB)\n",
            "     ---------------------------------------- 0.0/133.4 kB ? eta -:--:--\n",
            "     -------------------------- ------------ 92.2/133.4 kB 2.6 MB/s eta 0:00:01\n",
            "     -------------------------------------- 133.4/133.4 kB 1.6 MB/s eta 0:00:00\n",
            "  Installing build dependencies: started\n",
            "  Installing build dependencies: finished with status 'done'\n",
            "  Getting requirements to build wheel: started\n",
            "  Getting requirements to build wheel: finished with status 'done'\n",
            "  Preparing metadata (pyproject.toml): started\n",
            "  Preparing metadata (pyproject.toml): finished with status 'done'\n",
            "Requirement already satisfied: setuptools>=40.1.0 in c:\\python39\\lib\\site-packages (from qiskit-aqua) (56.0.0)\n",
            "Collecting h5py<3.3.0 (from qiskit-aqua)\n",
            "  Downloading h5py-3.2.1-cp39-cp39-win_amd64.whl (2.8 MB)\n",
            "     ---------------------------------------- 0.0/2.8 MB ? eta -:--:--\n",
            "     ----- ---------------------------------- 0.4/2.8 MB 12.2 MB/s eta 0:00:01\n",
            "     ----------- ---------------------------- 0.8/2.8 MB 9.7 MB/s eta 0:00:01\n",
            "     ----------- ---------------------------- 0.8/2.8 MB 9.7 MB/s eta 0:00:01\n",
            "     -------------- ------------------------- 1.0/2.8 MB 6.5 MB/s eta 0:00:01\n",
            "     ------------------- -------------------- 1.3/2.8 MB 6.6 MB/s eta 0:00:01\n",
            "     --------------------- ------------------ 1.5/2.8 MB 6.8 MB/s eta 0:00:01\n",
            "     --------------------- ------------------ 1.5/2.8 MB 6.8 MB/s eta 0:00:01\n",
            "     --------------------- ------------------ 1.5/2.8 MB 6.8 MB/s eta 0:00:01\n",
            "     ---------------------- ----------------- 1.6/2.8 MB 4.3 MB/s eta 0:00:01\n",
            "     ---------------------------- ----------- 2.0/2.8 MB 5.2 MB/s eta 0:00:01\n",
            "     ---------------------------- ----------- 2.0/2.8 MB 5.2 MB/s eta 0:00:01\n",
            "     ---------------------------- ----------- 2.0/2.8 MB 4.1 MB/s eta 0:00:01\n",
            "     -------------------------------- ------- 2.3/2.8 MB 4.5 MB/s eta 0:00:01\n",
            "     -------------------------------- ------- 2.3/2.8 MB 4.5 MB/s eta 0:00:01\n",
            "     ------------------------------------- -- 2.6/2.8 MB 4.4 MB/s eta 0:00:01\n",
            "     ------------------------------------- -- 2.6/2.8 MB 4.4 MB/s eta 0:00:01\n",
            "     ------------------------------------- -- 2.6/2.8 MB 4.0 MB/s eta 0:00:01\n",
            "     ---------------------------------------  2.8/2.8 MB 4.0 MB/s eta 0:00:01\n",
            "     ---------------------------------------- 2.8/2.8 MB 3.7 MB/s eta 0:00:00\n",
            "Requirement already satisfied: pandas in c:\\python39\\lib\\site-packages (from qiskit-aqua) (1.3.4)\n",
            "Collecting quandl (from qiskit-aqua)\n",
            "  Downloading Quandl-3.7.0-py2.py3-none-any.whl (26 kB)\n",
            "Collecting yfinance>=0.1.62 (from qiskit-aqua)\n",
            "  Downloading yfinance-0.2.31-py2.py3-none-any.whl.metadata (11 kB)\n",
            "Collecting retworkx>=0.8.0 (from qiskit-aqua)\n",
            "  Downloading retworkx-0.13.2-py3-none-any.whl.metadata (10 kB)\n",
            "Requirement already satisfied: six in c:\\python39\\lib\\site-packages (from docplex>=2.21.207->qiskit-aqua) (1.16.0)\n",
            "Requirement already satisfied: rustworkx>=0.13.0 in c:\\python39\\lib\\site-packages (from qiskit-terra>=0.18.0->qiskit-aqua) (0.13.2)\n",
            "Requirement already satisfied: ply>=3.10 in c:\\python39\\lib\\site-packages (from qiskit-terra>=0.18.0->qiskit-aqua) (3.11)\n",
            "Requirement already satisfied: dill>=0.3 in c:\\python39\\lib\\site-packages (from qiskit-terra>=0.18.0->qiskit-aqua) (0.3.7)\n",
            "Requirement already satisfied: python-dateutil>=2.8.0 in c:\\python39\\lib\\site-packages (from qiskit-terra>=0.18.0->qiskit-aqua) (2.8.2)\n",
            "Requirement already satisfied: stevedore>=3.0.0 in c:\\python39\\lib\\site-packages (from qiskit-terra>=0.18.0->qiskit-aqua) (5.1.0)\n",
            "Requirement already satisfied: typing-extensions in c:\\users\\darkn\\appdata\\roaming\\python\\python39\\site-packages (from qiskit-terra>=0.18.0->qiskit-aqua) (4.8.0)\n",
            "Requirement already satisfied: joblib>=1.0.0 in c:\\python39\\lib\\site-packages (from scikit-learn>=0.20.0->qiskit-aqua) (1.1.0)\n",
            "Requirement already satisfied: threadpoolctl>=2.0.0 in c:\\python39\\lib\\site-packages (from scikit-learn>=0.20.0->qiskit-aqua) (3.1.0)\n",
            "Requirement already satisfied: mpmath>=0.19 in c:\\python39\\lib\\site-packages (from sympy>=1.3->qiskit-aqua) (1.3.0)\n",
            "Requirement already satisfied: requests>=2.31 in c:\\python39\\lib\\site-packages (from yfinance>=0.1.62->qiskit-aqua) (2.31.0)\n",
            "Collecting multitasking>=0.0.7 (from yfinance>=0.1.62->qiskit-aqua)\n",
            "  Downloading multitasking-0.0.11-py3-none-any.whl (8.5 kB)\n",
            "Collecting lxml>=4.9.1 (from yfinance>=0.1.62->qiskit-aqua)\n",
            "  Downloading lxml-4.9.3-cp39-cp39-win_amd64.whl.metadata (3.9 kB)\n",
            "Collecting appdirs>=1.4.4 (from yfinance>=0.1.62->qiskit-aqua)\n",
            "  Downloading appdirs-1.4.4-py2.py3-none-any.whl (9.6 kB)\n",
            "Collecting pytz>=2022.5 (from yfinance>=0.1.62->qiskit-aqua)\n",
            "  Downloading pytz-2023.3.post1-py2.py3-none-any.whl.metadata (22 kB)\n",
            "Collecting frozendict>=2.3.4 (from yfinance>=0.1.62->qiskit-aqua)\n",
            "  Downloading frozendict-2.3.8-cp39-cp39-win_amd64.whl (35 kB)\n",
            "Collecting peewee>=3.16.2 (from yfinance>=0.1.62->qiskit-aqua)\n",
            "  Downloading peewee-3.17.0.tar.gz (2.9 MB)\n",
            "     ---------------------------------------- 0.0/2.9 MB ? eta -:--:--\n",
            "     --- ------------------------------------ 0.3/2.9 MB 8.9 MB/s eta 0:00:01\n",
            "     ----- ---------------------------------- 0.4/2.9 MB 5.5 MB/s eta 0:00:01\n",
            "     ---------- ----------------------------- 0.8/2.9 MB 6.1 MB/s eta 0:00:01\n",
            "     ------------ --------------------------- 0.9/2.9 MB 6.4 MB/s eta 0:00:01\n",
            "     -------------- ------------------------- 1.1/2.9 MB 5.2 MB/s eta 0:00:01\n",
            "     ----------------- ---------------------- 1.3/2.9 MB 5.5 MB/s eta 0:00:01\n",
            "     ----------------- ---------------------- 1.3/2.9 MB 5.5 MB/s eta 0:00:01\n",
            "     ------------------- -------------------- 1.5/2.9 MB 4.7 MB/s eta 0:00:01\n",
            "     ---------------------- ----------------- 1.7/2.9 MB 4.7 MB/s eta 0:00:01\n",
            "     ----------------------- ---------------- 1.7/2.9 MB 4.7 MB/s eta 0:00:01\n",
            "     ------------------------ --------------- 1.8/2.9 MB 4.1 MB/s eta 0:00:01\n",
            "     ------------------------- -------------- 1.9/2.9 MB 4.1 MB/s eta 0:00:01\n",
            "     --------------------------- ------------ 2.1/2.9 MB 4.0 MB/s eta 0:00:01\n",
            "     --------------------------------- ------ 2.5/2.9 MB 4.5 MB/s eta 0:00:01\n",
            "     ---------------------------------- ----- 2.6/2.9 MB 4.4 MB/s eta 0:00:01\n",
            "     ---------------------------------- ----- 2.6/2.9 MB 4.4 MB/s eta 0:00:01\n",
            "     ----------------------------------- ---- 2.7/2.9 MB 4.0 MB/s eta 0:00:01\n",
            "     ---------------------------------------  2.9/2.9 MB 4.3 MB/s eta 0:00:01\n",
            "     ---------------------------------------- 2.9/2.9 MB 4.1 MB/s eta 0:00:00\n",
            "  Installing build dependencies: started\n",
            "  Installing build dependencies: finished with status 'done'\n",
            "  Getting requirements to build wheel: started\n",
            "  Getting requirements to build wheel: finished with status 'done'\n",
            "  Preparing metadata (pyproject.toml): started\n",
            "  Preparing metadata (pyproject.toml): finished with status 'done'\n",
            "Requirement already satisfied: beautifulsoup4>=4.11.1 in c:\\python39\\lib\\site-packages (from yfinance>=0.1.62->qiskit-aqua) (4.11.2)\n",
            "Requirement already satisfied: html5lib>=1.1 in c:\\python39\\lib\\site-packages (from yfinance>=0.1.62->qiskit-aqua) (1.1)\n",
            "Collecting inflection>=0.3.1 (from quandl->qiskit-aqua)\n",
            "  Downloading inflection-0.5.1-py2.py3-none-any.whl (9.5 kB)\n",
            "Requirement already satisfied: more-itertools in c:\\python39\\lib\\site-packages (from quandl->qiskit-aqua) (10.1.0)\n",
            "Requirement already satisfied: soupsieve>1.2 in c:\\python39\\lib\\site-packages (from beautifulsoup4>=4.11.1->yfinance>=0.1.62->qiskit-aqua) (2.3.2.post1)\n",
            "Requirement already satisfied: webencodings in c:\\python39\\lib\\site-packages (from html5lib>=1.1->yfinance>=0.1.62->qiskit-aqua) (0.5.1)\n",
            "Requirement already satisfied: charset-normalizer<4,>=2 in c:\\python39\\lib\\site-packages (from requests>=2.31->yfinance>=0.1.62->qiskit-aqua) (3.0.1)\n",
            "Requirement already satisfied: idna<4,>=2.5 in c:\\python39\\lib\\site-packages (from requests>=2.31->yfinance>=0.1.62->qiskit-aqua) (3.4)\n",
            "Requirement already satisfied: urllib3<3,>=1.21.1 in c:\\python39\\lib\\site-packages (from requests>=2.31->yfinance>=0.1.62->qiskit-aqua) (1.26.14)\n",
            "Requirement already satisfied: certifi>=2017.4.17 in c:\\python39\\lib\\site-packages (from requests>=2.31->yfinance>=0.1.62->qiskit-aqua) (2022.12.7)\n",
            "Requirement already satisfied: pbr!=2.1.0,>=2.0.0 in c:\\python39\\lib\\site-packages (from stevedore>=3.0.0->qiskit-terra>=0.18.0->qiskit-aqua) (5.11.1)\n",
            "Downloading retworkx-0.13.2-py3-none-any.whl (10 kB)\n",
            "Downloading yfinance-0.2.31-py2.py3-none-any.whl (65 kB)\n",
            "   ---------------------------------------- 0.0/65.6 kB ? eta -:--:--\n",
            "   ------------------------------------- -- 61.4/65.6 kB ? eta -:--:--\n",
            "   ---------------------------------------- 65.6/65.6 kB 1.2 MB/s eta 0:00:00\n",
            "Downloading lxml-4.9.3-cp39-cp39-win_amd64.whl (3.9 MB)\n",
            "   ---------------------------------------- 0.0/3.9 MB ? eta -:--:--\n",
            "   - -------------------------------------- 0.2/3.9 MB 11.5 MB/s eta 0:00:01\n",
            "   -- ------------------------------------- 0.3/3.9 MB 5.7 MB/s eta 0:00:01\n",
            "   ---- ----------------------------------- 0.5/3.9 MB 4.0 MB/s eta 0:00:01\n",
            "   ----- ---------------------------------- 0.6/3.9 MB 3.6 MB/s eta 0:00:01\n",
            "   ------ --------------------------------- 0.7/3.9 MB 3.4 MB/s eta 0:00:01\n",
            "   -------- ------------------------------- 0.8/3.9 MB 3.4 MB/s eta 0:00:01\n",
            "   -------- ------------------------------- 0.8/3.9 MB 3.6 MB/s eta 0:00:01\n",
            "   ---------- ----------------------------- 1.0/3.9 MB 3.3 MB/s eta 0:00:01\n",
            "   ----------- ---------------------------- 1.1/3.9 MB 3.0 MB/s eta 0:00:01\n",
            "   ------------- -------------------------- 1.3/3.9 MB 3.2 MB/s eta 0:00:01\n",
            "   -------------- ------------------------- 1.4/3.9 MB 3.2 MB/s eta 0:00:01\n",
            "   --------------- ------------------------ 1.5/3.9 MB 3.3 MB/s eta 0:00:01\n",
            "   ---------------- ----------------------- 1.6/3.9 MB 3.1 MB/s eta 0:00:01\n",
            "   ------------------ --------------------- 1.8/3.9 MB 3.2 MB/s eta 0:00:01\n",
            "   ------------------- -------------------- 1.9/3.9 MB 3.2 MB/s eta 0:00:01\n",
            "   -------------------- ------------------- 2.0/3.9 MB 3.2 MB/s eta 0:00:01\n",
            "   ----------------------- ---------------- 2.2/3.9 MB 3.3 MB/s eta 0:00:01\n",
            "   ------------------------ --------------- 2.4/3.9 MB 3.3 MB/s eta 0:00:01\n",
            "   ------------------------- -------------- 2.5/3.9 MB 3.4 MB/s eta 0:00:01\n",
            "   --------------------------- ------------ 2.7/3.9 MB 3.4 MB/s eta 0:00:01\n",
            "   ---------------------------- ----------- 2.8/3.9 MB 3.4 MB/s eta 0:00:01\n",
            "   ------------------------------ --------- 3.0/3.9 MB 3.4 MB/s eta 0:00:01\n",
            "   ------------------------------ --------- 3.0/3.9 MB 3.4 MB/s eta 0:00:01\n",
            "   ------------------------------- -------- 3.1/3.9 MB 3.2 MB/s eta 0:00:01\n",
            "   --------------------------------- ------ 3.3/3.9 MB 3.3 MB/s eta 0:00:01\n",
            "   --------------------------------- ------ 3.3/3.9 MB 3.3 MB/s eta 0:00:01\n",
            "   --------------------------------- ------ 3.3/3.9 MB 3.3 MB/s eta 0:00:01\n",
            "   ------------------------------------- -- 3.6/3.9 MB 3.3 MB/s eta 0:00:01\n",
            "   ------------------------------------- -- 3.6/3.9 MB 3.3 MB/s eta 0:00:01\n",
            "   ------------------------------------- -- 3.6/3.9 MB 3.3 MB/s eta 0:00:01\n",
            "   ------------------------------------- -- 3.6/3.9 MB 3.3 MB/s eta 0:00:01\n",
            "   ---------------------------------------  3.9/3.9 MB 3.2 MB/s eta 0:00:01\n",
            "   ---------------------------------------- 3.9/3.9 MB 3.0 MB/s eta 0:00:00\n",
            "Downloading pytz-2023.3.post1-py2.py3-none-any.whl (502 kB)\n",
            "   ---------------------------------------- 0.0/502.5 kB ? eta -:--:--\n",
            "   ------- -------------------------------- 92.2/502.5 kB 2.6 MB/s eta 0:00:01\n",
            "   ------------- -------------------------- 174.1/502.5 kB 2.6 MB/s eta 0:00:01\n",
            "   ---------------------- ----------------- 276.5/502.5 kB 2.4 MB/s eta 0:00:01\n",
            "   ---------------------- ----------------- 286.7/502.5 kB 2.2 MB/s eta 0:00:01\n",
            "   ---------------------- ----------------- 286.7/502.5 kB 2.2 MB/s eta 0:00:01\n",
            "   ------------------------------ --------- 389.1/502.5 kB 1.7 MB/s eta 0:00:01\n",
            "   ---------------------------------------  501.8/502.5 kB 1.8 MB/s eta 0:00:01\n",
            "   ---------------------------------------- 502.5/502.5 kB 1.7 MB/s eta 0:00:00\n",
            "Building wheels for collected packages: dlx, docplex, fastdtw, peewee\n",
            "  Building wheel for dlx (pyproject.toml): started\n",
            "  Building wheel for dlx (pyproject.toml): finished with status 'done'\n",
            "  Created wheel for dlx: filename=dlx-1.0.4-py3-none-any.whl size=5715 sha256=d97657b3d91074895f9830639bd30a15d06e5c7cc8ac34bc1ece65bfae5d518a\n",
            "  Stored in directory: c:\\users\\darkn\\appdata\\local\\pip\\cache\\wheels\\81\\bd\\ba\\2896ffc1856e28914fcbf4d0ded1bfbb5924dad98c80ba2d5c\n",
            "  Building wheel for docplex (pyproject.toml): started\n",
            "  Building wheel for docplex (pyproject.toml): finished with status 'done'\n",
            "  Created wheel for docplex: filename=docplex-2.25.236-py3-none-any.whl size=671402 sha256=bd5bedb563e0e07152e8a660c585c414eaed0b62a15745acb89beaaac1fc31a4\n",
            "  Stored in directory: c:\\users\\darkn\\appdata\\local\\pip\\cache\\wheels\\02\\32\\20\\7f3f85d090da2c3b1ec41de83f17f426a05acc5d9f5e8a1c9f\n",
            "  Building wheel for fastdtw (pyproject.toml): started\n",
            "  Building wheel for fastdtw (pyproject.toml): finished with status 'done'\n",
            "  Created wheel for fastdtw: filename=fastdtw-0.3.4-py3-none-any.whl size=3585 sha256=f50f3bca553a66b728f779099ea1a68ed08f2dd462e1f728cd28560eeb7a358e\n",
            "  Stored in directory: c:\\users\\darkn\\appdata\\local\\pip\\cache\\wheels\\1f\\a1\\63\\bfd0fddb5bf0b59f564872e29272cee8a2de0cd745d88fede5\n",
            "  Building wheel for peewee (pyproject.toml): started\n",
            "  Building wheel for peewee (pyproject.toml): finished with status 'done'\n",
            "  Created wheel for peewee: filename=peewee-3.17.0-py3-none-any.whl size=135767 sha256=82c5a0226f4c3b46fd2c37f7acce094c78c8cd4c1e60d5558c49cf97aa8989c7\n",
            "  Stored in directory: c:\\users\\darkn\\appdata\\local\\pip\\cache\\wheels\\77\\6b\\dc\\722aee2a5d46a021ab67564c9d3d5536c3bd9577fcdc3a5aeb\n",
            "Successfully built dlx docplex fastdtw peewee\n",
            "Installing collected packages: pytz, peewee, multitasking, dlx, appdirs, lxml, inflection, h5py, frozendict, fastdtw, docplex, retworkx, yfinance, quandl, qiskit-ignis, qiskit-aqua\n",
            "  Attempting uninstall: pytz\n",
            "    Found existing installation: pytz 2021.3\n",
            "    Uninstalling pytz-2021.3:\n",
            "      Successfully uninstalled pytz-2021.3\n",
            "Successfully installed appdirs-1.4.4 dlx-1.0.4 docplex-2.25.236 fastdtw-0.3.4 frozendict-2.3.8 h5py-3.2.1 inflection-0.5.1 lxml-4.9.3 multitasking-0.0.11 peewee-3.17.0 pytz-2023.3.post1 qiskit-aqua-0.9.5 qiskit-ignis-0.7.1 quandl-3.7.0 retworkx-0.13.2 yfinance-0.2.31\n"
          ]
        },
        {
          "name": "stderr",
          "output_type": "stream",
          "text": [
            "WARNING: There was an error checking the latest version of pip.\n"
          ]
        }
      ],
      "source": [
        "pip install qiskit-aqua"
      ]
    },
    {
      "cell_type": "code",
      "execution_count": 35,
      "metadata": {},
      "outputs": [
        {
          "name": "stdout",
          "output_type": "stream",
          "text": [
            "Note: you may need to restart the kernel to use updated packages.\n"
          ]
        },
        {
          "name": "stderr",
          "output_type": "stream",
          "text": [
            "WARNING: There was an error checking the latest version of pip.\n"
          ]
        },
        {
          "name": "stdout",
          "output_type": "stream",
          "text": [
            "Collecting pylatexenc\n",
            "  Downloading pylatexenc-2.10.tar.gz (162 kB)\n",
            "     ---------------------------------------- 0.0/162.6 kB ? eta -:--:--\n",
            "     ------- ------------------------------- 30.7/162.6 kB 1.3 MB/s eta 0:00:01\n",
            "     ---------------------- ---------------- 92.2/162.6 kB 1.3 MB/s eta 0:00:01\n",
            "     -------------------------- ----------- 112.6/162.6 kB 1.1 MB/s eta 0:00:01\n",
            "     -------------------------------------- 162.6/162.6 kB 1.1 MB/s eta 0:00:00\n",
            "  Installing build dependencies: started\n",
            "  Installing build dependencies: finished with status 'done'\n",
            "  Getting requirements to build wheel: started\n",
            "  Getting requirements to build wheel: finished with status 'done'\n",
            "  Preparing metadata (pyproject.toml): started\n",
            "  Preparing metadata (pyproject.toml): finished with status 'done'\n",
            "Building wheels for collected packages: pylatexenc\n",
            "  Building wheel for pylatexenc (pyproject.toml): started\n",
            "  Building wheel for pylatexenc (pyproject.toml): finished with status 'done'\n",
            "  Created wheel for pylatexenc: filename=pylatexenc-2.10-py3-none-any.whl size=136849 sha256=df17f574ad86fb9d1e016fc979cbf18dd894dfa485656e08a6caff5c11c04f0e\n",
            "  Stored in directory: c:\\users\\darkn\\appdata\\local\\pip\\cache\\wheels\\a3\\68\\66\\2f15abd0673d83c02f354115feedeb89c3daed2ac319b11090\n",
            "Successfully built pylatexenc\n",
            "Installing collected packages: pylatexenc\n",
            "Successfully installed pylatexenc-2.10\n"
          ]
        }
      ],
      "source": [
        "pip install pylatexenc"
      ]
    },
    {
      "cell_type": "code",
      "execution_count": 36,
      "metadata": {
        "id": "e1060045"
      },
      "outputs": [],
      "source": [
        "import qiskit"
      ]
    },
    {
      "cell_type": "code",
      "execution_count": 37,
      "metadata": {
        "colab": {
          "base_uri": "https://localhost:8080/"
        },
        "id": "420801bf",
        "outputId": "5ddf8fc1-d1c4-41d0-f4c8-f6db35c897a8"
      },
      "outputs": [
        {
          "data": {
            "text/plain": [
              "{'qiskit-terra': '0.25.2', 'qiskit': '0.44.2', 'qiskit-aer': None, 'qiskit-ignis': '0.7.1', 'qiskit-ibmq-provider': '0.20.2', 'qiskit-nature': None, 'qiskit-finance': None, 'qiskit-optimization': None, 'qiskit-machine-learning': None}"
            ]
          },
          "execution_count": 37,
          "metadata": {},
          "output_type": "execute_result"
        }
      ],
      "source": [
        "#check the qiskit version\n",
        "qiskit.__qiskit_version__"
      ]
    },
    {
      "cell_type": "markdown",
      "metadata": {
        "id": "w7-crWucKgvL"
      },
      "source": [
        "Version 1: Deutsch-Jozsa algorithm\n",
        "\n",
        "- Def:\n",
        "    The Jozsa algorithm is a quantum algorithm used to solve a specific problem related to oracle functions. In the case of Jozsa's problem, it determines whether an unknown binary function (oracle) is constant or balanced.\n",
        "\n",
        "- Implementation: \n",
        "    Using Qiskit library of Python.\n"
      ]
    },
    {
      "cell_type": "code",
      "execution_count": 1,
      "metadata": {
        "id": "lbGj2R9wKeP1"
      },
      "outputs": [],
      "source": [
        "from qiskit import QuantumCircuit, transpile, execute, BasicAer\n",
        "from qiskit.visualization import plot_histogram"
      ]
    },
    {
      "cell_type": "code",
      "execution_count": 2,
      "metadata": {},
      "outputs": [],
      "source": [
        "from qiskit.visualization import plot_bloch_multivector, circuit_drawer"
      ]
    },
    {
      "cell_type": "code",
      "execution_count": 3,
      "metadata": {},
      "outputs": [],
      "source": [
        "# Define the oracle for a constant function (0) or a balanced function (1)\n",
        "def deutsch_jozsa_oracle(qc, f):\n",
        "    if f == 1:\n",
        "        qc.cx(0, 1)"
      ]
    },
    {
      "cell_type": "code",
      "execution_count": 4,
      "metadata": {},
      "outputs": [],
      "source": [
        "# Create a quantum circuit with 2 qubits and 1 classical bit\n",
        "n = 2\n",
        "qc = QuantumCircuit(n, 1)"
      ]
    },
    {
      "cell_type": "code",
      "execution_count": 5,
      "metadata": {},
      "outputs": [
        {
          "data": {
            "text/plain": [
              "<qiskit.circuit.instructionset.InstructionSet at 0x1b6aeb276a0>"
            ]
          },
          "execution_count": 5,
          "metadata": {},
          "output_type": "execute_result"
        }
      ],
      "source": [
        "# Apply Hadamard gate to the first qubit\n",
        "qc.h(0)"
      ]
    },
    {
      "cell_type": "code",
      "execution_count": 6,
      "metadata": {},
      "outputs": [],
      "source": [
        "# Apply the Deutsch-Jozsa oracle for a balanced function\n",
        "deutsch_jozsa_oracle(qc, 1)  # Change to 0 for a constant function"
      ]
    },
    {
      "cell_type": "code",
      "execution_count": 7,
      "metadata": {},
      "outputs": [
        {
          "data": {
            "text/plain": [
              "<qiskit.circuit.instructionset.InstructionSet at 0x1b6aeb488e0>"
            ]
          },
          "execution_count": 7,
          "metadata": {},
          "output_type": "execute_result"
        }
      ],
      "source": [
        "# Apply Hadamard gates to both qubits\n",
        "qc.h(0)\n",
        "qc.h(1)"
      ]
    },
    {
      "cell_type": "code",
      "execution_count": 8,
      "metadata": {},
      "outputs": [
        {
          "data": {
            "text/plain": [
              "<qiskit.circuit.instructionset.InstructionSet at 0x1b6aeb487c0>"
            ]
          },
          "execution_count": 8,
          "metadata": {},
          "output_type": "execute_result"
        }
      ],
      "source": [
        "# Measure the first qubit and store the result in the classical bit\n",
        "qc.measure(0, 0)"
      ]
    },
    {
      "cell_type": "code",
      "execution_count": 9,
      "metadata": {},
      "outputs": [
        {
          "data": {
            "image/png": "[encoded data removed]",
            "text/plain": [
              "<Figure size 454.517x284.278 with 1 Axes>"
            ]
          },
          "execution_count": 9,
          "metadata": {},
          "output_type": "execute_result"
        }
      ],
      "source": [
        "# Visualize the quantum circuit\n",
        "circuit_drawer(qc, output='mpl')"
      ]
    },
    {
      "cell_type": "code",
      "execution_count": 10,
      "metadata": {},
      "outputs": [],
      "source": [
        "# Simulate the circuit using the BasicAer simulator\n",
        "simulator = BasicAer.get_backend('qasm_simulator')\n",
        "compiled_circuit = transpile(qc, simulator)\n",
        "job = execute(compiled_circuit, simulator, shots=1024)\n",
        "result = job.result()"
      ]
    },
    {
      "cell_type": "code",
      "execution_count": 11,
      "metadata": {},
      "outputs": [
        {
          "data": {
            "image/png": "[encoded data removed]",
            "text/plain": [
              "<Figure size 700x500 with 1 Axes>"
            ]
          },
          "execution_count": 11,
          "metadata": {},
          "output_type": "execute_result"
        }
      ],
      "source": [
        "# Get and plot the measurement results\n",
        "counts = result.get_counts()\n",
        "plot_histogram(counts)"
      ]
    },
    {
      "cell_type": "code",
      "execution_count": null,
      "metadata": {},
      "outputs": [],
      "source": []
    }
  ],
  "metadata": {
    "colab": {
      "provenance": []
    },
    "kernelspec": {
      "display_name": "Python 3",
      "name": "python3"
    },
    "language_info": {
      "codemirror_mode": {
        "name": "ipython",
        "version": 3
      },
      "file_extension": ".py",
      "mimetype": "text/x-python",
      "name": "python",
      "nbconvert_exporter": "python",
      "pygments_lexer": "ipython3",
      "version": "3.9.6"
    }
  },
  "nbformat": 4,
  "nbformat_minor": 0
}
