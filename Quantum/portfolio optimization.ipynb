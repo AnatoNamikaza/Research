{
 "cells": [
  {
   "cell_type": "code",
   "execution_count": 1,
   "id": "452acd59",
   "metadata": {},
   "outputs": [],
   "source": [
    "from qiskit import Aer, QuantumCircuit, transpile, assemble\n",
    "from qiskit.visualization import plot_histogram\n",
    "import numpy as np"
   ]
  },
  {
   "cell_type": "code",
   "execution_count": 2,
   "id": "c475ea47",
   "metadata": {},
   "outputs": [],
   "source": [
    "# Generate random expected returns for assets\n",
    "np.random.seed(42)\n",
    "num_assets = 3\n",
    "expected_returns = np.random.rand(num_assets)"
   ]
  },
  {
   "cell_type": "code",
   "execution_count": 3,
   "id": "246a3f07",
   "metadata": {},
   "outputs": [],
   "source": [
    "# Generate a random covariance matrix for the assets\n",
    "covariance_matrix = np.random.rand(num_assets, num_assets)\n",
    "covariance_matrix = (covariance_matrix + covariance_matrix.T) / 2  # Ensure symmetry\n",
    "covariance_matrix[np.arange(num_assets), np.arange(num_assets)] = 1  # Set diagonal to 1 for simplicity"
   ]
  },
  {
   "cell_type": "code",
   "execution_count": 4,
   "id": "72bce14d",
   "metadata": {},
   "outputs": [],
   "source": [
    "# Define the Quantum Circuit for Portfolio Optimization\n",
    "def portfolio_optimization_circuit(expected_returns, covariance_matrix):\n",
    "    num_assets = len(expected_returns)\n",
    "    num_qubits = 2 * num_assets\n",
    "\n",
    "    # Create a quantum circuit with the necessary number of qubits\n",
    "    qc = QuantumCircuit(num_qubits)\n",
    "\n",
    "    # Apply Hadamard gates to the first set of qubits\n",
    "    qc.h(range(num_assets))\n",
    "\n",
    "    # Apply a controlled rotation based on the covariance matrix\n",
    "    for i in range(num_assets):\n",
    "        for j in range(i + 1, num_assets):\n",
    "            qc.cp(2 * np.arcsin(covariance_matrix[i, j]), i, j + num_assets)\n",
    "            qc.cp(2 * np.arcsin(covariance_matrix[i, j]), j, i + num_assets)\n",
    "\n",
    "    # Apply a rotation based on the expected returns\n",
    "    qc.ry(2 * expected_returns[0], 0)\n",
    "    qc.ry(2 * expected_returns[1], 1)\n",
    "    qc.ry(2 * expected_returns[2], 2)\n",
    "\n",
    "    # Measure the qubits\n",
    "    qc.measure_all()\n",
    "\n",
    "    return qc\n"
   ]
  },
  {
   "cell_type": "code",
   "execution_count": 5,
   "id": "0c4efe49",
   "metadata": {},
   "outputs": [],
   "source": [
    "# Create the quantum circuit\n",
    "qc = portfolio_optimization_circuit(expected_returns, covariance_matrix)"
   ]
  },
  {
   "cell_type": "code",
   "execution_count": null,
   "id": "59cc0065",
   "metadata": {},
   "outputs": [],
   "source": [
    "# Simulate the quantum circuit\n",
    "simulator = Aer.get_backend('qasm_simulator')\n",
    "compiled_circuit = transpile(qc, simulator)\n",
    "qobj = assemble(compiled_circuit)\n",
    "result = simulator.run(qobj).result()"
   ]
  },
  {
   "cell_type": "code",
   "execution_count": null,
   "id": "1c3996e9",
   "metadata": {},
   "outputs": [],
   "source": []
  }
 ],
 "metadata": {
  "kernelspec": {
   "display_name": "Python 3 (ipykernel)",
   "language": "python",
   "name": "python3"
  },
  "language_info": {
   "codemirror_mode": {
    "name": "ipython",
    "version": 3
   },
   "file_extension": ".py",
   "mimetype": "text/x-python",
   "name": "python",
   "nbconvert_exporter": "python",
   "pygments_lexer": "ipython3",
   "version": "3.11.5"
  }
 },
 "nbformat": 4,
 "nbformat_minor": 5
}
