{
 "cells": [
  {
   "cell_type": "code",
   "execution_count": 1,
   "id": "e127ed6a",
   "metadata": {},
   "outputs": [],
   "source": [
    "from qiskit import Aer, QuantumCircuit, transpile, assemble\n",
    "from qiskit.visualization import plot_histogram\n",
    "import numpy as np"
   ]
  },
  {
   "cell_type": "code",
   "execution_count": 2,
   "id": "60bc4609",
   "metadata": {},
   "outputs": [],
   "source": [
    "# Generate random expected returns for assets\n",
    "np.random.seed(42)\n",
    "num_assets = 3\n",
    "expected_returns = np.random.rand(num_assets)"
   ]
  },
  {
   "cell_type": "code",
   "execution_count": null,
   "id": "434e649b",
   "metadata": {},
   "outputs": [],
   "source": []
  }
 ],
 "metadata": {
  "kernelspec": {
   "display_name": "Python 3 (ipykernel)",
   "language": "python",
   "name": "python3"
  },
  "language_info": {
   "codemirror_mode": {
    "name": "ipython",
    "version": 3
   },
   "file_extension": ".py",
   "mimetype": "text/x-python",
   "name": "python",
   "nbconvert_exporter": "python",
   "pygments_lexer": "ipython3",
   "version": "3.11.5"
  }
 },
 "nbformat": 4,
 "nbformat_minor": 5
}
