{
 "cells": [
  {
   "cell_type": "code",
   "execution_count": null,
   "id": "4d39f4b7",
   "metadata": {},
   "outputs": [],
   "source": [
    "from qiskit import Aer\n",
    "from qiskit.circuit.library import RealAmplitudes\n",
    "from qiskit.aqua import QuantumInstance\n",
    "from qiskit.aqua.algorithms import VQE\n",
    "from qiskit.aqua.components.optimizers import COBYLA\n",
    "from qiskit.aqua.operators import MatrixOperator\n",
    "from qiskit.visualization import plot_histogram"
   ]
  },
  {
   "cell_type": "code",
   "execution_count": null,
   "id": "9b81a7f1",
   "metadata": {},
   "outputs": [],
   "source": [
    "# Define the matrix for the optimization problem\n",
    "matrix = [[4, 2], [2, 3]]"
   ]
  },
  {
   "cell_type": "code",
   "execution_count": null,
   "id": "f58b46ac",
   "metadata": {},
   "outputs": [],
   "source": [
    "# Convert the matrix to a Qiskit operator\n",
    "qiskit_operator = MatrixOperator(matrix=matrix)"
   ]
  },
  {
   "cell_type": "code",
   "execution_count": null,
   "id": "c0f7a227",
   "metadata": {},
   "outputs": [],
   "source": [
    "# Choose a quantum backend and set up the quantum instance\n",
    "backend = Aer.get_backend('statevector_simulator')\n",
    "quantum_instance = QuantumInstance(backend, shots=1024)"
   ]
  },
  {
   "cell_type": "code",
   "execution_count": null,
   "id": "fdc71098",
   "metadata": {},
   "outputs": [],
   "source": [
    "# Choose the variational form (ansatz) for the algorithm\n",
    "variational_form = RealAmplitudes(num_qubits=2, reps=1)"
   ]
  },
  {
   "cell_type": "code",
   "execution_count": null,
   "id": "024108ae",
   "metadata": {},
   "outputs": [],
   "source": [
    "# Choose the optimizer for the algorithm\n",
    "optimizer = COBYLA(maxiter=100)"
   ]
  },
  {
   "cell_type": "code",
   "execution_count": null,
   "id": "50d79d2d",
   "metadata": {},
   "outputs": [],
   "source": [
    "# Create the VQE algorithm\n",
    "vqe = VQE(operator=qiskit_operator, var_form=variational_form, optimizer=optimizer)"
   ]
  },
  {
   "cell_type": "code",
   "execution_count": null,
   "id": "913eb6d2",
   "metadata": {},
   "outputs": [],
   "source": [
    "# Run the algorithm\n",
    "result = vqe.run(quantum_instance)"
   ]
  },
  {
   "cell_type": "code",
   "execution_count": null,
   "id": "10eb0aac",
   "metadata": {},
   "outputs": [],
   "source": [
    "# Display the results\n",
    "print(\"Minimum eigenvalue:\", result['eigenvalue'])\n",
    "print(\"Optimal parameters:\", result['optimal_point'])"
   ]
  },
  {
   "cell_type": "code",
   "execution_count": null,
   "id": "fc76c1c9",
   "metadata": {},
   "outputs": [],
   "source": [
    "# Plot the probability distribution\n",
    "counts = result['min_vector'].real\n",
    "plot_histogram(counts)"
   ]
  }
 ],
 "metadata": {
  "kernelspec": {
   "display_name": "Python 3 (ipykernel)",
   "language": "python",
   "name": "python3"
  },
  "language_info": {
   "codemirror_mode": {
    "name": "ipython",
    "version": 3
   },
   "file_extension": ".py",
   "mimetype": "text/x-python",
   "name": "python",
   "nbconvert_exporter": "python",
   "pygments_lexer": "ipython3",
   "version": "3.11.5"
  }
 },
 "nbformat": 4,
 "nbformat_minor": 5
}
