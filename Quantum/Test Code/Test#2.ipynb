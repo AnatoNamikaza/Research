{
 "cells": [
  {
   "cell_type": "code",
   "execution_count": 1,
   "id": "5ba03931",
   "metadata": {},
   "outputs": [],
   "source": [
    "from qiskit import QuantumCircuit, Aer, transpile, assemble\n",
    "import random\n",
    "import os"
   ]
  },
  {
   "cell_type": "code",
   "execution_count": 2,
   "id": "a681552d",
   "metadata": {},
   "outputs": [],
   "source": [
    "def alice_prepare_qubits(num_qubits):\n",
    "    # Alice randomly prepares qubits in the |0⟩ or |1⟩ basis\n",
    "    bits = [random.choice([0, 1]) for _ in range(num_qubits)]\n",
    "    return bits"
   ]
  },
  {
   "cell_type": "code",
   "execution_count": 3,
   "id": "556256b9",
   "metadata": {},
   "outputs": [],
   "source": [
    "def encode_qubits(bits):\n",
    "    # Encode qubits using the BBM92 protocol\n",
    "    encoded_qubits = []\n",
    "    for bit in bits:\n",
    "        qc = QuantumCircuit(1, 1)\n",
    "        if bit == 1:\n",
    "            qc.x(0)  # Apply X gate for |1⟩ basis\n",
    "        qc.h(0)      # Apply Hadamard gate\n",
    "        encoded_qubits.append(qc)\n",
    "    return encoded_qubits"
   ]
  },
  {
   "cell_type": "code",
   "execution_count": null,
   "id": "f3135a6a",
   "metadata": {},
   "outputs": [],
   "source": []
  }
 ],
 "metadata": {
  "kernelspec": {
   "display_name": "Python 3 (ipykernel)",
   "language": "python",
   "name": "python3"
  },
  "language_info": {
   "codemirror_mode": {
    "name": "ipython",
    "version": 3
   },
   "file_extension": ".py",
   "mimetype": "text/x-python",
   "name": "python",
   "nbconvert_exporter": "python",
   "pygments_lexer": "ipython3",
   "version": "3.11.5"
  }
 },
 "nbformat": 4,
 "nbformat_minor": 5
}
