{
 "cells": [
  {
   "cell_type": "code",
   "execution_count": 1,
   "id": "fd5eacd2",
   "metadata": {},
   "outputs": [],
   "source": [
    "from qiskit import QuantumCircuit, Aer, transpile, assemble\n",
    "import random\n",
    "import os"
   ]
  },
  {
   "cell_type": "code",
   "execution_count": 2,
   "id": "b936a8f8",
   "metadata": {},
   "outputs": [],
   "source": [
    "def alice_prepare_qubits(num_qubits):\n",
    "    # Alice randomly prepares qubits in the |0⟩ or |1⟩ basis\n",
    "    bits = [random.choice([0, 1]) for _ in range(num_qubits)]\n",
    "    return bits"
   ]
  },
  {
   "cell_type": "code",
   "execution_count": 3,
   "id": "1a112cc0",
   "metadata": {},
   "outputs": [],
   "source": [
    "def encode_qubits(bits):\n",
    "    # Encode qubits using the BBM92 protocol\n",
    "    encoded_qubits = []\n",
    "    for bit in bits:\n",
    "        qc = QuantumCircuit(1, 1)\n",
    "        if bit == 1:\n",
    "            qc.x(0)  # Apply X gate for |1⟩ basis\n",
    "        qc.h(0)      # Apply Hadamard gate\n",
    "        encoded_qubits.append(qc)\n",
    "    return encoded_qubits"
   ]
  },
  {
   "cell_type": "code",
   "execution_count": 4,
   "id": "34e17fc3",
   "metadata": {},
   "outputs": [],
   "source": [
    "def bob_measure_qubits(encoded_qubits):\n",
    "    # Bob measures qubits randomly in the |0⟩ or |1⟩ basis\n",
    "    backend = Aer.get_backend('qasm_simulator')\n",
    "    measurements = []\n",
    "    for qc in encoded_qubits:\n",
    "        qc.measure(0, 0)\n",
    "        t_qc = transpile(qc, backend)\n",
    "        qobj = assemble(t_qc)\n",
    "        result = backend.run(qobj).result()\n",
    "        counts = result.get_counts()\n",
    "        measured_bit = int(max(counts, key=counts.get))\n",
    "        measurements.append(measured_bit)\n",
    "    return measurements"
   ]
  },
  {
   "cell_type": "code",
   "execution_count": 5,
   "id": "cf3a5125",
   "metadata": {},
   "outputs": [],
   "source": [
    "def alice_select_bases(num_qubits):\n",
    "    # Alice randomly selects measurement bases\n",
    "    bases = [random.choice([0, 1]) for _ in range(num_qubits)]\n",
    "    return bases"
   ]
  },
  {
   "cell_type": "code",
   "execution_count": 6,
   "id": "5360ac80",
   "metadata": {},
   "outputs": [],
   "source": [
    "def compare_bases(alice_bases, bob_bases):\n",
    "    # Compare Alice's and Bob's selected bases\n",
    "    matching_bases = [alice_bases[i] == bob_bases[i] for i in range(len(alice_bases))]\n",
    "    return matching_bases"
   ]
  },
  {
   "cell_type": "code",
   "execution_count": null,
   "id": "3943ff87",
   "metadata": {},
   "outputs": [],
   "source": []
  }
 ],
 "metadata": {
  "kernelspec": {
   "display_name": "Python 3 (ipykernel)",
   "language": "python",
   "name": "python3"
  },
  "language_info": {
   "codemirror_mode": {
    "name": "ipython",
    "version": 3
   },
   "file_extension": ".py",
   "mimetype": "text/x-python",
   "name": "python",
   "nbconvert_exporter": "python",
   "pygments_lexer": "ipython3",
   "version": "3.11.5"
  }
 },
 "nbformat": 4,
 "nbformat_minor": 5
}
