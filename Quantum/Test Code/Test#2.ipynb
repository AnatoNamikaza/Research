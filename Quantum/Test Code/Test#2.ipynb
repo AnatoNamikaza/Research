{
 "cells": [
  {
   "cell_type": "code",
   "execution_count": 1,
   "id": "202ad64c",
   "metadata": {},
   "outputs": [],
   "source": [
    "from qiskit import QuantumCircuit, Aer, transpile, assemble\n",
    "import random\n",
    "import os"
   ]
  },
  {
   "cell_type": "code",
   "execution_count": 2,
   "id": "39bb83ae",
   "metadata": {},
   "outputs": [],
   "source": [
    "def alice_prepare_qubits(num_qubits):\n",
    "    # Alice randomly prepares qubits in the |0⟩ or |1⟩ basis\n",
    "    bits = [random.choice([0, 1]) for _ in range(num_qubits)]\n",
    "    return bits"
   ]
  },
  {
   "cell_type": "code",
   "execution_count": 3,
   "id": "d9c65259",
   "metadata": {},
   "outputs": [],
   "source": [
    "def encode_qubits(bits):\n",
    "    # Encode qubits using the BBM92 protocol\n",
    "    encoded_qubits = []\n",
    "    for bit in bits:\n",
    "        qc = QuantumCircuit(1, 1)\n",
    "        if bit == 1:\n",
    "            qc.x(0)  # Apply X gate for |1⟩ basis\n",
    "        qc.h(0)      # Apply Hadamard gate\n",
    "        encoded_qubits.append(qc)\n",
    "    return encoded_qubits"
   ]
  },
  {
   "cell_type": "code",
   "execution_count": 4,
   "id": "d19e1043",
   "metadata": {},
   "outputs": [],
   "source": [
    "def bob_measure_qubits(encoded_qubits):\n",
    "    # Bob measures qubits randomly in the |0⟩ or |1⟩ basis\n",
    "    backend = Aer.get_backend('qasm_simulator')\n",
    "    measurements = []\n",
    "    for qc in encoded_qubits:\n",
    "        qc.measure(0, 0)\n",
    "        t_qc = transpile(qc, backend)\n",
    "        qobj = assemble(t_qc)\n",
    "        result = backend.run(qobj).result()\n",
    "        counts = result.get_counts()\n",
    "        measured_bit = int(max(counts, key=counts.get))\n",
    "        measurements.append(measured_bit)\n",
    "    return measurements"
   ]
  },
  {
   "cell_type": "code",
   "execution_count": 5,
   "id": "f0795dd8",
   "metadata": {},
   "outputs": [],
   "source": [
    "def alice_select_bases(num_qubits):\n",
    "    # Alice randomly selects measurement bases\n",
    "    bases = [random.choice([0, 1]) for _ in range(num_qubits)]\n",
    "    return bases"
   ]
  },
  {
   "cell_type": "code",
   "execution_count": 6,
   "id": "f639105c",
   "metadata": {},
   "outputs": [],
   "source": [
    "def compare_bases(alice_bases, bob_bases):\n",
    "    # Compare Alice's and Bob's selected bases\n",
    "    matching_bases = [alice_bases[i] == bob_bases[i] for i in range(len(alice_bases))]\n",
    "    return matching_bases"
   ]
  },
  {
   "cell_type": "code",
   "execution_count": 7,
   "id": "864437f5",
   "metadata": {},
   "outputs": [],
   "source": [
    "def key_from_bits(bits, matching_bases):\n",
    "    # Extract a key from the matching bits\n",
    "    key = [bits[i] for i in range(len(bits)) if matching_bases[i]]\n",
    "    return key"
   ]
  },
  {
   "cell_type": "code",
   "execution_count": 8,
   "id": "6599bdeb",
   "metadata": {},
   "outputs": [],
   "source": [
    "def encrypt_decrypt_file(input_file, output_file):\n",
    "    # Read the content of the input file\n",
    "    with open(input_file, 'r') as file:\n",
    "        original_text = file.read()\n",
    "\n",
    "    num_qubits = len(original_text) * 8  # Assuming each character is 8 bits\n",
    "\n",
    "    # Convert text to a list of bits\n",
    "    bits = [int(bit) for char in original_text for bit in bin(ord(char))[2:].zfill(8)]\n",
    "\n",
    "    # Alice prepares qubits\n",
    "    alice_bits = alice_prepare_qubits(num_qubits)\n",
    "\n",
    "    # Alice encodes qubits using BBM92\n",
    "    encoded_qubits = encode_qubits(alice_bits)\n",
    "\n",
    "    # Bob measures qubits\n",
    "    bob_bits = bob_measure_qubits(encoded_qubits)\n",
    "\n",
    "    # Alice selects measurement bases\n",
    "    alice_bases = alice_select_bases(num_qubits)\n",
    "\n",
    "    # Compare Alice's and Bob's bases\n",
    "    matching_bases = compare_bases(alice_bases, bob_bits)\n",
    "\n",
    "    # Extract key from matching bits\n",
    "    key = key_from_bits(alice_bits, matching_bases)\n",
    "\n",
    "    # XOR the key with the original bits to encrypt\n",
    "    encrypted_bits = [bit ^ key_bit for bit, key_bit in zip(bits, key)]\n",
    "\n",
    "    # Write the encrypted bits to the output file\n",
    "    with open(output_file, 'wb') as file:\n",
    "        file.write(bytes(encrypted_bits))\n",
    "\n",
    "    # XOR the encrypted bits with the key to decrypt\n",
    "    decrypted_bits = [bit ^ key_bit for bit, key_bit in zip(encrypted_bits, key)]\n",
    "\n",
    "    # Convert bits back to text\n",
    "    decrypted_text = ''.join([chr(int(''.join(map(str, decrypted_bits[i:i+8])), 2)) for i in range(0, len(decrypted_bits), 8)])\n",
    "\n",
    "    return decrypted_text"
   ]
  },
  {
   "cell_type": "code",
   "execution_count": null,
   "id": "559e305b",
   "metadata": {},
   "outputs": [],
   "source": []
  }
 ],
 "metadata": {
  "kernelspec": {
   "display_name": "Python 3 (ipykernel)",
   "language": "python",
   "name": "python3"
  },
  "language_info": {
   "codemirror_mode": {
    "name": "ipython",
    "version": 3
   },
   "file_extension": ".py",
   "mimetype": "text/x-python",
   "name": "python",
   "nbconvert_exporter": "python",
   "pygments_lexer": "ipython3",
   "version": "3.11.5"
  }
 },
 "nbformat": 4,
 "nbformat_minor": 5
}
