{
 "cells": [
  {
   "cell_type": "code",
   "execution_count": 1,
   "id": "a976cba2",
   "metadata": {},
   "outputs": [],
   "source": [
    "from qiskit import QuantumCircuit, Aer, transpile, assemble\n",
    "import random\n",
    "import os"
   ]
  },
  {
   "cell_type": "code",
   "execution_count": 2,
   "id": "1b12964f",
   "metadata": {},
   "outputs": [],
   "source": [
    "def alice_prepare_qubits(num_qubits):\n",
    "    # Alice randomly prepares qubits in the |0⟩ or |1⟩ basis\n",
    "    bits = [random.choice([0, 1]) for _ in range(num_qubits)]\n",
    "    return bits"
   ]
  },
  {
   "cell_type": "code",
   "execution_count": 3,
   "id": "737b73c5",
   "metadata": {},
   "outputs": [],
   "source": [
    "def encode_qubits(bits):\n",
    "    # Encode qubits using the BBM92 protocol\n",
    "    encoded_qubits = []\n",
    "    for bit in bits:\n",
    "        qc = QuantumCircuit(1, 1)\n",
    "        if bit == 1:\n",
    "            qc.x(0)  # Apply X gate for |1⟩ basis\n",
    "        qc.h(0)      # Apply Hadamard gate\n",
    "        encoded_qubits.append(qc)\n",
    "    return encoded_qubits"
   ]
  },
  {
   "cell_type": "code",
   "execution_count": 4,
   "id": "1638975c",
   "metadata": {},
   "outputs": [],
   "source": [
    "def bob_measure_qubits(encoded_qubits):\n",
    "    # Bob measures qubits randomly in the |0⟩ or |1⟩ basis\n",
    "    backend = Aer.get_backend('qasm_simulator')\n",
    "    measurements = []\n",
    "    for qc in encoded_qubits:\n",
    "        qc.measure(0, 0)\n",
    "        t_qc = transpile(qc, backend)\n",
    "        qobj = assemble(t_qc)\n",
    "        result = backend.run(qobj).result()\n",
    "        counts = result.get_counts()\n",
    "        measured_bit = int(max(counts, key=counts.get))\n",
    "        measurements.append(measured_bit)\n",
    "    return measurements"
   ]
  },
  {
   "cell_type": "code",
   "execution_count": 5,
   "id": "683a1419",
   "metadata": {},
   "outputs": [],
   "source": [
    "def alice_select_bases(num_qubits):\n",
    "    # Alice randomly selects measurement bases\n",
    "    bases = [random.choice([0, 1]) for _ in range(num_qubits)]\n",
    "    return bases"
   ]
  },
  {
   "cell_type": "code",
   "execution_count": 6,
   "id": "03bbfb58",
   "metadata": {},
   "outputs": [],
   "source": [
    "def compare_bases(alice_bases, bob_bases):\n",
    "    # Compare Alice's and Bob's selected bases\n",
    "    matching_bases = [alice_bases[i] == bob_bases[i] for i in range(len(alice_bases))]\n",
    "    return matching_bases"
   ]
  },
  {
   "cell_type": "code",
   "execution_count": 7,
   "id": "1c70176a",
   "metadata": {},
   "outputs": [],
   "source": [
    "def key_from_bits(bits, matching_bases):\n",
    "    # Extract a key from the matching bits\n",
    "    key = [bits[i] for i in range(len(bits)) if matching_bases[i]]\n",
    "    return key"
   ]
  },
  {
   "cell_type": "code",
   "execution_count": 8,
   "id": "23404257",
   "metadata": {},
   "outputs": [],
   "source": [
    "def encrypt_decrypt_file(input_file, output_file):\n",
    "    # Read the content of the input file\n",
    "    with open(input_file, 'r') as file:\n",
    "        original_text = file.read()\n",
    "\n",
    "    num_qubits = len(original_text) * 8  # Assuming each character is 8 bits\n",
    "\n",
    "    # Convert text to a list of bits\n",
    "    bits = [int(bit) for char in original_text for bit in bin(ord(char))[2:].zfill(8)]\n",
    "\n",
    "    # Alice prepares qubits\n",
    "    alice_bits = alice_prepare_qubits(num_qubits)\n",
    "\n",
    "    # Alice encodes qubits using BBM92\n",
    "    encoded_qubits = encode_qubits(alice_bits)\n",
    "\n",
    "    # Bob measures qubits\n",
    "    bob_bits = bob_measure_qubits(encoded_qubits)\n",
    "\n",
    "    # Alice selects measurement bases\n",
    "    alice_bases = alice_select_bases(num_qubits)\n",
    "\n",
    "    # Compare Alice's and Bob's bases\n",
    "    matching_bases = compare_bases(alice_bases, bob_bits)\n",
    "\n",
    "    # Extract key from matching bits\n",
    "    key = key_from_bits(alice_bits, matching_bases)\n",
    "\n",
    "    # XOR the key with the original bits to encrypt\n",
    "    encrypted_bits = [bit ^ key_bit for bit, key_bit in zip(bits, key)]\n",
    "\n",
    "    # Write the encrypted bits to the output file\n",
    "    with open(output_file, 'wb') as file:\n",
    "        file.write(bytes(encrypted_bits))\n",
    "\n",
    "    # XOR the encrypted bits with the key to decrypt\n",
    "    decrypted_bits = [bit ^ key_bit for bit, key_bit in zip(encrypted_bits, key)]\n",
    "\n",
    "    # Convert bits back to text\n",
    "    decrypted_text = ''.join([chr(int(''.join(map(str, decrypted_bits[i:i+8])), 2)) for i in range(0, len(decrypted_bits), 8)])\n",
    "\n",
    "    return decrypted_text"
   ]
  },
  {
   "cell_type": "code",
   "execution_count": 9,
   "id": "d881392e",
   "metadata": {},
   "outputs": [
    {
     "ename": "FileNotFoundError",
     "evalue": "[Errno 2] No such file or directory: 'input.txt'",
     "output_type": "error",
     "traceback": [
      "\u001b[1;31m---------------------------------------------------------------------------\u001b[0m",
      "\u001b[1;31mFileNotFoundError\u001b[0m                         Traceback (most recent call last)",
      "Cell \u001b[1;32mIn[9], line 9\u001b[0m\n\u001b[0;32m      6\u001b[0m     \u001b[38;5;28mprint\u001b[39m(\u001b[38;5;124m\"\u001b[39m\u001b[38;5;124mOriginal Text:\u001b[39m\u001b[38;5;124m\"\u001b[39m, decrypted_text)\n\u001b[0;32m      8\u001b[0m \u001b[38;5;28;01mif\u001b[39;00m \u001b[38;5;18m__name__\u001b[39m \u001b[38;5;241m==\u001b[39m \u001b[38;5;124m\"\u001b[39m\u001b[38;5;124m__main__\u001b[39m\u001b[38;5;124m\"\u001b[39m:\n\u001b[1;32m----> 9\u001b[0m     main()\n",
      "Cell \u001b[1;32mIn[9], line 4\u001b[0m, in \u001b[0;36mmain\u001b[1;34m()\u001b[0m\n\u001b[0;32m      2\u001b[0m input_file \u001b[38;5;241m=\u001b[39m \u001b[38;5;124m\"\u001b[39m\u001b[38;5;124minput.txt\u001b[39m\u001b[38;5;124m\"\u001b[39m\n\u001b[0;32m      3\u001b[0m encrypted_file \u001b[38;5;241m=\u001b[39m \u001b[38;5;124m\"\u001b[39m\u001b[38;5;124mencrypted_file.bin\u001b[39m\u001b[38;5;124m\"\u001b[39m\n\u001b[1;32m----> 4\u001b[0m decrypted_text \u001b[38;5;241m=\u001b[39m encrypt_decrypt_file(input_file, encrypted_file)\n\u001b[0;32m      6\u001b[0m \u001b[38;5;28mprint\u001b[39m(\u001b[38;5;124m\"\u001b[39m\u001b[38;5;124mOriginal Text:\u001b[39m\u001b[38;5;124m\"\u001b[39m, decrypted_text)\n",
      "Cell \u001b[1;32mIn[8], line 3\u001b[0m, in \u001b[0;36mencrypt_decrypt_file\u001b[1;34m(input_file, output_file)\u001b[0m\n\u001b[0;32m      1\u001b[0m \u001b[38;5;28;01mdef\u001b[39;00m \u001b[38;5;21mencrypt_decrypt_file\u001b[39m(input_file, output_file):\n\u001b[0;32m      2\u001b[0m     \u001b[38;5;66;03m# Read the content of the input file\u001b[39;00m\n\u001b[1;32m----> 3\u001b[0m     \u001b[38;5;28;01mwith\u001b[39;00m \u001b[38;5;28mopen\u001b[39m(input_file, \u001b[38;5;124m'\u001b[39m\u001b[38;5;124mr\u001b[39m\u001b[38;5;124m'\u001b[39m) \u001b[38;5;28;01mas\u001b[39;00m file:\n\u001b[0;32m      4\u001b[0m         original_text \u001b[38;5;241m=\u001b[39m file\u001b[38;5;241m.\u001b[39mread()\n\u001b[0;32m      6\u001b[0m     num_qubits \u001b[38;5;241m=\u001b[39m \u001b[38;5;28mlen\u001b[39m(original_text) \u001b[38;5;241m*\u001b[39m \u001b[38;5;241m8\u001b[39m  \u001b[38;5;66;03m# Assuming each character is 8 bits\u001b[39;00m\n",
      "File \u001b[1;32mE:\\anaconda3\\Lib\\site-packages\\IPython\\core\\interactiveshell.py:286\u001b[0m, in \u001b[0;36m_modified_open\u001b[1;34m(file, *args, **kwargs)\u001b[0m\n\u001b[0;32m    279\u001b[0m \u001b[38;5;28;01mif\u001b[39;00m file \u001b[38;5;129;01min\u001b[39;00m {\u001b[38;5;241m0\u001b[39m, \u001b[38;5;241m1\u001b[39m, \u001b[38;5;241m2\u001b[39m}:\n\u001b[0;32m    280\u001b[0m     \u001b[38;5;28;01mraise\u001b[39;00m \u001b[38;5;167;01mValueError\u001b[39;00m(\n\u001b[0;32m    281\u001b[0m         \u001b[38;5;124mf\u001b[39m\u001b[38;5;124m\"\u001b[39m\u001b[38;5;124mIPython won\u001b[39m\u001b[38;5;124m'\u001b[39m\u001b[38;5;124mt let you open fd=\u001b[39m\u001b[38;5;132;01m{\u001b[39;00mfile\u001b[38;5;132;01m}\u001b[39;00m\u001b[38;5;124m by default \u001b[39m\u001b[38;5;124m\"\u001b[39m\n\u001b[0;32m    282\u001b[0m         \u001b[38;5;124m\"\u001b[39m\u001b[38;5;124mas it is likely to crash IPython. If you know what you are doing, \u001b[39m\u001b[38;5;124m\"\u001b[39m\n\u001b[0;32m    283\u001b[0m         \u001b[38;5;124m\"\u001b[39m\u001b[38;5;124myou can use builtins\u001b[39m\u001b[38;5;124m'\u001b[39m\u001b[38;5;124m open.\u001b[39m\u001b[38;5;124m\"\u001b[39m\n\u001b[0;32m    284\u001b[0m     )\n\u001b[1;32m--> 286\u001b[0m \u001b[38;5;28;01mreturn\u001b[39;00m io_open(file, \u001b[38;5;241m*\u001b[39margs, \u001b[38;5;241m*\u001b[39m\u001b[38;5;241m*\u001b[39mkwargs)\n",
      "\u001b[1;31mFileNotFoundError\u001b[0m: [Errno 2] No such file or directory: 'input.txt'"
     ]
    }
   ],
   "source": [
    "def main():\n",
    "    input_file = \"input.txt\"\n",
    "    encrypted_file = \"encrypted_file.bin\"\n",
    "    decrypted_text = encrypt_decrypt_file(input_file, encrypted_file)\n",
    "\n",
    "    print(\"Original Text:\", decrypted_text)\n",
    "\n",
    "if __name__ == \"__main__\":\n",
    "    main()"
   ]
  },
  {
   "cell_type": "code",
   "execution_count": null,
   "id": "715195cd",
   "metadata": {},
   "outputs": [],
   "source": []
  }
 ],
 "metadata": {
  "kernelspec": {
   "display_name": "Python 3 (ipykernel)",
   "language": "python",
   "name": "python3"
  },
  "language_info": {
   "codemirror_mode": {
    "name": "ipython",
    "version": 3
   },
   "file_extension": ".py",
   "mimetype": "text/x-python",
   "name": "python",
   "nbconvert_exporter": "python",
   "pygments_lexer": "ipython3",
   "version": "3.11.5"
  }
 },
 "nbformat": 4,
 "nbformat_minor": 5
}
