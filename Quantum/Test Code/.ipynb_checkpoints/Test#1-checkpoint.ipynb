{
 "cells": [
  {
   "cell_type": "code",
   "execution_count": 1,
   "id": "896638c0",
   "metadata": {},
   "outputs": [],
   "source": [
    "from qiskit import QuantumCircuit, Aer, transpile, assemble\n",
    "from qiskit.visualization import plot_histogram\n",
    "import random"
   ]
  },
  {
   "cell_type": "code",
   "execution_count": 2,
   "id": "5b5cd940",
   "metadata": {},
   "outputs": [],
   "source": [
    "def alice_prepare_qubits(num_qubits):\n",
    "    # Alice randomly prepares qubits in the |0⟩ or |1⟩ basis\n",
    "    bits = [random.choice([0, 1]) for _ in range(num_qubits)]\n",
    "    return bits"
   ]
  },
  {
   "cell_type": "code",
   "execution_count": 3,
   "id": "6439a3aa",
   "metadata": {},
   "outputs": [],
   "source": [
    "def encode_qubits(bits):\n",
    "    # Encode qubits using the BBM92 protocol\n",
    "    encoded_qubits = []\n",
    "    for bit in bits:\n",
    "        qc = QuantumCircuit(1, 1)\n",
    "        if bit == 1:\n",
    "            qc.x(0)  # Apply X gate for |1⟩ basis\n",
    "        qc.h(0)      # Apply Hadamard gate\n",
    "        encoded_qubits.append(qc)\n",
    "    return encoded_qubits"
   ]
  },
  {
   "cell_type": "code",
   "execution_count": 4,
   "id": "9482d1c6",
   "metadata": {},
   "outputs": [],
   "source": [
    "def bob_measure_qubits(encoded_qubits):\n",
    "    # Bob measures qubits randomly in the |0⟩ or |1⟩ basis\n",
    "    backend = Aer.get_backend('qasm_simulator')\n",
    "    measurements = []\n",
    "    for qc in encoded_qubits:\n",
    "        qc.measure(0, 0)\n",
    "        t_qc = transpile(qc, backend)\n",
    "        qobj = assemble(t_qc)\n",
    "        result = backend.run(qobj).result()\n",
    "        counts = result.get_counts()\n",
    "        measured_bit = int(max(counts, key=counts.get))\n",
    "        measurements.append(measured_bit)\n",
    "    return measurements"
   ]
  },
  {
   "cell_type": "code",
   "execution_count": 5,
   "id": "80e8d833",
   "metadata": {},
   "outputs": [],
   "source": [
    "def alice_select_bases(num_qubits):\n",
    "    # Alice randomly selects measurement bases\n",
    "    bases = [random.choice([0, 1]) for _ in range(num_qubits)]\n",
    "    return bases"
   ]
  },
  {
   "cell_type": "code",
   "execution_count": 6,
   "id": "0ca410a5",
   "metadata": {},
   "outputs": [],
   "source": [
    "def compare_bases(alice_bases, bob_bases):\n",
    "    # Compare Alice's and Bob's selected bases\n",
    "    matching_bases = [alice_bases[i] == bob_bases[i] for i in range(len(alice_bases))]\n",
    "    return matching_bases"
   ]
  },
  {
   "cell_type": "code",
   "execution_count": 7,
   "id": "b9090a14",
   "metadata": {},
   "outputs": [],
   "source": [
    "def key_from_bits(bits, matching_bases):\n",
    "    # Extract a key from the matching bits\n",
    "    key = [bits[i] for i in range(len(bits)) if matching_bases[i]]\n",
    "    return key"
   ]
  },
  {
   "cell_type": "code",
   "execution_count": 8,
   "id": "543ab5f6",
   "metadata": {},
   "outputs": [
    {
     "name": "stderr",
     "output_type": "stream",
     "text": [
      "C:\\Users\\darkn\\AppData\\Local\\Temp\\ipykernel_3704\\4045670805.py:9: DeprecationWarning: Using a qobj for run() is deprecated as of qiskit-aer 0.9.0 and will be removed no sooner than 3 months from that release date. Transpiled circuits should now be passed directly using `backend.run(circuits, **run_options).\n",
      "  result = backend.run(qobj).result()\n"
     ]
    },
    {
     "name": "stdout",
     "output_type": "stream",
     "text": [
      "Alice's bits: [0, 1, 0, 0, 0, 1, 1, 1, 0, 0]\n",
      "Bob's bits: [1, 1, 0, 0, 0, 1, 0, 1, 1, 1]\n",
      "Key: [0, 1, 0, 0, 0, 1, 1, 1, 0, 0]\n"
     ]
    }
   ],
   "source": [
    "def main():\n",
    "    num_qubits = 10\n",
    "\n",
    "    # Alice prepares qubits\n",
    "    alice_bits = alice_prepare_qubits(num_qubits)\n",
    "\n",
    "    # Alice encodes qubits using BBM92\n",
    "    encoded_qubits = encode_qubits(alice_bits)\n",
    "\n",
    "    # Bob measures qubits\n",
    "    bob_bits = bob_measure_qubits(encoded_qubits)\n",
    "\n",
    "    # Alice selects measurement bases\n",
    "    alice_bases = alice_select_bases(num_qubits)\n",
    "\n",
    "    # Compare Alice's and Bob's bases\n",
    "    matching_bases = compare_bases(alice_bases, alice_bases)\n",
    "\n",
    "    # Extract key from matching bits\n",
    "    key = key_from_bits(alice_bits, matching_bases)\n",
    "\n",
    "    print(\"Alice's bits:\", alice_bits)\n",
    "    print(\"Bob's bits:\", bob_bits)\n",
    "    print(\"Key:\", key)\n",
    "\n",
    "if __name__ == \"__main__\":\n",
    "    main()"
   ]
  },
  {
   "cell_type": "code",
   "execution_count": 10,
   "id": "d2143c86",
   "metadata": {},
   "outputs": [
    {
     "name": "stdout",
     "output_type": "stream",
     "text": [
      "Enter a small text: I am Anato\n"
     ]
    },
    {
     "name": "stderr",
     "output_type": "stream",
     "text": [
      "C:\\Users\\darkn\\AppData\\Local\\Temp\\ipykernel_3704\\4045670805.py:9: DeprecationWarning: Using a qobj for run() is deprecated as of qiskit-aer 0.9.0 and will be removed no sooner than 3 months from that release date. Transpiled circuits should now be passed directly using `backend.run(circuits, **run_options).\n",
      "  result = backend.run(qobj).result()\n"
     ]
    },
    {
     "name": "stdout",
     "output_type": "stream",
     "text": [
      "Original Text: I am Anato\n",
      "Encrypted Bits: [0, 1, 1, 1, 1, 0, 1, 0, 1, 0, 1, 0, 0, 1, 0, 0, 1, 1, 0, 1, 0, 1, 0, 0, 0, 1, 1, 0, 1, 1, 0, 0, 0, 1, 1, 1, 0, 1, 0, 1, 0, 0, 0, 1, 1, 0, 0, 1, 1, 0, 0, 1, 1, 0, 0, 0, 0, 1, 1, 1, 1, 0, 1, 0, 0, 0, 0, 0, 1, 0, 0, 0, 1, 0, 0, 1, 0, 1, 1, 1]\n",
      "Decrypted Text: I am Anato\n"
     ]
    }
   ],
   "source": [
    "def encrypt_decrypt_text(text):\n",
    "    num_qubits = len(text) * 8  # Assuming each character is 8 bits\n",
    "\n",
    "    # Convert text to a list of bits\n",
    "    bits = [int(bit) for char in text for bit in bin(ord(char))[2:].zfill(8)]\n",
    "\n",
    "    # Alice prepares qubits\n",
    "    alice_bits = alice_prepare_qubits(num_qubits)\n",
    "\n",
    "    # Alice encodes qubits using BBM92\n",
    "    encoded_qubits = encode_qubits(alice_bits)\n",
    "\n",
    "    # Bob measures qubits\n",
    "    bob_bits = bob_measure_qubits(encoded_qubits)\n",
    "\n",
    "    # Alice selects measurement bases\n",
    "    alice_bases = alice_select_bases(num_qubits)\n",
    "\n",
    "    # Compare Alice's and Bob's bases\n",
    "    matching_bases = compare_bases(alice_bases, alice_bases)\n",
    "\n",
    "    # Extract key from matching bits\n",
    "    key = key_from_bits(alice_bits, matching_bases)\n",
    "\n",
    "    # XOR the key with the original bits to encrypt\n",
    "    encrypted_bits = [bit ^ key_bit for bit, key_bit in zip(bits, key)]\n",
    "\n",
    "    # XOR the encrypted bits with the key to decrypt\n",
    "    decrypted_bits = [bit ^ key_bit for bit, key_bit in zip(encrypted_bits, key)]\n",
    "\n",
    "    # Convert bits back to text\n",
    "    decrypted_text = ''.join([chr(int(''.join(map(str, decrypted_bits[i:i+8])), 2)) for i in range(0, len(decrypted_bits), 8)])\n",
    "\n",
    "    return encrypted_bits, decrypted_text\n",
    "\n",
    "def main():\n",
    "    user_input = input(\"Enter a small text: \")\n",
    "    encrypted_bits, decrypted_text = encrypt_decrypt_text(user_input)\n",
    "\n",
    "    print(\"Original Text:\", user_input)\n",
    "    print(\"Encrypted Bits:\", encrypted_bits)\n",
    "    print(\"Decrypted Text:\", decrypted_text)\n",
    "\n",
    "if __name__ == \"__main__\":\n",
    "    main()"
   ]
  },
  {
   "cell_type": "code",
   "execution_count": null,
   "id": "0decb464",
   "metadata": {},
   "outputs": [],
   "source": []
  }
 ],
 "metadata": {
  "kernelspec": {
   "display_name": "Python 3 (ipykernel)",
   "language": "python",
   "name": "python3"
  },
  "language_info": {
   "codemirror_mode": {
    "name": "ipython",
    "version": 3
   },
   "file_extension": ".py",
   "mimetype": "text/x-python",
   "name": "python",
   "nbconvert_exporter": "python",
   "pygments_lexer": "ipython3",
   "version": "3.11.5"
  }
 },
 "nbformat": 4,
 "nbformat_minor": 5
}
