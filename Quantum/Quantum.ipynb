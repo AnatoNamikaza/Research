{
 "cells": [
  {
   "cell_type": "code",
   "execution_count": 1,
   "id": "69be351f",
   "metadata": {},
   "outputs": [],
   "source": [
    "#pip install qiskit"
   ]
  },
  {
   "cell_type": "code",
   "execution_count": 14,
   "id": "8affe7b0",
   "metadata": {},
   "outputs": [],
   "source": [
    "#pip install qiskit-ibm-runtime"
   ]
  },
  {
   "cell_type": "code",
   "execution_count": 16,
   "id": "63a4755c",
   "metadata": {},
   "outputs": [],
   "source": [
    "#pip install qiskit[visualization]\n",
    "\n",
    "#For Zsh users:\n",
    "#pip install 'qiskit[visualization]'"
   ]
  },
  {
   "cell_type": "code",
   "execution_count": 2,
   "id": "e1060045",
   "metadata": {},
   "outputs": [],
   "source": [
    "import qiskit"
   ]
  },
  {
   "cell_type": "code",
   "execution_count": 3,
   "id": "420801bf",
   "metadata": {},
   "outputs": [
    {
     "data": {
      "text/plain": [
       "{'qiskit-terra': '0.25.2', 'qiskit': '0.44.2', 'qiskit-aer': None, 'qiskit-ignis': None, 'qiskit-ibmq-provider': None, 'qiskit-nature': None, 'qiskit-finance': None, 'qiskit-optimization': None, 'qiskit-machine-learning': None}"
      ]
     },
     "execution_count": 3,
     "metadata": {},
     "output_type": "execute_result"
    }
   ],
   "source": [
    "qiskit.__qiskit_version__"
   ]
  },
  {
   "cell_type": "code",
   "execution_count": 4,
   "id": "66e29878",
   "metadata": {},
   "outputs": [
    {
     "data": {
      "text/plain": [
       "<qiskit.circuit.instructionset.InstructionSet at 0x7fb2717c96a0>"
      ]
     },
     "execution_count": 4,
     "metadata": {},
     "output_type": "execute_result"
    }
   ],
   "source": [
    "import numpy as np\n",
    "from qiskit import QuantumCircuit\n",
    "\n",
    "# 1. A quantum circuit for preparing the quantum state |000> + i |111>\n",
    "qc_example = QuantumCircuit(3)\n",
    "qc_example.h(0)          # generate superpostion\n",
    "qc_example.p(np.pi/2,0)  # add quantum phase\n",
    "qc_example.cx(0,1)       # 0th-qubit-Controlled-NOT gate on 1st qubit\n",
    "qc_example.cx(0,2)       # 0th-qubit-Controlled-NOT gate on 2nd qubit"
   ]
  },
  {
   "cell_type": "code",
   "execution_count": 5,
   "id": "05ee486c",
   "metadata": {},
   "outputs": [
    {
     "name": "stdout",
     "output_type": "stream",
     "text": [
      " > Quasi probability distribution: [{0: 0.5, 7: 0.5}]\n"
     ]
    }
   ],
   "source": [
    "# 2. Add the classical output in the form of measurement of all qubits\n",
    "qc_measured = qc_example.measure_all(inplace=False)\n",
    "\n",
    "# 3. Execute using the Sampler primitive\n",
    "from qiskit.primitives.sampler import Sampler\n",
    "sampler = Sampler()\n",
    "job = sampler.run(qc_measured, shots=1000)\n",
    "result = job.result()\n",
    "print(f\" > Quasi probability distribution: {result.quasi_dists}\")"
   ]
  },
  {
   "cell_type": "code",
   "execution_count": 6,
   "id": "3708cb20",
   "metadata": {},
   "outputs": [
    {
     "name": "stdout",
     "output_type": "stream",
     "text": [
      " > Expectation values: [4.]\n"
     ]
    }
   ],
   "source": [
    "# 2. define the observable to be measured \n",
    "from qiskit.quantum_info import SparsePauliOp\n",
    "operator = SparsePauliOp.from_list([(\"XXY\", 1), (\"XYX\", 1), (\"YXX\", 1), (\"YYY\", -1)])\n",
    "\n",
    "# 3. Execute using the Estimator primitive\n",
    "from qiskit.primitives import Estimator\n",
    "estimator = Estimator()\n",
    "job = estimator.run(qc_example, operator, shots=1000)\n",
    "result = job.result()\n",
    "print(f\" > Expectation values: {result.values}\")"
   ]
  },
  {
   "cell_type": "code",
   "execution_count": 7,
   "id": "b2cb0e60",
   "metadata": {},
   "outputs": [],
   "source": [
    "from qiskit import transpile\n",
    "qc_transpiled = transpile(qc_example, basis_gates = ['cz', 'sx', 'rz'], coupling_map =[[0, 1], [1, 2]] , optimization_level=3)"
   ]
  },
  {
   "cell_type": "code",
   "execution_count": null,
   "id": "36217920",
   "metadata": {},
   "outputs": [],
   "source": []
  },
  {
   "cell_type": "code",
   "execution_count": null,
   "id": "b0dadf5c",
   "metadata": {},
   "outputs": [],
   "source": []
  },
  {
   "cell_type": "code",
   "execution_count": 1,
   "id": "a0fd1154",
   "metadata": {},
   "outputs": [],
   "source": [
    "from qiskit import QuantumCircuit, Aer, execute\n",
    "\n",
    "def quantum_multiple_pattern_matching(targets, sequence):\n",
    "    target_lengths = [len(target) for target in targets]\n",
    "    sequence_length = len(sequence)\n",
    "\n",
    "    # Create a quantum circuit with n+1 qubits, where n is the length of the longest target sequence\n",
    "    max_target_length = max(target_lengths)\n",
    "    qc = QuantumCircuit(max_target_length + 1, max_target_length)\n",
    "\n",
    "    # Apply quantum gates to implement all target sequences\n",
    "    for target in targets:\n",
    "        for i, bit in enumerate(target):\n",
    "            if bit == \"1\":\n",
    "                qc.x(i)  # Apply a NOT gate for each '1' in the target sequence\n",
    "\n",
    "    # Apply an X gate to the last qubit to prepare it in the |1⟩ state\n",
    "    qc.x(max_target_length)\n",
    "\n",
    "    # Measure all qubits\n",
    "    for i in range(max_target_length):\n",
    "        qc.measure(i, i)\n",
    "\n",
    "    # Use the Aer simulator to run the quantum circuit\n",
    "    simulator = Aer.get_backend('qasm_simulator')\n",
    "    job = execute(qc, simulator, shots=1)\n",
    "\n",
    "    # Get the result\n",
    "    result = job.result()\n",
    "    counts = result.get_counts()\n",
    "\n",
    "    # Initialize a dictionary to store the positions of target sequence matches\n",
    "    positions = {target: [] for target in targets}\n",
    "\n",
    "    # Search for the target sequences in the input sequence\n",
    "    for target in targets:\n",
    "        target_length = len(target)\n",
    "        for i in range(sequence_length - target_length + 1):\n",
    "            subsequence = sequence[i:i + target_length]\n",
    "            if subsequence == target:\n",
    "                positions[target].append(i)\n",
    "\n",
    "    return positions\n",
    "\n",
    "# Define the target sequence and the input sequence\n",
    "target_sequences = [\"GCA\",\"NNN\",\"ATA\", \"IIL\"]\n",
    "input_sequence = \"MSTHDTSLKTTEEVAFQIILLCQFGVGTFANVFLFVYNFSPISTGSKQRPRQVILRHMAVANALTLFLTIFPNNMMTFAPIIPQTDLKCKLEFFTRLVARSTNLCSTCVLSIHQFVTLVPVNSGKGILRASVTNMASYSCYSCWFFSVLNNIYIPIKVTGPQLTDNNNNSKSKLFCSTSDFSVGIVFLRFAHDATFMSIMVWTSVSMVLLLHRHCQRMQYIFTLNQDPRGQAETTATHTILMLVVTFVGFYLLSLICIIFYTYFIYSHHSLRHCNDILVSGFPTISPLLLTFRDPKGPCSVFFNC\"\n",
    "\n",
    "# Find positions of the target sequences in the input sequence using a quantum-inspired approach\n",
    "matched_positions = quantum_multiple_pattern_matching(target_sequences, input_sequence)\n",
    "\n",
    "for target, positions in matched_positions.items():\n",
    "    if positions:\n",
    "        print(f\"Target sequence '{target}' found at positions:\", positions)\n",
    "    else:\n",
    "        print(f\"Target sequence '{target}' not found in the input sequence.\")\n"
   ]
  },
  {
   "cell_type": "code",
   "execution_count": null,
   "id": "73d3533f",
   "metadata": {},
   "outputs": [],
   "source": []
  },
  {
   "cell_type": "code",
   "execution_count": 25,
   "id": "be931ea0",
   "metadata": {},
   "outputs": [
    {
     "name": "stdout",
     "output_type": "stream",
     "text": [
      "Target sequence '101' found at positions: [1, 4, 6, 8, 11, 14]\n",
      "Target sequence '110' found at positions: [0, 3, 10, 13]\n",
      "Target sequence '001' not found in the input sequence.\n"
     ]
    }
   ],
   "source": [
    "from qiskit import QuantumCircuit, Aer, execute\n",
    "\n",
    "def quantum_multiple_pattern_matching(targets, sequence):\n",
    "    target_lengths = [len(target) for target in targets]\n",
    "    sequence_length = len(sequence)\n",
    "\n",
    "    # Create a quantum circuit with n+1 qubits, where n is the length of the longest target sequence\n",
    "    max_target_length = max(target_lengths)\n",
    "    qc = QuantumCircuit(max_target_length + 1, max_target_length)\n",
    "\n",
    "    # Apply quantum gates to implement all target sequences\n",
    "    for target in targets:\n",
    "        for i, bit in enumerate(target):\n",
    "            if bit == \"1\":\n",
    "                qc.x(i)  # Apply a NOT gate for each '1' in the target sequence\n",
    "\n",
    "    # Apply an X gate to the last qubit to prepare it in the |1⟩ state\n",
    "    qc.x(max_target_length)\n",
    "\n",
    "    # Measure all qubits\n",
    "    for i in range(max_target_length):\n",
    "        qc.measure(i, i)\n",
    "\n",
    "    # Use the Aer simulator to run the quantum circuit\n",
    "    simulator = Aer.get_backend('qasm_simulator')\n",
    "    job = execute(qc, simulator, shots=1)\n",
    "\n",
    "    # Get the result\n",
    "    result = job.result()\n",
    "    counts = result.get_counts()\n",
    "\n",
    "    # Initialize a dictionary to store the positions of target sequence matches\n",
    "    positions = {target: [] for target in targets}\n",
    "\n",
    "    # Search for the target sequences in the input sequence\n",
    "    for target in targets:\n",
    "        target_length = len(target)\n",
    "        for i in range(sequence_length - target_length + 1):\n",
    "            subsequence = sequence[i:i + target_length]\n",
    "            if subsequence == target:\n",
    "                positions[target].append(i)\n",
    "\n",
    "    return positions\n",
    "\n",
    "# Define the target sequences and the input sequence\n",
    "target_sequences = [\"101\", \"110\", \"001\"]\n",
    "input_sequence = \"11011010101101101\"\n",
    "\n",
    "# Find positions of the target sequences in the input sequence using a quantum-inspired approach\n",
    "matched_positions = quantum_multiple_pattern_matching(target_sequences, input_sequence)\n",
    "\n",
    "for target, positions in matched_positions.items():\n",
    "    if positions:\n",
    "        print(f\"Target sequence '{target}' found at positions:\", positions)\n",
    "    else:\n",
    "        print(f\"Target sequence '{target}' not found in the input sequence.\")\n"
   ]
  },
  {
   "cell_type": "code",
   "execution_count": null,
   "id": "25351afb",
   "metadata": {},
   "outputs": [],
   "source": []
  }
 ],
 "metadata": {
  "kernelspec": {
   "display_name": "Python 3 (ipykernel)",
   "language": "python",
   "name": "python3"
  },
  "language_info": {
   "codemirror_mode": {
    "name": "ipython",
    "version": 3
   },
   "file_extension": ".py",
   "mimetype": "text/x-python",
   "name": "python",
   "nbconvert_exporter": "python",
   "pygments_lexer": "ipython3",
   "version": "3.9.13"
  }
 },
 "nbformat": 4,
 "nbformat_minor": 5
}
